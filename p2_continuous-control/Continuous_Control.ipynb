{
 "cells": [
  {
   "cell_type": "markdown",
   "metadata": {},
   "source": [
    "# Continuous Control\n",
    "\n",
    "---\n",
    "\n",
    "In this notebook, you will learn how to use the Unity ML-Agents environment for the second project of the [Deep Reinforcement Learning Nanodegree](https://www.udacity.com/course/deep-reinforcement-learning-nanodegree--nd893) program.\n",
    "\n",
    "### 1. Start the Environment\n",
    "\n",
    "We begin by importing the necessary packages.  If the code cell below returns an error, please revisit the project instructions to double-check that you have installed [Unity ML-Agents](https://github.com/Unity-Technologies/ml-agents/blob/master/docs/Installation.md) and [NumPy](http://www.numpy.org/)."
   ]
  },
  {
   "cell_type": "code",
   "execution_count": 1,
   "metadata": {},
   "outputs": [
    {
     "name": "stdout",
     "output_type": "stream",
     "text": [
      "posix.uname_result(sysname='Linux', nodename='dcebd75ec284', release='4.15.0-1080-gcp', version='#90~16.04.1-Ubuntu SMP Fri Jul 10 19:11:10 UTC 2020', machine='x86_64')\n",
      "\u001b[31mtensorflow 1.7.1 has requirement numpy>=1.13.3, but you'll have numpy 1.12.1 which is incompatible.\u001b[0m\n",
      "\u001b[31mipython 6.5.0 has requirement prompt-toolkit<2.0.0,>=1.0.15, but you'll have prompt-toolkit 3.0.7 which is incompatible.\u001b[0m\n"
     ]
    }
   ],
   "source": [
    "import os\n",
    "\n",
    "print(os.uname())\n",
    "\n",
    "# In the cloud environment?\n",
    "if 'root' in os.environ['HOME']:\n",
    "    UENVPATH = '/data/'\n",
    "    !pip -q install /home/workspace/python\n",
    "\n",
    "# In the standalone environment?\n",
    "if 'ferenc' in os.environ['HOME']:\n",
    "    UENVPATH = '/home/ferenc/Python/rl/udadrl/data/'\n",
    "\n",
    "\n",
    "from unityagents import UnityEnvironment\n",
    "import numpy as np\n",
    "\n",
    "import pprint as pp"
   ]
  },
  {
   "cell_type": "markdown",
   "metadata": {},
   "source": [
    "Next, we will start the environment!  **_Before running the code cell below_**, change the `file_name` parameter to match the location of the Unity environment that you downloaded.\n",
    "\n",
    "- **Mac**: `\"path/to/Reacher.app\"`\n",
    "- **Windows** (x86): `\"path/to/Reacher_Windows_x86/Reacher.exe\"`\n",
    "- **Windows** (x86_64): `\"path/to/Reacher_Windows_x86_64/Reacher.exe\"`\n",
    "- **Linux** (x86): `\"path/to/Reacher_Linux/Reacher.x86\"`\n",
    "- **Linux** (x86_64): `\"path/to/Reacher_Linux/Reacher.x86_64\"`\n",
    "- **Linux** (x86, headless): `\"path/to/Reacher_Linux_NoVis/Reacher.x86\"`\n",
    "- **Linux** (x86_64, headless): `\"path/to/Reacher_Linux_NoVis/Reacher.x86_64\"`\n",
    "\n",
    "For instance, if you are using a Mac, then you downloaded `Reacher.app`.  If this file is in the same folder as the notebook, then the line below should appear as follows:\n",
    "```\n",
    "env = UnityEnvironment(file_name=\"Reacher.app\")\n",
    "```"
   ]
  },
  {
   "cell_type": "code",
   "execution_count": 2,
   "metadata": {},
   "outputs": [
    {
     "name": "stderr",
     "output_type": "stream",
     "text": [
      "INFO:unityagents:\n",
      "'Academy' started successfully!\n",
      "Unity Academy name: Academy\n",
      "        Number of Brains: 1\n",
      "        Number of External Brains : 1\n",
      "        Lesson number : 0\n",
      "        Reset Parameters :\n",
      "\t\tgoal_speed -> 1.0\n",
      "\t\tgoal_size -> 5.0\n",
      "Unity brain name: ReacherBrain\n",
      "        Number of Visual Observations (per agent): 0\n",
      "        Vector Observation space type: continuous\n",
      "        Vector Observation space size (per agent): 33\n",
      "        Number of stacked Vector Observation: 1\n",
      "        Vector Action space type: continuous\n",
      "        Vector Action space size (per agent): 4\n",
      "        Vector Action descriptions: , , , \n"
     ]
    }
   ],
   "source": [
    "# ONE Agent, Standalone\n",
    "#UENVCHOICE = 'Reacher_Linux/Reacher.x86_64'\n",
    "\n",
    "# TWENTY Agents, Standalone\n",
    "#UENVCHOICE = 'Reacher_Linux_20/Reacher.x86_64'\n",
    "\n",
    "# ONE Agent, Cloud, No-Visuals \n",
    "#UENVCHOICE = 'Reacher_One_Linux_NoVis/Reacher_One_Linux_NoVis.x86_64'\n",
    "\n",
    "# TWENTY Agents, Cloud, No-Visuals \n",
    "UENVCHOICE = 'Reacher_Linux_NoVis/Reacher.x86_64'\n",
    "\n",
    "env = UnityEnvironment( file_name=os.path.join( UENVPATH, UENVCHOICE ) )\n",
    "\n",
    "\n"
   ]
  },
  {
   "cell_type": "markdown",
   "metadata": {},
   "source": [
    "Environments contain **_brains_** which are responsible for deciding the actions of their associated agents. Here we check for the first brain available, and set it as the default brain we will be controlling from Python."
   ]
  },
  {
   "cell_type": "code",
   "execution_count": 3,
   "metadata": {},
   "outputs": [
    {
     "data": {
      "text/plain": [
       "unityagents.environment.UnityEnvironment"
      ]
     },
     "execution_count": 3,
     "metadata": {},
     "output_type": "execute_result"
    }
   ],
   "source": [
    "# FA DEBUG! DEBUG! DEBUG! \n",
    "type(env)"
   ]
  },
  {
   "cell_type": "code",
   "execution_count": 4,
   "metadata": {},
   "outputs": [],
   "source": [
    "# get the default brain\n",
    "brain_name = env.brain_names[0]\n",
    "brain = env.brains[brain_name]"
   ]
  },
  {
   "cell_type": "code",
   "execution_count": 5,
   "metadata": {},
   "outputs": [
    {
     "name": "stdout",
     "output_type": "stream",
     "text": [
      "['ReacherBrain']\n",
      "<class 'unityagents.brain.BrainParameters'>\n"
     ]
    },
    {
     "data": {
      "text/plain": [
       "'ReacherBrain'"
      ]
     },
     "execution_count": 5,
     "metadata": {},
     "output_type": "execute_result"
    }
   ],
   "source": [
    "# FA  DEBUG! DEBUG! DEBUG! \n",
    "print(env.brain_names)\n",
    "print( type(brain) )\n",
    "brain.brain_name"
   ]
  },
  {
   "cell_type": "code",
   "execution_count": 6,
   "metadata": {},
   "outputs": [
    {
     "name": "stdout",
     "output_type": "stream",
     "text": [
      "Observation Space: 33 dimensions of continuous type\n",
      "Action Space: 4 dimensions of continuous type\n"
     ]
    }
   ],
   "source": [
    "# FA  DEBUG! DEBUG! DEBUG!\n",
    "print(f'Observation Space: {brain.vector_observation_space_size} dimensions of {brain.vector_observation_space_type} type') \n",
    "print(f'Action Space: {brain.vector_action_space_size} dimensions of {brain.vector_observation_space_type} type')"
   ]
  },
  {
   "cell_type": "markdown",
   "metadata": {},
   "source": [
    "### 2. Examine the State and Action Spaces\n",
    "\n",
    "In this environment, a double-jointed arm can move to target locations. A reward of `+0.1` is provided for each step that the agent's hand is in the goal location. Thus, the goal of your agent is to maintain its position at the target location for as many time steps as possible.\n",
    "\n",
    "The observation space consists of `33` variables corresponding to position, rotation, velocity, and angular velocities of the arm.  Each action is a vector with four numbers, corresponding to torque applicable to two joints.  Every entry in the action vector must be a number between `-1` and `1`.\n",
    "\n",
    "Run the code cell below to print some information about the environment."
   ]
  },
  {
   "cell_type": "code",
   "execution_count": 7,
   "metadata": {},
   "outputs": [
    {
     "name": "stdout",
     "output_type": "stream",
     "text": [
      "Number of agents: 20\n",
      "Size of each action: 4\n",
      "There are 20 agents. Each observes a state with length: 33\n",
      "The state for the first agent looks like: [  0.00000000e+00  -4.00000000e+00   0.00000000e+00   1.00000000e+00\n",
      "  -0.00000000e+00  -0.00000000e+00  -4.37113883e-08   0.00000000e+00\n",
      "   0.00000000e+00   0.00000000e+00   0.00000000e+00   0.00000000e+00\n",
      "   0.00000000e+00   0.00000000e+00  -1.00000000e+01   0.00000000e+00\n",
      "   1.00000000e+00  -0.00000000e+00  -0.00000000e+00  -4.37113883e-08\n",
      "   0.00000000e+00   0.00000000e+00   0.00000000e+00   0.00000000e+00\n",
      "   0.00000000e+00   0.00000000e+00   5.75471878e+00  -1.00000000e+00\n",
      "   5.55726624e+00   0.00000000e+00   1.00000000e+00   0.00000000e+00\n",
      "  -1.68164849e-01]\n"
     ]
    }
   ],
   "source": [
    "# reset the environment\n",
    "env_info = env.reset(train_mode=True)[brain_name]\n",
    "\n",
    "# number of agents\n",
    "num_agents = len(env_info.agents)\n",
    "print('Number of agents:', num_agents)\n",
    "\n",
    "# size of each action\n",
    "action_size = brain.vector_action_space_size\n",
    "print('Size of each action:', action_size)\n",
    "\n",
    "# examine the state space \n",
    "states = env_info.vector_observations\n",
    "state_size = states.shape[1]\n",
    "print('There are {} agents. Each observes a state with length: {}'.format(states.shape[0], state_size))\n",
    "print('The state for the first agent looks like:', states[0])"
   ]
  },
  {
   "cell_type": "markdown",
   "metadata": {},
   "source": [
    "### 3. Take Random Actions in the Environment\n",
    "\n",
    "In the next code cell, you will learn how to use the Python API to control the agent and receive feedback from the environment.\n",
    "\n",
    "Once this cell is executed, you will watch the agent's performance, if it selects an action at random with each time step.  A window should pop up that allows you to observe the agent, as it moves through the environment.  \n",
    "\n",
    "Of course, as part of the project, you'll have to change the code so that the agent is able to use its experience to gradually choose better actions when interacting with the environment!"
   ]
  },
  {
   "cell_type": "code",
   "execution_count": 8,
   "metadata": {},
   "outputs": [
    {
     "name": "stdout",
     "output_type": "stream",
     "text": [
      "We have 20 active agents\n",
      "#\n",
      "Total score (averaged over agents) this episode: 0.0\n"
     ]
    }
   ],
   "source": [
    "# Should a run with random actions be perfomed first?\n",
    "RANDOMRUN = False\n",
    "\n",
    "# Some reminders about lambda functions\n",
    "# Thx2: https://realpython.com/python-lambda/\n",
    "# Thx2: https://thispointer.com/python-how-to-use-if-else-elif-in-lambda-functions/\n",
    "\n",
    "\n",
    "env_info = env.reset(train_mode=False)[brain_name]     # reset the environment    \n",
    "states = env_info.vector_observations                  # get the current state (for each agent)\n",
    "scores = np.zeros(num_agents)                          # initialize the score (for each agent)\n",
    "\n",
    "epc = 0\n",
    "print(f'We have {num_agents} active agent' + ( lambda x: 's' if x>1 else '' )(num_agents) )\n",
    "\n",
    "while RANDOMRUN == True:\n",
    "    epc += 1\n",
    "    #print(f'\\r#{epc}', end = ' ')\n",
    "    print(f'\\r#{str(epc).rjust(6)}', end = ' ')\n",
    "    actions = np.random.randn(num_agents, action_size) # select an action (for each agent)\n",
    "    #import pdb; pdb.set_trace() # Debug! Debug! Debug! Debug! Debug! Debug! \n",
    "    actions = np.clip(actions, -1, 1)                  # all actions between -1 and 1\n",
    "    env_info = env.step(actions)[brain_name]           # send all actions to tne environment\n",
    "    next_states = env_info.vector_observations         # get next state (for each agent)\n",
    "    rewards = env_info.rewards                         # get reward (for each agent)\n",
    "    dones = env_info.local_done                        # see if episode finished\n",
    "    rewards = env_info.rewards\n",
    "    nprewards = np.array(rewards)\n",
    "    scores += rewards                         # update the score (for each agent)\n",
    "    if np.sum(nprewards) > 0:\n",
    "        #print(f'\\r#{epc} Rewards = {rewards}')\n",
    "        maskagent = nprewards > 0\n",
    "        agentbefore = False\n",
    "        for (nagent, action) in enumerate(actions):\n",
    "            if maskagent[nagent]:\n",
    "                if agentbefore:\n",
    "                    print('\\r#' + '&'.rjust(6), end = ' ')\n",
    "                print(' -> Agent {:0>2d} got reward {:+.5f} for action: {}'.format(nagent+1, rewards[nagent], action))\n",
    "                agentbefore = True\n",
    "                #pp.pprint(list(action))\n",
    "    states = next_states                               # roll over states to next time step\n",
    "    if np.any(dones):                                  # exit loop if episode finished\n",
    "        break\n",
    "print('#')\n",
    "print('Total score (averaged over agents) this episode: {}'.format(np.mean(scores)))"
   ]
  },
  {
   "cell_type": "markdown",
   "metadata": {},
   "source": [
    "### When finished, you can close the environment.\n",
    "#### Just not for now because unit testing below"
   ]
  },
  {
   "cell_type": "code",
   "execution_count": 9,
   "metadata": {},
   "outputs": [],
   "source": [
    "# env.close()"
   ]
  },
  {
   "cell_type": "markdown",
   "metadata": {},
   "source": [
    "### 4. It's Your Turn!\n",
    "\n",
    "Now it's your turn to train your own agent to solve the environment!  When training the environment, set `train_mode=True`, so that the line for resetting the environment looks like the following:\n",
    "```python\n",
    "env_info = env.reset(train_mode=True)[brain_name]\n",
    "```"
   ]
  },
  {
   "cell_type": "markdown",
   "metadata": {},
   "source": [
    "##### FA: One BIG MISUNDERSTANDING & STACKS OF TENSORS (23-08-2020) --> #FA; BMSoT:\n",
    "It has cost me several days if not weeks to get behind the fact that the [A2C sample implementation of Miguel](https://github.com/mimoralea/gdrl/blob/master/notebooks/chapter_11/chapter-11.ipynb) is working with **stacks of tensors** instead of single tensors. Which was especially hard to find because the PyTorch code looks exactly the same for both.\n",
    "\n",
    "In the end, when I thought about it, it makes sense and is a nifty feature of PyTorch. It is just not obvious to people like me, without in deep insights in the inner workings of PyTorch. \n",
    "\n",
    "Furthermore the authors of the PyTorch documentation seem not to make it too visible, I had to dig it out of one of the function definitions I use, however inderectly over the layer defintion for a2cnet:\n",
    "\n",
    "https://pytorch.org/docs/0.4.0/_modules/torch/nn/functional.html#linear\n",
    "\n",
    "> def linear(input, weight, bias=None):\n",
    ">    \"\"\"\n",
    ">    Applies a linear transformation to the incoming data: :math:`y = xA^T + b`.\n",
    ">\n",
    ">    Shape:\n",
    ">        - Input: :math:`(N, *, in\\_features)` where `*` means any number of\n",
    ">          additional dimensions\n",
    ">        - Weight: :math:`(out\\_features, in\\_features)`\n",
    ">        - Bias: :math:`(out\\_features)`\n",
    ">        - Output: :math:`(N, *, out\\_features)`\n",
    ">    \"\"\"\n",
    ">    if input.dim() == 2 and bias is not None:\n",
    ">        # fused op is marginally faster\n",
    ">        return torch.addmm(bias, input, weight.t())\n",
    ">\n",
    ">    output = input.matmul(weight.t())\n",
    ">    if bias is not None:\n",
    ">        output += bias\n",
    ">    return output\n"
   ]
  },
  {
   "cell_type": "markdown",
   "metadata": {},
   "source": [
    "#### Tracing the error in the 'mya2cnet' module code refactoring below"
   ]
  },
  {
   "cell_type": "code",
   "execution_count": 10,
   "metadata": {},
   "outputs": [],
   "source": [
    "# TEST! TEST! TEST! TEST! TEST! TEST! TEST! TEST! TEST! TEST! TEST! TEST! TEST! TEST! \n",
    "#import pdb; pdb.set_trace() # Debug! Debug! Debug! Debug! Debug! Debug! \n",
    "\n",
    "import torch\n",
    "import torch.nn as nn\n",
    "import torch.nn.functional as F\n",
    "\n",
    "torch.manual_seed(20200808) # Debug! Debug! Debug! Debug! Debug! Debug! Debug! Debug!\n",
    "\n",
    "# Format: IN_Num [Layer 1] (OUT_Num = IN_Num) [Layer 2] OUT_Num = ...\n",
    "HIDDEN_DIMS_DEFAULT = {\n",
    "    'shared' : (512, 512, 256, 256),\n",
    "    'actor' : (256, 128, 128, 64),\n",
    "    'critic' : (256, 128, 128, 64)\n",
    "}\n",
    "hidden_dims = HIDDEN_DIMS_DEFAULT\n",
    "\n",
    "hlayers = dict()\n",
    "\n",
    "hlayers['shared'] = nn.ModuleList()\n",
    "hlayers['actor'] = nn.ModuleList()\n",
    "hlayers['critic'] = nn.ModuleList()\n",
    "\n",
    "\n"
   ]
  },
  {
   "cell_type": "code",
   "execution_count": 11,
   "metadata": {},
   "outputs": [],
   "source": [
    "# Input layer\n",
    "input_layer = nn.Linear( 33, hidden_dims['shared'][0] )"
   ]
  },
  {
   "cell_type": "code",
   "execution_count": 12,
   "metadata": {},
   "outputs": [
    {
     "data": {
      "text/plain": [
       "Linear(in_features=33, out_features=512, bias=True)"
      ]
     },
     "execution_count": 12,
     "metadata": {},
     "output_type": "execute_result"
    }
   ],
   "source": [
    "input_layer"
   ]
  },
  {
   "cell_type": "code",
   "execution_count": 13,
   "metadata": {},
   "outputs": [],
   "source": [
    "# Hidden layers shared\n",
    "for i in range( len(hidden_dims['shared']) -1 ):\n",
    "    hlayers['shared'].append( nn.Linear( hidden_dims['shared'][i], hidden_dims['shared'][i+1] ) )"
   ]
  },
  {
   "cell_type": "code",
   "execution_count": 14,
   "metadata": {},
   "outputs": [
    {
     "data": {
      "text/plain": [
       "ModuleList(\n",
       "  (0): Linear(in_features=512, out_features=512, bias=True)\n",
       "  (1): Linear(in_features=512, out_features=256, bias=True)\n",
       "  (2): Linear(in_features=256, out_features=256, bias=True)\n",
       ")"
      ]
     },
     "execution_count": 14,
     "metadata": {},
     "output_type": "execute_result"
    }
   ],
   "source": [
    "hlayers['shared']"
   ]
  },
  {
   "cell_type": "code",
   "execution_count": 15,
   "metadata": {},
   "outputs": [],
   "source": [
    "# Actor layers\n",
    "for i in range( len(hidden_dims['actor']) ):\n",
    "    #import pdb; pdb.set_trace() # Debug! Debug! Debug! Debug! Debug! Debug! Debug! Debug!\n",
    "    if i == 0:\n",
    "        hlayers['actor'].append( nn.Linear( hidden_dims['shared'][-1], hidden_dims['actor'][i] ) )\n",
    "    else:\n",
    "        # hlayers['actor'].append( nn.Linear( hidden_dims['actor'][i], hidden_dims['actor'][i+1] ERROR !!!\n",
    "        hlayers['actor'].append( nn.Linear( hidden_dims['actor'][i-1], hidden_dims['actor'][i] ) )\n",
    "    #print( i, hlayers['actor'] ) # Debug! Debug! Debug! Debug! Debug! Debug! Debug! Debug!\n",
    "        \n",
    "actor_out_layer = nn.Linear( hidden_dims['actor'][-1], 4 )"
   ]
  },
  {
   "cell_type": "code",
   "execution_count": 16,
   "metadata": {},
   "outputs": [
    {
     "data": {
      "text/plain": [
       "ModuleList(\n",
       "  (0): Linear(in_features=256, out_features=256, bias=True)\n",
       "  (1): Linear(in_features=256, out_features=128, bias=True)\n",
       "  (2): Linear(in_features=128, out_features=128, bias=True)\n",
       "  (3): Linear(in_features=128, out_features=64, bias=True)\n",
       ")"
      ]
     },
     "execution_count": 16,
     "metadata": {},
     "output_type": "execute_result"
    }
   ],
   "source": [
    "hlayers['actor']"
   ]
  },
  {
   "cell_type": "code",
   "execution_count": 17,
   "metadata": {},
   "outputs": [
    {
     "data": {
      "text/plain": [
       "Linear(in_features=64, out_features=4, bias=True)"
      ]
     },
     "execution_count": 17,
     "metadata": {},
     "output_type": "execute_result"
    }
   ],
   "source": [
    "actor_out_layer"
   ]
  },
  {
   "cell_type": "code",
   "execution_count": 18,
   "metadata": {},
   "outputs": [],
   "source": [
    "#Critic layers\n",
    "for i in range( len(hidden_dims['critic']) ):\n",
    "    if i == 0:\n",
    "        hlayers['critic'].append( nn.Linear( hidden_dims['shared'][-1], hidden_dims['critic'][i] ) )\n",
    "    else:\n",
    "        hlayers['critic'].append( nn.Linear( hidden_dims['critic'][i-1], hidden_dims['critic'][i] ) )\n",
    "critic_out_layer = nn.Linear( hidden_dims['critic'][-1], 1 )"
   ]
  },
  {
   "cell_type": "code",
   "execution_count": 19,
   "metadata": {},
   "outputs": [
    {
     "data": {
      "text/plain": [
       "ModuleList(\n",
       "  (0): Linear(in_features=256, out_features=256, bias=True)\n",
       "  (1): Linear(in_features=256, out_features=128, bias=True)\n",
       "  (2): Linear(in_features=128, out_features=128, bias=True)\n",
       "  (3): Linear(in_features=128, out_features=64, bias=True)\n",
       ")"
      ]
     },
     "execution_count": 19,
     "metadata": {},
     "output_type": "execute_result"
    }
   ],
   "source": [
    "hlayers['critic']"
   ]
  },
  {
   "cell_type": "code",
   "execution_count": 20,
   "metadata": {},
   "outputs": [
    {
     "data": {
      "text/plain": [
       "Linear(in_features=64, out_features=1, bias=True)"
      ]
     },
     "execution_count": 20,
     "metadata": {},
     "output_type": "execute_result"
    }
   ],
   "source": [
    "critic_out_layer"
   ]
  },
  {
   "cell_type": "code",
   "execution_count": 21,
   "metadata": {},
   "outputs": [],
   "source": [
    "# Prevents non Pytorch Tensor Object entering the processing stream\n",
    "def torch_format(state):\n",
    "    x = state\n",
    "    if not isinstance(x, torch.Tensor):\n",
    "        x = torch.tensor(x, dtype=torch.float32)\n",
    "        if len(x.size()) == 1:\n",
    "            x = x.unsqueeze(0)\n",
    "    return x"
   ]
  },
  {
   "cell_type": "code",
   "execution_count": 22,
   "metadata": {},
   "outputs": [],
   "source": [
    "def forward(state):\n",
    "    check_tensor = lambda x: isinstance(x, torch.Tensor)\n",
    "    x_act = True \n",
    "    x_crit = True\n",
    "\n",
    "    x = torch_format(state)\n",
    "    x = F.relu(  input_layer(x) )\n",
    "    for label in ['shared', 'actor', 'critic']:\n",
    "        for hlayer in  hlayers[label]:\n",
    "            if label == 'shared':\n",
    "                x = F.relu(  hlayer(x) )\n",
    "            if label == 'actor':\n",
    "                x_act = F.relu(  hlayer(x_act) )\n",
    "            if label == 'critic':\n",
    "                x_crit = F.relu(  hlayer(x_crit) )\n",
    "\n",
    "        # Thx2: https://discuss.pytorch.org/t/copy-deepcopy-vs-clone/55022\n",
    "        if ( type(x_act) == bool ):\n",
    "            x_act = x.clone()  # Create an Inplace copy...\n",
    "        if ( type(x_crit) == bool ):\n",
    "            x_crit = x.clone() # ...after processing shared layers\n",
    "\n",
    "    return  actor_out_layer(x_act),  critic_out_layer(x_crit) "
   ]
  },
  {
   "cell_type": "markdown",
   "metadata": {},
   "source": [
    "#### Test if A STACK OF (BMSoT) states are propagated through the debug network\n",
    "And make a list of outputs of two A2C instances"
   ]
  },
  {
   "cell_type": "code",
   "execution_count": 23,
   "metadata": {},
   "outputs": [
    {
     "name": "stdout",
     "output_type": "stream",
     "text": [
      "Actor: tensor(1.00000e-02 *\n",
      "       [[ 4.6719,  4.9989, -4.4549,  4.1292],\n",
      "        [ 4.6650,  4.9899, -4.4703,  4.1551],\n",
      "        [ 4.6869,  4.9992, -4.3600,  4.1201],\n",
      "        [ 4.7230,  4.9857, -4.4225,  4.1159],\n",
      "        [ 4.6677,  4.9947, -4.4496,  4.1475],\n",
      "        [ 4.6942,  4.9968, -4.3605,  4.1147],\n",
      "        [ 4.6999,  4.9755, -4.4776,  4.2808],\n",
      "        [ 4.7155,  4.9931, -4.4209,  4.1052],\n",
      "        [ 4.7037,  4.9776, -4.4285,  4.1029],\n",
      "        [ 4.7089,  5.0017, -4.4363,  4.2566],\n",
      "        [ 4.6913,  4.9975, -4.3603,  4.1124],\n",
      "        [ 4.7112,  4.9769, -4.4726,  4.2806],\n",
      "        [ 4.7113,  4.9813, -4.4270,  4.1114],\n",
      "        [ 4.6580,  4.9798, -4.4859,  4.1956],\n",
      "        [ 4.7024,  4.9786, -4.4259,  4.1021],\n",
      "        [ 4.7159,  5.0058, -4.4159,  4.2178],\n",
      "        [ 4.7071,  4.9804, -4.4285,  4.1044],\n",
      "        [ 4.7252,  4.9830, -4.4250,  4.1183],\n",
      "        [ 4.6802,  4.9738, -4.4947,  4.2566],\n",
      "        [ 4.6776,  4.9950, -4.4435,  4.1223]])\n",
      "Critic: tensor(1.00000e-02 *\n",
      "       [[ 4.8230],\n",
      "        [ 4.7889],\n",
      "        [ 4.8589],\n",
      "        [ 4.8598],\n",
      "        [ 4.8073],\n",
      "        [ 4.8638],\n",
      "        [ 4.8147],\n",
      "        [ 4.8655],\n",
      "        [ 4.8797],\n",
      "        [ 4.8485],\n",
      "        [ 4.8589],\n",
      "        [ 4.8322],\n",
      "        [ 4.8689],\n",
      "        [ 4.7669],\n",
      "        [ 4.8782],\n",
      "        [ 4.8549],\n",
      "        [ 4.8781],\n",
      "        [ 4.8569],\n",
      "        [ 4.7685],\n",
      "        [ 4.8473]])\n"
     ]
    }
   ],
   "source": [
    "#al = []\n",
    "#bl = []\n",
    "\n",
    "#for (dc, st) in enumerate(states):\n",
    "#    al.append(a)\n",
    "#    bl.append(b)\n",
    "\n",
    "#import pdb; pdb.set_trace() # Debug! Debug! Debug! Debug! Debug! Debug! Debug! Debug!    \n",
    "    \n",
    "#FA; BMSoT: No need to iterate through states any more!\n",
    "a,b = forward(states)\n",
    "print(f'Actor: {a}')\n",
    "print(f'Critic: {b}')"
   ]
  },
  {
   "cell_type": "markdown",
   "metadata": {},
   "source": [
    "#### Test if A STACK OF (BMSoT) states is propagated through the imported network"
   ]
  },
  {
   "cell_type": "code",
   "execution_count": 24,
   "metadata": {},
   "outputs": [],
   "source": [
    "#from mya2cnet import A2CNetwork\n",
    "import mya2cnet\n",
    "\n",
    "# Thx2: https://emacs.stackexchange.com/a/13483\n",
    "import imp\n",
    "imp.reload(mya2cnet)\n",
    "\n",
    "tstnet1 = mya2cnet.A2CNetwork(33, 4) #FA; BMSoT: Looks exactly the same...\n",
    "tstnet2 = mya2cnet.A2CNetwork(33, 4) #FA; BMSoT: ...like without stacks!"
   ]
  },
  {
   "cell_type": "code",
   "execution_count": 25,
   "metadata": {},
   "outputs": [
    {
     "name": "stdout",
     "output_type": "stream",
     "text": [
      "Dist. Actor stacks 1-2: 0.0                        #         Dist. Actor 1 stacks - Notebook stacks 0.0\n",
      "Dist. Critic stacks 1-2: 0.0                       #        Dist. Critic 1 stacks - Notebook stacks 0.0\n"
     ]
    }
   ],
   "source": [
    "#FA; BMSoT: OBSOLETE\n",
    "#for (dc, st) in enumerate(states):\n",
    "    #import pdb; pdb.set_trace() # Debug! Debug! Debug! Debug! Debug! Debug! Debug! Debug!\n",
    "    \n",
    "a1,b1 = tstnet1.forward(states)\n",
    "a2,b2 = tstnet2.forward(states)\n",
    "\n",
    "print(f'Dist. Actor stacks 1-2: {torch.dist(a1, a2)}'.ljust(50) + ' # ' +\\\n",
    "     f'Dist. Actor 1 stacks - Notebook stacks {torch.dist(a1, a)}'.rjust(50))\n",
    "print(f'Dist. Critic stacks 1-2: {torch.dist(b1, b2)}'.ljust(50) + ' # ' +\\\n",
    "     f'Dist. Critic 1 stacks - Notebook stacks {torch.dist(b1, b)}'.rjust(50))"
   ]
  },
  {
   "cell_type": "code",
   "execution_count": 26,
   "metadata": {
    "scrolled": false
   },
   "outputs": [
    {
     "data": {
      "text/plain": [
       "(tensor(1.00000e-02 *\n",
       "        [[ 4.6719,  4.9989, -4.4549,  4.1292],\n",
       "         [ 4.6650,  4.9899, -4.4703,  4.1551],\n",
       "         [ 4.6869,  4.9992, -4.3600,  4.1201],\n",
       "         [ 4.7230,  4.9857, -4.4225,  4.1159],\n",
       "         [ 4.6677,  4.9947, -4.4496,  4.1475],\n",
       "         [ 4.6942,  4.9968, -4.3605,  4.1147],\n",
       "         [ 4.6999,  4.9755, -4.4776,  4.2808],\n",
       "         [ 4.7155,  4.9931, -4.4209,  4.1052],\n",
       "         [ 4.7037,  4.9776, -4.4285,  4.1029],\n",
       "         [ 4.7089,  5.0017, -4.4363,  4.2566],\n",
       "         [ 4.6913,  4.9975, -4.3603,  4.1124],\n",
       "         [ 4.7112,  4.9769, -4.4726,  4.2806],\n",
       "         [ 4.7113,  4.9813, -4.4270,  4.1114],\n",
       "         [ 4.6580,  4.9798, -4.4859,  4.1956],\n",
       "         [ 4.7024,  4.9786, -4.4259,  4.1021],\n",
       "         [ 4.7159,  5.0058, -4.4159,  4.2178],\n",
       "         [ 4.7071,  4.9804, -4.4285,  4.1044],\n",
       "         [ 4.7252,  4.9830, -4.4250,  4.1183],\n",
       "         [ 4.6802,  4.9738, -4.4947,  4.2566],\n",
       "         [ 4.6776,  4.9950, -4.4435,  4.1223]]), tensor(1.00000e-02 *\n",
       "        [[ 4.8230],\n",
       "         [ 4.7889],\n",
       "         [ 4.8589],\n",
       "         [ 4.8598],\n",
       "         [ 4.8073],\n",
       "         [ 4.8638],\n",
       "         [ 4.8147],\n",
       "         [ 4.8655],\n",
       "         [ 4.8797],\n",
       "         [ 4.8485],\n",
       "         [ 4.8589],\n",
       "         [ 4.8322],\n",
       "         [ 4.8689],\n",
       "         [ 4.7669],\n",
       "         [ 4.8782],\n",
       "         [ 4.8549],\n",
       "         [ 4.8781],\n",
       "         [ 4.8569],\n",
       "         [ 4.7685],\n",
       "         [ 4.8473]]), tensor([[[ 2.1394],\n",
       "          [ 2.0875],\n",
       "          [ 0.8295],\n",
       "          [ 2.2106]],\n",
       " \n",
       "         [[ 2.1405],\n",
       "          [ 2.0890],\n",
       "          [ 0.8228],\n",
       "          [ 2.2076]],\n",
       " \n",
       "         [[ 2.1372],\n",
       "          [ 2.0875],\n",
       "          [ 0.8705],\n",
       "          [ 2.2116]],\n",
       " \n",
       "         [[ 2.1318],\n",
       "          [ 2.0897],\n",
       "          [ 0.8435],\n",
       "          [ 2.2121]],\n",
       " \n",
       "         [[ 2.1401],\n",
       "          [ 2.0882],\n",
       "          [ 0.8318],\n",
       "          [ 2.2085]],\n",
       " \n",
       "         [[ 2.1361],\n",
       "          [ 2.0879],\n",
       "          [ 0.8703],\n",
       "          [ 2.2122]],\n",
       " \n",
       "         [[ 2.1353],\n",
       "          [ 2.0915],\n",
       "          [ 0.8196],\n",
       "          [ 2.1926]],\n",
       " \n",
       "         [[ 2.1329],\n",
       "          [ 2.0885],\n",
       "          [ 0.8443],\n",
       "          [ 2.2133]],\n",
       " \n",
       "         [[ 2.1347],\n",
       "          [ 2.0911],\n",
       "          [ 0.8410],\n",
       "          [ 2.2135]],\n",
       " \n",
       "         [[ 2.1339],\n",
       "          [ 2.0870],\n",
       "          [ 0.8375],\n",
       "          [ 2.1956]],\n",
       " \n",
       "         [[ 2.1366],\n",
       "          [ 2.0877],\n",
       "          [ 0.8704],\n",
       "          [ 2.2125]],\n",
       " \n",
       "         [[ 2.1336],\n",
       "          [ 2.0912],\n",
       "          [ 0.8218],\n",
       "          [ 2.1926]],\n",
       " \n",
       "         [[ 2.1336],\n",
       "          [ 2.0905],\n",
       "          [ 0.8416],\n",
       "          [ 2.2126]],\n",
       " \n",
       "         [[ 2.1415],\n",
       "          [ 2.0907],\n",
       "          [ 0.8159],\n",
       "          [ 2.2029]],\n",
       " \n",
       "         [[ 2.1349],\n",
       "          [ 2.0909],\n",
       "          [ 0.8421],\n",
       "          [ 2.2136]],\n",
       " \n",
       "         [[ 2.1329],\n",
       "          [ 2.0863],\n",
       "          [ 0.8464],\n",
       "          [ 2.2002]],\n",
       " \n",
       "         [[ 2.1342],\n",
       "          [ 2.0906],\n",
       "          [ 0.8410],\n",
       "          [ 2.2134]],\n",
       " \n",
       "         [[ 2.1315],\n",
       "          [ 2.0902],\n",
       "          [ 0.8425],\n",
       "          [ 2.2118]],\n",
       " \n",
       "         [[ 2.1382],\n",
       "          [ 2.0917],\n",
       "          [ 0.8121],\n",
       "          [ 2.1956]],\n",
       " \n",
       "         [[ 2.1386],\n",
       "          [ 2.0882],\n",
       "          [ 0.8344],\n",
       "          [ 2.2113]]]))"
      ]
     },
     "execution_count": 26,
     "metadata": {},
     "output_type": "execute_result"
    }
   ],
   "source": [
    "#FA; BMSoT: OBSOLETE\n",
    "#for (dc, st) in enumerate(states):\n",
    "#    print(f'({dc+1}) -> {tstnet1.fullpass(st)}')\n",
    "    \n",
    "tstnet1.fullpass(states)"
   ]
  },
  {
   "cell_type": "code",
   "execution_count": 27,
   "metadata": {},
   "outputs": [
    {
     "data": {
      "text/plain": [
       "tensor(1.00000e-02 *\n",
       "       [[ 4.6719,  4.9989, -4.4549,  4.1292],\n",
       "        [ 4.6650,  4.9899, -4.4703,  4.1551],\n",
       "        [ 4.6869,  4.9992, -4.3600,  4.1201],\n",
       "        [ 4.7230,  4.9857, -4.4225,  4.1159],\n",
       "        [ 4.6677,  4.9947, -4.4496,  4.1475],\n",
       "        [ 4.6942,  4.9968, -4.3605,  4.1147],\n",
       "        [ 4.6999,  4.9755, -4.4776,  4.2808],\n",
       "        [ 4.7155,  4.9931, -4.4209,  4.1052],\n",
       "        [ 4.7037,  4.9776, -4.4285,  4.1029],\n",
       "        [ 4.7089,  5.0017, -4.4363,  4.2566],\n",
       "        [ 4.6913,  4.9975, -4.3603,  4.1124],\n",
       "        [ 4.7112,  4.9769, -4.4726,  4.2806],\n",
       "        [ 4.7113,  4.9813, -4.4270,  4.1114],\n",
       "        [ 4.6580,  4.9798, -4.4859,  4.1956],\n",
       "        [ 4.7024,  4.9786, -4.4259,  4.1021],\n",
       "        [ 4.7159,  5.0058, -4.4159,  4.2178],\n",
       "        [ 4.7071,  4.9804, -4.4285,  4.1044],\n",
       "        [ 4.7252,  4.9830, -4.4250,  4.1183],\n",
       "        [ 4.6802,  4.9738, -4.4947,  4.2566],\n",
       "        [ 4.6776,  4.9950, -4.4435,  4.1223]])"
      ]
     },
     "execution_count": 27,
     "metadata": {},
     "output_type": "execute_result"
    }
   ],
   "source": [
    "#FA; BMSoT: OBSOLETE\n",
    "#for (dc, st) in enumerate(states):\n",
    "#    print(f'({dc+1})-> {tstnet1.select_action(st)}') #, end=' ')\n",
    "    \n",
    "tstnet1.select_action(states)"
   ]
  },
  {
   "cell_type": "markdown",
   "metadata": {},
   "source": [
    "#### Test the agent instance"
   ]
  },
  {
   "cell_type": "code",
   "execution_count": 28,
   "metadata": {},
   "outputs": [],
   "source": [
    "import mya2cagent\n",
    "\n",
    "# Thx2: https://emacs.stackexchange.com/a/13483\n",
    "import imp\n",
    "imp.reload(mya2cagent)\n",
    "\n",
    "agent = mya2cagent.a2cagent(len(env_info.agents), env, brain, max_steps = 250)"
   ]
  },
  {
   "cell_type": "code",
   "execution_count": 29,
   "metadata": {},
   "outputs": [],
   "source": [
    "procs = mya2cagent.MultiProcEnv(env, 20200808, len(env_info.agents))"
   ]
  },
  {
   "cell_type": "code",
   "execution_count": 30,
   "metadata": {
    "scrolled": false
   },
   "outputs": [
    {
     "name": "stdout",
     "output_type": "stream",
     "text": [
      "Training epoch: 250 #"
     ]
    }
   ],
   "source": [
    "agent.train(states)"
   ]
  },
  {
   "cell_type": "code",
   "execution_count": 31,
   "metadata": {
    "scrolled": false
   },
   "outputs": [
    {
     "name": "stdout",
     "output_type": "stream",
     "text": [
      "--Return--\n",
      "> <ipython-input-31-79f5e1d9b852>(11)<module>()->None\n",
      "-> import pdb; pdb.set_trace() # Debug! Debug! Debug! Debug! Debug! Debug!\n",
      "(Pdb) c\n",
      "#    17  -> Agent 06 got reward +0.01000 for action: [-0.12462758 -0.52394634  0.20811877  0.51974171]\n",
      "#    18  -> Agent 06 got reward +0.04000 for action: [-0.12383676 -0.52451926  0.20735133  0.52142119]\n",
      "#    19  -> Agent 06 got reward +0.04000 for action: [-0.12326364 -0.52439469  0.20663738  0.52200472]\n",
      "#    20  -> Agent 06 got reward +0.04000 for action: [-0.12688141 -0.52740318  0.20856172  0.52278829]\n",
      "#    21  -> Agent 06 got reward +0.04000 for action: [-0.13372868 -0.54025328  0.2157031   0.52929348]\n",
      "#    22  -> Agent 06 got reward +0.04000 for action: [-0.13537787 -0.54243207  0.21628863  0.53126538]\n",
      "#    23  -> Agent 06 got reward +0.04000 for action: [-0.13609277 -0.54385829  0.21659181  0.53285706]\n",
      "#    24  -> Agent 06 got reward +0.04000 for action: [-0.13670292 -0.54519916  0.21700078  0.53407121]\n",
      "#    25  -> Agent 06 got reward +0.04000 for action: [-0.13703765 -0.5462113   0.21764198  0.53450775]\n",
      "#    26  -> Agent 06 got reward +0.04000 for action: [-0.13719928 -0.5464862   0.21821737  0.53393281]\n",
      "#    27  -> Agent 06 got reward +0.04000 for action: [-0.13751441 -0.54756248  0.21888691  0.53448117]\n",
      "#    28  -> Agent 06 got reward +0.04000 for action: [-0.13839179 -0.54949683  0.21971381  0.53617793]\n",
      "#    59  -> Agent 14 got reward +0.04000 for action: [-0.12153665 -0.52688044  0.20325616  0.52578992]\n",
      "#    60  -> Agent 14 got reward +0.02000 for action: [-0.12088764 -0.52726454  0.20186982  0.53008163]\n",
      "#    68  -> Agent 18 got reward +0.01000 for action: [-0.14287889 -0.56204265  0.21968609  0.54527873]\n",
      "#    69  -> Agent 14 got reward +0.01000 for action: [-0.14079221 -0.54469377  0.21840301  0.53418219]\n",
      "#     &  -> Agent 18 got reward +0.04000 for action: [-0.14281873 -0.56275475  0.22040033  0.54645807]\n",
      "#    70  -> Agent 14 got reward +0.01000 for action: [-0.14192349 -0.54886979  0.21937814  0.53646362]\n",
      "#     &  -> Agent 18 got reward +0.04000 for action: [-0.14384115 -0.56578749  0.22156218  0.54920399]\n",
      "#    92  -> Agent 05 got reward +0.02000 for action: [-0.14473879 -0.5697431   0.2236912   0.55374211]\n",
      "#    93  -> Agent 05 got reward +0.04000 for action: [-0.14383104 -0.57676572  0.22487065  0.55919582]\n",
      "#    94  -> Agent 05 got reward +0.04000 for action: [-0.14201808 -0.58360094  0.22525576  0.56449509]\n",
      "#    95  -> Agent 05 got reward +0.04000 for action: [-0.14003405 -0.59218323  0.2262466   0.57315683]\n",
      "#    96  -> Agent 05 got reward +0.04000 for action: [-0.1373968  -0.59833521  0.22636971  0.58020461]\n",
      "#    97  -> Agent 05 got reward +0.02000 for action: [-0.13477972 -0.60437667  0.22878769  0.58784974]\n",
      "#   130  -> Agent 01 got reward +0.03000 for action: [-0.13942714 -0.57105297  0.22118458  0.55324566]\n",
      "#   131  -> Agent 01 got reward +0.04000 for action: [-0.13793965 -0.56774545  0.22015607  0.55115819]\n",
      "#   132  -> Agent 01 got reward +0.04000 for action: [-0.1370078  -0.55868024  0.21781608  0.54230398]\n",
      "#   133  -> Agent 01 got reward +0.04000 for action: [-0.13632827 -0.55507642  0.21712089  0.53796214]\n",
      "#   134  -> Agent 01 got reward +0.04000 for action: [-0.13635448 -0.55488575  0.21731424  0.53782588]\n",
      "#   136  -> Agent 20 got reward +0.04000 for action: [-0.12157556 -0.52598476  0.20443279  0.52789968]\n",
      "#   137  -> Agent 17 got reward +0.04000 for action: [-0.12943584 -0.53086638  0.21148035  0.52090073]\n",
      "#     &  -> Agent 20 got reward +0.04000 for action: [-0.12188499 -0.52901149  0.20447411  0.53262413]\n",
      "#   138  -> Agent 17 got reward +0.04000 for action: [-0.12924361 -0.53024328  0.21131527  0.52055007]\n",
      "#     &  -> Agent 20 got reward +0.04000 for action: [-0.12270351 -0.53055042  0.204474    0.53329974]\n",
      "#   139  -> Agent 17 got reward +0.04000 for action: [-0.12830397 -0.52839631  0.2104682   0.51912934]\n",
      "#     &  -> Agent 20 got reward +0.03000 for action: [-0.12861486 -0.53958446  0.21223143  0.53498983]\n",
      "#   140  -> Agent 17 got reward +0.04000 for action: [-0.1284315  -0.52743584  0.21078955  0.51933235]\n",
      "#   141  -> Agent 17 got reward +0.04000 for action: [-0.12837683 -0.52857125  0.21164635  0.52025115]\n",
      "#   142  -> Agent 17 got reward +0.04000 for action: [-0.12670991 -0.52850461  0.21119815  0.52110863]\n",
      "#   150  -> Agent 17 got reward +0.02000 for action: [-0.1374146  -0.54333407  0.21745968  0.53227931]\n",
      "#   151  -> Agent 17 got reward +0.04000 for action: [-0.13475828 -0.53781569  0.21484661  0.53059804]\n",
      "#   152  -> Agent 17 got reward +0.04000 for action: [-0.12693891 -0.53257179  0.20892841  0.53154564]\n",
      "#   153  -> Agent 17 got reward +0.04000 for action: [-0.13017395 -0.53501564  0.21294457  0.53215593]\n",
      "#   154  -> Agent 17 got reward +0.04000 for action: [-0.13228735 -0.53332907  0.21353194  0.52631414]\n",
      "#   162  -> Agent 09 got reward +0.03000 for action: [-0.12989078 -0.53786957  0.21384865  0.52863193]\n",
      "#     &  -> Agent 13 got reward +0.04000 for action: [-0.13303065 -0.54251158  0.21575937  0.53168464]\n",
      "#   163  -> Agent 09 got reward +0.04000 for action: [-0.130871   -0.54026318  0.21425283  0.52925444]\n",
      "#     &  -> Agent 13 got reward +0.04000 for action: [-0.13137497 -0.53361201  0.21427023  0.52381098]\n",
      "#   164  -> Agent 09 got reward +0.04000 for action: [-0.131936   -0.54471493  0.21544337  0.53285825]\n",
      "#     &  -> Agent 13 got reward +0.04000 for action: [-0.13037214 -0.52627873  0.21284881  0.51777768]\n",
      "#   165  -> Agent 09 got reward +0.01000 for action: [-0.13319886 -0.54828894  0.21666548  0.53570592]\n",
      "#     &  -> Agent 13 got reward +0.03000 for action: [-0.12974168 -0.52564585  0.21213555  0.51774788]\n",
      "#   171  -> Agent 13 got reward +0.01000 for action: [-0.13982445 -0.53582215  0.21656054  0.52531695]\n",
      "#   172  -> Agent 13 got reward +0.04000 for action: [-0.14246729 -0.55061942  0.21940872  0.53783035]\n",
      "#   173  -> Agent 13 got reward +0.04000 for action: [-0.14313658 -0.55471337  0.22045484  0.54134047]\n",
      "#   174  -> Agent 13 got reward +0.04000 for action: [-0.14262691 -0.55895293  0.22099397  0.54502577]\n",
      "#   175  -> Agent 09 got reward +0.01000 for action: [-0.13703857 -0.54439873  0.21814144  0.53080434]\n",
      "#     &  -> Agent 13 got reward +0.02000 for action: [-0.14325508 -0.55758929  0.22056428  0.54410279]\n",
      "#   176  -> Agent 09 got reward +0.04000 for action: [-0.13749452 -0.54603398  0.21859851  0.53243399]\n",
      "#   177  -> Agent 09 got reward +0.04000 for action: [-0.1381987  -0.54835999  0.21923181  0.53456134]\n",
      "#   178  -> Agent 09 got reward +0.04000 for action: [-0.13960615 -0.55227906  0.21984798  0.53767055]\n",
      "#   179  -> Agent 09 got reward +0.04000 for action: [-0.13994561 -0.55423105  0.21985424  0.53874588]\n",
      "#   222  -> Agent 10 got reward +0.01000 for action: [-0.13605022 -0.55751187  0.21843824  0.54349172]\n",
      "#   223  -> Agent 10 got reward +0.04000 for action: [-0.13567737 -0.55431378  0.21764562  0.54052132]\n",
      "#   224  -> Agent 10 got reward +0.04000 for action: [-0.13388546 -0.54489738  0.21509713  0.53254735]\n",
      "#     &  -> Agent 15 got reward +0.02000 for action: [-0.12772059 -0.59012842  0.22244996  0.57421339]\n",
      "#   225  -> Agent 10 got reward +0.02000 for action: [-0.135612   -0.55726916  0.21862978  0.54258728]\n",
      "#     &  -> Agent 15 got reward +0.04000 for action: [-0.12368263 -0.5957309   0.2237691   0.57943034]\n",
      "#   226  -> Agent 15 got reward +0.04000 for action: [-0.12520847 -0.59629232  0.22453907  0.57954091]\n",
      "#   227  -> Agent 15 got reward +0.04000 for action: [-0.1282396  -0.59456813  0.22462535  0.57754278]\n",
      "#   228  -> Agent 15 got reward +0.04000 for action: [-0.13286266 -0.58947164  0.22422916  0.57193851]\n",
      "#   229  -> Agent 10 got reward +0.03000 for action: [-0.14035557 -0.58726567  0.22738573  0.56872737]\n",
      "#     &  -> Agent 15 got reward +0.04000 for action: [-0.13515347 -0.58405846  0.22406721  0.56584543]\n",
      "#   230  -> Agent 10 got reward +0.04000 for action: [-0.1387376  -0.59567988  0.22849786  0.57746243]\n",
      "#     &  -> Agent 15 got reward +0.04000 for action: [-0.13494293 -0.57894498  0.22266451  0.56164169]\n",
      "#   231  -> Agent 10 got reward +0.04000 for action: [-0.13664648 -0.60355806  0.22944507  0.5855    ]\n",
      "#     &  -> Agent 15 got reward +0.04000 for action: [-0.13572812 -0.57201624  0.22179803  0.55619317]\n",
      "#   232  -> Agent 10 got reward +0.04000 for action: [-0.13531795 -0.60881406  0.23015228  0.59053135]\n",
      "#   233  -> Agent 10 got reward +0.04000 for action: [-0.13550398 -0.60902983  0.23024866  0.59054434]\n"
     ]
    },
    {
     "name": "stdout",
     "output_type": "stream",
     "text": [
      "#   234  -> Agent 10 got reward +0.04000 for action: [-0.13610397 -0.60734588  0.23008028  0.58879685]\n",
      "#   235  -> Agent 10 got reward +0.04000 for action: [-0.13657607 -0.60562301  0.22991818  0.58720428]\n",
      "#   236  -> Agent 10 got reward +0.01000 for action: [-0.13687156 -0.6028766   0.22947478  0.58460259]\n",
      "#   241  -> Agent 18 got reward +0.04000 for action: [-0.14414769 -0.56790572  0.22355619  0.5521394 ]\n",
      "#   242  -> Agent 18 got reward +0.04000 for action: [-0.1436795  -0.5770731   0.22499996  0.56103176]\n",
      "#   243  -> Agent 18 got reward +0.04000 for action: [-0.14199102 -0.58934999  0.22775888  0.57356906]\n",
      "#   244  -> Agent 18 got reward +0.02000 for action: [-0.14144847 -0.59538549  0.22914654  0.58051622]\n",
      "#   248  -> Agent 02 got reward +0.01000 for action: [-0.13364281 -0.59905761  0.2305018   0.58466303]\n",
      "#   249  -> Agent 02 got reward +0.04000 for action: [-0.13093387 -0.60678631  0.23239982  0.59274673]\n",
      "#   250  -> Agent 02 got reward +0.04000 for action: [-0.13346332 -0.60272604  0.23131359  0.58803076]\n",
      "#   251  -> Agent 02 got reward +0.04000 for action: [-0.13347307 -0.59847414  0.22972107  0.5819633 ]\n",
      "#   252  -> Agent 02 got reward +0.04000 for action: [-0.13082492 -0.59764272  0.22859028  0.57932597]\n",
      "#   253  -> Agent 02 got reward +0.02000 for action: [-0.12979506 -0.60013127  0.22942293  0.58053696]\n",
      "#   260  -> Agent 04 got reward +0.01000 for action: [-0.13160777 -0.61800766  0.23146242  0.60011333]\n",
      "#   261  -> Agent 04 got reward +0.04000 for action: [-0.12888315 -0.62739825  0.23280123  0.60973465]\n",
      "#   262  -> Agent 04 got reward +0.04000 for action: [-0.12924662 -0.62858981  0.23350385  0.61126417]\n",
      "#   263  -> Agent 04 got reward +0.04000 for action: [-0.12967041 -0.63023067  0.23422357  0.61342704]\n",
      "#   264  -> Agent 03 got reward +0.04000 for action: [-0.12982604 -0.52771759  0.21225622  0.52151227]\n",
      "#   265  -> Agent 03 got reward +0.01000 for action: [-0.13040628 -0.52954352  0.21358374  0.52265531]\n",
      "#   279  -> Agent 17 got reward +0.01000 for action: [-0.13392422 -0.546974    0.21499345  0.5361926 ]\n",
      "#   280  -> Agent 17 got reward +0.04000 for action: [-0.13513584 -0.55164838  0.21626657  0.53949058]\n",
      "#   281  -> Agent 17 got reward +0.04000 for action: [-0.13676421 -0.55789059  0.21826556  0.54418087]\n",
      "#   282  -> Agent 17 got reward +0.04000 for action: [-0.13813362 -0.56394184  0.22032335  0.54890609]\n",
      "#   283  -> Agent 17 got reward +0.04000 for action: [-0.13947544 -0.5695588   0.22192925  0.55325145]\n",
      "#   284  -> Agent 17 got reward +0.04000 for action: [-0.14009851 -0.57506347  0.22346655  0.5581181 ]\n",
      "#   285  -> Agent 17 got reward +0.04000 for action: [-0.14082971 -0.58028924  0.22483096  0.56252837]\n",
      "#   286  -> Agent 17 got reward +0.04000 for action: [-0.14090586 -0.58427733  0.22583354  0.56584299]\n",
      "#   287  -> Agent 17 got reward +0.04000 for action: [-0.14037789 -0.5859046   0.22609994  0.56710887]\n",
      "#   288  -> Agent 17 got reward +0.04000 for action: [-0.14004034 -0.58524442  0.22586825  0.56643343]\n",
      "#   289  -> Agent 17 got reward +0.01000 for action: [-0.14014304 -0.58497709  0.2260966   0.5662697 ]\n",
      "#   295  -> Agent 16 got reward +0.01000 for action: [-0.12482715 -0.52083498  0.20818067  0.5154292 ]\n",
      "#   296  -> Agent 16 got reward +0.04000 for action: [-0.12413514 -0.52133566  0.20690042  0.51704675]\n",
      "#   297  -> Agent 16 got reward +0.04000 for action: [-0.12335355 -0.52220994  0.20626274  0.51965797]\n",
      "#   298  -> Agent 16 got reward +0.04000 for action: [-0.12316043 -0.52267325  0.20616466  0.52019364]\n",
      "#   299  -> Agent 16 got reward +0.04000 for action: [-0.12913874 -0.52792144  0.21007888  0.52157104]\n",
      "#   300  -> Agent 16 got reward +0.04000 for action: [-0.13214868 -0.53093541  0.21310005  0.52366453]\n",
      "#   301  -> Agent 16 got reward +0.01000 for action: [-0.12741421 -0.52521831  0.20931387  0.51989257]\n",
      "#   309  -> Agent 10 got reward +0.03000 for action: [-0.12241518 -0.52897072  0.20510581  0.52769434]\n",
      "#   310  -> Agent 10 got reward +0.04000 for action: [-0.12365934 -0.53073883  0.20603839  0.52970785]\n",
      "#   311  -> Agent 10 got reward +0.04000 for action: [-0.12493255 -0.53201222  0.20799735  0.52990532]\n",
      "#   312  -> Agent 10 got reward +0.02000 for action: [-0.12730271 -0.53184372  0.20977606  0.52927744]\n",
      "#   320  -> Agent 03 got reward +0.04000 for action: [-0.12416311 -0.5270071   0.20803028  0.52518582]\n",
      "#   334  -> Agent 05 got reward +0.02000 for action: [-0.14475259 -0.55989814  0.22101313  0.54609776]\n",
      "#   335  -> Agent 05 got reward +0.04000 for action: [-0.14571071 -0.57006657  0.22209188  0.55655915]\n",
      "#   336  -> Agent 05 got reward +0.03000 for action: [-0.14553012 -0.56690252  0.22153434  0.55408037]\n",
      "#   352  -> Agent 10 got reward +0.03000 for action: [-0.14311436 -0.58966595  0.22709784  0.57406223]\n",
      "#   353  -> Agent 10 got reward +0.04000 for action: [-0.14212702 -0.59115607  0.22839871  0.57575661]\n",
      "#   354  -> Agent 10 got reward +0.04000 for action: [-0.14176813 -0.58930635  0.22762147  0.57457095]\n",
      "#   355  -> Agent 10 got reward +0.04000 for action: [-0.14145793 -0.5955168   0.22450969  0.58230799]\n",
      "#   356  -> Agent 10 got reward +0.03000 for action: [-0.1363022  -0.54283142  0.21535358  0.53253353]\n",
      "#   358  -> Agent 17 got reward +0.04000 for action: [-0.12708175 -0.61130691  0.22678009  0.59217727]\n",
      "#   359  -> Agent 17 got reward +0.04000 for action: [-0.12469631 -0.61356115  0.22745937  0.59542686]\n",
      "#   360  -> Agent 17 got reward +0.04000 for action: [-0.12464295 -0.61403823  0.22780582  0.59694248]\n",
      "#   361  -> Agent 17 got reward +0.03000 for action: [-0.12828363 -0.60537779  0.22759417  0.58927786]\n",
      "#   368  -> Agent 12 got reward +0.01000 for action: [-0.13427657 -0.55141348  0.21365717  0.53818625]\n",
      "#   369  -> Agent 12 got reward +0.04000 for action: [-0.13187206 -0.54191977  0.21044722  0.53022212]\n",
      "#   370  -> Agent 12 got reward +0.04000 for action: [-0.12995481 -0.53574181  0.2090432   0.52551198]\n",
      "#   371  -> Agent 12 got reward +0.01000 for action: [-0.12902732 -0.53603441  0.20900401  0.52511179]\n",
      "#   391  -> Agent 16 got reward +0.01000 for action: [-0.12874167 -0.59977138  0.22933388  0.58240104]\n",
      "#   392  -> Agent 16 got reward +0.04000 for action: [-0.13142549 -0.59208941  0.22706667  0.57418215]\n",
      "#   395  -> Agent 18 got reward +0.03000 for action: [-0.13041817 -0.60815036  0.22747025  0.58760482]\n",
      "#   396  -> Agent 18 got reward +0.04000 for action: [-0.126578   -0.61514592  0.22821003  0.59532845]\n",
      "#   397  -> Agent 04 got reward +0.03000 for action: [-0.13972443 -0.56649822  0.22122955  0.55102527]\n",
      "#     &  -> Agent 18 got reward +0.04000 for action: [-0.1245138  -0.61900622  0.22879413  0.60007811]\n",
      "#   398  -> Agent 04 got reward +0.04000 for action: [-0.13936853 -0.5701791   0.22187439  0.55458152]\n",
      "#     &  -> Agent 18 got reward +0.02000 for action: [-0.12778066 -0.61338001  0.22889653  0.59490633]\n",
      "#   399  -> Agent 04 got reward +0.04000 for action: [-0.13903156 -0.57274121  0.22237286  0.55686182]\n",
      "#   400  -> Agent 04 got reward +0.04000 for action: [-0.13871865 -0.57459944  0.22278818  0.55838156]\n",
      "#   401  -> Agent 04 got reward +0.04000 for action: [-0.13833226 -0.57628131  0.22312397  0.55996674]\n",
      "#   402  -> Agent 04 got reward +0.04000 for action: [-0.1378713  -0.57851028  0.22371265  0.56232864]\n",
      "#   417  -> Agent 12 got reward +0.04000 for action: [-0.14077303 -0.58521795  0.22730094  0.56771386]\n",
      "#   418  -> Agent 12 got reward +0.04000 for action: [-0.14039426 -0.57917178  0.22528541  0.56211084]\n",
      "#   419  -> Agent 12 got reward +0.04000 for action: [-0.1393275  -0.57311177  0.22324914  0.55605882]\n",
      "#   420  -> Agent 12 got reward +0.01000 for action: [-0.13732958 -0.57610238  0.2224496   0.55877185]\n",
      "#   421  -> Agent 13 got reward +0.04000 for action: [-0.13216439 -0.53398138  0.21290416  0.52468479]\n",
      "#   422  -> Agent 13 got reward +0.04000 for action: [-0.13269247 -0.5356282   0.21383068  0.52562261]\n",
      "#   423  -> Agent 13 got reward +0.04000 for action: [-0.13298157 -0.53881878  0.21493182  0.5282501 ]\n",
      "#   424  -> Agent 12 got reward +0.02000 for action: [-0.13781476 -0.57155907  0.22204617  0.5553875 ]\n",
      "#     &  -> Agent 13 got reward +0.01000 for action: [-0.13376006 -0.54254031  0.21637896  0.53108764]\n",
      "#   425  -> Agent 12 got reward +0.04000 for action: [-0.13843265 -0.57153916  0.22276968  0.55529642]\n"
     ]
    },
    {
     "name": "stdout",
     "output_type": "stream",
     "text": [
      "#   426  -> Agent 12 got reward +0.04000 for action: [-0.13880567 -0.59719342  0.22825035  0.5811044 ]\n",
      "#   427  -> Agent 12 got reward +0.04000 for action: [-0.13774827 -0.60184872  0.22924674  0.58487904]\n",
      "#   428  -> Agent 12 got reward +0.04000 for action: [-0.13860071 -0.57117969  0.22298726  0.554371  ]\n",
      "#   429  -> Agent 12 got reward +0.03000 for action: [-0.13239938 -0.55203164  0.21562502  0.53907186]\n",
      "#   460  -> Agent 11 got reward +0.02000 for action: [-0.14315236 -0.5559743   0.22190002  0.54344714]\n",
      "#   461  -> Agent 11 got reward +0.04000 for action: [-0.14396143 -0.55886251  0.22219452  0.54628086]\n",
      "#   477  -> Agent 15 got reward +0.01000 for action: [-0.13420951 -0.53179848  0.21555918  0.52040958]\n",
      "#   478  -> Agent 15 got reward +0.04000 for action: [-0.13449579 -0.53404707  0.2162818   0.52212989]\n",
      "#   479  -> Agent 15 got reward +0.04000 for action: [-0.13529994 -0.53710151  0.21729681  0.52410042]\n",
      "#   480  -> Agent 15 got reward +0.04000 for action: [-0.1372195  -0.54509568  0.2191866   0.53078729]\n",
      "#   481  -> Agent 15 got reward +0.04000 for action: [-0.13895601 -0.55278587  0.22099504  0.53754717]\n",
      "#   482  -> Agent 15 got reward +0.02000 for action: [-0.14008479 -0.55718392  0.2219907   0.54128563]\n",
      "#   494  -> Agent 06 got reward +0.03000 for action: [-0.1373367  -0.57337672  0.22033104  0.55589134]\n",
      "#   495  -> Agent 06 got reward +0.04000 for action: [-0.13675448 -0.56663525  0.21942002  0.54980379]\n",
      "#   496  -> Agent 06 got reward +0.04000 for action: [-0.13618907 -0.56359363  0.21936297  0.54768592]\n",
      "#   498  -> Agent 18 got reward +0.01000 for action: [-0.13825978 -0.57958347  0.22223008  0.56059772]\n",
      "#   499  -> Agent 18 got reward +0.04000 for action: [-0.13855599 -0.57743454  0.22221607  0.55861413]\n",
      "#   500  -> Agent 18 got reward +0.04000 for action: [-0.13889469 -0.57575816  0.2225115   0.55711359]\n",
      "#   501  -> Agent 18 got reward +0.04000 for action: [-0.13909522 -0.57459396  0.22287533  0.55603498]\n",
      "#   502  -> Agent 18 got reward +0.04000 for action: [-0.13940093 -0.57349092  0.2230916   0.55507225]\n",
      "#   503  -> Agent 18 got reward +0.03000 for action: [-0.1392599  -0.57085365  0.22276086  0.5527913 ]\n",
      "#   507  -> Agent 20 got reward +0.02000 for action: [-0.13195828 -0.58376288  0.22409582  0.56620467]\n",
      "#   508  -> Agent 20 got reward +0.04000 for action: [-0.13315403 -0.58089113  0.22395858  0.56327105]\n",
      "#   509  -> Agent 20 got reward +0.04000 for action: [-0.13379662 -0.57962352  0.22367945  0.56223351]\n",
      "#   510  -> Agent 20 got reward +0.04000 for action: [-0.13467145 -0.5784654   0.22370282  0.56125975]\n",
      "#   511  -> Agent 20 got reward +0.03000 for action: [-0.13691512 -0.57560921  0.22365561  0.55870187]\n",
      "#   522  -> Agent 08 got reward +0.03000 for action: [-0.13933407 -0.57334578  0.2246311   0.5590654 ]\n",
      "#   523  -> Agent 04 got reward +0.04000 for action: [-0.14591306 -0.56875527  0.22199935  0.55611295]\n",
      "#     &  -> Agent 08 got reward +0.04000 for action: [-0.13502996 -0.56690663  0.22138461  0.55303204]\n",
      "#     &  -> Agent 13 got reward +0.01000 for action: [-0.12595004 -0.52305549  0.20904851  0.51620364]\n",
      "#   524  -> Agent 04 got reward +0.04000 for action: [-0.14707804 -0.56424582  0.22106808  0.55270964]\n",
      "#     &  -> Agent 08 got reward +0.04000 for action: [-0.13504073 -0.56288421  0.22006819  0.54801106]\n",
      "#     &  -> Agent 13 got reward +0.04000 for action: [-0.12585564 -0.52441722  0.20877787  0.5188241 ]\n",
      "#   525  -> Agent 04 got reward +0.04000 for action: [-0.14578584 -0.55739105  0.2200661   0.54616833]\n",
      "#     &  -> Agent 08 got reward +0.04000 for action: [-0.13965914 -0.56785673  0.22086507  0.55224526]\n",
      "#     &  -> Agent 13 got reward +0.04000 for action: [-0.12526003 -0.52519435  0.20817062  0.52089173]\n",
      "#   526  -> Agent 04 got reward +0.04000 for action: [-0.14432257 -0.55309069  0.21945632  0.54193211]\n",
      "#     &  -> Agent 08 got reward +0.03000 for action: [-0.13711771 -0.55322438  0.21815094  0.53889215]\n",
      "#     &  -> Agent 13 got reward +0.04000 for action: [-0.12410548 -0.52460414  0.20700938  0.52157438]\n",
      "#   527  -> Agent 04 got reward +0.02000 for action: [-0.14325303 -0.55154556  0.21915397  0.54065597]\n",
      "#     &  -> Agent 13 got reward +0.04000 for action: [-0.12332265 -0.52478367  0.20631792  0.52275157]\n",
      "#   528  -> Agent 12 got reward +0.03000 for action: [-0.12915635 -0.5432272   0.21419126  0.53292418]\n",
      "#     &  -> Agent 13 got reward +0.01000 for action: [-0.12294451 -0.52617753  0.20638368  0.52561653]\n",
      "#   529  -> Agent 12 got reward +0.01000 for action: [-0.13080131 -0.54355621  0.21491972  0.53306282]\n",
      "#   542  -> Agent 12 got reward +0.01000 for action: [-0.13453692 -0.53701639  0.21570802  0.52463961]\n",
      "#   543  -> Agent 12 got reward +0.04000 for action: [-0.13608927 -0.54151732  0.21707129  0.52808905]\n",
      "#   544  -> Agent 12 got reward +0.04000 for action: [-0.13708398 -0.54553282  0.21825522  0.53099251]\n",
      "#   545  -> Agent 12 got reward +0.04000 for action: [-0.13766408 -0.54716992  0.2188372   0.53229886]\n",
      "#   546  -> Agent 12 got reward +0.04000 for action: [-0.13905711 -0.55056274  0.22022748  0.53519255]\n",
      "#   547  -> Agent 12 got reward +0.04000 for action: [-0.14105824 -0.55608052  0.2221961   0.53968012]\n",
      "#   548  -> Agent 12 got reward +0.01000 for action: [-0.14237021 -0.56064528  0.22317183  0.54360712]\n",
      "#   549  -> Agent 17 got reward +0.03000 for action: [-0.14487177 -0.57099169  0.22592899  0.55506718]\n",
      "#   550  -> Agent 17 got reward +0.04000 for action: [-0.14576045 -0.57562864  0.22726464  0.55936474]\n",
      "#   551  -> Agent 17 got reward +0.04000 for action: [-0.14604643 -0.57921743  0.22780311  0.56254065]\n",
      "#   587  -> Agent 06 got reward +0.01000 for action: [-0.12795891 -0.53189689  0.21144393  0.5286833 ]\n",
      "#   588  -> Agent 06 got reward +0.04000 for action: [-0.12733996 -0.53238672  0.20956865  0.53080088]\n",
      "#   589  -> Agent 06 got reward +0.04000 for action: [-0.12844044 -0.5320586   0.21076778  0.53028536]\n",
      "#   590  -> Agent 06 got reward +0.04000 for action: [-0.12995273 -0.53208828  0.21169451  0.5295555 ]\n",
      "#   591  -> Agent 06 got reward +0.04000 for action: [-0.13168445 -0.53381515  0.21312535  0.52970195]\n",
      "#   592  -> Agent 06 got reward +0.04000 for action: [-0.13368464 -0.53629351  0.21518523  0.53051466]\n",
      "#   602  -> Agent 16 got reward +0.02000 for action: [-0.13069946 -0.55659741  0.21274585  0.54076856]\n",
      "#   603  -> Agent 16 got reward +0.04000 for action: [-0.13125914 -0.55357569  0.21325952  0.53805029]\n",
      "#   604  -> Agent 16 got reward +0.04000 for action: [-0.13125394 -0.54959291  0.21349308  0.53495646]\n",
      "#   605  -> Agent 16 got reward +0.04000 for action: [-0.13204321 -0.54793018  0.21475765  0.53401691]\n",
      "#   606  -> Agent 16 got reward +0.04000 for action: [-0.13315389 -0.54825503  0.21641216  0.53534925]\n",
      "#   607  -> Agent 16 got reward +0.04000 for action: [-0.13340902 -0.54831195  0.21713617  0.5356639 ]\n",
      "#   608  -> Agent 16 got reward +0.04000 for action: [-0.13219996 -0.54765528  0.21628842  0.5354749 ]\n",
      "#   609  -> Agent 16 got reward +0.04000 for action: [-0.13172171 -0.54619777  0.21501672  0.53400493]\n",
      "#   610  -> Agent 16 got reward +0.04000 for action: [-0.13191608 -0.54476178  0.21459574  0.53284395]\n",
      "#   612  -> Agent 10 got reward +0.02000 for action: [-0.13834786 -0.57720703  0.22307035  0.55993062]\n",
      "#   613  -> Agent 10 got reward +0.04000 for action: [-0.13761592 -0.58075869  0.22386056  0.5631904 ]\n",
      "#   614  -> Agent 10 got reward +0.04000 for action: [-0.13686302 -0.58363372  0.22431579  0.56568021]\n",
      "#   615  -> Agent 10 got reward +0.04000 for action: [-0.1358695  -0.58408922  0.2242302   0.56564569]\n",
      "#   616  -> Agent 10 got reward +0.02000 for action: [-0.13514404 -0.58549851  0.22449818  0.56660897]\n",
      "#     &  -> Agent 15 got reward +0.02000 for action: [-0.12421295 -0.52551317  0.20786053  0.52090001]\n",
      "#   617  -> Agent 15 got reward +0.04000 for action: [-0.12406339 -0.52592236  0.20715255  0.52147102]\n",
      "#   618  -> Agent 15 got reward +0.04000 for action: [-0.12431477 -0.52687335  0.20696682  0.52307141]\n",
      "#   619  -> Agent 15 got reward +0.04000 for action: [-0.12376837 -0.52731502  0.20644715  0.52576226]\n",
      "#   620  -> Agent 15 got reward +0.04000 for action: [-0.12627414 -0.5284223   0.20775467  0.52433884]\n",
      "#   621  -> Agent 15 got reward +0.01000 for action: [-0.12532553 -0.5261386   0.20731206  0.52311552]\n"
     ]
    },
    {
     "name": "stdout",
     "output_type": "stream",
     "text": [
      "#   626  -> Agent 15 got reward +0.03000 for action: [-0.13714543 -0.54045308  0.21739024  0.52831721]\n",
      "#   627  -> Agent 15 got reward +0.04000 for action: [-0.13685007 -0.53980696  0.21705863  0.52779675]\n",
      "#   628  -> Agent 15 got reward +0.04000 for action: [-0.1343219  -0.53258902  0.21434015  0.5234701 ]\n",
      "#   629  -> Agent 15 got reward +0.04000 for action: [-0.1333482  -0.53185952  0.21368289  0.52386439]\n",
      "#   630  -> Agent 15 got reward +0.01000 for action: [-0.13323797 -0.532453    0.21357685  0.52456844]\n",
      "#   636  -> Agent 03 got reward +0.01000 for action: [-0.13995486 -0.54185528  0.21762902  0.53195393]\n",
      "#   637  -> Agent 03 got reward +0.04000 for action: [-0.13969843 -0.54268426  0.21770185  0.53317261]\n",
      "#   638  -> Agent 03 got reward +0.04000 for action: [-0.13898197 -0.54260683  0.21780631  0.53426707]\n",
      "#   639  -> Agent 03 got reward +0.02000 for action: [-0.1378729  -0.54091972  0.2169818   0.53366303]\n",
      "#   641  -> Agent 13 got reward +0.04000 for action: [-0.14074668 -0.58792591  0.22644714  0.57284832]\n",
      "#   642  -> Agent 13 got reward +0.04000 for action: [-0.14321248 -0.57374418  0.22216627  0.55906487]\n",
      "#     &  -> Agent 19 got reward +0.02000 for action: [-0.1392833  -0.59316385  0.22622064  0.57328993]\n",
      "#   643  -> Agent 13 got reward +0.04000 for action: [-0.14012823 -0.56293583  0.2200889   0.54401159]\n",
      "#     &  -> Agent 19 got reward +0.04000 for action: [-0.13961393 -0.59308267  0.22625449  0.57344854]\n",
      "#   644  -> Agent 13 got reward +0.04000 for action: [-0.13893279 -0.55879658  0.21941075  0.54072541]\n",
      "#     &  -> Agent 19 got reward +0.01000 for action: [-0.13974445 -0.5923093   0.22617203  0.57293791]\n",
      "#   645  -> Agent 13 got reward +0.01000 for action: [-0.1359092  -0.54970032  0.21690929  0.53342831]\n",
      "#   654  -> Agent 07 got reward +0.03000 for action: [-0.12694265 -0.52691579  0.20983988  0.52231836]\n",
      "#   655  -> Agent 07 got reward +0.04000 for action: [-0.12535997 -0.52526826  0.20838629  0.52247512]\n",
      "#   662  -> Agent 02 got reward +0.04000 for action: [-0.12264767 -0.52441579  0.20459242  0.52547157]\n",
      "#   663  -> Agent 02 got reward +0.03000 for action: [-0.12403769 -0.52469766  0.20434037  0.52378708]\n",
      "#   673  -> Agent 07 got reward +0.02000 for action: [-0.14446285 -0.58315885  0.22585022  0.56991959]\n",
      "#   674  -> Agent 07 got reward +0.04000 for action: [-0.14365579 -0.58810598  0.22717857  0.57403612]\n",
      "#   675  -> Agent 07 got reward +0.02000 for action: [-0.14263582 -0.59085387  0.22779697  0.57622683]\n",
      "#   705  -> Agent 05 got reward +0.03000 for action: [-0.13763441 -0.60101742  0.22801831  0.58153993]\n",
      "#     &  -> Agent 16 got reward +0.03000 for action: [-0.13424632 -0.54035991  0.21597108  0.52848971]\n",
      "#   706  -> Agent 05 got reward +0.04000 for action: [-0.13707048 -0.60230452  0.22801122  0.58280945]\n",
      "#     &  -> Agent 16 got reward +0.04000 for action: [-0.13223127 -0.53287923  0.21514979  0.52361178]\n",
      "#   707  -> Agent 05 got reward +0.04000 for action: [-0.13653302 -0.60563606  0.2290543   0.58646917]\n",
      "#     &  -> Agent 16 got reward +0.04000 for action: [-0.13163027 -0.5313015   0.21491644  0.52345586]\n",
      "#   708  -> Agent 05 got reward +0.04000 for action: [-0.13648532 -0.60595906  0.23004916  0.58748919]\n",
      "#     &  -> Agent 13 got reward +0.03000 for action: [-0.13970356 -0.56360364  0.22006789  0.54627448]\n",
      "#   709  -> Agent 05 got reward +0.04000 for action: [-0.12823567 -0.61966223  0.23349822  0.60523069]\n",
      "#     &  -> Agent 13 got reward +0.04000 for action: [-0.13931671 -0.56728977  0.22090909  0.54994816]\n",
      "#   710  -> Agent 05 got reward +0.04000 for action: [-0.13820809 -0.55353606  0.2173717   0.53910744]\n",
      "#     &  -> Agent 13 got reward +0.04000 for action: [-0.13909107 -0.57004511  0.22163558  0.55318999]\n",
      "#   711  -> Agent 05 got reward +0.04000 for action: [-0.13396317 -0.5377689   0.21351567  0.52539742]\n",
      "#     &  -> Agent 13 got reward +0.04000 for action: [-0.13900912 -0.57587403  0.22276694  0.55910885]\n",
      "#   712  -> Agent 05 got reward +0.03000 for action: [-0.13697605 -0.54377955  0.21529686  0.52997005]\n",
      "#     &  -> Agent 13 got reward +0.04000 for action: [-0.13907152 -0.58625132  0.22515363  0.56902921]\n",
      "#   713  -> Agent 13 got reward +0.04000 for action: [-0.13829771 -0.59862924  0.22813353  0.58053231]\n",
      "#   714  -> Agent 06 got reward +0.03000 for action: [-0.14585215 -0.56650394  0.22194776  0.55373478]\n",
      "#     &  -> Agent 13 got reward +0.04000 for action: [-0.13608836 -0.59339362  0.22675121  0.57427591]\n",
      "#   715  -> Agent 06 got reward +0.04000 for action: [-0.146607   -0.57129854  0.22248471  0.55783445]\n",
      "#     &  -> Agent 13 got reward +0.04000 for action: [-0.13406187 -0.5888831   0.22509912  0.57011831]\n",
      "#     &  -> Agent 17 got reward +0.01000 for action: [-0.13620856 -0.57297951  0.21817166  0.55461973]\n",
      "#   716  -> Agent 06 got reward +0.01000 for action: [-0.14676264 -0.56659114  0.22167212  0.55280441]\n",
      "#     &  -> Agent 13 got reward +0.03000 for action: [-0.1326955  -0.59398395  0.22664323  0.57430112]\n",
      "#     &  -> Agent 17 got reward +0.04000 for action: [-0.13689959 -0.57149237  0.21873808  0.55327898]\n",
      "#   717  -> Agent 17 got reward +0.04000 for action: [-0.13718283 -0.56951129  0.21889436  0.55163062]\n",
      "#   718  -> Agent 17 got reward +0.04000 for action: [-0.1373876  -0.5680477   0.2192744   0.55042839]\n",
      "#   719  -> Agent 17 got reward +0.04000 for action: [-0.13753776 -0.56684297  0.2197274   0.54923248]\n",
      "#   720  -> Agent 17 got reward +0.04000 for action: [-0.13803282 -0.56584215  0.22003353  0.54827839]\n",
      "#   721  -> Agent 17 got reward +0.04000 for action: [-0.13758957 -0.56353128  0.21971136  0.54631311]\n",
      "#   722  -> Agent 17 got reward +0.02000 for action: [-0.13660234 -0.5588845   0.21889138  0.54262042]\n",
      "#   729  -> Agent 11 got reward +0.02000 for action: [-0.12919322 -0.53723145  0.2142542   0.53292954]\n",
      "#   730  -> Agent 11 got reward +0.04000 for action: [-0.12976299 -0.53754634  0.21441802  0.53316927]\n",
      "#   731  -> Agent 11 got reward +0.04000 for action: [-0.13090999 -0.53728724  0.21467683  0.53298998]\n",
      "#   732  -> Agent 11 got reward +0.04000 for action: [-0.13165513 -0.53705591  0.21460029  0.53243202]\n",
      "#   743  -> Agent 01 got reward +0.04000 for action: [-0.13984065 -0.58445954  0.22551224  0.56756985]\n",
      "#   744  -> Agent 01 got reward +0.04000 for action: [-0.14019027 -0.58412921  0.22527504  0.56743062]\n",
      "#   745  -> Agent 01 got reward +0.04000 for action: [-0.14040001 -0.58268332  0.22472054  0.56581616]\n",
      "#   746  -> Agent 01 got reward +0.04000 for action: [-0.14039391 -0.57926494  0.22397074  0.56217343]\n",
      "#     &  -> Agent 20 got reward +0.01000 for action: [-0.12568954 -0.52288359  0.20856206  0.51918364]\n",
      "#   747  -> Agent 01 got reward +0.04000 for action: [-0.14021412 -0.57639027  0.22317258  0.55886477]\n",
      "#     &  -> Agent 20 got reward +0.04000 for action: [-0.12386796 -0.52261066  0.2074565   0.52050304]\n",
      "#   748  -> Agent 01 got reward +0.04000 for action: [-0.13966836 -0.57630223  0.22281268  0.55815876]\n",
      "#     &  -> Agent 20 got reward +0.04000 for action: [-0.12237626 -0.52234048  0.20668307  0.5221715 ]\n",
      "#   749  -> Agent 01 got reward +0.01000 for action: [-0.13858992 -0.57857537  0.22293115  0.56041026]\n",
      "#   765  -> Agent 10 got reward +0.04000 for action: [-0.1446445  -0.57523572  0.22376922  0.56448072]\n",
      "#   766  -> Agent 10 got reward +0.04000 for action: [-0.14232996 -0.58882779  0.22701925  0.5768882 ]\n",
      "#   767  -> Agent 10 got reward +0.04000 for action: [-0.14105214 -0.59379214  0.22816738  0.58111125]\n",
      "#   768  -> Agent 10 got reward +0.04000 for action: [-0.14302133 -0.58716536  0.22679251  0.57530421]\n",
      "#   769  -> Agent 10 got reward +0.02000 for action: [-0.14270025 -0.56932741  0.22164986  0.55493242]\n",
      "#   776  -> Agent 03 got reward +0.03000 for action: [-0.14080922 -0.59665352  0.22762093  0.58066386]\n",
      "#   777  -> Agent 03 got reward +0.04000 for action: [-0.14218347 -0.58247381  0.22339094  0.56571174]\n",
      "#   778  -> Agent 03 got reward +0.04000 for action: [-0.14341317 -0.57367349  0.22312635  0.55585128]\n",
      "#   779  -> Agent 03 got reward +0.04000 for action: [-0.14375837 -0.57113492  0.22341904  0.55291283]\n",
      "#   780  -> Agent 03 got reward +0.04000 for action: [-0.14413697 -0.56947857  0.22343516  0.55083728]\n",
      "#   781  -> Agent 03 got reward +0.04000 for action: [-0.14470604 -0.5716027   0.22354528  0.5532968 ]\n",
      "#   782  -> Agent 03 got reward +0.04000 for action: [-0.14533204 -0.58046758  0.22452566  0.56249911]\n"
     ]
    },
    {
     "name": "stdout",
     "output_type": "stream",
     "text": [
      "#   783  -> Agent 03 got reward +0.04000 for action: [-0.14568417 -0.58390188  0.22530887  0.56586087]\n",
      "#     &  -> Agent 15 got reward +0.04000 for action: [-0.13253856 -0.53469986  0.21549481  0.526788  ]\n",
      "#   784  -> Agent 03 got reward +0.04000 for action: [-0.14608523 -0.58277535  0.22545144  0.56468421]\n",
      "#     &  -> Agent 15 got reward +0.04000 for action: [-0.13258994 -0.53556025  0.21615189  0.5278995 ]\n",
      "#   785  -> Agent 15 got reward +0.03000 for action: [-0.13264148 -0.53341788  0.21620971  0.52724648]\n",
      "#   786  -> Agent 16 got reward +0.01000 for action: [-0.13885692 -0.60143137  0.22916755  0.58140647]\n",
      "#   787  -> Agent 16 got reward +0.04000 for action: [-0.13862145 -0.6028623   0.22946477  0.58290505]\n",
      "#   788  -> Agent 16 got reward +0.04000 for action: [-0.1383052  -0.60384518  0.22965276  0.58411425]\n",
      "#   789  -> Agent 16 got reward +0.04000 for action: [-0.13820434 -0.60435534  0.22969767  0.5847165 ]\n",
      "#   790  -> Agent 16 got reward +0.03000 for action: [-0.13815513 -0.6038425   0.22944674  0.58418018]\n",
      "#   812  -> Agent 05 got reward +0.03000 for action: [-0.13162611 -0.53711796  0.21473816  0.52671003]\n",
      "#   813  -> Agent 05 got reward +0.04000 for action: [-0.13173746 -0.53574884  0.21467054  0.52685797]\n",
      "#   814  -> Agent 05 got reward +0.04000 for action: [-0.13288692 -0.53532153  0.21521172  0.52669007]\n",
      "#   815  -> Agent 05 got reward +0.04000 for action: [-0.13451964 -0.53416795  0.21558961  0.52468491]\n",
      "#   816  -> Agent 05 got reward +0.04000 for action: [-0.13523318 -0.53506279  0.21600878  0.52499819]\n",
      "#     &  -> Agent 07 got reward +0.02000 for action: [-0.13488081 -0.54719758  0.21576852  0.53533638]\n",
      "#   817  -> Agent 05 got reward +0.03000 for action: [-0.13555326 -0.5357123   0.21667337  0.52587718]\n",
      "#     &  -> Agent 07 got reward +0.04000 for action: [-0.13587636 -0.548944    0.21675572  0.536874  ]\n",
      "#     &  -> Agent 20 got reward +0.03000 for action: [-0.12891354 -0.5310111   0.20913452  0.52968359]\n",
      "#   818  -> Agent 07 got reward +0.04000 for action: [-0.13648917 -0.55040002  0.21670777  0.53776836]\n",
      "#     &  -> Agent 20 got reward +0.04000 for action: [-0.12670648 -0.52948755  0.20620891  0.52948904]\n",
      "#   819  -> Agent 07 got reward +0.04000 for action: [-0.13770807 -0.55178469  0.21722859  0.53807658]\n",
      "#     &  -> Agent 20 got reward +0.04000 for action: [-0.12811878 -0.5310933   0.20759839  0.5302493 ]\n",
      "#   820  -> Agent 07 got reward +0.01000 for action: [-0.13749473 -0.53807902  0.2155095   0.52586257]\n",
      "#     &  -> Agent 20 got reward +0.04000 for action: [-0.13083175 -0.53546339  0.21079588  0.53260177]\n",
      "#   839  -> Agent 06 got reward +0.02000 for action: [-0.14094537 -0.54025728  0.21715674  0.53051931]\n",
      "#   840  -> Agent 06 got reward +0.04000 for action: [-0.14043346 -0.54068846  0.21712485  0.53156966]\n",
      "#   841  -> Agent 06 got reward +0.04000 for action: [-0.13888033 -0.53887552  0.21651605  0.53054953]\n",
      "#   844  -> Agent 17 got reward +0.01000 for action: [-0.13546038 -0.58036399  0.22188959  0.56360751]\n",
      "#   845  -> Agent 17 got reward +0.04000 for action: [-0.13605064 -0.58028996  0.22218582  0.56349117]\n",
      "#   846  -> Agent 17 got reward +0.04000 for action: [-0.13649282 -0.58018637  0.2225807   0.56313241]\n",
      "#   847  -> Agent 17 got reward +0.04000 for action: [-0.13656513 -0.57968771  0.22302395  0.5625124 ]\n",
      "#   848  -> Agent 17 got reward +0.04000 for action: [-0.13699837 -0.57846344  0.2233457   0.56131947]\n",
      "#   849  -> Agent 17 got reward +0.04000 for action: [-0.13754275 -0.57672417  0.22340646  0.55971211]\n",
      "#   850  -> Agent 07 got reward +0.02000 for action: [-0.12416119 -0.52811956  0.20754388  0.52478755]\n",
      "#   851  -> Agent 07 got reward +0.04000 for action: [-0.12389036 -0.53112179  0.20684683  0.53047365]\n",
      "#   880  -> Agent 01 got reward +0.02000 for action: [-0.14278999 -0.59356475  0.22807628  0.57858557]\n",
      "#     &  -> Agent 18 got reward +0.01000 for action: [-0.1250577  -0.60601777  0.23034069  0.58517736]\n",
      "#   881  -> Agent 01 got reward +0.04000 for action: [-0.14106567 -0.60089791  0.23007303  0.5854308 ]\n",
      "#     &  -> Agent 18 got reward +0.04000 for action: [-0.13064145 -0.59803206  0.22924811  0.57482648]\n",
      "#   882  -> Agent 01 got reward +0.01000 for action: [-0.14101774 -0.59831202  0.23013595  0.58364052]\n",
      "#     &  -> Agent 18 got reward +0.04000 for action: [-0.13227248 -0.59877968  0.22844514  0.57719946]\n",
      "#   883  -> Agent 18 got reward +0.04000 for action: [-0.132274   -0.59691465  0.2279034   0.57659435]\n",
      "#   884  -> Agent 18 got reward +0.04000 for action: [-0.13227317 -0.59570372  0.22744206  0.57609797]\n",
      "#   885  -> Agent 18 got reward +0.04000 for action: [-0.13263533 -0.59491193  0.22718304  0.5756954 ]\n",
      "#   886  -> Agent 18 got reward +0.04000 for action: [-0.13315006 -0.59490633  0.22707346  0.57578534]\n",
      "#   887  -> Agent 18 got reward +0.02000 for action: [-0.13374627 -0.5954234   0.22706524  0.57621604]\n",
      "#   891  -> Agent 11 got reward +0.04000 for action: [-0.13653456 -0.54416943  0.21648893  0.52977896]\n",
      "#   892  -> Agent 07 got reward +0.03000 for action: [-0.13752893 -0.57104272  0.22044283  0.55407262]\n",
      "#     &  -> Agent 11 got reward +0.04000 for action: [-0.13572845 -0.54279482  0.21595079  0.52937037]\n",
      "#     &  -> Agent 18 got reward +0.04000 for action: [-0.1382983  -0.60027564  0.22871277  0.58214915]\n",
      "#   893  -> Agent 07 got reward +0.04000 for action: [-0.13689521 -0.56652772  0.219767    0.5503934 ]\n",
      "#     &  -> Agent 18 got reward +0.04000 for action: [-0.13801801 -0.60428256  0.23040795  0.586357  ]\n",
      "#   894  -> Agent 07 got reward +0.04000 for action: [-0.13633782 -0.56312025  0.2190837   0.54764044]\n",
      "#     &  -> Agent 18 got reward +0.04000 for action: [-0.13714325 -0.600995    0.22992867  0.58426851]\n",
      "#   895  -> Agent 04 got reward +0.02000 for action: [-0.14022353 -0.54259008  0.21714607  0.53144807]\n",
      "#     &  -> Agent 07 got reward +0.04000 for action: [-0.13613802 -0.5587129   0.21854934  0.54410744]\n",
      "#     &  -> Agent 18 got reward +0.04000 for action: [-0.13778877 -0.57907158  0.22314197  0.56403464]\n",
      "#   896  -> Agent 04 got reward +0.04000 for action: [-0.13910945 -0.53751761  0.2163755   0.52760404]\n",
      "#     &  -> Agent 07 got reward +0.01000 for action: [-0.13552435 -0.55347729  0.21794266  0.53973597]\n",
      "#     &  -> Agent 18 got reward +0.04000 for action: [-0.13630106 -0.5582779   0.21794429  0.54384607]\n",
      "#   897  -> Agent 04 got reward +0.04000 for action: [-0.13688025 -0.53544176  0.21527195  0.52655023]\n",
      "#     &  -> Agent 13 got reward +0.02000 for action: [-0.13087487 -0.53296947  0.21509802  0.52617449]\n",
      "#     &  -> Agent 18 got reward +0.04000 for action: [-0.13790302 -0.56237161  0.21942818  0.54700261]\n",
      "#   898  -> Agent 04 got reward +0.04000 for action: [-0.13698471 -0.53725111  0.21597853  0.52851194]\n",
      "#     &  -> Agent 13 got reward +0.04000 for action: [-0.12915739 -0.52964854  0.21331152  0.52409703]\n",
      "#     &  -> Agent 18 got reward +0.04000 for action: [-0.13795859 -0.56260765  0.21948209  0.54710549]\n",
      "#   899  -> Agent 04 got reward +0.02000 for action: [-0.13788749 -0.53906578  0.21653989  0.52998406]\n",
      "#     &  -> Agent 13 got reward +0.04000 for action: [-0.12924573 -0.52817607  0.21221408  0.52139914]\n",
      "#     &  -> Agent 18 got reward +0.04000 for action: [-0.13920569 -0.56548756  0.22123408  0.54961121]\n",
      "#   900  -> Agent 13 got reward +0.03000 for action: [-0.13079137 -0.52877736  0.21281758  0.52203476]\n",
      "#     &  -> Agent 18 got reward +0.04000 for action: [-0.14143404 -0.57202804  0.22456321  0.55544138]\n",
      "#   901  -> Agent 18 got reward +0.04000 for action: [-0.14160913 -0.56843138  0.22486502  0.55274129]\n",
      "#   902  -> Agent 09 got reward +0.04000 for action: [-0.13398045 -0.6091224   0.22862032  0.59006321]\n",
      "#     &  -> Agent 18 got reward +0.04000 for action: [-0.14060707 -0.56423062  0.22411188  0.54924011]\n",
      "#   903  -> Agent 09 got reward +0.04000 for action: [-0.13121592 -0.60966486  0.22819719  0.59108979]\n",
      "#     &  -> Agent 18 got reward +0.04000 for action: [-0.14034416 -0.56191796  0.22330433  0.54694176]\n",
      "#   904  -> Agent 09 got reward +0.04000 for action: [-0.13761985 -0.59268779  0.22437203  0.57441372]\n",
      "#   905  -> Agent 09 got reward +0.04000 for action: [-0.1417833  -0.58583331  0.22418815  0.56818867]\n",
      "#   906  -> Agent 09 got reward +0.04000 for action: [-0.14297031 -0.58034885  0.22374246  0.56269312]\n",
      "#   907  -> Agent 09 got reward +0.04000 for action: [-0.14340116 -0.57202941  0.22275406  0.55385488]\n",
      "#   908  -> Agent 09 got reward +0.04000 for action: [-0.14195715 -0.5646401   0.22112891  0.54637146]\n"
     ]
    },
    {
     "name": "stdout",
     "output_type": "stream",
     "text": [
      "#   909  -> Agent 09 got reward +0.03000 for action: [-0.14200631 -0.56776035  0.22106668  0.54900157]\n",
      "#   918  -> Agent 03 got reward +0.01000 for action: [-0.13983192 -0.56149894  0.221212    0.54645574]\n",
      "#   919  -> Agent 03 got reward +0.04000 for action: [-0.13997236 -0.56526643  0.22131383  0.54895908]\n",
      "#   920  -> Agent 03 got reward +0.04000 for action: [-0.13893713 -0.57525301  0.22227514  0.55737537]\n",
      "#   921  -> Agent 03 got reward +0.02000 for action: [-0.13702163 -0.58748925  0.22473019  0.56833506]\n",
      "#   990  -> Agent 19 got reward +0.02000 for action: [-0.12251455 -0.52324635  0.2065354   0.51867294]\n",
      "#   991  -> Agent 19 got reward +0.04000 for action: [-0.12118733 -0.52298993  0.20511088  0.51915145]\n",
      "#   999  -> Agent 19 got reward +0.01000 for action: [-0.14874028 -0.60724819  0.2321254   0.5938319 ]\n",
      "#  1000  -> Agent 19 got reward +0.04000 for action: [-0.14617752 -0.60357821  0.23068705  0.59076625]\n",
      "#  1001  -> Agent 19 got reward +0.04000 for action: [-0.14818606 -0.60608381  0.23205638  0.59239101]\n",
      "#\n",
      "Total score (averaged over agents) this episode: 0.6999999843537807\n"
     ]
    }
   ],
   "source": [
    "# Some reminders about lambda functions\n",
    "# Thx2: https://realpython.com/python-lambda/\n",
    "# Thx2: https://thispointer.com/python-how-to-use-if-else-elif-in-lambda-functions/\n",
    "\n",
    "\n",
    "env_info = env.reset(train_mode=False)[brain_name]     # reset the environment    \n",
    "states = env_info.vector_observations                  # get the current state (for each agent)\n",
    "scores = np.zeros(num_agents)                          # initialize the score (for each agent)\n",
    "\n",
    "\n",
    "import pdb; pdb.set_trace() # Debug! Debug! Debug! Debug! Debug! Debug! \n",
    "\n",
    "while True:\n",
    "    epc += 1\n",
    "    #print(f'\\r#{epc}', end = ' ')\n",
    "    print(f'\\r#{str(epc).rjust(6)}', end = ' ')\n",
    "    #actions = np.random.randn(num_agents, action_size) # select an action (for each agent)\n",
    "    actions = agent.a2c_net.select_action(states)\n",
    "    actions = np.clip(actions.detach().numpy(), -1, 1)                  # all actions between -1 and 1\n",
    "    env_info = env.step(actions)[brain_name]           # send all actions to tne environment\n",
    "    next_states = env_info.vector_observations         # get next state (for each agent)\n",
    "    rewards = env_info.rewards                         # get reward (for each agent)\n",
    "    dones = env_info.local_done                        # see if episode finished\n",
    "    rewards = env_info.rewards\n",
    "    nprewards = np.array(rewards)\n",
    "    scores += rewards                         # update the score (for each agent)\n",
    "    if np.sum(nprewards) > 0:\n",
    "        #print(f'\\r#{epc} Rewards = {rewards}')\n",
    "        maskagent = nprewards > 0\n",
    "        agentbefore = False\n",
    "        for (nagent, action) in enumerate(actions):\n",
    "            if maskagent[nagent]:\n",
    "                if agentbefore:\n",
    "                    print('\\r#' + '&'.rjust(6), end = ' ')\n",
    "                print(' -> Agent {:0>2d} got reward {:+.5f} for action: {}'.format(nagent+1, rewards[nagent], action))\n",
    "                agentbefore = True\n",
    "                #pp.pprint(list(action))\n",
    "    states = next_states                               # roll over states to next time step\n",
    "    if np.any(dones):                                  # exit loop if episode finished\n",
    "        break\n",
    "print('#')\n",
    "print('Total score (averaged over agents) this episode: {}'.format(np.mean(scores)))"
   ]
  },
  {
   "cell_type": "code",
   "execution_count": 32,
   "metadata": {},
   "outputs": [],
   "source": [
    "env.close()"
   ]
  },
  {
   "cell_type": "code",
   "execution_count": null,
   "metadata": {},
   "outputs": [],
   "source": []
  }
 ],
 "metadata": {
  "kernelspec": {
   "display_name": "Python 3",
   "language": "python",
   "name": "python3"
  },
  "language_info": {
   "codemirror_mode": {
    "name": "ipython",
    "version": 3
   },
   "file_extension": ".py",
   "mimetype": "text/x-python",
   "name": "python",
   "nbconvert_exporter": "python",
   "pygments_lexer": "ipython3",
   "version": "3.6.3"
  }
 },
 "nbformat": 4,
 "nbformat_minor": 4
}
