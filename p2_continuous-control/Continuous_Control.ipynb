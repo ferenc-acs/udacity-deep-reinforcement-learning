{
 "cells": [
  {
   "cell_type": "markdown",
   "metadata": {},
   "source": [
    "# Continuous Control\n",
    "\n",
    "---\n",
    "\n",
    "In this notebook, you will learn how to use the Unity ML-Agents environment for the second project of the [Deep Reinforcement Learning Nanodegree](https://www.udacity.com/course/deep-reinforcement-learning-nanodegree--nd893) program.\n",
    "\n",
    "### 1. Start the Environment\n",
    "\n",
    "We begin by importing the necessary packages.  If the code cell below returns an error, please revisit the project instructions to double-check that you have installed [Unity ML-Agents](https://github.com/Unity-Technologies/ml-agents/blob/master/docs/Installation.md) and [NumPy](http://www.numpy.org/)."
   ]
  },
  {
   "cell_type": "code",
   "execution_count": 1,
   "metadata": {},
   "outputs": [
    {
     "name": "stdout",
     "output_type": "stream",
     "text": [
      "posix.uname_result(sysname='Linux', nodename='e08ed294bac7', release='4.15.0-1060-gcp', version='#64-Ubuntu SMP Thu Mar 26 03:21:15 UTC 2020', machine='x86_64')\n",
      "\u001b[31mtensorflow 1.7.1 has requirement numpy>=1.13.3, but you'll have numpy 1.12.1 which is incompatible.\u001b[0m\n",
      "\u001b[31mipython 6.5.0 has requirement prompt-toolkit<2.0.0,>=1.0.15, but you'll have prompt-toolkit 3.0.6 which is incompatible.\u001b[0m\n"
     ]
    }
   ],
   "source": [
    "import os\n",
    "\n",
    "print(os.uname())\n",
    "\n",
    "# In the cloud environment?\n",
    "if 'root' in os.environ['HOME']:\n",
    "    UENVPATH = '/data/'\n",
    "    !pip -q install /home/workspace/python\n",
    "\n",
    "# In the standalone environment?\n",
    "if 'ferenc' in os.environ['HOME']:\n",
    "    UENVPATH = '/home/ferenc/Python/rl/udadrl/data/'\n",
    "\n",
    "\n",
    "from unityagents import UnityEnvironment\n",
    "import numpy as np\n",
    "\n",
    "import pprint as pp"
   ]
  },
  {
   "cell_type": "markdown",
   "metadata": {},
   "source": [
    "Next, we will start the environment!  **_Before running the code cell below_**, change the `file_name` parameter to match the location of the Unity environment that you downloaded.\n",
    "\n",
    "- **Mac**: `\"path/to/Reacher.app\"`\n",
    "- **Windows** (x86): `\"path/to/Reacher_Windows_x86/Reacher.exe\"`\n",
    "- **Windows** (x86_64): `\"path/to/Reacher_Windows_x86_64/Reacher.exe\"`\n",
    "- **Linux** (x86): `\"path/to/Reacher_Linux/Reacher.x86\"`\n",
    "- **Linux** (x86_64): `\"path/to/Reacher_Linux/Reacher.x86_64\"`\n",
    "- **Linux** (x86, headless): `\"path/to/Reacher_Linux_NoVis/Reacher.x86\"`\n",
    "- **Linux** (x86_64, headless): `\"path/to/Reacher_Linux_NoVis/Reacher.x86_64\"`\n",
    "\n",
    "For instance, if you are using a Mac, then you downloaded `Reacher.app`.  If this file is in the same folder as the notebook, then the line below should appear as follows:\n",
    "```\n",
    "env = UnityEnvironment(file_name=\"Reacher.app\")\n",
    "```"
   ]
  },
  {
   "cell_type": "code",
   "execution_count": 2,
   "metadata": {},
   "outputs": [
    {
     "name": "stderr",
     "output_type": "stream",
     "text": [
      "INFO:unityagents:\n",
      "'Academy' started successfully!\n",
      "Unity Academy name: Academy\n",
      "        Number of Brains: 1\n",
      "        Number of External Brains : 1\n",
      "        Lesson number : 0\n",
      "        Reset Parameters :\n",
      "\t\tgoal_speed -> 1.0\n",
      "\t\tgoal_size -> 5.0\n",
      "Unity brain name: ReacherBrain\n",
      "        Number of Visual Observations (per agent): 0\n",
      "        Vector Observation space type: continuous\n",
      "        Vector Observation space size (per agent): 33\n",
      "        Number of stacked Vector Observation: 1\n",
      "        Vector Action space type: continuous\n",
      "        Vector Action space size (per agent): 4\n",
      "        Vector Action descriptions: , , , \n"
     ]
    }
   ],
   "source": [
    "# ONE Agent, Standalone\n",
    "#UENVCHOICE = 'Reacher_Linux/Reacher.x86_64'\n",
    "\n",
    "# TWENTY Agents, Standalone\n",
    "#UENVCHOICE = 'Reacher_Linux_20/Reacher.x86_64'\n",
    "\n",
    "# ONE Agent, Cloud, No-Visuals \n",
    "#UENVCHOICE = 'Reacher_One_Linux_NoVis/Reacher_One_Linux_NoVis.x86_64'\n",
    "\n",
    "# TWENTY Agents, Cloud, No-Visuals \n",
    "UENVCHOICE = 'Reacher_Linux_NoVis/Reacher.x86_64'\n",
    "\n",
    "env = UnityEnvironment( file_name=os.path.join( UENVPATH, UENVCHOICE ) )\n",
    "\n",
    "\n"
   ]
  },
  {
   "cell_type": "markdown",
   "metadata": {},
   "source": [
    "Environments contain **_brains_** which are responsible for deciding the actions of their associated agents. Here we check for the first brain available, and set it as the default brain we will be controlling from Python."
   ]
  },
  {
   "cell_type": "code",
   "execution_count": 3,
   "metadata": {},
   "outputs": [],
   "source": [
    "# get the default brain\n",
    "brain_name = env.brain_names[0]\n",
    "brain = env.brains[brain_name]"
   ]
  },
  {
   "cell_type": "markdown",
   "metadata": {},
   "source": [
    "### 2. Examine the State and Action Spaces\n",
    "\n",
    "In this environment, a double-jointed arm can move to target locations. A reward of `+0.1` is provided for each step that the agent's hand is in the goal location. Thus, the goal of your agent is to maintain its position at the target location for as many time steps as possible.\n",
    "\n",
    "The observation space consists of `33` variables corresponding to position, rotation, velocity, and angular velocities of the arm.  Each action is a vector with four numbers, corresponding to torque applicable to two joints.  Every entry in the action vector must be a number between `-1` and `1`.\n",
    "\n",
    "Run the code cell below to print some information about the environment."
   ]
  },
  {
   "cell_type": "code",
   "execution_count": 4,
   "metadata": {},
   "outputs": [
    {
     "name": "stdout",
     "output_type": "stream",
     "text": [
      "Number of agents: 20\n",
      "Size of each action: 4\n",
      "There are 20 agents. Each observes a state with length: 33\n",
      "The state for the first agent looks like: [  0.00000000e+00  -4.00000000e+00   0.00000000e+00   1.00000000e+00\n",
      "  -0.00000000e+00  -0.00000000e+00  -4.37113883e-08   0.00000000e+00\n",
      "   0.00000000e+00   0.00000000e+00   0.00000000e+00   0.00000000e+00\n",
      "   0.00000000e+00   0.00000000e+00  -1.00000000e+01   0.00000000e+00\n",
      "   1.00000000e+00  -0.00000000e+00  -0.00000000e+00  -4.37113883e-08\n",
      "   0.00000000e+00   0.00000000e+00   0.00000000e+00   0.00000000e+00\n",
      "   0.00000000e+00   0.00000000e+00   5.75471878e+00  -1.00000000e+00\n",
      "   5.55726624e+00   0.00000000e+00   1.00000000e+00   0.00000000e+00\n",
      "  -1.68164849e-01]\n"
     ]
    }
   ],
   "source": [
    "# reset the environment\n",
    "env_info = env.reset(train_mode=True)[brain_name]\n",
    "\n",
    "# number of agents\n",
    "num_agents = len(env_info.agents)\n",
    "print('Number of agents:', num_agents)\n",
    "\n",
    "# size of each action\n",
    "action_size = brain.vector_action_space_size\n",
    "print('Size of each action:', action_size)\n",
    "\n",
    "# examine the state space \n",
    "states = env_info.vector_observations\n",
    "state_size = states.shape[1]\n",
    "print('There are {} agents. Each observes a state with length: {}'.format(states.shape[0], state_size))\n",
    "print('The state for the first agent looks like:', states[0])"
   ]
  },
  {
   "cell_type": "markdown",
   "metadata": {},
   "source": [
    "### 3. Take Random Actions in the Environment\n",
    "\n",
    "In the next code cell, you will learn how to use the Python API to control the agent and receive feedback from the environment.\n",
    "\n",
    "Once this cell is executed, you will watch the agent's performance, if it selects an action at random with each time step.  A window should pop up that allows you to observe the agent, as it moves through the environment.  \n",
    "\n",
    "Of course, as part of the project, you'll have to change the code so that the agent is able to use its experience to gradually choose better actions when interacting with the environment!"
   ]
  },
  {
   "cell_type": "code",
   "execution_count": 5,
   "metadata": {},
   "outputs": [
    {
     "name": "stdout",
     "output_type": "stream",
     "text": [
      "We have 20 active agents\n",
      "#    64  -> Agent 14 got reward +0.03000 for action: [ 1.         -0.46137788  0.82985419 -0.68062647]\n",
      "#    65  -> Agent 14 got reward +0.04000 for action: [ 0.35396748 -1.         -1.          0.66830898]\n",
      "#    66  -> Agent 14 got reward +0.04000 for action: [ 0.61220454  1.          0.45361238 -1.        ]\n",
      "#    67  -> Agent 14 got reward +0.04000 for action: [-1.         -0.15532803 -1.          1.        ]\n",
      "#    68  -> Agent 14 got reward +0.04000 for action: [-0.28706935  0.83247231 -1.         -0.50379324]\n",
      "#    69  -> Agent 14 got reward +0.04000 for action: [-0.23487984 -0.11919228  0.58915591  0.21552723]\n",
      "#    70  -> Agent 14 got reward +0.04000 for action: [-0.62836415  1.          1.          1.        ]\n",
      "#    71  -> Agent 14 got reward +0.04000 for action: [-1.          0.4488626   0.52888033 -0.92211183]\n",
      "#    72  -> Agent 14 got reward +0.04000 for action: [-0.38310424  1.         -0.21353847  1.        ]\n",
      "#    73  -> Agent 14 got reward +0.04000 for action: [ 1.          0.4415358   0.13510782  0.6025494 ]\n",
      "#    74  -> Agent 14 got reward +0.04000 for action: [ 0.22301966 -0.31621068 -0.02844687 -0.22921703]\n",
      "#    75  -> Agent 14 got reward +0.04000 for action: [-1.        -0.3265404 -1.        -1.       ]\n",
      "#    76  -> Agent 14 got reward +0.04000 for action: [-1.          0.25788449  0.71975119 -0.92351052]\n",
      "#    77  -> Agent 14 got reward +0.04000 for action: [-0.34155576 -0.70007706 -0.66848148 -1.        ]\n",
      "#    78  -> Agent 14 got reward +0.04000 for action: [ 1.         -1.          0.42629173 -0.16262673]\n",
      "#    79  -> Agent 14 got reward +0.04000 for action: [ 1.          1.         -1.          0.42179847]\n",
      "#    80  -> Agent 14 got reward +0.04000 for action: [ 0.14275522 -0.2497023  -1.          0.2538915 ]\n",
      "#    81  -> Agent 14 got reward +0.04000 for action: [ 1.          0.41274361 -0.77308298  0.31454524]\n",
      "#    82  -> Agent 14 got reward +0.04000 for action: [ 1.         -0.19425656 -0.91813454  0.62566579]\n",
      "#    83  -> Agent 14 got reward +0.04000 for action: [-1.         -1.          0.73547747 -0.39072314]\n",
      "#    84  -> Agent 14 got reward +0.04000 for action: [ 0.13361402  0.96183059 -0.53542706  0.81428021]\n",
      "#    85  -> Agent 14 got reward +0.04000 for action: [ 0.5904753  1.        -1.         1.       ]\n",
      "#   105  -> Agent 08 got reward +0.04000 for action: [ 1.          0.61298182 -0.0402148  -0.18773472]\n",
      "#   106  -> Agent 08 got reward +0.02000 for action: [  1.18144363e-01  -7.04908016e-01  -1.03904053e-05  -1.00000000e+00]\n",
      "#   156  -> Agent 17 got reward +0.01000 for action: [-1.          1.         -0.50621144 -0.16865979]\n",
      "#   157  -> Agent 17 got reward +0.04000 for action: [ 0.47175175  1.          1.          0.59223714]\n",
      "#   158  -> Agent 17 got reward +0.04000 for action: [-1.          0.64563879 -0.62081167  1.        ]\n",
      "#   459  -> Agent 14 got reward +0.02000 for action: [ 1.         -1.         -0.08536065  0.1302455 ]\n",
      "#   460  -> Agent 14 got reward +0.04000 for action: [-0.84394524  0.29150021 -0.71756448  0.5141825 ]\n",
      "#   461  -> Agent 14 got reward +0.04000 for action: [-0.57895667 -0.70548203 -0.74859437  1.        ]\n",
      "#   462  -> Agent 14 got reward +0.04000 for action: [-0.21492559 -0.74438237  1.         -0.93064587]\n",
      "#   463  -> Agent 14 got reward +0.04000 for action: [-0.63287562 -1.         -1.         -0.58142085]\n",
      "#   464  -> Agent 14 got reward +0.04000 for action: [ 0.10223303  0.98615859  1.         -0.83121604]\n",
      "#   465  -> Agent 14 got reward +0.04000 for action: [ 1.         -0.33877383  0.68887918 -0.71470762]\n",
      "#   466  -> Agent 14 got reward +0.04000 for action: [ 1.         -0.42801676 -0.7298974  -0.63985122]\n",
      "#   467  -> Agent 14 got reward +0.04000 for action: [ 0.78531051  0.08431502  0.51811915  0.54915148]\n",
      "#   468  -> Agent 14 got reward +0.03000 for action: [-0.84520917  0.77601692 -1.          0.34493148]\n",
      "#   555  -> Agent 16 got reward +0.03000 for action: [-0.07609435 -1.         -1.         -0.41995967]\n",
      "#   556  -> Agent 16 got reward +0.04000 for action: [ 1.          0.42283149 -0.45760824  1.        ]\n",
      "#   557  -> Agent 16 got reward +0.04000 for action: [-1.         -0.26138625  0.94414742 -1.        ]\n",
      "#   558  -> Agent 16 got reward +0.04000 for action: [ 1.          1.         -0.88722674  1.        ]\n",
      "#   559  -> Agent 16 got reward +0.04000 for action: [-0.15736322  0.03836815 -0.42266291 -1.        ]\n",
      "#   560  -> Agent 16 got reward +0.04000 for action: [ 1. -1. -1.  1.]\n",
      "#   561  -> Agent 16 got reward +0.04000 for action: [-0.32585283  1.         -1.         -0.02177903]\n",
      "#   562  -> Agent 16 got reward +0.04000 for action: [-0.41387426  0.91525638  0.98834477  1.        ]\n",
      "#   563  -> Agent 16 got reward +0.01000 for action: [-0.59670965  0.42004174  1.          0.60581081]\n",
      "#   619  -> Agent 20 got reward +0.02000 for action: [ 0.35732996 -0.87966905  0.11259751 -1.        ]\n",
      "#   620  -> Agent 20 got reward +0.04000 for action: [-0.37354518  0.77450655  0.1849252  -1.        ]\n",
      "#   621  -> Agent 20 got reward +0.02000 for action: [ 0.68722021  0.15891784  1.          1.        ]\n",
      "#   697  -> Agent 09 got reward +0.04000 for action: [ 1.          0.43451715  0.79213261  1.        ]\n",
      "#   698  -> Agent 09 got reward +0.04000 for action: [ 0.38094146 -0.68819565 -0.80139808 -0.14498656]\n",
      "#   699  -> Agent 09 got reward +0.04000 for action: [ 1.         -0.07542418  1.         -0.59876112]\n",
      "#   700  -> Agent 09 got reward +0.04000 for action: [ 0.4318017   0.16025886  1.          0.85347657]\n",
      "#   701  -> Agent 09 got reward +0.04000 for action: [ 0.22925976 -1.          0.37800343  0.96312174]\n",
      "#   702  -> Agent 09 got reward +0.04000 for action: [-1.         -0.72466097  0.34599116 -0.62613818]\n",
      "#   703  -> Agent 09 got reward +0.04000 for action: [ 0.47678233 -1.          0.13595588  0.95029105]\n",
      "#   704  -> Agent 09 got reward +0.04000 for action: [ 0.19714838  0.97241715  1.         -0.41329975]\n",
      "#   705  -> Agent 09 got reward +0.04000 for action: [-0.41727217 -0.10617235  0.02477848 -1.        ]\n",
      "#   706  -> Agent 09 got reward +0.04000 for action: [ 0.00238424 -0.51209409  0.22984151 -0.87358561]\n",
      "#   707  -> Agent 09 got reward +0.04000 for action: [-0.09665268 -0.24481315 -1.         -0.7843093 ]\n",
      "#   708  -> Agent 09 got reward +0.04000 for action: [-1.         -0.15159125 -1.         -0.09766918]\n",
      "#   709  -> Agent 09 got reward +0.04000 for action: [-0.89376102  0.48332564  0.75929048  0.40166387]\n",
      "#   710  -> Agent 09 got reward +0.04000 for action: [ 1.         -0.90434216  0.16962405 -0.70811884]\n",
      "#   711  -> Agent 09 got reward +0.04000 for action: [-0.51744868 -0.10293734  0.73860123  1.        ]\n",
      "#   712  -> Agent 09 got reward +0.04000 for action: [-0.31742321  1.          0.42437089 -0.44317033]\n",
      "#   713  -> Agent 09 got reward +0.04000 for action: [ 0.39094829 -1.         -0.26358826 -0.27246444]\n",
      "#   714  -> Agent 09 got reward +0.04000 for action: [-1.         -0.00916569  0.91357039 -0.53992855]\n",
      "#   715  -> Agent 09 got reward +0.04000 for action: [-1.         -1.          0.32622458 -0.93875234]\n",
      "#   716  -> Agent 09 got reward +0.02000 for action: [-0.69120375  0.79195856 -1.         -0.40137881]\n",
      "#   747  -> Agent 19 got reward +0.02000 for action: [-0.68073525 -0.16428205 -0.21681833  0.60370357]\n",
      "#   748  -> Agent 19 got reward +0.04000 for action: [ 0.5351241   0.06678753 -0.3828738   0.54813442]\n",
      "#   749  -> Agent 19 got reward +0.04000 for action: [-1.         -0.30244211 -0.47570131  1.        ]\n",
      "#   750  -> Agent 19 got reward +0.04000 for action: [ 1.         -1.         -0.97617684 -1.        ]\n",
      "#   751  -> Agent 19 got reward +0.04000 for action: [-0.17991121  0.41997565 -0.76485265 -0.55202754]\n",
      "#   752  -> Agent 19 got reward +0.04000 for action: [-1.          0.74462725 -1.          0.78607609]\n",
      "#   753  -> Agent 19 got reward +0.04000 for action: [-0.49567982  0.14383529  0.8261427  -0.71694633]\n",
      "#   754  -> Agent 19 got reward +0.04000 for action: [ 1.         -0.20332599  0.1239062   0.74076663]\n",
      "#   755  -> Agent 19 got reward +0.04000 for action: [-0.6925195  -0.04155176 -1.          0.96343982]\n",
      "#   756  -> Agent 19 got reward +0.04000 for action: [ 0.32831672 -0.21283376  0.25116737 -1.        ]\n",
      "#   757  -> Agent 19 got reward +0.04000 for action: [ 0.1642628  -1.          0.21811054  0.50698856]\n"
     ]
    },
    {
     "name": "stdout",
     "output_type": "stream",
     "text": [
      "#   758  -> Agent 19 got reward +0.04000 for action: [ 0.77634839 -1.          1.          1.        ]\n",
      "#   759  -> Agent 19 got reward +0.04000 for action: [ 0.74512104  1.         -0.4235025   1.        ]\n",
      "#   760  -> Agent 19 got reward +0.04000 for action: [ 0.42986912  0.64083988  0.11075885 -0.61032373]\n",
      "#   947  -> Agent 19 got reward +0.01000 for action: [-0.00516911 -0.10347318  0.44438629  0.30246946]\n",
      "#   948  -> Agent 19 got reward +0.04000 for action: [-0.18659348  0.6182984   0.64798853 -0.82046712]\n",
      "#   949  -> Agent 19 got reward +0.04000 for action: [ 0.70715001  1.          0.66578586  0.75973725]\n",
      "#   950  -> Agent 19 got reward +0.04000 for action: [-1.          0.41286981  0.14153939  1.        ]\n",
      "#   951  -> Agent 19 got reward +0.04000 for action: [-0.11041687 -0.11245796  1.          0.37989031]\n",
      "#   952  -> Agent 19 got reward +0.01000 for action: [ 0.72573025 -1.          1.         -1.        ]\n",
      "#  1001 #\n",
      "Total score (averaged over agents) this episode: 0.16449999632313847\n"
     ]
    }
   ],
   "source": [
    "# Some reminders about lambda functions\n",
    "# Thx2: https://realpython.com/python-lambda/\n",
    "# Thx2: https://thispointer.com/python-how-to-use-if-else-elif-in-lambda-functions/\n",
    "\n",
    "\n",
    "env_info = env.reset(train_mode=False)[brain_name]     # reset the environment    \n",
    "states = env_info.vector_observations                  # get the current state (for each agent)\n",
    "scores = np.zeros(num_agents)                          # initialize the score (for each agent)\n",
    "\n",
    "epc = 0\n",
    "print(f'We have {num_agents} active agent' + ( lambda x: 's' if x>1 else '' )(num_agents) )\n",
    "\n",
    "while True:\n",
    "    epc += 1\n",
    "    #print(f'\\r#{epc}', end = ' ')\n",
    "    print(f'\\r#{str(epc).rjust(6)}', end = ' ')\n",
    "    actions = np.random.randn(num_agents, action_size) # select an action (for each agent)\n",
    "    actions = np.clip(actions, -1, 1)                  # all actions between -1 and 1\n",
    "    env_info = env.step(actions)[brain_name]           # send all actions to tne environment\n",
    "    next_states = env_info.vector_observations         # get next state (for each agent)\n",
    "    rewards = env_info.rewards                         # get reward (for each agent)\n",
    "    dones = env_info.local_done                        # see if episode finished\n",
    "    rewards = env_info.rewards\n",
    "    nprewards = np.array(rewards)\n",
    "    scores += rewards                         # update the score (for each agent)\n",
    "    if np.sum(nprewards) > 0:\n",
    "        #print(f'\\r#{epc} Rewards = {rewards}')\n",
    "        maskagent = nprewards > 0\n",
    "        agentbefore = False\n",
    "        for (nagent, action) in enumerate(actions):\n",
    "            if maskagent[nagent]:\n",
    "                if agentbefore:\n",
    "                    print('\\r#' + '&'.rjust(6), end = ' ')\n",
    "                print(' -> Agent {:0>2d} got reward {:+.5f} for action: {}'.format(nagent+1, rewards[nagent], action))\n",
    "                agentbefore = True\n",
    "                #pp.pprint(list(action))\n",
    "    states = next_states                               # roll over states to next time step\n",
    "    if np.any(dones):                                  # exit loop if episode finished\n",
    "        break\n",
    "print('#')\n",
    "print('Total score (averaged over agents) this episode: {}'.format(np.mean(scores)))"
   ]
  },
  {
   "cell_type": "markdown",
   "metadata": {},
   "source": [
    "### When finished, you can close the environment."
   ]
  },
  {
   "cell_type": "code",
   "execution_count": 6,
   "metadata": {},
   "outputs": [],
   "source": [
    "env.close()"
   ]
  },
  {
   "cell_type": "markdown",
   "metadata": {},
   "source": [
    "### 4. It's Your Turn!\n",
    "\n",
    "Now it's your turn to train your own agent to solve the environment!  When training the environment, set `train_mode=True`, so that the line for resetting the environment looks like the following:\n",
    "```python\n",
    "env_info = env.reset(train_mode=True)[brain_name]\n",
    "```"
   ]
  },
  {
   "cell_type": "markdown",
   "metadata": {},
   "source": [
    "#### Tracing the error in the 'mya2cnet' module code refactoring below"
   ]
  },
  {
   "cell_type": "code",
   "execution_count": 7,
   "metadata": {},
   "outputs": [],
   "source": [
    "# TEST! TEST! TEST! TEST! TEST! TEST! TEST! TEST! TEST! TEST! TEST! TEST! TEST! TEST! \n",
    "#import pdb; pdb.set_trace()\n",
    "\n",
    "import torch\n",
    "import torch.nn as nn\n",
    "import torch.nn.functional as F\n",
    "\n",
    "torch.manual_seed(20200808) # Debug! Debug! Debug! Debug! Debug! Debug! Debug! Debug!\n",
    "\n",
    "# Format: IN_Num [Layer 1] (OUT_Num = IN_Num) [Layer 2] OUT_Num = ...\n",
    "HIDDEN_DIMS_DEFAULT = {\n",
    "    'shared' : (512, 512, 256, 256),\n",
    "    'actor' : (256, 128, 128, 64),\n",
    "    'critic' : (256, 128, 128, 64)\n",
    "}\n",
    "hidden_dims = HIDDEN_DIMS_DEFAULT\n",
    "\n",
    "hlayers = dict()\n",
    "\n",
    "hlayers['shared'] = nn.ModuleList()\n",
    "hlayers['actor'] = nn.ModuleList()\n",
    "hlayers['critic'] = nn.ModuleList()\n",
    "\n",
    "\n"
   ]
  },
  {
   "cell_type": "code",
   "execution_count": 8,
   "metadata": {},
   "outputs": [],
   "source": [
    "# Input layer\n",
    "input_layer = nn.Linear( 33, hidden_dims['shared'][0] )"
   ]
  },
  {
   "cell_type": "code",
   "execution_count": 9,
   "metadata": {},
   "outputs": [
    {
     "data": {
      "text/plain": [
       "Linear(in_features=33, out_features=512, bias=True)"
      ]
     },
     "execution_count": 9,
     "metadata": {},
     "output_type": "execute_result"
    }
   ],
   "source": [
    "input_layer"
   ]
  },
  {
   "cell_type": "code",
   "execution_count": 10,
   "metadata": {},
   "outputs": [],
   "source": [
    "# Hidden layers shared\n",
    "for i in range( len(hidden_dims['shared']) -1 ):\n",
    "    hlayers['shared'].append( nn.Linear( hidden_dims['shared'][i], hidden_dims['shared'][i+1] ) )"
   ]
  },
  {
   "cell_type": "code",
   "execution_count": 11,
   "metadata": {},
   "outputs": [
    {
     "data": {
      "text/plain": [
       "ModuleList(\n",
       "  (0): Linear(in_features=512, out_features=512, bias=True)\n",
       "  (1): Linear(in_features=512, out_features=256, bias=True)\n",
       "  (2): Linear(in_features=256, out_features=256, bias=True)\n",
       ")"
      ]
     },
     "execution_count": 11,
     "metadata": {},
     "output_type": "execute_result"
    }
   ],
   "source": [
    "hlayers['shared']"
   ]
  },
  {
   "cell_type": "code",
   "execution_count": 12,
   "metadata": {},
   "outputs": [],
   "source": [
    "# Actor layers\n",
    "for i in range( len(hidden_dims['actor']) ):\n",
    "    #import pdb; pdb.set_trace() # Debug! Debug! Debug! Debug! Debug! Debug! Debug! Debug!\n",
    "    if i == 0:\n",
    "        hlayers['actor'].append( nn.Linear( hidden_dims['shared'][-1], hidden_dims['actor'][i] ) )\n",
    "    else:\n",
    "        # hlayers['actor'].append( nn.Linear( hidden_dims['actor'][i], hidden_dims['actor'][i+1] ERROR !!!\n",
    "        hlayers['actor'].append( nn.Linear( hidden_dims['actor'][i-1], hidden_dims['actor'][i] ) )\n",
    "    #print( i, hlayers['actor'] ) # Debug! Debug! Debug! Debug! Debug! Debug! Debug! Debug!\n",
    "        \n",
    "actor_out_layer = nn.Linear( hidden_dims['actor'][-1], 4 )"
   ]
  },
  {
   "cell_type": "code",
   "execution_count": 13,
   "metadata": {},
   "outputs": [
    {
     "data": {
      "text/plain": [
       "ModuleList(\n",
       "  (0): Linear(in_features=256, out_features=256, bias=True)\n",
       "  (1): Linear(in_features=256, out_features=128, bias=True)\n",
       "  (2): Linear(in_features=128, out_features=128, bias=True)\n",
       "  (3): Linear(in_features=128, out_features=64, bias=True)\n",
       ")"
      ]
     },
     "execution_count": 13,
     "metadata": {},
     "output_type": "execute_result"
    }
   ],
   "source": [
    "hlayers['actor']"
   ]
  },
  {
   "cell_type": "code",
   "execution_count": 14,
   "metadata": {},
   "outputs": [
    {
     "data": {
      "text/plain": [
       "Linear(in_features=64, out_features=4, bias=True)"
      ]
     },
     "execution_count": 14,
     "metadata": {},
     "output_type": "execute_result"
    }
   ],
   "source": [
    "actor_out_layer"
   ]
  },
  {
   "cell_type": "code",
   "execution_count": 15,
   "metadata": {},
   "outputs": [],
   "source": [
    "#Critic layers\n",
    "for i in range( len(hidden_dims['critic']) ):\n",
    "    if i == 0:\n",
    "        hlayers['critic'].append( nn.Linear( hidden_dims['shared'][-1], hidden_dims['critic'][i] ) )\n",
    "    else:\n",
    "        hlayers['critic'].append( nn.Linear( hidden_dims['critic'][i-1], hidden_dims['critic'][i] ) )\n",
    "critic_out_layer = nn.Linear( hidden_dims['critic'][-1], 1 )"
   ]
  },
  {
   "cell_type": "code",
   "execution_count": 16,
   "metadata": {},
   "outputs": [
    {
     "data": {
      "text/plain": [
       "ModuleList(\n",
       "  (0): Linear(in_features=256, out_features=256, bias=True)\n",
       "  (1): Linear(in_features=256, out_features=128, bias=True)\n",
       "  (2): Linear(in_features=128, out_features=128, bias=True)\n",
       "  (3): Linear(in_features=128, out_features=64, bias=True)\n",
       ")"
      ]
     },
     "execution_count": 16,
     "metadata": {},
     "output_type": "execute_result"
    }
   ],
   "source": [
    "hlayers['critic']"
   ]
  },
  {
   "cell_type": "code",
   "execution_count": 17,
   "metadata": {},
   "outputs": [
    {
     "data": {
      "text/plain": [
       "Linear(in_features=64, out_features=1, bias=True)"
      ]
     },
     "execution_count": 17,
     "metadata": {},
     "output_type": "execute_result"
    }
   ],
   "source": [
    "critic_out_layer"
   ]
  },
  {
   "cell_type": "code",
   "execution_count": 18,
   "metadata": {},
   "outputs": [],
   "source": [
    "# Prevents non Pytorch Tensor Object entering the processing stream\n",
    "def torch_format(state):\n",
    "    x = state\n",
    "    if not isinstance(x, torch.Tensor):\n",
    "        x = torch.tensor(x, dtype=torch.float32)\n",
    "        if len(x.size()) == 1:\n",
    "            x = x.unsqueeze(0)\n",
    "    return x"
   ]
  },
  {
   "cell_type": "code",
   "execution_count": 19,
   "metadata": {},
   "outputs": [],
   "source": [
    "def forward(state):\n",
    "    check_tensor = lambda x: isinstance(x, torch.Tensor)\n",
    "    x_act = True \n",
    "    x_crit = True\n",
    "\n",
    "    x = torch_format(state)\n",
    "    x = F.relu(  input_layer(x) )\n",
    "    for label in ['shared', 'actor', 'critic']:\n",
    "        for hlayer in  hlayers[label]:\n",
    "            if label == 'shared':\n",
    "                x = F.relu(  hlayer(x) )\n",
    "            if label == 'actor':\n",
    "                x_act = F.relu(  hlayer(x_act) )\n",
    "            if label == 'critic':\n",
    "                x_crit = F.relu(  hlayer(x_crit) )\n",
    "\n",
    "        # Thx2: https://discuss.pytorch.org/t/copy-deepcopy-vs-clone/55022\n",
    "        if ( type(x_act) == bool ):\n",
    "            x_act = x.clone()  # Create an Inplace copy...\n",
    "        if ( type(x_crit) == bool ):\n",
    "            x_crit = x.clone() # ...after processing shared layers\n",
    "\n",
    "    return  actor_out_layer(x_act),  critic_out_layer(x_crit) "
   ]
  },
  {
   "cell_type": "markdown",
   "metadata": {},
   "source": [
    "#### Test if states are propagated through the debug network"
   ]
  },
  {
   "cell_type": "code",
   "execution_count": 20,
   "metadata": {},
   "outputs": [
    {
     "name": "stdout",
     "output_type": "stream",
     "text": [
      "(1) -> Actor: tensor(1.00000e-02 *\n",
      "       [[ 4.6543,  4.9756, -4.4953,  4.2128]])\n",
      "(1) -> Critic: tensor(1.00000e-02 *\n",
      "       [[ 4.7572]])\n",
      "(2) -> Actor: tensor(1.00000e-02 *\n",
      "       [[ 4.7037,  4.9775, -4.4215,  4.1041]])\n",
      "(2) -> Critic: tensor(1.00000e-02 *\n",
      "       [[ 4.8767]])\n",
      "(3) -> Actor: tensor(1.00000e-02 *\n",
      "       [[ 4.7006,  4.9798, -4.4235,  4.1018]])\n",
      "(3) -> Critic: tensor(1.00000e-02 *\n",
      "       [[ 4.8752]])\n",
      "(4) -> Actor: tensor(1.00000e-02 *\n",
      "       [[ 4.6981,  4.9901, -4.3603,  4.1175]])\n",
      "(4) -> Critic: tensor(1.00000e-02 *\n",
      "       [[ 4.8696]])\n",
      "(5) -> Actor: tensor(1.00000e-02 *\n",
      "       [[ 4.7117,  4.9911, -4.4272,  4.1191]])\n",
      "(5) -> Critic: tensor(1.00000e-02 *\n",
      "       [[ 4.8610]])\n",
      "(6) -> Actor: tensor(1.00000e-02 *\n",
      "       [[ 4.6864,  4.9768, -4.4898,  4.2664]])\n",
      "(6) -> Critic: tensor(1.00000e-02 *\n",
      "       [[ 4.7746]])\n",
      "(7) -> Actor: tensor(1.00000e-02 *\n",
      "       [[ 4.7017,  5.0059, -4.4374,  4.2481]])\n",
      "(7) -> Critic: tensor(1.00000e-02 *\n",
      "       [[ 4.8414]])\n",
      "(8) -> Actor: tensor(1.00000e-02 *\n",
      "       [[ 4.7107,  4.9870, -4.4269,  4.1114]])\n",
      "(8) -> Critic: tensor(1.00000e-02 *\n",
      "       [[ 4.8706]])\n",
      "(9) -> Actor: tensor(1.00000e-02 *\n",
      "       [[ 4.6985,  4.9721, -4.4752,  4.2727]])\n",
      "(9) -> Critic: tensor(1.00000e-02 *\n",
      "       [[ 4.8107]])\n",
      "(10) -> Actor: tensor(1.00000e-02 *\n",
      "       [[ 4.6935,  5.0025, -4.4124,  4.2141]])\n",
      "(10) -> Critic: tensor(1.00000e-02 *\n",
      "       [[ 4.8393]])\n",
      "(11) -> Actor: tensor(1.00000e-02 *\n",
      "       [[ 4.7007,  4.9718, -4.3907,  4.1061]])\n",
      "(11) -> Critic: tensor(1.00000e-02 *\n",
      "       [[ 4.8479]])\n",
      "(12) -> Actor: tensor(1.00000e-02 *\n",
      "       [[ 4.6997,  4.9750, -4.4772,  4.2800]])\n",
      "(12) -> Critic: tensor(1.00000e-02 *\n",
      "       [[ 4.8147]])\n",
      "(13) -> Actor: tensor(1.00000e-02 *\n",
      "       [[ 4.6790,  4.9917, -4.4376,  4.1197]])\n",
      "(13) -> Critic: tensor(1.00000e-02 *\n",
      "       [[ 4.8553]])\n",
      "(14) -> Actor: tensor(1.00000e-02 *\n",
      "       [[ 4.6685,  4.9951, -4.4505,  4.1421]])\n",
      "(14) -> Critic: tensor(1.00000e-02 *\n",
      "       [[ 4.8110]])\n",
      "(15) -> Actor: tensor(1.00000e-02 *\n",
      "       [[ 4.6763,  4.9944, -4.4406,  4.1248]])\n",
      "(15) -> Critic: tensor(1.00000e-02 *\n",
      "       [[ 4.8488]])\n",
      "(16) -> Actor: tensor(1.00000e-02 *\n",
      "       [[ 4.6967,  4.9936, -4.3724,  4.1618]])\n",
      "(16) -> Critic: tensor(1.00000e-02 *\n",
      "       [[ 4.8638]])\n",
      "(17) -> Actor: tensor(1.00000e-02 *\n",
      "       [[ 4.7116,  4.9925, -4.4258,  4.1176]])\n",
      "(17) -> Critic: tensor(1.00000e-02 *\n",
      "       [[ 4.8612]])\n",
      "(18) -> Actor: tensor(1.00000e-02 *\n",
      "       [[ 4.7030,  4.9784, -4.4800,  4.2864]])\n",
      "(18) -> Critic: tensor(1.00000e-02 *\n",
      "       [[ 4.8194]])\n",
      "(19) -> Actor: tensor(1.00000e-02 *\n",
      "       [[ 4.7116,  4.9804, -4.4134,  4.1002]])\n",
      "(19) -> Critic: tensor(1.00000e-02 *\n",
      "       [[ 4.8508]])\n",
      "(20) -> Actor: tensor(1.00000e-02 *\n",
      "       [[ 4.6749,  4.9665, -4.4912,  4.2393]])\n",
      "(20) -> Critic: tensor(1.00000e-02 *\n",
      "       [[ 4.7676]])\n"
     ]
    }
   ],
   "source": [
    "al = []\n",
    "bl = []\n",
    "\n",
    "for (dc, st) in enumerate(states):\n",
    "    a,b = forward(st)\n",
    "    al.append(a)\n",
    "    bl.append(b)\n",
    "    print(f'({dc+1}) -> Actor: {a}')\n",
    "    print(f'({dc+1}) -> Critic: {b}')\n",
    "    "
   ]
  },
  {
   "cell_type": "markdown",
   "metadata": {},
   "source": [
    "#### Test if states are propagated through the imported network"
   ]
  },
  {
   "cell_type": "code",
   "execution_count": 21,
   "metadata": {},
   "outputs": [],
   "source": [
    "#from mya2cnet import A2CNetwork\n",
    "import mya2cnet\n",
    "\n",
    "# Thx2: https://emacs.stackexchange.com/a/13483\n",
    "import imp\n",
    "imp.reload(mya2cnet)\n",
    "\n",
    "tstnet1 = mya2cnet.A2CNetwork(33, 4)\n",
    "tstnet2 = mya2cnet.A2CNetwork(33, 4)"
   ]
  },
  {
   "cell_type": "code",
   "execution_count": 22,
   "metadata": {},
   "outputs": [
    {
     "name": "stdout",
     "output_type": "stream",
     "text": [
      "(1) -> Dist. Actor 1-2: 0.0                        #                         Dist. Actor 1-Notebook 0.0\n",
      "(1) -> Dist. Critic 1-2: 0.0                       #                        Dist. Critic 1-Notebook 0.0\n",
      "(2) -> Dist. Actor 1-2: 0.0                        #                         Dist. Actor 1-Notebook 0.0\n",
      "(2) -> Dist. Critic 1-2: 0.0                       #                        Dist. Critic 1-Notebook 0.0\n",
      "(3) -> Dist. Actor 1-2: 0.0                        #                         Dist. Actor 1-Notebook 0.0\n",
      "(3) -> Dist. Critic 1-2: 0.0                       #                        Dist. Critic 1-Notebook 0.0\n",
      "(4) -> Dist. Actor 1-2: 0.0                        #                         Dist. Actor 1-Notebook 0.0\n",
      "(4) -> Dist. Critic 1-2: 0.0                       #                        Dist. Critic 1-Notebook 0.0\n",
      "(5) -> Dist. Actor 1-2: 0.0                        #                         Dist. Actor 1-Notebook 0.0\n",
      "(5) -> Dist. Critic 1-2: 0.0                       #                        Dist. Critic 1-Notebook 0.0\n",
      "(6) -> Dist. Actor 1-2: 0.0                        #                         Dist. Actor 1-Notebook 0.0\n",
      "(6) -> Dist. Critic 1-2: 0.0                       #                        Dist. Critic 1-Notebook 0.0\n",
      "(7) -> Dist. Actor 1-2: 0.0                        #                         Dist. Actor 1-Notebook 0.0\n",
      "(7) -> Dist. Critic 1-2: 0.0                       #                        Dist. Critic 1-Notebook 0.0\n",
      "(8) -> Dist. Actor 1-2: 0.0                        #                         Dist. Actor 1-Notebook 0.0\n",
      "(8) -> Dist. Critic 1-2: 0.0                       #                        Dist. Critic 1-Notebook 0.0\n",
      "(9) -> Dist. Actor 1-2: 0.0                        #                         Dist. Actor 1-Notebook 0.0\n",
      "(9) -> Dist. Critic 1-2: 0.0                       #                        Dist. Critic 1-Notebook 0.0\n",
      "(10) -> Dist. Actor 1-2: 0.0                       #                         Dist. Actor 1-Notebook 0.0\n",
      "(10) -> Dist. Critic 1-2: 0.0                      #                        Dist. Critic 1-Notebook 0.0\n",
      "(11) -> Dist. Actor 1-2: 0.0                       #                         Dist. Actor 1-Notebook 0.0\n",
      "(11) -> Dist. Critic 1-2: 0.0                      #                        Dist. Critic 1-Notebook 0.0\n",
      "(12) -> Dist. Actor 1-2: 0.0                       #                         Dist. Actor 1-Notebook 0.0\n",
      "(12) -> Dist. Critic 1-2: 0.0                      #                        Dist. Critic 1-Notebook 0.0\n",
      "(13) -> Dist. Actor 1-2: 0.0                       #                         Dist. Actor 1-Notebook 0.0\n",
      "(13) -> Dist. Critic 1-2: 0.0                      #                        Dist. Critic 1-Notebook 0.0\n",
      "(14) -> Dist. Actor 1-2: 0.0                       #                         Dist. Actor 1-Notebook 0.0\n",
      "(14) -> Dist. Critic 1-2: 0.0                      #                        Dist. Critic 1-Notebook 0.0\n",
      "(15) -> Dist. Actor 1-2: 0.0                       #                         Dist. Actor 1-Notebook 0.0\n",
      "(15) -> Dist. Critic 1-2: 0.0                      #                        Dist. Critic 1-Notebook 0.0\n",
      "(16) -> Dist. Actor 1-2: 0.0                       #                         Dist. Actor 1-Notebook 0.0\n",
      "(16) -> Dist. Critic 1-2: 0.0                      #                        Dist. Critic 1-Notebook 0.0\n",
      "(17) -> Dist. Actor 1-2: 0.0                       #                         Dist. Actor 1-Notebook 0.0\n",
      "(17) -> Dist. Critic 1-2: 0.0                      #                        Dist. Critic 1-Notebook 0.0\n",
      "(18) -> Dist. Actor 1-2: 0.0                       #                         Dist. Actor 1-Notebook 0.0\n",
      "(18) -> Dist. Critic 1-2: 0.0                      #                        Dist. Critic 1-Notebook 0.0\n",
      "(19) -> Dist. Actor 1-2: 0.0                       #                         Dist. Actor 1-Notebook 0.0\n",
      "(19) -> Dist. Critic 1-2: 0.0                      #                        Dist. Critic 1-Notebook 0.0\n",
      "(20) -> Dist. Actor 1-2: 0.0                       #                         Dist. Actor 1-Notebook 0.0\n",
      "(20) -> Dist. Critic 1-2: 0.0                      #                        Dist. Critic 1-Notebook 0.0\n"
     ]
    }
   ],
   "source": [
    "for (dc, st) in enumerate(states):\n",
    "    #import pdb; pdb.set_trace() # Debug! Debug! Debug! Debug! Debug! Debug! Debug! Debug!\n",
    "    a1,b1 = tstnet1.forward(st)\n",
    "    a2,b2 = tstnet2.forward(st)\n",
    "    print(f'({dc+1}) -> Dist. Actor 1-2: {torch.dist(a1, a2)}'.ljust(50) + ' # ' +\\\n",
    "         f'Dist. Actor 1-Notebook {torch.dist(a1, al[dc])}'.rjust(50))\n",
    "    print(f'({dc+1}) -> Dist. Critic 1-2: {torch.dist(b1, b2)}'.ljust(50) + ' # ' +\\\n",
    "         f'Dist. Critic 1-Notebook {torch.dist(b1, bl[dc])}'.rjust(50))"
   ]
  },
  {
   "cell_type": "code",
   "execution_count": 23,
   "metadata": {},
   "outputs": [
    {
     "data": {
      "text/plain": [
       "{'shared': ModuleList(\n",
       "   (0): Linear(in_features=512, out_features=512, bias=True)\n",
       "   (1): Linear(in_features=512, out_features=256, bias=True)\n",
       "   (2): Linear(in_features=256, out_features=256, bias=True)\n",
       " ), 'actor': ModuleList(\n",
       "   (0): Linear(in_features=256, out_features=256, bias=True)\n",
       "   (1): Linear(in_features=256, out_features=128, bias=True)\n",
       "   (2): Linear(in_features=128, out_features=128, bias=True)\n",
       "   (3): Linear(in_features=128, out_features=64, bias=True)\n",
       " ), 'critic': ModuleList(\n",
       "   (0): Linear(in_features=256, out_features=256, bias=True)\n",
       "   (1): Linear(in_features=256, out_features=128, bias=True)\n",
       "   (2): Linear(in_features=128, out_features=128, bias=True)\n",
       "   (3): Linear(in_features=128, out_features=64, bias=True)\n",
       " )}"
      ]
     },
     "execution_count": 23,
     "metadata": {},
     "output_type": "execute_result"
    }
   ],
   "source": [
    "hlayers"
   ]
  },
  {
   "cell_type": "code",
   "execution_count": 24,
   "metadata": {},
   "outputs": [
    {
     "data": {
      "text/plain": [
       "{'shared': ModuleList(\n",
       "   (0): Linear(in_features=512, out_features=512, bias=True)\n",
       "   (1): Linear(in_features=512, out_features=256, bias=True)\n",
       "   (2): Linear(in_features=256, out_features=256, bias=True)\n",
       " ), 'actor': ModuleList(\n",
       "   (0): Linear(in_features=256, out_features=256, bias=True)\n",
       "   (1): Linear(in_features=256, out_features=128, bias=True)\n",
       "   (2): Linear(in_features=128, out_features=128, bias=True)\n",
       "   (3): Linear(in_features=128, out_features=64, bias=True)\n",
       " ), 'critic': ModuleList(\n",
       "   (0): Linear(in_features=256, out_features=256, bias=True)\n",
       "   (1): Linear(in_features=256, out_features=128, bias=True)\n",
       "   (2): Linear(in_features=128, out_features=128, bias=True)\n",
       "   (3): Linear(in_features=128, out_features=64, bias=True)\n",
       " )}"
      ]
     },
     "execution_count": 24,
     "metadata": {},
     "output_type": "execute_result"
    }
   ],
   "source": [
    "tstnet1.hlayers"
   ]
  },
  {
   "cell_type": "code",
   "execution_count": null,
   "metadata": {},
   "outputs": [],
   "source": []
  }
 ],
 "metadata": {
  "kernelspec": {
   "display_name": "Python 3",
   "language": "python",
   "name": "python3"
  },
  "language_info": {
   "codemirror_mode": {
    "name": "ipython",
    "version": 3
   },
   "file_extension": ".py",
   "mimetype": "text/x-python",
   "name": "python",
   "nbconvert_exporter": "python",
   "pygments_lexer": "ipython3",
   "version": "3.6.3"
  }
 },
 "nbformat": 4,
 "nbformat_minor": 4
}
