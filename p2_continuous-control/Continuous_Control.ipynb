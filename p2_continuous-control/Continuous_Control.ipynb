{
 "cells": [
  {
   "cell_type": "markdown",
   "metadata": {},
   "source": [
    "# Continuous Control\n",
    "\n",
    "---\n",
    "\n",
    "In this notebook, you will learn how to use the Unity ML-Agents environment for the second project of the [Deep Reinforcement Learning Nanodegree](https://www.udacity.com/course/deep-reinforcement-learning-nanodegree--nd893) program.\n",
    "\n",
    "### 1. Start the Environment\n",
    "\n",
    "We begin by importing the necessary packages.  If the code cell below returns an error, please revisit the project instructions to double-check that you have installed [Unity ML-Agents](https://github.com/Unity-Technologies/ml-agents/blob/master/docs/Installation.md) and [NumPy](http://www.numpy.org/)."
   ]
  },
  {
   "cell_type": "code",
   "execution_count": 1,
   "metadata": {},
   "outputs": [
    {
     "name": "stdout",
     "output_type": "stream",
     "text": [
      "posix.uname_result(sysname='Linux', nodename='Anubis-Linux', release='5.4.0-42-generic', version='#46-Ubuntu SMP Fri Jul 10 00:24:02 UTC 2020', machine='x86_64')\n"
     ]
    }
   ],
   "source": [
    "import os\n",
    "\n",
    "print(os.uname())\n",
    "\n",
    "# In the cloud environment?\n",
    "if 'root' in os.environ['HOME']:\n",
    "    UENVPATH = '/data/'\n",
    "    !pip -q install /home/workspace/python\n",
    "\n",
    "# In the standalone environment?\n",
    "if 'ferenc' in os.environ['HOME']:\n",
    "    UENVPATH = '/home/ferenc/Python/rl/udadrl/data/'\n",
    "\n",
    "\n",
    "from unityagents import UnityEnvironment\n",
    "import numpy as np\n",
    "\n",
    "import pprint as pp"
   ]
  },
  {
   "cell_type": "markdown",
   "metadata": {},
   "source": [
    "Next, we will start the environment!  **_Before running the code cell below_**, change the `file_name` parameter to match the location of the Unity environment that you downloaded.\n",
    "\n",
    "- **Mac**: `\"path/to/Reacher.app\"`\n",
    "- **Windows** (x86): `\"path/to/Reacher_Windows_x86/Reacher.exe\"`\n",
    "- **Windows** (x86_64): `\"path/to/Reacher_Windows_x86_64/Reacher.exe\"`\n",
    "- **Linux** (x86): `\"path/to/Reacher_Linux/Reacher.x86\"`\n",
    "- **Linux** (x86_64): `\"path/to/Reacher_Linux/Reacher.x86_64\"`\n",
    "- **Linux** (x86, headless): `\"path/to/Reacher_Linux_NoVis/Reacher.x86\"`\n",
    "- **Linux** (x86_64, headless): `\"path/to/Reacher_Linux_NoVis/Reacher.x86_64\"`\n",
    "\n",
    "For instance, if you are using a Mac, then you downloaded `Reacher.app`.  If this file is in the same folder as the notebook, then the line below should appear as follows:\n",
    "```\n",
    "env = UnityEnvironment(file_name=\"Reacher.app\")\n",
    "```"
   ]
  },
  {
   "cell_type": "code",
   "execution_count": 2,
   "metadata": {},
   "outputs": [
    {
     "name": "stderr",
     "output_type": "stream",
     "text": [
      "INFO:unityagents:\n",
      "'Academy' started successfully!\n",
      "Unity Academy name: Academy\n",
      "        Number of Brains: 1\n",
      "        Number of External Brains : 1\n",
      "        Lesson number : 0\n",
      "        Reset Parameters :\n",
      "\t\tgoal_size -> 5.0\n",
      "\t\tgoal_speed -> 1.0\n",
      "Unity brain name: ReacherBrain\n",
      "        Number of Visual Observations (per agent): 0\n",
      "        Vector Observation space type: continuous\n",
      "        Vector Observation space size (per agent): 33\n",
      "        Number of stacked Vector Observation: 1\n",
      "        Vector Action space type: continuous\n",
      "        Vector Action space size (per agent): 4\n",
      "        Vector Action descriptions: , , , \n"
     ]
    }
   ],
   "source": [
    "# ONE Agent, Standalone\n",
    "#UENVCHOICE = 'Reacher_Linux/Reacher.x86_64'\n",
    "\n",
    "# TWENTY Agents, Standalone\n",
    "#UENVCHOICE = 'Reacher_Linux_20/Reacher.x86_64'\n",
    "\n",
    "# ONE Agent, Cloud, No-Visuals \n",
    "#UENVCHOICE = 'Reacher_One_Linux_NoVis/Reacher_One_Linux_NoVis.x86_64'\n",
    "\n",
    "# TWENTY Agents, Cloud, No-Visuals \n",
    "UENVCHOICE = 'Reacher_Linux_NoVis/Reacher.x86_64'\n",
    "\n",
    "env = UnityEnvironment( file_name=os.path.join( UENVPATH, UENVCHOICE ) )\n",
    "\n",
    "\n"
   ]
  },
  {
   "cell_type": "markdown",
   "metadata": {},
   "source": [
    "Environments contain **_brains_** which are responsible for deciding the actions of their associated agents. Here we check for the first brain available, and set it as the default brain we will be controlling from Python."
   ]
  },
  {
   "cell_type": "code",
   "execution_count": 3,
   "metadata": {},
   "outputs": [
    {
     "data": {
      "text/plain": [
       "unityagents.environment.UnityEnvironment"
      ]
     },
     "execution_count": 3,
     "metadata": {},
     "output_type": "execute_result"
    }
   ],
   "source": [
    "# FA DEBUG! DEBUG! DEBUG! \n",
    "type(env)"
   ]
  },
  {
   "cell_type": "code",
   "execution_count": 4,
   "metadata": {},
   "outputs": [],
   "source": [
    "# get the default brain\n",
    "brain_name = env.brain_names[0]\n",
    "brain = env.brains[brain_name]"
   ]
  },
  {
   "cell_type": "code",
   "execution_count": 5,
   "metadata": {},
   "outputs": [
    {
     "name": "stdout",
     "output_type": "stream",
     "text": [
      "['ReacherBrain']\n",
      "<class 'unityagents.brain.BrainParameters'>\n"
     ]
    },
    {
     "data": {
      "text/plain": [
       "'ReacherBrain'"
      ]
     },
     "execution_count": 5,
     "metadata": {},
     "output_type": "execute_result"
    }
   ],
   "source": [
    "# FA  DEBUG! DEBUG! DEBUG! \n",
    "print(env.brain_names)\n",
    "print( type(brain) )\n",
    "brain.brain_name"
   ]
  },
  {
   "cell_type": "code",
   "execution_count": 6,
   "metadata": {},
   "outputs": [
    {
     "name": "stdout",
     "output_type": "stream",
     "text": [
      "Observation Space: 33 dimensions of continuous type\n",
      "Action Space: 4 dimensions of continuous type\n"
     ]
    }
   ],
   "source": [
    "# FA  DEBUG! DEBUG! DEBUG!\n",
    "print(f'Observation Space: {brain.vector_observation_space_size} dimensions of {brain.vector_observation_space_type} type') \n",
    "print(f'Action Space: {brain.vector_action_space_size} dimensions of {brain.vector_observation_space_type} type')"
   ]
  },
  {
   "cell_type": "markdown",
   "metadata": {},
   "source": [
    "### 2. Examine the State and Action Spaces\n",
    "\n",
    "In this environment, a double-jointed arm can move to target locations. A reward of `+0.1` is provided for each step that the agent's hand is in the goal location. Thus, the goal of your agent is to maintain its position at the target location for as many time steps as possible.\n",
    "\n",
    "The observation space consists of `33` variables corresponding to position, rotation, velocity, and angular velocities of the arm.  Each action is a vector with four numbers, corresponding to torque applicable to two joints.  Every entry in the action vector must be a number between `-1` and `1`.\n",
    "\n",
    "Run the code cell below to print some information about the environment."
   ]
  },
  {
   "cell_type": "code",
   "execution_count": 7,
   "metadata": {},
   "outputs": [
    {
     "name": "stdout",
     "output_type": "stream",
     "text": [
      "Number of agents: 20\n",
      "Size of each action: 4\n",
      "There are 20 agents. Each observes a state with length: 33\n",
      "The state for the first agent looks like: [ 0.00000000e+00 -4.00000000e+00  0.00000000e+00  1.00000000e+00\n",
      " -0.00000000e+00 -0.00000000e+00 -4.37113883e-08  0.00000000e+00\n",
      "  0.00000000e+00  0.00000000e+00  0.00000000e+00  0.00000000e+00\n",
      "  0.00000000e+00  0.00000000e+00 -1.00000000e+01  0.00000000e+00\n",
      "  1.00000000e+00 -0.00000000e+00 -0.00000000e+00 -4.37113883e-08\n",
      "  0.00000000e+00  0.00000000e+00  0.00000000e+00  0.00000000e+00\n",
      "  0.00000000e+00  0.00000000e+00  5.75471878e+00 -1.00000000e+00\n",
      "  5.55726624e+00  0.00000000e+00  1.00000000e+00  0.00000000e+00\n",
      " -1.68164849e-01]\n"
     ]
    }
   ],
   "source": [
    "# reset the environment\n",
    "env_info = env.reset(train_mode=True)[brain_name]\n",
    "\n",
    "# number of agents\n",
    "num_agents = len(env_info.agents)\n",
    "print('Number of agents:', num_agents)\n",
    "\n",
    "# size of each action\n",
    "action_size = brain.vector_action_space_size\n",
    "print('Size of each action:', action_size)\n",
    "\n",
    "# examine the state space \n",
    "states = env_info.vector_observations\n",
    "state_size = states.shape[1]\n",
    "print('There are {} agents. Each observes a state with length: {}'.format(states.shape[0], state_size))\n",
    "print('The state for the first agent looks like:', states[0])"
   ]
  },
  {
   "cell_type": "markdown",
   "metadata": {},
   "source": [
    "### 3. Take Random Actions in the Environment\n",
    "\n",
    "In the next code cell, you will learn how to use the Python API to control the agent and receive feedback from the environment.\n",
    "\n",
    "Once this cell is executed, you will watch the agent's performance, if it selects an action at random with each time step.  A window should pop up that allows you to observe the agent, as it moves through the environment.  \n",
    "\n",
    "Of course, as part of the project, you'll have to change the code so that the agent is able to use its experience to gradually choose better actions when interacting with the environment!"
   ]
  },
  {
   "cell_type": "code",
   "execution_count": 8,
   "metadata": {},
   "outputs": [
    {
     "name": "stdout",
     "output_type": "stream",
     "text": [
      "We have 20 active agents\n",
      "#   480  -> Agent 02 got reward +0.04000 for action: [ 1.         -0.07102385  0.25761238 -0.7481989 ]\n",
      "#   481  -> Agent 02 got reward +0.04000 for action: [-1.          0.03266551 -0.89735064 -0.67164521]\n",
      "#   482  -> Agent 02 got reward +0.04000 for action: [ 1.          0.58684716  0.27763275 -0.39888416]\n",
      "#   483  -> Agent 02 got reward +0.04000 for action: [-0.16809754  0.20293011  0.47680027  0.10633247]\n",
      "#   484  -> Agent 02 got reward +0.04000 for action: [-0.75301052  0.04834086  1.          0.57292221]\n",
      "#   485  -> Agent 02 got reward +0.04000 for action: [-0.21992972 -0.82671026  1.         -0.53268744]\n",
      "#   486  -> Agent 02 got reward +0.04000 for action: [ 1.         -0.48235234 -1.          0.40085811]\n",
      "#   487  -> Agent 02 got reward +0.04000 for action: [ 1.          0.02654954 -0.56295338  0.12100609]\n",
      "#   659  -> Agent 09 got reward +0.03000 for action: [ 0.58263625  1.         -1.          1.        ]\n",
      "#   660  -> Agent 09 got reward +0.04000 for action: [-0.56592491  0.35577306 -0.94578111 -1.        ]\n",
      "#   661  -> Agent 09 got reward +0.04000 for action: [ 0.75664291 -0.76992122 -0.19681422 -0.83486035]\n",
      "#   662  -> Agent 09 got reward +0.04000 for action: [-0.10490433 -0.58629704  0.78126501  0.09648978]\n",
      "#   663  -> Agent 09 got reward +0.04000 for action: [-0.2741676   0.87102108  0.03524069 -0.77074488]\n",
      "#   664  -> Agent 09 got reward +0.04000 for action: [-0.28064151  1.         -1.         -0.79635229]\n",
      "#   665  -> Agent 09 got reward +0.04000 for action: [ 0.1197465  -0.44739397 -0.07134331  1.        ]\n",
      "#   666  -> Agent 09 got reward +0.04000 for action: [-1.          0.00550182  1.         -1.        ]\n",
      "#   667  -> Agent 09 got reward +0.04000 for action: [-0.99031259  0.422649   -1.          0.06153527]\n",
      "#   668  -> Agent 09 got reward +0.04000 for action: [ 0.16536497 -1.         -0.41353166  0.83042358]\n",
      "#   704  -> Agent 17 got reward +0.02000 for action: [-1.          0.98311799 -0.13331417  0.71644654]\n",
      "#   705  -> Agent 17 got reward +0.04000 for action: [-1.         -0.97045093  0.05839705 -0.07749039]\n",
      "#   706  -> Agent 17 got reward +0.04000 for action: [-0.42518474  1.          0.31919404 -1.        ]\n",
      "#   707  -> Agent 17 got reward +0.04000 for action: [-1.         -0.41190961  0.35653176 -0.06331078]\n",
      "#   708  -> Agent 17 got reward +0.04000 for action: [-1.         -0.07902854  1.          0.66238517]\n",
      "#   709  -> Agent 17 got reward +0.04000 for action: [0.17234399 1.         0.50109674 0.23960738]\n",
      "#   710  -> Agent 17 got reward +0.04000 for action: [ 0.9822001  -0.07817076  0.3714438   0.49936299]\n",
      "#   711  -> Agent 17 got reward +0.04000 for action: [-0.8372463   0.06118601  0.39995047 -1.        ]\n",
      "#   712  -> Agent 17 got reward +0.04000 for action: [-0.41416958  1.         -1.          0.59027748]\n",
      "#   713  -> Agent 17 got reward +0.04000 for action: [ 0.23499682 -0.04913886 -0.21410708 -1.        ]\n",
      "#   714  -> Agent 17 got reward +0.04000 for action: [ 0.5307333  -1.          1.          0.19911239]\n",
      "#   715  -> Agent 17 got reward +0.04000 for action: [ 1.         -0.66060115  0.37222203 -0.36870226]\n",
      "#   716  -> Agent 17 got reward +0.03000 for action: [ 0.90550163 -0.52323802 -1.         -0.66456123]\n",
      "#   721  -> Agent 09 got reward +0.02000 for action: [ 1.         -1.         -1.          0.22283368]\n",
      "#   722  -> Agent 09 got reward +0.01000 for action: [ 0.2826481   1.         -1.         -0.20922579]\n",
      "#   869  -> Agent 11 got reward +0.04000 for action: [ 0.4487599 -0.8323474 -1.        -0.7585885]\n",
      "#   870  -> Agent 11 got reward +0.04000 for action: [0.6383797  1.         0.20349738 0.66387193]\n",
      "#   871  -> Agent 11 got reward +0.04000 for action: [ 1.         -1.          1.         -0.70950969]\n",
      "#   872  -> Agent 11 got reward +0.02000 for action: [-1.          0.08119173 -1.         -0.58181599]\n",
      "#   901  -> Agent 01 got reward +0.04000 for action: [-0.38616953  0.32617381  0.17507408 -1.        ]\n",
      "#   902  -> Agent 01 got reward +0.04000 for action: [ 0.79071461  0.47241485  0.62316012 -0.26273825]\n",
      "#   903  -> Agent 01 got reward +0.04000 for action: [-0.79632026  0.67534164 -0.30882944  1.        ]\n",
      "#   904  -> Agent 01 got reward +0.04000 for action: [ 0.28240875 -0.73961005 -0.65759053  1.        ]\n",
      "#   905  -> Agent 01 got reward +0.04000 for action: [ 1.         -0.23747058 -0.61540265 -1.        ]\n",
      "#   906  -> Agent 01 got reward +0.04000 for action: [-0.51576283 -0.95856093 -0.01109821  0.26591568]\n",
      "#   907  -> Agent 01 got reward +0.04000 for action: [-1.          1.         -0.21315432  1.        ]\n",
      "#   908  -> Agent 01 got reward +0.04000 for action: [ 1.         -0.18494037 -1.         -0.629953  ]\n",
      "#   909  -> Agent 01 got reward +0.04000 for action: [ 1.          1.         -0.62964239 -0.54120955]\n",
      "#   910  -> Agent 01 got reward +0.04000 for action: [-0.10909439  1.         -0.90987339  1.        ]\n",
      "#   911  -> Agent 01 got reward +0.04000 for action: [-0.63103876 -0.66561226  1.         -0.39019533]\n",
      "#   912  -> Agent 01 got reward +0.01000 for action: [-0.31104924 -1.         -0.10620821  0.40796723]\n",
      "#  1001 #\n",
      "Total score (averaged over agents) this episode: 0.0909999979659915\n"
     ]
    }
   ],
   "source": [
    "# Some reminders about lambda functions\n",
    "# Thx2: https://realpython.com/python-lambda/\n",
    "# Thx2: https://thispointer.com/python-how-to-use-if-else-elif-in-lambda-functions/\n",
    "\n",
    "\n",
    "env_info = env.reset(train_mode=False)[brain_name]     # reset the environment    \n",
    "states = env_info.vector_observations                  # get the current state (for each agent)\n",
    "scores = np.zeros(num_agents)                          # initialize the score (for each agent)\n",
    "\n",
    "epc = 0\n",
    "print(f'We have {num_agents} active agent' + ( lambda x: 's' if x>1 else '' )(num_agents) )\n",
    "\n",
    "while True:\n",
    "    epc += 1\n",
    "    #print(f'\\r#{epc}', end = ' ')\n",
    "    print(f'\\r#{str(epc).rjust(6)}', end = ' ')\n",
    "    actions = np.random.randn(num_agents, action_size) # select an action (for each agent)\n",
    "    #import pdb; pdb.set_trace() # Debug! Debug! Debug! Debug! Debug! Debug! \n",
    "    actions = np.clip(actions, -1, 1)                  # all actions between -1 and 1\n",
    "    env_info = env.step(actions)[brain_name]           # send all actions to tne environment\n",
    "    next_states = env_info.vector_observations         # get next state (for each agent)\n",
    "    rewards = env_info.rewards                         # get reward (for each agent)\n",
    "    dones = env_info.local_done                        # see if episode finished\n",
    "    rewards = env_info.rewards\n",
    "    nprewards = np.array(rewards)\n",
    "    scores += rewards                         # update the score (for each agent)\n",
    "    if np.sum(nprewards) > 0:\n",
    "        #print(f'\\r#{epc} Rewards = {rewards}')\n",
    "        maskagent = nprewards > 0\n",
    "        agentbefore = False\n",
    "        for (nagent, action) in enumerate(actions):\n",
    "            if maskagent[nagent]:\n",
    "                if agentbefore:\n",
    "                    print('\\r#' + '&'.rjust(6), end = ' ')\n",
    "                print(' -> Agent {:0>2d} got reward {:+.5f} for action: {}'.format(nagent+1, rewards[nagent], action))\n",
    "                agentbefore = True\n",
    "                #pp.pprint(list(action))\n",
    "    states = next_states                               # roll over states to next time step\n",
    "    if np.any(dones):                                  # exit loop if episode finished\n",
    "        break\n",
    "print('#')\n",
    "print('Total score (averaged over agents) this episode: {}'.format(np.mean(scores)))"
   ]
  },
  {
   "cell_type": "markdown",
   "metadata": {},
   "source": [
    "### When finished, you can close the environment.\n",
    "#### Just not for now because unit testing below"
   ]
  },
  {
   "cell_type": "code",
   "execution_count": 9,
   "metadata": {},
   "outputs": [],
   "source": [
    "# env.close()"
   ]
  },
  {
   "cell_type": "markdown",
   "metadata": {},
   "source": [
    "### 4. It's Your Turn!\n",
    "\n",
    "Now it's your turn to train your own agent to solve the environment!  When training the environment, set `train_mode=True`, so that the line for resetting the environment looks like the following:\n",
    "```python\n",
    "env_info = env.reset(train_mode=True)[brain_name]\n",
    "```"
   ]
  },
  {
   "cell_type": "markdown",
   "metadata": {},
   "source": [
    "#### Tracing the error in the 'mya2cnet' module code refactoring below"
   ]
  },
  {
   "cell_type": "code",
   "execution_count": 10,
   "metadata": {},
   "outputs": [],
   "source": [
    "# TEST! TEST! TEST! TEST! TEST! TEST! TEST! TEST! TEST! TEST! TEST! TEST! TEST! TEST! \n",
    "#import pdb; pdb.set_trace() # Debug! Debug! Debug! Debug! Debug! Debug! \n",
    "\n",
    "import torch\n",
    "import torch.nn as nn\n",
    "import torch.nn.functional as F\n",
    "\n",
    "torch.manual_seed(20200808) # Debug! Debug! Debug! Debug! Debug! Debug! Debug! Debug!\n",
    "\n",
    "# Format: IN_Num [Layer 1] (OUT_Num = IN_Num) [Layer 2] OUT_Num = ...\n",
    "HIDDEN_DIMS_DEFAULT = {\n",
    "    'shared' : (512, 512, 256, 256),\n",
    "    'actor' : (256, 128, 128, 64),\n",
    "    'critic' : (256, 128, 128, 64)\n",
    "}\n",
    "hidden_dims = HIDDEN_DIMS_DEFAULT\n",
    "\n",
    "hlayers = dict()\n",
    "\n",
    "hlayers['shared'] = nn.ModuleList()\n",
    "hlayers['actor'] = nn.ModuleList()\n",
    "hlayers['critic'] = nn.ModuleList()\n",
    "\n",
    "\n"
   ]
  },
  {
   "cell_type": "code",
   "execution_count": 11,
   "metadata": {},
   "outputs": [],
   "source": [
    "# Input layer\n",
    "input_layer = nn.Linear( 33, hidden_dims['shared'][0] )"
   ]
  },
  {
   "cell_type": "code",
   "execution_count": 12,
   "metadata": {},
   "outputs": [
    {
     "data": {
      "text/plain": [
       "Linear(in_features=33, out_features=512, bias=True)"
      ]
     },
     "execution_count": 12,
     "metadata": {},
     "output_type": "execute_result"
    }
   ],
   "source": [
    "input_layer"
   ]
  },
  {
   "cell_type": "code",
   "execution_count": 13,
   "metadata": {},
   "outputs": [],
   "source": [
    "# Hidden layers shared\n",
    "for i in range( len(hidden_dims['shared']) -1 ):\n",
    "    hlayers['shared'].append( nn.Linear( hidden_dims['shared'][i], hidden_dims['shared'][i+1] ) )"
   ]
  },
  {
   "cell_type": "code",
   "execution_count": 14,
   "metadata": {},
   "outputs": [
    {
     "data": {
      "text/plain": [
       "ModuleList(\n",
       "  (0): Linear(in_features=512, out_features=512, bias=True)\n",
       "  (1): Linear(in_features=512, out_features=256, bias=True)\n",
       "  (2): Linear(in_features=256, out_features=256, bias=True)\n",
       ")"
      ]
     },
     "execution_count": 14,
     "metadata": {},
     "output_type": "execute_result"
    }
   ],
   "source": [
    "hlayers['shared']"
   ]
  },
  {
   "cell_type": "code",
   "execution_count": 15,
   "metadata": {},
   "outputs": [],
   "source": [
    "# Actor layers\n",
    "for i in range( len(hidden_dims['actor']) ):\n",
    "    #import pdb; pdb.set_trace() # Debug! Debug! Debug! Debug! Debug! Debug! Debug! Debug!\n",
    "    if i == 0:\n",
    "        hlayers['actor'].append( nn.Linear( hidden_dims['shared'][-1], hidden_dims['actor'][i] ) )\n",
    "    else:\n",
    "        # hlayers['actor'].append( nn.Linear( hidden_dims['actor'][i], hidden_dims['actor'][i+1] ERROR !!!\n",
    "        hlayers['actor'].append( nn.Linear( hidden_dims['actor'][i-1], hidden_dims['actor'][i] ) )\n",
    "    #print( i, hlayers['actor'] ) # Debug! Debug! Debug! Debug! Debug! Debug! Debug! Debug!\n",
    "        \n",
    "actor_out_layer = nn.Linear( hidden_dims['actor'][-1], 4 )"
   ]
  },
  {
   "cell_type": "code",
   "execution_count": 16,
   "metadata": {},
   "outputs": [
    {
     "data": {
      "text/plain": [
       "ModuleList(\n",
       "  (0): Linear(in_features=256, out_features=256, bias=True)\n",
       "  (1): Linear(in_features=256, out_features=128, bias=True)\n",
       "  (2): Linear(in_features=128, out_features=128, bias=True)\n",
       "  (3): Linear(in_features=128, out_features=64, bias=True)\n",
       ")"
      ]
     },
     "execution_count": 16,
     "metadata": {},
     "output_type": "execute_result"
    }
   ],
   "source": [
    "hlayers['actor']"
   ]
  },
  {
   "cell_type": "code",
   "execution_count": 17,
   "metadata": {},
   "outputs": [
    {
     "data": {
      "text/plain": [
       "Linear(in_features=64, out_features=4, bias=True)"
      ]
     },
     "execution_count": 17,
     "metadata": {},
     "output_type": "execute_result"
    }
   ],
   "source": [
    "actor_out_layer"
   ]
  },
  {
   "cell_type": "code",
   "execution_count": 18,
   "metadata": {},
   "outputs": [],
   "source": [
    "#Critic layers\n",
    "for i in range( len(hidden_dims['critic']) ):\n",
    "    if i == 0:\n",
    "        hlayers['critic'].append( nn.Linear( hidden_dims['shared'][-1], hidden_dims['critic'][i] ) )\n",
    "    else:\n",
    "        hlayers['critic'].append( nn.Linear( hidden_dims['critic'][i-1], hidden_dims['critic'][i] ) )\n",
    "critic_out_layer = nn.Linear( hidden_dims['critic'][-1], 1 )"
   ]
  },
  {
   "cell_type": "code",
   "execution_count": 19,
   "metadata": {},
   "outputs": [
    {
     "data": {
      "text/plain": [
       "ModuleList(\n",
       "  (0): Linear(in_features=256, out_features=256, bias=True)\n",
       "  (1): Linear(in_features=256, out_features=128, bias=True)\n",
       "  (2): Linear(in_features=128, out_features=128, bias=True)\n",
       "  (3): Linear(in_features=128, out_features=64, bias=True)\n",
       ")"
      ]
     },
     "execution_count": 19,
     "metadata": {},
     "output_type": "execute_result"
    }
   ],
   "source": [
    "hlayers['critic']"
   ]
  },
  {
   "cell_type": "code",
   "execution_count": 20,
   "metadata": {},
   "outputs": [
    {
     "data": {
      "text/plain": [
       "Linear(in_features=64, out_features=1, bias=True)"
      ]
     },
     "execution_count": 20,
     "metadata": {},
     "output_type": "execute_result"
    }
   ],
   "source": [
    "critic_out_layer"
   ]
  },
  {
   "cell_type": "code",
   "execution_count": 21,
   "metadata": {},
   "outputs": [],
   "source": [
    "# Prevents non Pytorch Tensor Object entering the processing stream\n",
    "def torch_format(state):\n",
    "    x = state\n",
    "    if not isinstance(x, torch.Tensor):\n",
    "        x = torch.tensor(x, dtype=torch.float32)\n",
    "        if len(x.size()) == 1:\n",
    "            x = x.unsqueeze(0)\n",
    "    return x"
   ]
  },
  {
   "cell_type": "code",
   "execution_count": 22,
   "metadata": {},
   "outputs": [],
   "source": [
    "def forward(state):\n",
    "    check_tensor = lambda x: isinstance(x, torch.Tensor)\n",
    "    x_act = True \n",
    "    x_crit = True\n",
    "\n",
    "    x = torch_format(state)\n",
    "    x = F.relu(  input_layer(x) )\n",
    "    for label in ['shared', 'actor', 'critic']:\n",
    "        for hlayer in  hlayers[label]:\n",
    "            if label == 'shared':\n",
    "                x = F.relu(  hlayer(x) )\n",
    "            if label == 'actor':\n",
    "                x_act = F.relu(  hlayer(x_act) )\n",
    "            if label == 'critic':\n",
    "                x_crit = F.relu(  hlayer(x_crit) )\n",
    "\n",
    "        # Thx2: https://discuss.pytorch.org/t/copy-deepcopy-vs-clone/55022\n",
    "        if ( type(x_act) == bool ):\n",
    "            x_act = x.clone()  # Create an Inplace copy...\n",
    "        if ( type(x_crit) == bool ):\n",
    "            x_crit = x.clone() # ...after processing shared layers\n",
    "\n",
    "    return  actor_out_layer(x_act),  critic_out_layer(x_crit) "
   ]
  },
  {
   "cell_type": "markdown",
   "metadata": {},
   "source": [
    "#### Test if states are propagated through the debug network\n",
    "And make a list of outputs of two A2C instances"
   ]
  },
  {
   "cell_type": "code",
   "execution_count": 23,
   "metadata": {},
   "outputs": [],
   "source": [
    "al = []\n",
    "bl = []\n",
    "\n",
    "for (dc, st) in enumerate(states):\n",
    "    a,b = forward(st)\n",
    "    al.append(a)\n",
    "    bl.append(b)\n",
    "#    print(f'({dc+1}) -> Actor: {a}')\n",
    "#    print(f'({dc+1}) -> Critic: {b}')\n",
    "    "
   ]
  },
  {
   "cell_type": "markdown",
   "metadata": {},
   "source": [
    "#### Test if states are propagated through the imported network"
   ]
  },
  {
   "cell_type": "code",
   "execution_count": 24,
   "metadata": {},
   "outputs": [],
   "source": [
    "#from mya2cnet import A2CNetwork\n",
    "import mya2cnet\n",
    "\n",
    "# Thx2: https://emacs.stackexchange.com/a/13483\n",
    "import imp\n",
    "imp.reload(mya2cnet)\n",
    "\n",
    "tstnet1 = mya2cnet.A2CNetwork(33, 4)\n",
    "tstnet2 = mya2cnet.A2CNetwork(33, 4)"
   ]
  },
  {
   "cell_type": "code",
   "execution_count": 25,
   "metadata": {},
   "outputs": [
    {
     "name": "stdout",
     "output_type": "stream",
     "text": [
      "(1) -> Dist. Actor 1-2: 0.0                        #                         Dist. Actor 1-Notebook 0.0\n",
      "(1) -> Dist. Critic 1-2: 0.0                       #                        Dist. Critic 1-Notebook 0.0\n",
      "(2) -> Dist. Actor 1-2: 0.0                        #                         Dist. Actor 1-Notebook 0.0\n",
      "(2) -> Dist. Critic 1-2: 0.0                       #                        Dist. Critic 1-Notebook 0.0\n",
      "(3) -> Dist. Actor 1-2: 0.0                        #                         Dist. Actor 1-Notebook 0.0\n",
      "(3) -> Dist. Critic 1-2: 0.0                       #                        Dist. Critic 1-Notebook 0.0\n",
      "(4) -> Dist. Actor 1-2: 0.0                        #                         Dist. Actor 1-Notebook 0.0\n",
      "(4) -> Dist. Critic 1-2: 0.0                       #                        Dist. Critic 1-Notebook 0.0\n",
      "(5) -> Dist. Actor 1-2: 0.0                        #                         Dist. Actor 1-Notebook 0.0\n",
      "(5) -> Dist. Critic 1-2: 0.0                       #                        Dist. Critic 1-Notebook 0.0\n",
      "(6) -> Dist. Actor 1-2: 0.0                        #                         Dist. Actor 1-Notebook 0.0\n",
      "(6) -> Dist. Critic 1-2: 0.0                       #                        Dist. Critic 1-Notebook 0.0\n",
      "(7) -> Dist. Actor 1-2: 0.0                        #                         Dist. Actor 1-Notebook 0.0\n",
      "(7) -> Dist. Critic 1-2: 0.0                       #                        Dist. Critic 1-Notebook 0.0\n",
      "(8) -> Dist. Actor 1-2: 0.0                        #                         Dist. Actor 1-Notebook 0.0\n",
      "(8) -> Dist. Critic 1-2: 0.0                       #                        Dist. Critic 1-Notebook 0.0\n",
      "(9) -> Dist. Actor 1-2: 0.0                        #                         Dist. Actor 1-Notebook 0.0\n",
      "(9) -> Dist. Critic 1-2: 0.0                       #                        Dist. Critic 1-Notebook 0.0\n",
      "(10) -> Dist. Actor 1-2: 0.0                       #                         Dist. Actor 1-Notebook 0.0\n",
      "(10) -> Dist. Critic 1-2: 0.0                      #                        Dist. Critic 1-Notebook 0.0\n",
      "(11) -> Dist. Actor 1-2: 0.0                       #                         Dist. Actor 1-Notebook 0.0\n",
      "(11) -> Dist. Critic 1-2: 0.0                      #                        Dist. Critic 1-Notebook 0.0\n",
      "(12) -> Dist. Actor 1-2: 0.0                       #                         Dist. Actor 1-Notebook 0.0\n",
      "(12) -> Dist. Critic 1-2: 0.0                      #                        Dist. Critic 1-Notebook 0.0\n",
      "(13) -> Dist. Actor 1-2: 0.0                       #                         Dist. Actor 1-Notebook 0.0\n",
      "(13) -> Dist. Critic 1-2: 0.0                      #                        Dist. Critic 1-Notebook 0.0\n",
      "(14) -> Dist. Actor 1-2: 0.0                       #                         Dist. Actor 1-Notebook 0.0\n",
      "(14) -> Dist. Critic 1-2: 0.0                      #                        Dist. Critic 1-Notebook 0.0\n",
      "(15) -> Dist. Actor 1-2: 0.0                       #                         Dist. Actor 1-Notebook 0.0\n",
      "(15) -> Dist. Critic 1-2: 0.0                      #                        Dist. Critic 1-Notebook 0.0\n",
      "(16) -> Dist. Actor 1-2: 0.0                       #                         Dist. Actor 1-Notebook 0.0\n",
      "(16) -> Dist. Critic 1-2: 0.0                      #                        Dist. Critic 1-Notebook 0.0\n",
      "(17) -> Dist. Actor 1-2: 0.0                       #                         Dist. Actor 1-Notebook 0.0\n",
      "(17) -> Dist. Critic 1-2: 0.0                      #                        Dist. Critic 1-Notebook 0.0\n",
      "(18) -> Dist. Actor 1-2: 0.0                       #                         Dist. Actor 1-Notebook 0.0\n",
      "(18) -> Dist. Critic 1-2: 0.0                      #                        Dist. Critic 1-Notebook 0.0\n",
      "(19) -> Dist. Actor 1-2: 0.0                       #                         Dist. Actor 1-Notebook 0.0\n",
      "(19) -> Dist. Critic 1-2: 0.0                      #                        Dist. Critic 1-Notebook 0.0\n",
      "(20) -> Dist. Actor 1-2: 0.0                       #                         Dist. Actor 1-Notebook 0.0\n",
      "(20) -> Dist. Critic 1-2: 0.0                      #                        Dist. Critic 1-Notebook 0.0\n"
     ]
    }
   ],
   "source": [
    "for (dc, st) in enumerate(states):\n",
    "    #import pdb; pdb.set_trace() # Debug! Debug! Debug! Debug! Debug! Debug! Debug! Debug!\n",
    "    a1,b1 = tstnet1.forward(st)\n",
    "    a2,b2 = tstnet2.forward(st)\n",
    "    print(f'({dc+1}) -> Dist. Actor 1-2: {torch.dist(a1, a2)}'.ljust(50) + ' # ' +\\\n",
    "         f'Dist. Actor 1-Notebook {torch.dist(a1, al[dc])}'.rjust(50))\n",
    "    print(f'({dc+1}) -> Dist. Critic 1-2: {torch.dist(b1, b2)}'.ljust(50) + ' # ' +\\\n",
    "         f'Dist. Critic 1-Notebook {torch.dist(b1, bl[dc])}'.rjust(50))"
   ]
  },
  {
   "cell_type": "code",
   "execution_count": 26,
   "metadata": {},
   "outputs": [
    {
     "name": "stdout",
     "output_type": "stream",
     "text": [
      "(1) -> (tensor(1.00000e-02 *\n",
      "       [[ 4.6543,  4.9756, -4.4953,  4.2128]]), False, 0.1, 0.1, tensor(1.00000e-02 *\n",
      "       [[ 4.7572]]))\n",
      "(2) -> (tensor(1.00000e-02 *\n",
      "       [[ 4.7037,  4.9775, -4.4215,  4.1041]]), False, 0.1, 0.1, tensor(1.00000e-02 *\n",
      "       [[ 4.8767]]))\n",
      "(3) -> (tensor(1.00000e-02 *\n",
      "       [[ 4.7006,  4.9798, -4.4235,  4.1018]]), False, 0.1, 0.1, tensor(1.00000e-02 *\n",
      "       [[ 4.8752]]))\n",
      "(4) -> (tensor(1.00000e-02 *\n",
      "       [[ 4.6981,  4.9901, -4.3603,  4.1175]]), False, 0.1, 0.1, tensor(1.00000e-02 *\n",
      "       [[ 4.8696]]))\n",
      "(5) -> (tensor(1.00000e-02 *\n",
      "       [[ 4.7117,  4.9911, -4.4272,  4.1191]]), False, 0.1, 0.1, tensor(1.00000e-02 *\n",
      "       [[ 4.8610]]))\n",
      "(6) -> (tensor(1.00000e-02 *\n",
      "       [[ 4.6864,  4.9768, -4.4898,  4.2664]]), False, 0.1, 0.1, tensor(1.00000e-02 *\n",
      "       [[ 4.7746]]))\n",
      "(7) -> (tensor(1.00000e-02 *\n",
      "       [[ 4.7017,  5.0059, -4.4374,  4.2481]]), False, 0.1, 0.1, tensor(1.00000e-02 *\n",
      "       [[ 4.8414]]))\n",
      "(8) -> (tensor(1.00000e-02 *\n",
      "       [[ 4.7107,  4.9870, -4.4269,  4.1114]]), False, 0.1, 0.1, tensor(1.00000e-02 *\n",
      "       [[ 4.8706]]))\n",
      "(9) -> (tensor(1.00000e-02 *\n",
      "       [[ 4.6985,  4.9721, -4.4752,  4.2727]]), False, 0.1, 0.1, tensor(1.00000e-02 *\n",
      "       [[ 4.8107]]))\n",
      "(10) -> (tensor(1.00000e-02 *\n",
      "       [[ 4.6935,  5.0025, -4.4124,  4.2141]]), False, 0.1, 0.1, tensor(1.00000e-02 *\n",
      "       [[ 4.8393]]))\n",
      "(11) -> (tensor(1.00000e-02 *\n",
      "       [[ 4.7007,  4.9718, -4.3907,  4.1061]]), False, 0.1, 0.1, tensor(1.00000e-02 *\n",
      "       [[ 4.8479]]))\n",
      "(12) -> (tensor(1.00000e-02 *\n",
      "       [[ 4.6997,  4.9750, -4.4772,  4.2800]]), False, 0.1, 0.1, tensor(1.00000e-02 *\n",
      "       [[ 4.8147]]))\n",
      "(13) -> (tensor(1.00000e-02 *\n",
      "       [[ 4.6790,  4.9917, -4.4376,  4.1197]]), False, 0.1, 0.1, tensor(1.00000e-02 *\n",
      "       [[ 4.8553]]))\n",
      "(14) -> (tensor(1.00000e-02 *\n",
      "       [[ 4.6685,  4.9951, -4.4505,  4.1421]]), False, 0.1, 0.1, tensor(1.00000e-02 *\n",
      "       [[ 4.8110]]))\n",
      "(15) -> (tensor(1.00000e-02 *\n",
      "       [[ 4.6763,  4.9944, -4.4406,  4.1248]]), False, 0.1, 0.1, tensor(1.00000e-02 *\n",
      "       [[ 4.8488]]))\n",
      "(16) -> (tensor(1.00000e-02 *\n",
      "       [[ 4.6967,  4.9936, -4.3724,  4.1618]]), False, 0.1, 0.1, tensor(1.00000e-02 *\n",
      "       [[ 4.8638]]))\n",
      "(17) -> (tensor(1.00000e-02 *\n",
      "       [[ 4.7116,  4.9925, -4.4258,  4.1176]]), False, 0.1, 0.1, tensor(1.00000e-02 *\n",
      "       [[ 4.8612]]))\n",
      "(18) -> (tensor(1.00000e-02 *\n",
      "       [[ 4.7030,  4.9784, -4.4800,  4.2864]]), False, 0.1, 0.1, tensor(1.00000e-02 *\n",
      "       [[ 4.8194]]))\n",
      "(19) -> (tensor(1.00000e-02 *\n",
      "       [[ 4.7116,  4.9804, -4.4134,  4.1002]]), False, 0.1, 0.1, tensor(1.00000e-02 *\n",
      "       [[ 4.8508]]))\n",
      "(20) -> (tensor(1.00000e-02 *\n",
      "       [[ 4.6749,  4.9665, -4.4912,  4.2393]]), False, 0.1, 0.1, tensor(1.00000e-02 *\n",
      "       [[ 4.7676]]))\n"
     ]
    }
   ],
   "source": [
    "for (dc, st) in enumerate(states):\n",
    "    print(f'({dc+1}) -> {tstnet1.fullpass(st)}')"
   ]
  },
  {
   "cell_type": "code",
   "execution_count": 27,
   "metadata": {},
   "outputs": [
    {
     "name": "stdout",
     "output_type": "stream",
     "text": [
      "(1)-> tensor(1.00000e-02 *\n",
      "       [[ 4.6543,  4.9756, -4.4953,  4.2128]])\n",
      "(2)-> tensor(1.00000e-02 *\n",
      "       [[ 4.7037,  4.9775, -4.4215,  4.1041]])\n",
      "(3)-> tensor(1.00000e-02 *\n",
      "       [[ 4.7006,  4.9798, -4.4235,  4.1018]])\n",
      "(4)-> tensor(1.00000e-02 *\n",
      "       [[ 4.6981,  4.9901, -4.3603,  4.1175]])\n",
      "(5)-> tensor(1.00000e-02 *\n",
      "       [[ 4.7117,  4.9911, -4.4272,  4.1191]])\n",
      "(6)-> tensor(1.00000e-02 *\n",
      "       [[ 4.6864,  4.9768, -4.4898,  4.2664]])\n",
      "(7)-> tensor(1.00000e-02 *\n",
      "       [[ 4.7017,  5.0059, -4.4374,  4.2481]])\n",
      "(8)-> tensor(1.00000e-02 *\n",
      "       [[ 4.7107,  4.9870, -4.4269,  4.1114]])\n",
      "(9)-> tensor(1.00000e-02 *\n",
      "       [[ 4.6985,  4.9721, -4.4752,  4.2727]])\n",
      "(10)-> tensor(1.00000e-02 *\n",
      "       [[ 4.6935,  5.0025, -4.4124,  4.2141]])\n",
      "(11)-> tensor(1.00000e-02 *\n",
      "       [[ 4.7007,  4.9718, -4.3907,  4.1061]])\n",
      "(12)-> tensor(1.00000e-02 *\n",
      "       [[ 4.6997,  4.9750, -4.4772,  4.2800]])\n",
      "(13)-> tensor(1.00000e-02 *\n",
      "       [[ 4.6790,  4.9917, -4.4376,  4.1197]])\n",
      "(14)-> tensor(1.00000e-02 *\n",
      "       [[ 4.6685,  4.9951, -4.4505,  4.1421]])\n",
      "(15)-> tensor(1.00000e-02 *\n",
      "       [[ 4.6763,  4.9944, -4.4406,  4.1248]])\n",
      "(16)-> tensor(1.00000e-02 *\n",
      "       [[ 4.6967,  4.9936, -4.3724,  4.1618]])\n",
      "(17)-> tensor(1.00000e-02 *\n",
      "       [[ 4.7116,  4.9925, -4.4258,  4.1176]])\n",
      "(18)-> tensor(1.00000e-02 *\n",
      "       [[ 4.7030,  4.9784, -4.4800,  4.2864]])\n",
      "(19)-> tensor(1.00000e-02 *\n",
      "       [[ 4.7116,  4.9804, -4.4134,  4.1002]])\n",
      "(20)-> tensor(1.00000e-02 *\n",
      "       [[ 4.6749,  4.9665, -4.4912,  4.2393]])\n"
     ]
    }
   ],
   "source": [
    "for (dc, st) in enumerate(states):\n",
    "    #import pdb; pdb.set_trace() # Debug! Debug! Debug! Debug! Debug! Debug! Debug! Debug!\n",
    "    print(f'({dc+1})-> {tstnet1.select_action(st)}') #, end=' ')"
   ]
  },
  {
   "cell_type": "markdown",
   "metadata": {},
   "source": [
    "#### Test the agent instance"
   ]
  },
  {
   "cell_type": "code",
   "execution_count": 28,
   "metadata": {},
   "outputs": [],
   "source": [
    "import mya2cagent\n",
    "\n",
    "# Thx2: https://emacs.stackexchange.com/a/13483\n",
    "import imp\n",
    "imp.reload(mya2cagent)\n",
    "\n",
    "agent = mya2cagent.a2cagent(len(env_info.agents), env, brain, max_steps = 100)"
   ]
  },
  {
   "cell_type": "code",
   "execution_count": 29,
   "metadata": {},
   "outputs": [],
   "source": [
    "procs = mya2cagent.MultiProcEnv(env, 20200808, len(env_info.agents))"
   ]
  },
  {
   "cell_type": "code",
   "execution_count": 30,
   "metadata": {},
   "outputs": [],
   "source": [
    "agent.train(states)"
   ]
  },
  {
   "cell_type": "code",
   "execution_count": 31,
   "metadata": {},
   "outputs": [],
   "source": [
    "env.close()"
   ]
  },
  {
   "cell_type": "code",
   "execution_count": null,
   "metadata": {},
   "outputs": [],
   "source": []
  }
 ],
 "metadata": {
  "kernelspec": {
   "display_name": "Python 3",
   "language": "python",
   "name": "python3"
  },
  "language_info": {
   "codemirror_mode": {
    "name": "ipython",
    "version": 3
   },
   "file_extension": ".py",
   "mimetype": "text/x-python",
   "name": "python",
   "nbconvert_exporter": "python",
   "pygments_lexer": "ipython3",
   "version": "3.6.10"
  }
 },
 "nbformat": 4,
 "nbformat_minor": 4
}
