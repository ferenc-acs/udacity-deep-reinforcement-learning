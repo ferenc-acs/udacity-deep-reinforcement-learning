{
 "cells": [
  {
   "cell_type": "markdown",
   "metadata": {},
   "source": [
    "# Continuous Control\n",
    "\n",
    "---\n",
    "\n",
    "In this notebook, you will learn how to use the Unity ML-Agents environment for the second project of the [Deep Reinforcement Learning Nanodegree](https://www.udacity.com/course/deep-reinforcement-learning-nanodegree--nd893) program.\n",
    "\n",
    "### 1. Start the Environment\n",
    "\n",
    "We begin by importing the necessary packages.  If the code cell below returns an error, please revisit the project instructions to double-check that you have installed [Unity ML-Agents](https://github.com/Unity-Technologies/ml-agents/blob/master/docs/Installation.md) and [NumPy](http://www.numpy.org/)."
   ]
  },
  {
   "cell_type": "code",
   "execution_count": 1,
   "metadata": {},
   "outputs": [
    {
     "name": "stdout",
     "output_type": "stream",
     "text": [
      "posix.uname_result(sysname='Linux', nodename='Anubis-Linux', release='5.4.0-47-generic', version='#51-Ubuntu SMP Fri Sep 4 19:50:52 UTC 2020', machine='x86_64')\n"
     ]
    }
   ],
   "source": [
    "import os\n",
    "\n",
    "print(os.uname())\n",
    "\n",
    "# In the cloud environment?\n",
    "if 'root' in os.environ['HOME']:\n",
    "    UENVPATH = '/data/'\n",
    "    !pip -q install /home/workspace/python\n",
    "\n",
    "# In the standalone environment?\n",
    "if 'ferenc' in os.environ['HOME']:\n",
    "    UENVPATH = '/home/ferenc/Python/rl/udadrl/data/'\n",
    "\n",
    "\n",
    "from unityagents import UnityEnvironment\n",
    "import numpy as np\n",
    "\n",
    "import pprint as pp\n",
    "\n",
    "from collections import deque"
   ]
  },
  {
   "cell_type": "markdown",
   "metadata": {},
   "source": [
    "Next, we will start the environment!  **_Before running the code cell below_**, change the `file_name` parameter to match the location of the Unity environment that you downloaded.\n",
    "\n",
    "- **Mac**: `\"path/to/Reacher.app\"`\n",
    "- **Windows** (x86): `\"path/to/Reacher_Windows_x86/Reacher.exe\"`\n",
    "- **Windows** (x86_64): `\"path/to/Reacher_Windows_x86_64/Reacher.exe\"`\n",
    "- **Linux** (x86): `\"path/to/Reacher_Linux/Reacher.x86\"`\n",
    "- **Linux** (x86_64): `\"path/to/Reacher_Linux/Reacher.x86_64\"`\n",
    "- **Linux** (x86, headless): `\"path/to/Reacher_Linux_NoVis/Reacher.x86\"`\n",
    "- **Linux** (x86_64, headless): `\"path/to/Reacher_Linux_NoVis/Reacher.x86_64\"`\n",
    "\n",
    "For instance, if you are using a Mac, then you downloaded `Reacher.app`.  If this file is in the same folder as the notebook, then the line below should appear as follows:\n",
    "```\n",
    "env = UnityEnvironment(file_name=\"Reacher.app\")\n",
    "```"
   ]
  },
  {
   "cell_type": "code",
   "execution_count": 2,
   "metadata": {},
   "outputs": [
    {
     "name": "stderr",
     "output_type": "stream",
     "text": [
      "INFO:unityagents:\n",
      "'Academy' started successfully!\n",
      "Unity Academy name: Academy\n",
      "        Number of Brains: 1\n",
      "        Number of External Brains : 1\n",
      "        Lesson number : 0\n",
      "        Reset Parameters :\n",
      "\t\tgoal_speed -> 1.0\n",
      "\t\tgoal_size -> 5.0\n",
      "Unity brain name: ReacherBrain\n",
      "        Number of Visual Observations (per agent): 0\n",
      "        Vector Observation space type: continuous\n",
      "        Vector Observation space size (per agent): 33\n",
      "        Number of stacked Vector Observation: 1\n",
      "        Vector Action space type: continuous\n",
      "        Vector Action space size (per agent): 4\n",
      "        Vector Action descriptions: , , , \n"
     ]
    }
   ],
   "source": [
    "# ONE Agent, Standalone\n",
    "#UENVCHOICE = 'Reacher_Linux/Reacher.x86_64'\n",
    "\n",
    "# TWENTY Agents, Standalone\n",
    "#UENVCHOICE = 'Reacher_Linux_20/Reacher.x86_64'\n",
    "\n",
    "# ONE Agent, Cloud, No-Visuals \n",
    "#UENVCHOICE = 'Reacher_One_Linux_NoVis/Reacher_One_Linux_NoVis.x86_64'\n",
    "\n",
    "# TWENTY Agents, Cloud, No-Visuals \n",
    "UENVCHOICE = 'Reacher_Linux_NoVis/Reacher.x86_64'\n",
    "\n",
    "env = UnityEnvironment( file_name=os.path.join( UENVPATH, UENVCHOICE ) )\n",
    "\n",
    "\n"
   ]
  },
  {
   "cell_type": "markdown",
   "metadata": {},
   "source": [
    "Environments contain **_brains_** which are responsible for deciding the actions of their associated agents. Here we check for the first brain available, and set it as the default brain we will be controlling from Python."
   ]
  },
  {
   "cell_type": "code",
   "execution_count": 3,
   "metadata": {},
   "outputs": [
    {
     "data": {
      "text/plain": [
       "unityagents.environment.UnityEnvironment"
      ]
     },
     "execution_count": 3,
     "metadata": {},
     "output_type": "execute_result"
    }
   ],
   "source": [
    "# FA DEBUG! DEBUG! DEBUG! \n",
    "type(env)"
   ]
  },
  {
   "cell_type": "code",
   "execution_count": 4,
   "metadata": {},
   "outputs": [],
   "source": [
    "# get the default brain\n",
    "brain_name = env.brain_names[0]\n",
    "brain = env.brains[brain_name]"
   ]
  },
  {
   "cell_type": "code",
   "execution_count": 5,
   "metadata": {},
   "outputs": [
    {
     "name": "stdout",
     "output_type": "stream",
     "text": [
      "['ReacherBrain']\n",
      "<class 'unityagents.brain.BrainParameters'>\n"
     ]
    },
    {
     "data": {
      "text/plain": [
       "'ReacherBrain'"
      ]
     },
     "execution_count": 5,
     "metadata": {},
     "output_type": "execute_result"
    }
   ],
   "source": [
    "# FA  DEBUG! DEBUG! DEBUG! \n",
    "print(env.brain_names)\n",
    "print( type(brain) )\n",
    "brain.brain_name"
   ]
  },
  {
   "cell_type": "code",
   "execution_count": 6,
   "metadata": {},
   "outputs": [
    {
     "name": "stdout",
     "output_type": "stream",
     "text": [
      "Observation Space: 33 dimensions of continuous type\n",
      "Action Space: 4 dimensions of continuous type\n"
     ]
    }
   ],
   "source": [
    "# FA  DEBUG! DEBUG! DEBUG!\n",
    "print(f'Observation Space: {brain.vector_observation_space_size} dimensions of {brain.vector_observation_space_type} type') \n",
    "print(f'Action Space: {brain.vector_action_space_size} dimensions of {brain.vector_observation_space_type} type')"
   ]
  },
  {
   "cell_type": "markdown",
   "metadata": {},
   "source": [
    "### 2. Examine the State and Action Spaces\n",
    "\n",
    "In this environment, a double-jointed arm can move to target locations. A reward of `+0.1` is provided for each step that the agent's hand is in the goal location. Thus, the goal of your agent is to maintain its position at the target location for as many time steps as possible.\n",
    "\n",
    "The observation space consists of `33` variables corresponding to position, rotation, velocity, and angular velocities of the arm.  Each action is a vector with four numbers, corresponding to torque applicable to two joints.  Every entry in the action vector must be a number between `-1` and `1`.\n",
    "\n",
    "Run the code cell below to print some information about the environment."
   ]
  },
  {
   "cell_type": "code",
   "execution_count": 7,
   "metadata": {},
   "outputs": [
    {
     "name": "stdout",
     "output_type": "stream",
     "text": [
      "Number of agents: 20\n",
      "Size of each action: 4\n",
      "There are 20 agents. Each observes a state with length: 33\n",
      "The state for the first agent looks like: [ 0.00000000e+00 -4.00000000e+00  0.00000000e+00  1.00000000e+00\n",
      " -0.00000000e+00 -0.00000000e+00 -4.37113883e-08  0.00000000e+00\n",
      "  0.00000000e+00  0.00000000e+00  0.00000000e+00  0.00000000e+00\n",
      "  0.00000000e+00  0.00000000e+00 -1.00000000e+01  0.00000000e+00\n",
      "  1.00000000e+00 -0.00000000e+00 -0.00000000e+00 -4.37113883e-08\n",
      "  0.00000000e+00  0.00000000e+00  0.00000000e+00  0.00000000e+00\n",
      "  0.00000000e+00  0.00000000e+00  5.75471878e+00 -1.00000000e+00\n",
      "  5.55726624e+00  0.00000000e+00  1.00000000e+00  0.00000000e+00\n",
      " -1.68164849e-01]\n"
     ]
    }
   ],
   "source": [
    "# reset the environment\n",
    "env_info = env.reset(train_mode=True)[brain_name]\n",
    "\n",
    "# number of agents\n",
    "num_agents = len(env_info.agents)\n",
    "print('Number of agents:', num_agents)\n",
    "\n",
    "# size of each action\n",
    "action_size = brain.vector_action_space_size\n",
    "print('Size of each action:', action_size)\n",
    "\n",
    "# examine the state space \n",
    "states = env_info.vector_observations\n",
    "state_size = states.shape[1]\n",
    "print('There are {} agents. Each observes a state with length: {}'.format(states.shape[0], state_size))\n",
    "print('The state for the first agent looks like:', states[0])"
   ]
  },
  {
   "cell_type": "markdown",
   "metadata": {},
   "source": [
    "### 3. Take Random Actions in the Environment\n",
    "\n",
    "In the next code cell, you will learn how to use the Python API to control the agent and receive feedback from the environment.\n",
    "\n",
    "Once this cell is executed, you will watch the agent's performance, if it selects an action at random with each time step.  A window should pop up that allows you to observe the agent, as it moves through the environment.  \n",
    "\n",
    "Of course, as part of the project, you'll have to change the code so that the agent is able to use its experience to gradually choose better actions when interacting with the environment!"
   ]
  },
  {
   "cell_type": "code",
   "execution_count": 8,
   "metadata": {},
   "outputs": [
    {
     "name": "stdout",
     "output_type": "stream",
     "text": [
      "We have 20 active agents\n",
      "#    52  -> Agent 14 got reward +0.04000 for action: [-0.03508758  0.35808374  0.93969036 -0.50182709]\n",
      "#    53  -> Agent 14 got reward +0.04000 for action: [-1.         -0.02155309  0.0237959   0.13633465]\n",
      "#    54  -> Agent 14 got reward +0.04000 for action: [-0.15289694 -1.          1.         -0.60959403]\n",
      "#    55  -> Agent 14 got reward +0.04000 for action: [-1.         -0.61266283 -0.8287172  -1.        ]\n",
      "#    56  -> Agent 14 got reward +0.04000 for action: [ 0.40900181 -0.01939733  1.         -0.13328537]\n",
      "#    57  -> Agent 14 got reward +0.04000 for action: [ 0.00743403 -0.241172   -0.97336712  0.42876429]\n",
      "#    58  -> Agent 14 got reward +0.04000 for action: [-0.98829583  1.         -0.26538036  1.        ]\n",
      "#    59  -> Agent 14 got reward +0.04000 for action: [ 1.         -1.         -0.71115912 -0.57728536]\n",
      "#    60  -> Agent 14 got reward +0.04000 for action: [-0.18245176  1.          1.         -0.71064147]\n",
      "#    61  -> Agent 14 got reward +0.04000 for action: [ 0.32706096 -0.23300245  0.38144536 -0.22979253]\n",
      "#    62  -> Agent 14 got reward +0.04000 for action: [ 1.  1.  1. -1.]\n",
      "#    63  -> Agent 14 got reward +0.04000 for action: [ 0.75221656 -0.00608573 -1.         -1.        ]\n",
      "#    64  -> Agent 14 got reward +0.04000 for action: [-1.         -0.09363334  1.         -0.57349843]\n",
      "#    65  -> Agent 14 got reward +0.02000 for action: [-0.40934552 -1.          0.61230124  0.10503872]\n",
      "#   420  -> Agent 12 got reward +0.03000 for action: [-1.         -0.44045442 -0.37335864 -0.45019072]\n",
      "#   421  -> Agent 12 got reward +0.04000 for action: [-0.22570108 -0.50842935 -0.45832106  0.84735462]\n",
      "#   422  -> Agent 12 got reward +0.04000 for action: [ 0.24001315 -0.65199108 -1.         -0.29197591]\n",
      "#   423  -> Agent 12 got reward +0.04000 for action: [-1.          0.40887779  1.         -0.33120233]\n",
      "#   424  -> Agent 12 got reward +0.04000 for action: [-0.02318299 -0.92595825  0.46935339  1.        ]\n",
      "#   425  -> Agent 12 got reward +0.04000 for action: [-0.89165314  1.          0.22842717 -1.        ]\n",
      "#   426  -> Agent 12 got reward +0.04000 for action: [-0.29982609  0.55401365 -0.69285172 -1.        ]\n",
      "#   427  -> Agent 12 got reward +0.04000 for action: [0.53485328 0.39666169 0.03776551 1.        ]\n",
      "#   428  -> Agent 12 got reward +0.04000 for action: [-1.          0.30800155  1.          0.40184146]\n",
      "#   429  -> Agent 12 got reward +0.04000 for action: [-1.          0.0717973   1.         -0.03663469]\n",
      "#   430  -> Agent 12 got reward +0.04000 for action: [ 0.6706241  -0.66243925 -0.24760933 -0.54504172]\n",
      "#   431  -> Agent 12 got reward +0.04000 for action: [-0.14160329  1.          0.30582838  0.72828585]\n",
      "#   432  -> Agent 12 got reward +0.04000 for action: [ 1.          0.20751797 -0.34468608  0.10375207]\n",
      "#   433  -> Agent 12 got reward +0.04000 for action: [ 1.          0.01664479  1.         -1.        ]\n",
      "#   434  -> Agent 12 got reward +0.04000 for action: [-1.          0.31791868 -0.79273033 -0.56128802]\n",
      "#   435  -> Agent 12 got reward +0.04000 for action: [-1.        1.       -0.257335  1.      ]\n",
      "#   436  -> Agent 12 got reward +0.04000 for action: [-1.          0.31667094  0.73202428  0.17193522]\n",
      "#   437  -> Agent 12 got reward +0.04000 for action: [-0.48948615  0.28802459 -0.35374517  0.81570215]\n",
      "#   438  -> Agent 12 got reward +0.02000 for action: [ 0.94940396 -1.         -1.          0.3125881 ]\n",
      "#   485  -> Agent 09 got reward +0.02000 for action: [ 0.9546337   1.         -0.55031667  0.04661406]\n",
      "#   486  -> Agent 09 got reward +0.04000 for action: [ 0.53168521  1.          1.         -0.62020931]\n",
      "#   487  -> Agent 09 got reward +0.04000 for action: [-0.55237972 -0.59976565  1.          0.47727922]\n",
      "#   488  -> Agent 09 got reward +0.04000 for action: [-1.          0.38157803 -0.2417332   1.        ]\n",
      "#   489  -> Agent 09 got reward +0.04000 for action: [ 0.28935433  0.88993869 -0.68969926  0.09061923]\n",
      "#   490  -> Agent 09 got reward +0.04000 for action: [-1.         -1.          0.22460722  0.98918065]\n",
      "#   491  -> Agent 09 got reward +0.04000 for action: [1.         1.         1.         0.00764051]\n",
      "#   492  -> Agent 09 got reward +0.04000 for action: [-1.          1.          0.88469319  1.        ]\n",
      "#   493  -> Agent 09 got reward +0.04000 for action: [-0.01450857  0.24826808 -1.         -0.00780462]\n",
      "#   494  -> Agent 09 got reward +0.04000 for action: [-0.61446839 -1.         -0.69584949 -0.56136879]\n",
      "#   495  -> Agent 09 got reward +0.04000 for action: [ 0.9131259  -0.56181145 -0.11158838 -0.38375796]\n",
      "#   496  -> Agent 09 got reward +0.04000 for action: [ 0.79771256  1.         -0.92674787  1.        ]\n",
      "#   497  -> Agent 09 got reward +0.04000 for action: [-0.41325952  0.36551351 -0.17406954  0.017658  ]\n",
      "#   498  -> Agent 09 got reward +0.04000 for action: [ 0.34561458  0.50002183 -1.         -0.27211687]\n",
      "#   499  -> Agent 09 got reward +0.04000 for action: [-0.12297969 -1.         -1.          1.        ]\n",
      "#   500  -> Agent 09 got reward +0.04000 for action: [ 0.18790641 -0.62468653 -0.66620339  0.18900679]\n",
      "#   501  -> Agent 09 got reward +0.04000 for action: [ 1.         -0.92695716  1.          1.        ]\n",
      "#   502  -> Agent 09 got reward +0.04000 for action: [-0.94445479  0.35553854  0.36447079  0.87209663]\n",
      "#   503  -> Agent 09 got reward +0.04000 for action: [ 0.20876266  0.41138418 -0.22015187  0.70802411]\n",
      "#   504  -> Agent 09 got reward +0.03000 for action: [-1.          1.         -1.         -0.28562325]\n",
      "#   513  -> Agent 13 got reward +0.02000 for action: [ 0.93574239 -0.41132057 -1.         -1.        ]\n",
      "#   514  -> Agent 13 got reward +0.04000 for action: [-1.         -1.          0.04543125  0.17040643]\n",
      "#   515  -> Agent 13 got reward +0.04000 for action: [-1.         -0.90722631 -0.75238995 -1.        ]\n",
      "#   548  -> Agent 15 got reward +0.02000 for action: [-0.39251052 -0.50381508  0.10244965  0.08731876]\n",
      "#   549  -> Agent 15 got reward +0.04000 for action: [-0.23061262 -0.86158576  1.         -0.21131158]\n",
      "#   550  -> Agent 15 got reward +0.04000 for action: [ 1.  1. -1. -1.]\n",
      "#   551  -> Agent 15 got reward +0.04000 for action: [ 0.23595911 -1.         -0.47445231 -0.63634097]\n",
      "#   552  -> Agent 15 got reward +0.01000 for action: [-0.86137383 -0.12997458 -1.          0.3600047 ]\n",
      "#   687  -> Agent 01 got reward +0.03000 for action: [ 0.13593372 -0.31246106 -1.          0.03242147]\n",
      "#   688  -> Agent 01 got reward +0.04000 for action: [ 0.5643274  -0.13655589 -0.26589285 -0.45013936]\n",
      "#   689  -> Agent 01 got reward +0.04000 for action: [-1.          1.         -1.          0.44229206]\n",
      "#   690  -> Agent 01 got reward +0.04000 for action: [ 0.6327567 -1.        -1.        -1.       ]\n",
      "#   691  -> Agent 01 got reward +0.04000 for action: [-0.32719142 -0.92515911  0.98133873 -0.56599653]\n",
      "#   692  -> Agent 01 got reward +0.04000 for action: [0.00822398 0.72571128 0.54991339 0.2329406 ]\n",
      "#   693  -> Agent 01 got reward +0.04000 for action: [ 1.         -0.143012   -0.59954896 -1.        ]\n",
      "#   694  -> Agent 01 got reward +0.04000 for action: [ 0.41014496 -0.12799953  0.3623167   0.24805234]\n",
      "#   695  -> Agent 01 got reward +0.02000 for action: [-0.33901116  0.30598146 -1.          0.37364003]\n",
      "#   719  -> Agent 10 got reward +0.01000 for action: [-1.          1.         -0.68670826  0.52061961]\n",
      "#   720  -> Agent 10 got reward +0.04000 for action: [ 0.57135552 -0.19245769 -0.76634064  0.38614747]\n",
      "#   721  -> Agent 10 got reward +0.04000 for action: [-0.68593741 -1.         -0.64463863 -1.        ]\n",
      "#   722  -> Agent 10 got reward +0.02000 for action: [ 1.          1.         -0.23194011  0.74739169]\n",
      "#   732  -> Agent 02 got reward +0.03000 for action: [ 0.32263999  0.05487826 -1.         -1.        ]\n",
      "#   733  -> Agent 02 got reward +0.04000 for action: [ 1.          0.58715264  0.54549361 -0.1842881 ]\n",
      "#   734  -> Agent 02 got reward +0.04000 for action: [-0.24560502  0.10842751  0.63724528  0.30330576]\n",
      "#   735  -> Agent 02 got reward +0.04000 for action: [ 0.26622442 -0.44843704  0.73717311  0.30389652]\n",
      "#   736  -> Agent 02 got reward +0.04000 for action: [-1.          0.76611294  0.00873509 -1.        ]\n",
      "#   737  -> Agent 02 got reward +0.04000 for action: [-0.06643556 -0.0481566   0.36200749  1.        ]\n",
      "#   738  -> Agent 02 got reward +0.04000 for action: [ 0.82246539  1.         -1.          1.        ]\n",
      "#   739  -> Agent 02 got reward +0.04000 for action: [-0.82620748  1.         -0.72583554  0.91384459]\n",
      "#   740  -> Agent 02 got reward +0.04000 for action: [ 0.7372936  -1.         -0.75824558 -0.73134899]\n",
      "#   741  -> Agent 02 got reward +0.04000 for action: [0.89465948 1.         0.23527173 0.28990336]\n",
      "#   742  -> Agent 02 got reward +0.04000 for action: [ 0.49402866 -0.26480075 -0.87130279 -1.        ]\n",
      "#   743  -> Agent 02 got reward +0.04000 for action: [-1.          0.75602747 -0.23791681  0.45059601]\n",
      "#   744  -> Agent 02 got reward +0.04000 for action: [-0.19318483  0.48633933 -1.          1.        ]\n",
      "#   745  -> Agent 02 got reward +0.04000 for action: [-0.74529841  1.          1.         -1.        ]\n",
      "#   746  -> Agent 02 got reward +0.04000 for action: [-0.68810481 -0.1893919  -1.          0.41642506]\n",
      "#   747  -> Agent 02 got reward +0.04000 for action: [-0.00416917  1.          1.         -0.44327925]\n",
      "#   748  -> Agent 02 got reward +0.02000 for action: [-0.97452285 -0.94990911  0.33411737  1.        ]\n",
      "#   778  -> Agent 20 got reward +0.03000 for action: [ 1.         -1.         -0.96153648  1.        ]\n",
      "#   779  -> Agent 20 got reward +0.04000 for action: [ 0.72160401 -0.78807763  0.04367435 -0.9559194 ]\n",
      "#   780  -> Agent 20 got reward +0.04000 for action: [-1.         -0.52721116 -0.03091403 -0.88174422]\n",
      "#   781  -> Agent 20 got reward +0.02000 for action: [-0.87905689  1.         -0.46097687  0.27191877]\n",
      "#   840  -> Agent 05 got reward +0.03000 for action: [ 0.56236077  0.18858729 -0.0397896  -0.45025162]\n",
      "#   841  -> Agent 05 got reward +0.04000 for action: [ 0.48066377 -0.51245701 -0.21884059 -0.34618694]\n",
      "#   842  -> Agent 05 got reward +0.04000 for action: [-0.2213723  -0.31633076  0.85718666 -1.        ]\n",
      "#   843  -> Agent 05 got reward +0.03000 for action: [-1.         -0.23522617  1.         -0.27556575]\n",
      "#   890  -> Agent 08 got reward +0.03000 for action: [-1.         -0.41412641  0.79341701  0.02550714]\n",
      "#   891  -> Agent 08 got reward +0.04000 for action: [ 1.          1.          0.19483469 -1.        ]\n",
      "#   892  -> Agent 08 got reward +0.04000 for action: [-0.21571217  0.11917046  1.          1.        ]\n",
      "#   893  -> Agent 08 got reward +0.04000 for action: [-1.         -0.59955405 -1.         -0.9731271 ]\n",
      "#   894  -> Agent 08 got reward +0.04000 for action: [ 1.         -0.10562343 -1.         -0.3768603 ]\n",
      "#   895  -> Agent 08 got reward +0.04000 for action: [-0.73117511 -0.17399045 -0.11644204  0.26641897]\n",
      "#   896  -> Agent 08 got reward +0.04000 for action: [-0.4174779   0.59296062  1.         -0.1883723 ]\n",
      "#   897  -> Agent 08 got reward +0.04000 for action: [ 1.         -0.79619881 -1.         -1.        ]\n",
      "#   898  -> Agent 08 got reward +0.04000 for action: [-1.         -0.11868238  0.33760192 -0.98121091]\n",
      "#   899  -> Agent 08 got reward +0.01000 for action: [-0.21683532  0.68519673  0.68479942 -1.        ]\n",
      "#  1001 #\n",
      "Total score (averaged over agents) this episode: 0.20049999551847578\n"
     ]
    }
   ],
   "source": [
    "# Should a run with random actions be perfomed first?\n",
    "RANDOMRUN = True\n",
    "\n",
    "# Some reminders about lambda functions\n",
    "# Thx2: https://realpython.com/python-lambda/\n",
    "# Thx2: https://thispointer.com/python-how-to-use-if-else-elif-in-lambda-functions/\n",
    "\n",
    "\n",
    "env_info = env.reset(train_mode=False)[brain_name]     # reset the environment    \n",
    "states = env_info.vector_observations                  # get the current state (for each agent)\n",
    "scores = np.zeros(num_agents)                          # initialize the score (for each agent)\n",
    "\n",
    "epc = 0\n",
    "print(f'We have {num_agents} active agent' + ( lambda x: 's' if x>1 else '' )(num_agents) )\n",
    "\n",
    "while RANDOMRUN == True:\n",
    "    epc += 1\n",
    "    #print(f'\\r#{epc}', end = ' ')\n",
    "    print(f'\\r#{str(epc).rjust(6)}', end = ' ')\n",
    "    actions = np.random.randn(num_agents, action_size) # select an action (for each agent)\n",
    "    #import pdb; pdb.set_trace() # Debug! Debug! Debug! Debug! Debug! Debug! \n",
    "    actions = np.clip(actions, -1, 1)                  # all actions between -1 and 1\n",
    "    env_info = env.step(actions)[brain_name]           # send all actions to tne environment\n",
    "    next_states = env_info.vector_observations         # get next state (for each agent)\n",
    "    rewards = env_info.rewards                         # get reward (for each agent)\n",
    "    dones = env_info.local_done                        # see if episode finished\n",
    "    rewards = env_info.rewards\n",
    "    nprewards = np.array(rewards)\n",
    "    scores += rewards                         # update the score (for each agent)\n",
    "    if np.sum(nprewards) > 0:\n",
    "        #print(f'\\r#{epc} Rewards = {rewards}')\n",
    "        maskagent = nprewards > 0\n",
    "        agentbefore = False\n",
    "        for (nagent, action) in enumerate(actions):\n",
    "            if maskagent[nagent]:\n",
    "                if agentbefore:\n",
    "                    print('\\r#' + '&'.rjust(6), end = ' ')\n",
    "                print(' -> Agent {:0>2d} got reward {:+.5f} for action: {}'.format(nagent+1, rewards[nagent], action))\n",
    "                agentbefore = True\n",
    "                #pp.pprint(list(action))\n",
    "    states = next_states                               # roll over states to next time step\n",
    "    if np.any(dones):                                  # exit loop if episode finished\n",
    "        break\n",
    "print('#')\n",
    "print('Total score (averaged over agents) this episode: {}'.format(np.mean(scores)))"
   ]
  },
  {
   "cell_type": "markdown",
   "metadata": {},
   "source": [
    "### When finished, you can close the environment.\n",
    "#### Just not for now because unit testing below"
   ]
  },
  {
   "cell_type": "code",
   "execution_count": 9,
   "metadata": {},
   "outputs": [],
   "source": [
    "# env.close()"
   ]
  },
  {
   "cell_type": "markdown",
   "metadata": {},
   "source": [
    "### 4. It's Your Turn!\n",
    "\n",
    "Now it's your turn to train your own agent to solve the environment!  When training the environment, set `train_mode=True`, so that the line for resetting the environment looks like the following:\n",
    "```python\n",
    "env_info = env.reset(train_mode=True)[brain_name]\n",
    "```"
   ]
  },
  {
   "cell_type": "markdown",
   "metadata": {},
   "source": [
    "##### FA: One BIG MISUNDERSTANDING & STACKS OF TENSORS (23-08-2020) --> #FA; BMSoT:\n",
    "It has cost me several days if not weeks to get behind the fact that the [A2C sample implementation of Miguel](https://github.com/mimoralea/gdrl/blob/master/notebooks/chapter_11/chapter-11.ipynb) is working with **stacks of tensors** instead of single tensors. Which was especially hard to find because the PyTorch code looks exactly the same for both.\n",
    "\n",
    "In the end, when I thought about it, it makes sense and is a nifty feature of PyTorch. It is just not obvious to people like me, without in deep insights in the inner workings of PyTorch. \n",
    "\n",
    "Furthermore the authors of the PyTorch documentation seem not to make it too visible, I had to dig it out of one of the function definitions I use, however inderectly over the layer defintion for a2cnet:\n",
    "\n",
    "https://pytorch.org/docs/0.4.0/_modules/torch/nn/functional.html#linear\n",
    "\n",
    "> def linear(input, weight, bias=None):\n",
    ">    \"\"\"\n",
    ">    Applies a linear transformation to the incoming data: :math:`y = xA^T + b`.\n",
    ">\n",
    ">    Shape:\n",
    ">        - Input: :math:`(N, *, in\\_features)` where `*` means any number of\n",
    ">          additional dimensions\n",
    ">        - Weight: :math:`(out\\_features, in\\_features)`\n",
    ">        - Bias: :math:`(out\\_features)`\n",
    ">        - Output: :math:`(N, *, out\\_features)`\n",
    ">    \"\"\"\n",
    ">    if input.dim() == 2 and bias is not None:\n",
    ">        # fused op is marginally faster\n",
    ">        return torch.addmm(bias, input, weight.t())\n",
    ">\n",
    ">    output = input.matmul(weight.t())\n",
    ">    if bias is not None:\n",
    ">        output += bias\n",
    ">    return output\n"
   ]
  },
  {
   "cell_type": "markdown",
   "metadata": {},
   "source": [
    "#### Tracing the error in the 'mya2cnet' module code refactoring below"
   ]
  },
  {
   "cell_type": "code",
   "execution_count": 10,
   "metadata": {},
   "outputs": [],
   "source": [
    "# TEST! TEST! TEST! TEST! TEST! TEST! TEST! TEST! TEST! TEST! TEST! TEST! TEST! TEST! \n",
    "#import pdb; pdb.set_trace() # Debug! Debug! Debug! Debug! Debug! Debug! \n",
    "\n",
    "import torch\n",
    "import torch.nn as nn\n",
    "import torch.nn.functional as F\n",
    "\n",
    "torch.manual_seed(20200808) # Debug! Debug! Debug! Debug! Debug! Debug! Debug! Debug!\n",
    "\n",
    "# Format: IN_Num [Layer 1] (OUT_Num = IN_Num) [Layer 2] OUT_Num = ...\n",
    "HIDDEN_DIMS_DEFAULT = {\n",
    "    'shared' : (512, 512, 256, 256),\n",
    "    'actor' : (256, 128, 128, 64),\n",
    "    'critic' : (256, 128, 128, 64)\n",
    "}\n",
    "hidden_dims = HIDDEN_DIMS_DEFAULT\n",
    "\n",
    "hlayers = dict()\n",
    "\n",
    "hlayers['shared'] = nn.ModuleList()\n",
    "hlayers['actor'] = nn.ModuleList()\n",
    "hlayers['critic'] = nn.ModuleList()\n",
    "\n",
    "\n"
   ]
  },
  {
   "cell_type": "code",
   "execution_count": 11,
   "metadata": {},
   "outputs": [],
   "source": [
    "# Input layer\n",
    "input_layer = nn.Linear( 33, hidden_dims['shared'][0] )"
   ]
  },
  {
   "cell_type": "code",
   "execution_count": 12,
   "metadata": {},
   "outputs": [
    {
     "data": {
      "text/plain": [
       "Linear(in_features=33, out_features=512, bias=True)"
      ]
     },
     "execution_count": 12,
     "metadata": {},
     "output_type": "execute_result"
    }
   ],
   "source": [
    "input_layer"
   ]
  },
  {
   "cell_type": "code",
   "execution_count": 13,
   "metadata": {},
   "outputs": [],
   "source": [
    "# Hidden layers shared\n",
    "for i in range( len(hidden_dims['shared']) -1 ):\n",
    "    hlayers['shared'].append( nn.Linear( hidden_dims['shared'][i], hidden_dims['shared'][i+1] ) )"
   ]
  },
  {
   "cell_type": "code",
   "execution_count": 14,
   "metadata": {},
   "outputs": [
    {
     "data": {
      "text/plain": [
       "ModuleList(\n",
       "  (0): Linear(in_features=512, out_features=512, bias=True)\n",
       "  (1): Linear(in_features=512, out_features=256, bias=True)\n",
       "  (2): Linear(in_features=256, out_features=256, bias=True)\n",
       ")"
      ]
     },
     "execution_count": 14,
     "metadata": {},
     "output_type": "execute_result"
    }
   ],
   "source": [
    "hlayers['shared']"
   ]
  },
  {
   "cell_type": "code",
   "execution_count": 15,
   "metadata": {},
   "outputs": [],
   "source": [
    "# Actor layers\n",
    "for i in range( len(hidden_dims['actor']) ):\n",
    "    #import pdb; pdb.set_trace() # Debug! Debug! Debug! Debug! Debug! Debug! Debug! Debug!\n",
    "    if i == 0:\n",
    "        hlayers['actor'].append( nn.Linear( hidden_dims['shared'][-1], hidden_dims['actor'][i] ) )\n",
    "    else:\n",
    "        # hlayers['actor'].append( nn.Linear( hidden_dims['actor'][i], hidden_dims['actor'][i+1] ERROR !!!\n",
    "        hlayers['actor'].append( nn.Linear( hidden_dims['actor'][i-1], hidden_dims['actor'][i] ) )\n",
    "    #print( i, hlayers['actor'] ) # Debug! Debug! Debug! Debug! Debug! Debug! Debug! Debug!\n",
    "        \n",
    "actor_out_layer = nn.Linear( hidden_dims['actor'][-1], 4 )"
   ]
  },
  {
   "cell_type": "code",
   "execution_count": 16,
   "metadata": {},
   "outputs": [
    {
     "data": {
      "text/plain": [
       "ModuleList(\n",
       "  (0): Linear(in_features=256, out_features=256, bias=True)\n",
       "  (1): Linear(in_features=256, out_features=128, bias=True)\n",
       "  (2): Linear(in_features=128, out_features=128, bias=True)\n",
       "  (3): Linear(in_features=128, out_features=64, bias=True)\n",
       ")"
      ]
     },
     "execution_count": 16,
     "metadata": {},
     "output_type": "execute_result"
    }
   ],
   "source": [
    "hlayers['actor']"
   ]
  },
  {
   "cell_type": "code",
   "execution_count": 17,
   "metadata": {},
   "outputs": [
    {
     "data": {
      "text/plain": [
       "Linear(in_features=64, out_features=4, bias=True)"
      ]
     },
     "execution_count": 17,
     "metadata": {},
     "output_type": "execute_result"
    }
   ],
   "source": [
    "actor_out_layer"
   ]
  },
  {
   "cell_type": "code",
   "execution_count": 18,
   "metadata": {},
   "outputs": [],
   "source": [
    "#Critic layers\n",
    "for i in range( len(hidden_dims['critic']) ):\n",
    "    if i == 0:\n",
    "        hlayers['critic'].append( nn.Linear( hidden_dims['shared'][-1], hidden_dims['critic'][i] ) )\n",
    "    else:\n",
    "        hlayers['critic'].append( nn.Linear( hidden_dims['critic'][i-1], hidden_dims['critic'][i] ) )\n",
    "critic_out_layer = nn.Linear( hidden_dims['critic'][-1], 1 )"
   ]
  },
  {
   "cell_type": "code",
   "execution_count": 19,
   "metadata": {},
   "outputs": [
    {
     "data": {
      "text/plain": [
       "ModuleList(\n",
       "  (0): Linear(in_features=256, out_features=256, bias=True)\n",
       "  (1): Linear(in_features=256, out_features=128, bias=True)\n",
       "  (2): Linear(in_features=128, out_features=128, bias=True)\n",
       "  (3): Linear(in_features=128, out_features=64, bias=True)\n",
       ")"
      ]
     },
     "execution_count": 19,
     "metadata": {},
     "output_type": "execute_result"
    }
   ],
   "source": [
    "hlayers['critic']"
   ]
  },
  {
   "cell_type": "code",
   "execution_count": 20,
   "metadata": {},
   "outputs": [
    {
     "data": {
      "text/plain": [
       "Linear(in_features=64, out_features=1, bias=True)"
      ]
     },
     "execution_count": 20,
     "metadata": {},
     "output_type": "execute_result"
    }
   ],
   "source": [
    "critic_out_layer"
   ]
  },
  {
   "cell_type": "code",
   "execution_count": 21,
   "metadata": {},
   "outputs": [],
   "source": [
    "# Prevents non Pytorch Tensor Object entering the processing stream\n",
    "def torch_format(state):\n",
    "    x = state\n",
    "    if not isinstance(x, torch.Tensor):\n",
    "        x = torch.tensor(x, dtype=torch.float32)\n",
    "        if len(x.size()) == 1:\n",
    "            x = x.unsqueeze(0)\n",
    "    return x"
   ]
  },
  {
   "cell_type": "code",
   "execution_count": 22,
   "metadata": {},
   "outputs": [],
   "source": [
    "def forward(state):\n",
    "    check_tensor = lambda x: isinstance(x, torch.Tensor)\n",
    "    x_act = True \n",
    "    x_crit = True\n",
    "\n",
    "    x = torch_format(state)\n",
    "    x = F.relu(  input_layer(x) )\n",
    "    for label in ['shared', 'actor', 'critic']:\n",
    "        for hlayer in  hlayers[label]:\n",
    "            if label == 'shared':\n",
    "                x = F.relu(  hlayer(x) )\n",
    "            if label == 'actor':\n",
    "                x_act = F.relu(  hlayer(x_act) )\n",
    "            if label == 'critic':\n",
    "                x_crit = F.relu(  hlayer(x_crit) )\n",
    "\n",
    "        # Thx2: https://discuss.pytorch.org/t/copy-deepcopy-vs-clone/55022\n",
    "        if ( type(x_act) == bool ):\n",
    "            x_act = x.clone()  # Create an Inplace copy...\n",
    "        if ( type(x_crit) == bool ):\n",
    "            x_crit = x.clone() # ...after processing shared layers\n",
    "\n",
    "    return  actor_out_layer(x_act),  critic_out_layer(x_crit) "
   ]
  },
  {
   "cell_type": "markdown",
   "metadata": {},
   "source": [
    "#### Test if A STACK OF (BMSoT) states are propagated through the debug network\n",
    "And make a list of outputs of two A2C instances"
   ]
  },
  {
   "cell_type": "code",
   "execution_count": 23,
   "metadata": {},
   "outputs": [
    {
     "name": "stdout",
     "output_type": "stream",
     "text": [
      "Actor: tensor(1.00000e-02 *\n",
      "       [[ 4.6543,  4.9756, -4.4953,  4.2128],\n",
      "        [ 4.7037,  4.9775, -4.4215,  4.1041],\n",
      "        [ 4.7006,  4.9798, -4.4235,  4.1018],\n",
      "        [ 4.6981,  4.9901, -4.3603,  4.1175],\n",
      "        [ 4.7117,  4.9911, -4.4272,  4.1191],\n",
      "        [ 4.6864,  4.9768, -4.4898,  4.2664],\n",
      "        [ 4.7017,  5.0059, -4.4374,  4.2481],\n",
      "        [ 4.7107,  4.9870, -4.4269,  4.1114],\n",
      "        [ 4.6985,  4.9721, -4.4752,  4.2727],\n",
      "        [ 4.6935,  5.0025, -4.4124,  4.2141],\n",
      "        [ 4.7007,  4.9718, -4.3907,  4.1061],\n",
      "        [ 4.6997,  4.9750, -4.4772,  4.2800],\n",
      "        [ 4.6790,  4.9917, -4.4376,  4.1197],\n",
      "        [ 4.6685,  4.9951, -4.4505,  4.1421],\n",
      "        [ 4.6763,  4.9944, -4.4406,  4.1248],\n",
      "        [ 4.6967,  4.9936, -4.3724,  4.1618],\n",
      "        [ 4.7116,  4.9925, -4.4258,  4.1176],\n",
      "        [ 4.7030,  4.9784, -4.4800,  4.2864],\n",
      "        [ 4.7116,  4.9804, -4.4134,  4.1002],\n",
      "        [ 4.6749,  4.9665, -4.4912,  4.2393]])\n",
      "Critic: tensor(1.00000e-02 *\n",
      "       [[ 4.7572],\n",
      "        [ 4.8767],\n",
      "        [ 4.8752],\n",
      "        [ 4.8696],\n",
      "        [ 4.8610],\n",
      "        [ 4.7746],\n",
      "        [ 4.8414],\n",
      "        [ 4.8706],\n",
      "        [ 4.8107],\n",
      "        [ 4.8393],\n",
      "        [ 4.8479],\n",
      "        [ 4.8147],\n",
      "        [ 4.8553],\n",
      "        [ 4.8110],\n",
      "        [ 4.8488],\n",
      "        [ 4.8638],\n",
      "        [ 4.8612],\n",
      "        [ 4.8194],\n",
      "        [ 4.8508],\n",
      "        [ 4.7676]])\n"
     ]
    }
   ],
   "source": [
    "#al = []\n",
    "#bl = []\n",
    "\n",
    "#for (dc, st) in enumerate(states):\n",
    "#    al.append(a)\n",
    "#    bl.append(b)\n",
    "\n",
    "#import pdb; pdb.set_trace() # Debug! Debug! Debug! Debug! Debug! Debug! Debug! Debug!    \n",
    "    \n",
    "#FA; BMSoT: No need to iterate through states any more!\n",
    "a,b = forward(states)\n",
    "print(f'Actor: {a}')\n",
    "print(f'Critic: {b}')"
   ]
  },
  {
   "cell_type": "markdown",
   "metadata": {},
   "source": [
    "#### Test if A STACK OF (BMSoT) states is propagated through the imported network"
   ]
  },
  {
   "cell_type": "code",
   "execution_count": 24,
   "metadata": {},
   "outputs": [],
   "source": [
    "import pdb # Debug! Debug! Debug! Debug! Debug! Debug! Debug! Debug!\n",
    "\n",
    "#from mya2cnet import A2CNetwork\n",
    "import mya2cnet\n",
    "\n",
    "# Thx2: https://emacs.stackexchange.com/a/13483\n",
    "import imp\n",
    "imp.reload(mya2cnet)\n",
    "\n",
    "device = torch.device(\"cuda:0\" if torch.cuda.is_available() else \"cpu\")\n",
    "\n",
    "tstnet1 = mya2cnet.A2CNetwork(33, 4).to(device) #FA; BMSoT: Looks exactly the same...\n",
    "tstnet2 = mya2cnet.A2CNetwork(33, 4).to(device) #FA; BMSoT: ...like without stacks!"
   ]
  },
  {
   "cell_type": "code",
   "execution_count": 25,
   "metadata": {},
   "outputs": [],
   "source": [
    "#FA; BMSoT: OBSOLETE\n",
    "#for (dc, st) in enumerate(states):\n",
    "\n",
    "\n",
    "\n",
    "# pdb.set_trace() # Debug! Debug! Debug! Debug! Debug! Debug! Debug! Debug!\n",
    "    \n",
    "#a1,b1 = tstnet1.forward(torch.tensor(states, dtype=torch.float, device=device))\n",
    "#a2,b2 = tstnet2.forward(torch.tensor(states).to(device))\n",
    "\n",
    "#print(f'Dist. Actor stacks 1-2: {torch.dist(a1, a2)}'.ljust(50) + ' # ' +\\\n",
    "#     f'Dist. Actor 1 stacks - Notebook stacks {torch.dist(a1, a)}'.rjust(50))\n",
    "#print(f'Dist. Critic stacks 1-2: {torch.dist(b1, b2)}'.ljust(50) + ' # ' +\\\n",
    "#     f'Dist. Critic 1 stacks - Notebook stacks {torch.dist(b1, b)}'.rjust(50))"
   ]
  },
  {
   "cell_type": "code",
   "execution_count": 26,
   "metadata": {},
   "outputs": [],
   "source": [
    "#next(tstnet1.parameters()).is_cuda"
   ]
  },
  {
   "cell_type": "code",
   "execution_count": 27,
   "metadata": {},
   "outputs": [],
   "source": [
    "#next(tstnet2.parameters()).is_cuda"
   ]
  },
  {
   "cell_type": "code",
   "execution_count": null,
   "metadata": {},
   "outputs": [],
   "source": []
  },
  {
   "cell_type": "code",
   "execution_count": 28,
   "metadata": {},
   "outputs": [],
   "source": [
    "#FA; BMSoT: OBSOLETE\n",
    "#for (dc, st) in enumerate(states):\n",
    "#    print(f'({dc+1}) -> {tstnet1.fullpass(st)}')\n",
    "    \n",
    "#tstnet1.fullpass( torch.tensor(states, device = device, dtype = torch.float) )"
   ]
  },
  {
   "cell_type": "code",
   "execution_count": 29,
   "metadata": {},
   "outputs": [],
   "source": [
    "#FA; BMSoT: OBSOLETE\n",
    "#for (dc, st) in enumerate(states):\n",
    "#    print(f'({dc+1})-> {tstnet1.select_action(st)}') #, end=' ')\n",
    "    \n",
    "#tstnet1.select_action(states)"
   ]
  },
  {
   "cell_type": "markdown",
   "metadata": {},
   "source": [
    "#### Test the agent instance"
   ]
  },
  {
   "cell_type": "code",
   "execution_count": 30,
   "metadata": {},
   "outputs": [],
   "source": [
    "import mya2cagent\n",
    "\n",
    "# Thx2: https://emacs.stackexchange.com/a/13483\n",
    "import imp\n",
    "imp.reload(mya2cagent)\n",
    "\n",
    "agent = mya2cagent.a2cagent(len(env_info.agents), env, brain, max_steps = 500)"
   ]
  },
  {
   "cell_type": "code",
   "execution_count": 31,
   "metadata": {},
   "outputs": [],
   "source": [
    "procs = mya2cagent.MultiProcEnv(env, 20200808, len(env_info.agents))"
   ]
  },
  {
   "cell_type": "code",
   "execution_count": 32,
   "metadata": {},
   "outputs": [
    {
     "name": "stdout",
     "output_type": "stream",
     "text": [
      "Training epoch: 500 #"
     ]
    }
   ],
   "source": [
    "# Thx2: https://discuss.pytorch.org/t/how-to-check-if-model-is-on-cuda/180/2?u=ferenc_acs\n",
    "\n",
    "agent.train(states)"
   ]
  },
  {
   "cell_type": "code",
   "execution_count": 33,
   "metadata": {},
   "outputs": [
    {
     "name": "stdout",
     "output_type": "stream",
     "text": [
      "#22 Avg 30 Rewards = 0.0009999999776482583\n",
      "#23 Avg 30 Rewards = 0.0029999999329447745\n",
      "#24 Avg 30 Rewards = 0.004999999888241291\n",
      "#25 Avg 30 Rewards = 0.006999999843537807\n",
      "#35 Avg 30 Rewards = 0.007499999832361937\n",
      "#36 Avg 30 Rewards = 0.009499999787658453\n",
      "#37 Avg 30 Rewards = 0.011499999742954969\n",
      "#38 Avg 30 Rewards = 0.013499999698251487\n",
      "#39 Avg 30 Rewards = 0.015499999653548003\n",
      "#40 Avg 30 Rewards = 0.01749999960884452\n",
      "#41 Avg 30 Rewards = 0.019499999564141036\n",
      "#68 Avg 30 Rewards = 0.0064999998547136785\n",
      "#69 Avg 30 Rewards = 0.0064999998547136785\n",
      "#70 Avg 30 Rewards = 0.0064999998547136785\n",
      "#71 Avg 30 Rewards = 0.0064999998547136785\n",
      "#72 Avg 30 Rewards = 0.008499999810010195\n",
      "#73 Avg 30 Rewards = 0.010499999765306712\n",
      "#74 Avg 30 Rewards = 0.010999999754130841\n",
      "#81 Avg 30 Rewards = 0.011499999742954969\n",
      "#82 Avg 30 Rewards = 0.014499999675899744\n",
      "#83 Avg 30 Rewards = 0.018499999586492778\n",
      "#84 Avg 30 Rewards = 0.020999999530613423\n",
      "#85 Avg 30 Rewards = 0.022999999485909937\n",
      "#86 Avg 30 Rewards = 0.024499999452382328\n",
      "#87 Avg 30 Rewards = 0.025999999418854714\n",
      "#88 Avg 30 Rewards = 0.02799999937415123\n",
      "#89 Avg 30 Rewards = 0.029999999329447746\n",
      "#90 Avg 30 Rewards = 0.031999999284744264\n",
      "#91 Avg 30 Rewards = 0.03399999924004078\n",
      "#92 Avg 30 Rewards = 0.03599999919533729\n",
      "#93 Avg 30 Rewards = 0.03799999915063381\n",
      "#94 Avg 30 Rewards = 0.03999999910593033\n",
      "#95 Avg 30 Rewards = 0.041999999061226846\n",
      "#96 Avg 30 Rewards = 0.043999999016523364\n",
      "#97 Avg 30 Rewards = 0.04499999899417162\n",
      "#102 Avg 30 Rewards = 0.036999999172985555\n",
      "#103 Avg 30 Rewards = 0.036999999172985555\n",
      "#104 Avg 30 Rewards = 0.03849999913945794\n",
      "#105 Avg 30 Rewards = 0.040499999094754456\n",
      "#106 Avg 30 Rewards = 0.042499999050050974\n",
      "#107 Avg 30 Rewards = 0.04449999900534749\n",
      "#108 Avg 30 Rewards = 0.04649999896064401\n",
      "#109 Avg 30 Rewards = 0.04849999891594052\n",
      "#110 Avg 30 Rewards = 0.04949999889358878\n",
      "#114 Avg 30 Rewards = 0.03999999910593033\n",
      "#115 Avg 30 Rewards = 0.03999999910593033\n",
      "#116 Avg 30 Rewards = 0.040499999094754456\n",
      "#117 Avg 30 Rewards = 0.040999999083578584\n",
      "#118 Avg 30 Rewards = 0.040999999083578584\n",
      "#119 Avg 30 Rewards = 0.040999999083578584\n",
      "#120 Avg 30 Rewards = 0.040999999083578584\n",
      "#123 Avg 30 Rewards = 0.03599999919533729\n",
      "#124 Avg 30 Rewards = 0.03599999919533729\n",
      "#125 Avg 30 Rewards = 0.03599999919533729\n",
      "#126 Avg 30 Rewards = 0.03599999919533729\n",
      "#127 Avg 30 Rewards = 0.035499999206513165\n",
      "#128 Avg 30 Rewards = 0.036999999172985555\n",
      "#129 Avg 30 Rewards = 0.03999999910593033\n",
      "#130 Avg 30 Rewards = 0.043999999016523364\n",
      "#131 Avg 30 Rewards = 0.04799999892711639\n",
      "#132 Avg 30 Rewards = 0.0514999988488853\n",
      "#133 Avg 30 Rewards = 0.05199999883770943\n",
      "#134 Avg 30 Rewards = 0.05199999883770943\n",
      "#135 Avg 30 Rewards = 0.05199999883770943\n",
      "#136 Avg 30 Rewards = 0.05199999883770943\n",
      "#137 Avg 30 Rewards = 0.05199999883770943\n",
      "#138 Avg 30 Rewards = 0.05199999883770943\n",
      "#139 Avg 30 Rewards = 0.05199999883770943\n",
      "#140 Avg 30 Rewards = 0.052999998815357684\n",
      "#141 Avg 30 Rewards = 0.0549999987706542\n",
      "#142 Avg 30 Rewards = 0.05699999872595072\n",
      "#143 Avg 30 Rewards = 0.05899999868124724\n",
      "#144 Avg 30 Rewards = 0.05999999865889549\n",
      "#160 Avg 30 Rewards = 0.03299999926239252\n",
      "#161 Avg 30 Rewards = 0.030999999307096005\n",
      "#162 Avg 30 Rewards = 0.028999999351799487\n",
      "#163 Avg 30 Rewards = 0.02849999936297536\n",
      "#170 Avg 30 Rewards = 0.01649999963119626\n",
      "#171 Avg 30 Rewards = 0.01649999963119626\n",
      "#172 Avg 30 Rewards = 0.01649999963119626\n",
      "#173 Avg 30 Rewards = 0.014999999664723873\n",
      "#206 Avg 30 Rewards = 0.0014999999664723873\n",
      "#207 Avg 30 Rewards = 0.0034999999217689036\n",
      "#225 Avg 30 Rewards = 0.004999999888241291\n",
      "#226 Avg 30 Rewards = 0.006999999843537807\n",
      "#227 Avg 30 Rewards = 0.008999999798834323\n",
      "#228 Avg 30 Rewards = 0.010999999754130841\n",
      "#246 Avg 30 Rewards = 0.008999999798834323\n",
      "#247 Avg 30 Rewards = 0.010999999754130841\n",
      "#248 Avg 30 Rewards = 0.012999999709427357\n",
      "#249 Avg 30 Rewards = 0.014999999664723873\n",
      "#250 Avg 30 Rewards = 0.01699999962002039\n",
      "#251 Avg 30 Rewards = 0.018999999575316905\n",
      "#252 Avg 30 Rewards = 0.020999999530613423\n",
      "#253 Avg 30 Rewards = 0.022999999485909937\n",
      "#254 Avg 30 Rewards = 0.024999999441206455\n",
      "#255 Avg 30 Rewards = 0.025499999430030583\n",
      "#256 Avg 30 Rewards = 0.0274999993853271\n",
      "#257 Avg 30 Rewards = 0.0274999993853271\n",
      "#258 Avg 30 Rewards = 0.0274999993853271\n",
      "#259 Avg 30 Rewards = 0.02949999934062362\n",
      "#260 Avg 30 Rewards = 0.031999999284744264\n",
      "#261 Avg 30 Rewards = 0.03599999919533729\n",
      "#262 Avg 30 Rewards = 0.03799999915063381\n",
      "#263 Avg 30 Rewards = 0.03999999910593033\n",
      "#264 Avg 30 Rewards = 0.041999999061226846\n",
      "#265 Avg 30 Rewards = 0.042499999050050974\n",
      "#286 Avg 30 Rewards = 0.019499999564141036\n",
      "#287 Avg 30 Rewards = 0.019499999564141036\n",
      "#288 Avg 30 Rewards = 0.019499999564141036\n",
      "#289 Avg 30 Rewards = 0.019499999564141036\n",
      "#290 Avg 30 Rewards = 0.018999999575316905\n",
      "#291 Avg 30 Rewards = 0.01649999963119626\n",
      "#307 Avg 30 Rewards = 0.011999999731779098\n",
      "#308 Avg 30 Rewards = 0.013999999687075614\n",
      "#309 Avg 30 Rewards = 0.015999999642372132\n",
      "#310 Avg 30 Rewards = 0.017999999597668646\n",
      "#311 Avg 30 Rewards = 0.019999999552965164\n",
      "#312 Avg 30 Rewards = 0.021999999508261682\n",
      "#320 Avg 30 Rewards = 0.014999999664723873\n",
      "#321 Avg 30 Rewards = 0.015499999653548003\n",
      "#322 Avg 30 Rewards = 0.01749999960884452\n",
      "#323 Avg 30 Rewards = 0.018999999575316905\n",
      "#325 Avg 30 Rewards = 0.019499999564141036\n",
      "#326 Avg 30 Rewards = 0.02149999951943755\n",
      "#327 Avg 30 Rewards = 0.02349999947473407\n",
      "#328 Avg 30 Rewards = 0.025499999430030583\n",
      "#329 Avg 30 Rewards = 0.0274999993853271\n",
      "#370 Avg 30 Rewards = 0.0004999999888241291\n",
      "#371 Avg 30 Rewards = 0.0024999999441206455\n",
      "#372 Avg 30 Rewards = 0.004499999899417162\n",
      "#375 Avg 30 Rewards = 0.005999999865889549\n",
      "#376 Avg 30 Rewards = 0.007999999821186066\n",
      "#377 Avg 30 Rewards = 0.009999999776482582\n",
      "#408 Avg 30 Rewards = 0.0014999999664723873\n",
      "#409 Avg 30 Rewards = 0.0034999999217689036\n",
      "#410 Avg 30 Rewards = 0.0054999998770654205\n",
      "#411 Avg 30 Rewards = 0.006999999843537807\n",
      "#419 Avg 30 Rewards = 0.007499999832361937\n",
      "#420 Avg 30 Rewards = 0.009499999787658453\n",
      "#421 Avg 30 Rewards = 0.011499999742954969\n",
      "#422 Avg 30 Rewards = 0.013499999698251487\n",
      "#423 Avg 30 Rewards = 0.015499999653548003\n",
      "#424 Avg 30 Rewards = 0.01749999960884452\n",
      "#435 Avg 30 Rewards = 0.017999999597668646\n",
      "#436 Avg 30 Rewards = 0.019999999552965164\n",
      "#437 Avg 30 Rewards = 0.021999999508261682\n",
      "#438 Avg 30 Rewards = 0.02249999949708581\n",
      "#439 Avg 30 Rewards = 0.02249999949708581\n",
      "#440 Avg 30 Rewards = 0.02249999949708581\n",
      "#441 Avg 30 Rewards = 0.022999999485909937\n",
      "#442 Avg 30 Rewards = 0.024999999441206455\n",
      "#443 Avg 30 Rewards = 0.026999999396502973\n",
      "#444 Avg 30 Rewards = 0.028999999351799487\n",
      "#445 Avg 30 Rewards = 0.030999999307096005\n",
      "#446 Avg 30 Rewards = 0.03299999926239252\n",
      "#447 Avg 30 Rewards = 0.03499999921768904\n",
      "#448 Avg 30 Rewards = 0.036999999172985555\n",
      "#449 Avg 30 Rewards = 0.03849999913945794\n",
      "#450 Avg 30 Rewards = 0.03749999916180968\n",
      "#459 Avg 30 Rewards = 0.031499999295920136\n",
      "#460 Avg 30 Rewards = 0.03349999925121665\n",
      "#470 Avg 30 Rewards = 0.024499999452382328\n",
      "#471 Avg 30 Rewards = 0.024499999452382328\n",
      "#472 Avg 30 Rewards = 0.024499999452382328\n",
      "#479 Avg 30 Rewards = 0.011499999742954969\n",
      "#480 Avg 30 Rewards = 0.012499999720603228\n",
      "#481 Avg 30 Rewards = 0.014499999675899744\n",
      "#482 Avg 30 Rewards = 0.01649999963119626\n",
      "#483 Avg 30 Rewards = 0.018499999586492778\n",
      "#484 Avg 30 Rewards = 0.019999999552965164\n",
      "#498 Avg 30 Rewards = 0.01699999962002039\n",
      "#499 Avg 30 Rewards = 0.018999999575316905\n",
      "#500 Avg 30 Rewards = 0.019499999564141036\n",
      "#501 Avg 30 Rewards = 0.019499999564141036\n",
      "#502 Avg 30 Rewards = 0.019499999564141036\n",
      "#503 Avg 30 Rewards = 0.02149999951943755\n",
      "#504 Avg 30 Rewards = 0.02349999947473407\n",
      "#505 Avg 30 Rewards = 0.023999999463558196\n",
      "#530 Avg 30 Rewards = 0.009499999787658453\n",
      "#531 Avg 30 Rewards = 0.009499999787658453\n",
      "#532 Avg 30 Rewards = 0.009499999787658453\n",
      "#533 Avg 30 Rewards = 0.009499999787658453\n",
      "#534 Avg 30 Rewards = 0.010499999765306712\n",
      "#535 Avg 30 Rewards = 0.011999999731779098\n",
      "#536 Avg 30 Rewards = 0.013999999687075614\n",
      "#537 Avg 30 Rewards = 0.014499999675899744\n",
      "#559 Avg 30 Rewards = 0.015499999653548003\n",
      "#560 Avg 30 Rewards = 0.01649999963119626\n",
      "#561 Avg 30 Rewards = 0.01649999963119626\n",
      "#562 Avg 30 Rewards = 0.015499999653548003\n",
      "#570 Avg 30 Rewards = 0.006999999843537807\n",
      "#571 Avg 30 Rewards = 0.008999999798834323\n",
      "#572 Avg 30 Rewards = 0.010999999754130841\n",
      "#573 Avg 30 Rewards = 0.012999999709427357\n",
      "#574 Avg 30 Rewards = 0.014999999664723873\n",
      "#575 Avg 30 Rewards = 0.01699999962002039\n",
      "#576 Avg 30 Rewards = 0.019999999552965164\n",
      "#577 Avg 30 Rewards = 0.023999999463558196\n",
      "#578 Avg 30 Rewards = 0.02799999937415123\n",
      "#579 Avg 30 Rewards = 0.030999999307096005\n",
      "#580 Avg 30 Rewards = 0.03299999926239252\n",
      "#581 Avg 30 Rewards = 0.03499999921768904\n",
      "#582 Avg 30 Rewards = 0.036999999172985555\n",
      "#583 Avg 30 Rewards = 0.03749999916180968\n",
      "#610 Avg 30 Rewards = 0.005999999865889549\n",
      "#611 Avg 30 Rewards = 0.005999999865889549\n",
      "#612 Avg 30 Rewards = 0.004999999888241291\n",
      "#613 Avg 30 Rewards = 0.006999999843537807\n",
      "#614 Avg 30 Rewards = 0.008999999798834323\n",
      "#615 Avg 30 Rewards = 0.009499999787658453\n",
      "#662 Avg 30 Rewards = 0.0024999999441206455\n",
      "#663 Avg 30 Rewards = 0.0064999998547136785\n",
      "#664 Avg 30 Rewards = 0.010499999765306712\n",
      "#665 Avg 30 Rewards = 0.014499999675899744\n",
      "#666 Avg 30 Rewards = 0.01749999960884452\n",
      "#667 Avg 30 Rewards = 0.018499999586492778\n",
      "#686 Avg 30 Rewards = 0.019499999564141036\n",
      "#687 Avg 30 Rewards = 0.02149999951943755\n",
      "#688 Avg 30 Rewards = 0.02249999949708581\n",
      "#703 Avg 30 Rewards = 0.004499999899417162\n",
      "#704 Avg 30 Rewards = 0.0064999998547136785\n",
      "#705 Avg 30 Rewards = 0.008499999810010195\n",
      "#706 Avg 30 Rewards = 0.010499999765306712\n",
      "#707 Avg 30 Rewards = 0.011499999742954969\n",
      "#708 Avg 30 Rewards = 0.013499999698251487\n",
      "#709 Avg 30 Rewards = 0.015499999653548003\n",
      "#710 Avg 30 Rewards = 0.01749999960884452\n",
      "#711 Avg 30 Rewards = 0.019499999564141036\n",
      "#712 Avg 30 Rewards = 0.02149999951943755\n",
      "#713 Avg 30 Rewards = 0.02249999949708581\n",
      "#749 Avg 30 Rewards = 0.0019999999552965165\n",
      "#750 Avg 30 Rewards = 0.003999999910593033\n",
      "#751 Avg 30 Rewards = 0.004499999899417162\n",
      "#762 Avg 30 Rewards = 0.0054999998770654205\n",
      "#763 Avg 30 Rewards = 0.007499999832361937\n",
      "#764 Avg 30 Rewards = 0.009499999787658453\n",
      "#765 Avg 30 Rewards = 0.010499999765306712\n",
      "#770 Avg 30 Rewards = 0.012499999720603228\n",
      "#771 Avg 30 Rewards = 0.012999999709427357\n",
      "#803 Avg 30 Rewards = 0.0019999999552965165\n",
      "#804 Avg 30 Rewards = 0.003999999910593033\n",
      "#805 Avg 30 Rewards = 0.0054999998770654205\n",
      "#815 Avg 30 Rewards = 0.006999999843537807\n",
      "#816 Avg 30 Rewards = 0.008999999798834323\n",
      "#817 Avg 30 Rewards = 0.012999999709427357\n",
      "#818 Avg 30 Rewards = 0.01699999962002039\n",
      "#819 Avg 30 Rewards = 0.020999999530613423\n",
      "#820 Avg 30 Rewards = 0.024999999441206455\n",
      "#821 Avg 30 Rewards = 0.028999999351799487\n",
      "#822 Avg 30 Rewards = 0.03299999926239252\n",
      "#823 Avg 30 Rewards = 0.036999999172985555\n",
      "#824 Avg 30 Rewards = 0.03899999912828207\n",
      "#854 Avg 30 Rewards = 0.0014999999664723873\n",
      "#855 Avg 30 Rewards = 0.0034999999217689036\n",
      "#856 Avg 30 Rewards = 0.0054999998770654205\n",
      "#857 Avg 30 Rewards = 0.007499999832361937\n",
      "#858 Avg 30 Rewards = 0.009499999787658453\n",
      "#859 Avg 30 Rewards = 0.009999999776482582\n",
      "#885 Avg 30 Rewards = 0.007999999821186066\n",
      "#886 Avg 30 Rewards = 0.007999999821186066\n",
      "#887 Avg 30 Rewards = 0.007999999821186066\n",
      "#888 Avg 30 Rewards = 0.007999999821186066\n",
      "#889 Avg 30 Rewards = 0.009499999787658453\n",
      "#890 Avg 30 Rewards = 0.011499999742954969\n",
      "#891 Avg 30 Rewards = 0.013499999698251487\n",
      "#892 Avg 30 Rewards = 0.015499999653548003\n",
      "#893 Avg 30 Rewards = 0.01749999960884452\n",
      "#894 Avg 30 Rewards = 0.019499999564141036\n",
      "#895 Avg 30 Rewards = 0.02149999951943755\n",
      "#896 Avg 30 Rewards = 0.02349999947473407\n",
      "#897 Avg 30 Rewards = 0.025499999430030583\n",
      "#898 Avg 30 Rewards = 0.0274999993853271\n",
      "#899 Avg 30 Rewards = 0.02949999934062362\n",
      "#900 Avg 30 Rewards = 0.031999999284744264\n",
      "#901 Avg 30 Rewards = 0.03599999919533729\n",
      "#902 Avg 30 Rewards = 0.03899999912828207\n",
      "#917 Avg 30 Rewards = 0.035499999206513165\n",
      "#918 Avg 30 Rewards = 0.035499999206513165\n",
      "#919 Avg 30 Rewards = 0.03449999922886491\n",
      "#941 Avg 30 Rewards = 0.0054999998770654205\n",
      "#942 Avg 30 Rewards = 0.0064999998547136785\n",
      "#947 Avg 30 Rewards = 0.005999999865889549\n",
      "#948 Avg 30 Rewards = 0.005999999865889549\n",
      "#950 Avg 30 Rewards = 0.006999999843537807\n",
      "#951 Avg 30 Rewards = 0.008999999798834323\n",
      "#952 Avg 30 Rewards = 0.012999999709427357\n",
      "#953 Avg 30 Rewards = 0.015499999653548003\n",
      "#954 Avg 30 Rewards = 0.01749999960884452\n",
      "#955 Avg 30 Rewards = 0.019499999564141036\n",
      "#956 Avg 30 Rewards = 0.02149999951943755\n",
      "#957 Avg 30 Rewards = 0.02249999949708581\n",
      "#966 Avg 30 Rewards = 0.023999999463558196\n",
      "#967 Avg 30 Rewards = 0.024999999441206455\n",
      "#987 Avg 30 Rewards = 0.0034999999217689036\n",
      "#988 Avg 30 Rewards = 0.0054999998770654205\n",
      "#989 Avg 30 Rewards = 0.007499999832361937\n",
      "#990 Avg 30 Rewards = 0.009499999787658453\n",
      "#991 Avg 30 Rewards = 0.011499999742954969\n",
      "#992 Avg 30 Rewards = 0.013499999698251487\n",
      "#993 Avg 30 Rewards = 0.015499999653548003\n",
      "#994 Avg 30 Rewards = 0.01749999960884452\n",
      "#995 Avg 30 Rewards = 0.019499999564141036\n",
      "#996 Avg 30 Rewards = 0.018499999586492778\n",
      "#  1001 #\n",
      "Total score (averaged over agents) this episode: 0.5864999868907035\n"
     ]
    }
   ],
   "source": [
    "# Some reminders about lambda functions\n",
    "# Thx2: https://realpython.com/python-lambda/\n",
    "# Thx2: https://thispointer.com/python-how-to-use-if-else-elif-in-lambda-functions/\n",
    "\n",
    "\n",
    "env_info = env.reset(train_mode=False)[brain_name]     # reset the environment    \n",
    "states = env_info.vector_observations                  # get the current state (for each agent)\n",
    "scores = np.zeros(num_agents)                          # initialize the score (for each agent)\n",
    "avg30sum = np.zeros(num_agents)\n",
    "\n",
    "scores30 = deque(scores, 30)\n",
    "epc = 0\n",
    "\n",
    "\n",
    "#import pdb; pdb.set_trace() # Debug! Debug! Debug! Debug! Debug! Debug! \n",
    "\n",
    "while True:\n",
    "    epc += 1\n",
    "    #print(f'\\r#{epc}', end = ' ')\n",
    "    print(f'\\r#{str(epc).rjust(6)}', end = ' ')\n",
    "    #actions = np.random.randn(num_agents, action_size) # select an action (for each agent)\n",
    "    actions = agent.a2c_net.select_action(states)\n",
    "    actions = np.clip(actions.detach().cpu().numpy(), -1, 1)                  # all actions between -1 and 1\n",
    "    env_info = env.step(actions)[brain_name]           # send all actions to tne environment\n",
    "    next_states = env_info.vector_observations         # get next state (for each agent)\n",
    "    rewards = env_info.rewards                         # get reward (for each agent)\n",
    "    dones = env_info.local_done                        # see if episode finished\n",
    "    rewards = env_info.rewards\n",
    "    nprewards = np.array(rewards)\n",
    "    scores += rewards                         # update the score (for each agent)\n",
    "    scores30.append(rewards)\n",
    "    if np.sum(nprewards) > 0:\n",
    "        for x in scores30:\n",
    "            avg30sum += x\n",
    "        print(f'\\r#{epc} Avg 30 Rewards = {np.mean(avg30sum)}')  \n",
    "        avg30sum = np.zeros(num_agents)\n",
    "        maskagent = nprewards > 0\n",
    "        agentbefore = False\n",
    "        #for (nagent, action) in enumerate(actions):\n",
    "        #    if maskagent[nagent]:\n",
    "        #        if agentbefore:\n",
    "        #            print('\\r#' + '&'.rjust(6), end = ' ')\n",
    "        #        print(' -> Agent {:0>2d} got reward {:+.5f} for action: {}'.format(nagent+1, rewards[nagent], action))\n",
    "        #        agentbefore = True\n",
    "        #        #pp.pprint(list(action))\n",
    "    states = next_states                               # roll over states to next time step\n",
    "    if np.any(dones):                                  # exit loop if episode finished\n",
    "        break\n",
    "print('#')\n",
    "print('Total score (averaged over agents) this episode: {}'.format(np.mean(scores)))"
   ]
  },
  {
   "cell_type": "code",
   "execution_count": 34,
   "metadata": {},
   "outputs": [],
   "source": [
    "env.close()"
   ]
  },
  {
   "cell_type": "code",
   "execution_count": null,
   "metadata": {},
   "outputs": [],
   "source": []
  }
 ],
 "metadata": {
  "kernelspec": {
   "display_name": "Python 3",
   "language": "python",
   "name": "python3"
  },
  "language_info": {
   "codemirror_mode": {
    "name": "ipython",
    "version": 3
   },
   "file_extension": ".py",
   "mimetype": "text/x-python",
   "name": "python",
   "nbconvert_exporter": "python",
   "pygments_lexer": "ipython3",
   "version": "3.6.10"
  }
 },
 "nbformat": 4,
 "nbformat_minor": 4
}
