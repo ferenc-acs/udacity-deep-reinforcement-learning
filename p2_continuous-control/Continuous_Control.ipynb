{
 "cells": [
  {
   "cell_type": "markdown",
   "metadata": {},
   "source": [
    "# Continuous Control\n",
    "\n",
    "---\n",
    "\n",
    "In this notebook, you will learn how to use the Unity ML-Agents environment for the second project of the [Deep Reinforcement Learning Nanodegree](https://www.udacity.com/course/deep-reinforcement-learning-nanodegree--nd893) program.\n",
    "\n",
    "### 1. Start the Environment\n",
    "\n",
    "We begin by importing the necessary packages.  If the code cell below returns an error, please revisit the project instructions to double-check that you have installed [Unity ML-Agents](https://github.com/Unity-Technologies/ml-agents/blob/master/docs/Installation.md) and [NumPy](http://www.numpy.org/)."
   ]
  },
  {
   "cell_type": "code",
   "execution_count": 1,
   "metadata": {},
   "outputs": [
    {
     "name": "stdout",
     "output_type": "stream",
     "text": [
      "posix.uname_result(sysname='Linux', nodename='Anubis-Linux', release='5.4.0-42-generic', version='#46-Ubuntu SMP Fri Jul 10 00:24:02 UTC 2020', machine='x86_64')\n"
     ]
    }
   ],
   "source": [
    "import os\n",
    "\n",
    "print(os.uname())\n",
    "\n",
    "# In the cloud environment?\n",
    "if 'root' in os.environ['HOME']:\n",
    "    UENVPATH = '/data/'\n",
    "    !pip -q install /home/workspace/python\n",
    "\n",
    "# In the standalone environment?\n",
    "if 'ferenc' in os.environ['HOME']:\n",
    "    UENVPATH = '/home/ferenc/Python/rl/udadrl/data/'\n",
    "\n",
    "\n",
    "from unityagents import UnityEnvironment\n",
    "import numpy as np\n",
    "\n",
    "import pprint as pp"
   ]
  },
  {
   "cell_type": "markdown",
   "metadata": {},
   "source": [
    "Next, we will start the environment!  **_Before running the code cell below_**, change the `file_name` parameter to match the location of the Unity environment that you downloaded.\n",
    "\n",
    "- **Mac**: `\"path/to/Reacher.app\"`\n",
    "- **Windows** (x86): `\"path/to/Reacher_Windows_x86/Reacher.exe\"`\n",
    "- **Windows** (x86_64): `\"path/to/Reacher_Windows_x86_64/Reacher.exe\"`\n",
    "- **Linux** (x86): `\"path/to/Reacher_Linux/Reacher.x86\"`\n",
    "- **Linux** (x86_64): `\"path/to/Reacher_Linux/Reacher.x86_64\"`\n",
    "- **Linux** (x86, headless): `\"path/to/Reacher_Linux_NoVis/Reacher.x86\"`\n",
    "- **Linux** (x86_64, headless): `\"path/to/Reacher_Linux_NoVis/Reacher.x86_64\"`\n",
    "\n",
    "For instance, if you are using a Mac, then you downloaded `Reacher.app`.  If this file is in the same folder as the notebook, then the line below should appear as follows:\n",
    "```\n",
    "env = UnityEnvironment(file_name=\"Reacher.app\")\n",
    "```"
   ]
  },
  {
   "cell_type": "code",
   "execution_count": 2,
   "metadata": {},
   "outputs": [
    {
     "name": "stderr",
     "output_type": "stream",
     "text": [
      "INFO:unityagents:\n",
      "'Academy' started successfully!\n",
      "Unity Academy name: Academy\n",
      "        Number of Brains: 1\n",
      "        Number of External Brains : 1\n",
      "        Lesson number : 0\n",
      "        Reset Parameters :\n",
      "\t\tgoal_speed -> 1.0\n",
      "\t\tgoal_size -> 5.0\n",
      "Unity brain name: ReacherBrain\n",
      "        Number of Visual Observations (per agent): 0\n",
      "        Vector Observation space type: continuous\n",
      "        Vector Observation space size (per agent): 33\n",
      "        Number of stacked Vector Observation: 1\n",
      "        Vector Action space type: continuous\n",
      "        Vector Action space size (per agent): 4\n",
      "        Vector Action descriptions: , , , \n"
     ]
    }
   ],
   "source": [
    "# ONE Agent, Standalone\n",
    "#UENVCHOICE = 'Reacher_Linux/Reacher.x86_64'\n",
    "\n",
    "# TWENTY Agents, Standalone\n",
    "#UENVCHOICE = 'Reacher_Linux_20/Reacher.x86_64'\n",
    "\n",
    "# ONE Agent, Cloud, No-Visuals \n",
    "#UENVCHOICE = 'Reacher_One_Linux_NoVis/Reacher_One_Linux_NoVis.x86_64'\n",
    "\n",
    "# TWENTY Agents, Cloud, No-Visuals \n",
    "UENVCHOICE = 'Reacher_Linux_NoVis/Reacher.x86_64'\n",
    "\n",
    "env = UnityEnvironment( file_name=os.path.join( UENVPATH, UENVCHOICE ) )\n",
    "\n",
    "\n"
   ]
  },
  {
   "cell_type": "markdown",
   "metadata": {},
   "source": [
    "Environments contain **_brains_** which are responsible for deciding the actions of their associated agents. Here we check for the first brain available, and set it as the default brain we will be controlling from Python."
   ]
  },
  {
   "cell_type": "code",
   "execution_count": 3,
   "metadata": {},
   "outputs": [],
   "source": [
    "# get the default brain\n",
    "brain_name = env.brain_names[0]\n",
    "brain = env.brains[brain_name]"
   ]
  },
  {
   "cell_type": "markdown",
   "metadata": {},
   "source": [
    "### 2. Examine the State and Action Spaces\n",
    "\n",
    "In this environment, a double-jointed arm can move to target locations. A reward of `+0.1` is provided for each step that the agent's hand is in the goal location. Thus, the goal of your agent is to maintain its position at the target location for as many time steps as possible.\n",
    "\n",
    "The observation space consists of `33` variables corresponding to position, rotation, velocity, and angular velocities of the arm.  Each action is a vector with four numbers, corresponding to torque applicable to two joints.  Every entry in the action vector must be a number between `-1` and `1`.\n",
    "\n",
    "Run the code cell below to print some information about the environment."
   ]
  },
  {
   "cell_type": "code",
   "execution_count": 4,
   "metadata": {},
   "outputs": [
    {
     "name": "stdout",
     "output_type": "stream",
     "text": [
      "Number of agents: 20\n",
      "Size of each action: 4\n",
      "There are 20 agents. Each observes a state with length: 33\n",
      "The state for the first agent looks like: [ 0.00000000e+00 -4.00000000e+00  0.00000000e+00  1.00000000e+00\n",
      " -0.00000000e+00 -0.00000000e+00 -4.37113883e-08  0.00000000e+00\n",
      "  0.00000000e+00  0.00000000e+00  0.00000000e+00  0.00000000e+00\n",
      "  0.00000000e+00  0.00000000e+00 -1.00000000e+01  0.00000000e+00\n",
      "  1.00000000e+00 -0.00000000e+00 -0.00000000e+00 -4.37113883e-08\n",
      "  0.00000000e+00  0.00000000e+00  0.00000000e+00  0.00000000e+00\n",
      "  0.00000000e+00  0.00000000e+00  5.75471878e+00 -1.00000000e+00\n",
      "  5.55726624e+00  0.00000000e+00  1.00000000e+00  0.00000000e+00\n",
      " -1.68164849e-01]\n"
     ]
    }
   ],
   "source": [
    "# reset the environment\n",
    "env_info = env.reset(train_mode=True)[brain_name]\n",
    "\n",
    "# number of agents\n",
    "num_agents = len(env_info.agents)\n",
    "print('Number of agents:', num_agents)\n",
    "\n",
    "# size of each action\n",
    "action_size = brain.vector_action_space_size\n",
    "print('Size of each action:', action_size)\n",
    "\n",
    "# examine the state space \n",
    "states = env_info.vector_observations\n",
    "state_size = states.shape[1]\n",
    "print('There are {} agents. Each observes a state with length: {}'.format(states.shape[0], state_size))\n",
    "print('The state for the first agent looks like:', states[0])"
   ]
  },
  {
   "cell_type": "markdown",
   "metadata": {},
   "source": [
    "### 3. Take Random Actions in the Environment\n",
    "\n",
    "In the next code cell, you will learn how to use the Python API to control the agent and receive feedback from the environment.\n",
    "\n",
    "Once this cell is executed, you will watch the agent's performance, if it selects an action at random with each time step.  A window should pop up that allows you to observe the agent, as it moves through the environment.  \n",
    "\n",
    "Of course, as part of the project, you'll have to change the code so that the agent is able to use its experience to gradually choose better actions when interacting with the environment!"
   ]
  },
  {
   "cell_type": "code",
   "execution_count": 5,
   "metadata": {},
   "outputs": [
    {
     "name": "stdout",
     "output_type": "stream",
     "text": [
      "We have 20 active agents\n",
      "#    73  -> Agent 13 got reward +0.01000 for action: [ 0.3036464   1.          1.         -0.84985236]\n",
      "#    74  -> Agent 13 got reward +0.04000 for action: [0.10844572 0.72525319 0.22602293 0.24358772]\n",
      "#    75  -> Agent 13 got reward +0.04000 for action: [-0.52222201  0.84929896  1.         -0.78967267]\n",
      "#    76  -> Agent 13 got reward +0.04000 for action: [-0.34437304  1.          0.98755469  0.41498856]\n",
      "#    77  -> Agent 13 got reward +0.04000 for action: [-0.01114446  0.07020575  1.         -0.42085115]\n",
      "#    78  -> Agent 13 got reward +0.04000 for action: [-0.64089699 -0.9768156   0.79347484  0.43360615]\n",
      "#    79  -> Agent 13 got reward +0.04000 for action: [ 1.          0.82747337  0.64510842 -0.07910951]\n",
      "#    80  -> Agent 13 got reward +0.01000 for action: [-1.          0.28461436 -0.57149256 -0.34046246]\n",
      "#   145  -> Agent 20 got reward +0.01000 for action: [ 0.3610598  -0.81480258  0.29801802 -1.        ]\n",
      "#   146  -> Agent 20 got reward +0.04000 for action: [-0.28291095 -0.95211364 -0.41467755 -0.54888233]\n",
      "#   147  -> Agent 20 got reward +0.04000 for action: [ 1.         -0.88815566 -0.18459129 -1.        ]\n",
      "#   148  -> Agent 20 got reward +0.04000 for action: [-0.24895589 -0.85705227 -1.         -0.08230316]\n",
      "#   149  -> Agent 20 got reward +0.04000 for action: [-1.          0.66506646  1.          0.78885068]\n",
      "#   150  -> Agent 20 got reward +0.04000 for action: [ 0.0064769  -1.          0.35744103 -0.84791433]\n",
      "#   151  -> Agent 20 got reward +0.04000 for action: [ 0.43799985  0.21714876  0.51780897 -0.2706916 ]\n",
      "#   152  -> Agent 20 got reward +0.04000 for action: [-0.2445847   1.          0.22053139 -0.24797306]\n",
      "#   153  -> Agent 20 got reward +0.04000 for action: [-0.12793576 -0.11130845  0.29338659  0.82557192]\n",
      "#   154  -> Agent 20 got reward +0.04000 for action: [ 0.60210847 -0.41167994  0.88291277 -0.93292379]\n",
      "#   155  -> Agent 20 got reward +0.04000 for action: [-0.21618806 -0.95955361 -0.72249092 -0.3640351 ]\n",
      "#   196  -> Agent 17 got reward +0.03000 for action: [ 0.67756537 -0.91733326 -1.         -0.04681684]\n",
      "#   197  -> Agent 17 got reward +0.04000 for action: [ 0.99063685  0.4767793  -0.90283394  0.49426245]\n",
      "#   198  -> Agent 17 got reward +0.04000 for action: [-0.90616822 -1.         -0.45868123 -1.        ]\n",
      "#   199  -> Agent 17 got reward +0.04000 for action: [ 0.16088132  0.35647684 -0.29251686  0.28655465]\n",
      "#   200  -> Agent 17 got reward +0.03000 for action: [-0.21601076 -0.15939425 -1.         -1.        ]\n",
      "#   262  -> Agent 03 got reward +0.04000 for action: [-0.51478738  0.10251308 -0.05103012 -1.        ]\n",
      "#   263  -> Agent 03 got reward +0.04000 for action: [ 1.         -1.         -1.         -0.73720569]\n",
      "#   264  -> Agent 03 got reward +0.04000 for action: [ 1.         -0.92563716 -0.25379965 -0.24947712]\n",
      "#   265  -> Agent 03 got reward +0.02000 for action: [-0.08985141 -0.67018932 -1.         -0.49023222]\n",
      "#   273  -> Agent 10 got reward +0.02000 for action: [-0.70146547 -0.02434787 -0.0140723  -1.        ]\n",
      "#   274  -> Agent 10 got reward +0.04000 for action: [-0.77075408  0.35012481 -0.4814926   0.29438725]\n",
      "#   275  -> Agent 10 got reward +0.04000 for action: [ 1.         -0.74897538  0.30620883 -1.        ]\n",
      "#   276  -> Agent 10 got reward +0.04000 for action: [ 0.54706971 -0.49589935 -0.00406027  0.01467906]\n",
      "#   277  -> Agent 10 got reward +0.04000 for action: [-0.71853147 -0.99349657 -0.45970865  0.64650288]\n",
      "#     &  -> Agent 15 got reward +0.04000 for action: [ 0.05291139  0.35092145 -0.07791393 -1.        ]\n",
      "#   278  -> Agent 10 got reward +0.01000 for action: [ 0.52873347 -0.1987219  -0.48480829  1.        ]\n",
      "#     &  -> Agent 15 got reward +0.04000 for action: [-0.17411784 -0.02363149 -1.         -0.45080361]\n",
      "#   314  -> Agent 03 got reward +0.02000 for action: [ 1.         -1.         -0.58396656 -0.13936218]\n",
      "#   315  -> Agent 03 got reward +0.04000 for action: [-0.40169798 -0.24172692  0.78755862 -0.05480851]\n",
      "#   316  -> Agent 03 got reward +0.04000 for action: [ 0.93909322 -0.85521048  0.82754179 -0.91707536]\n",
      "#   317  -> Agent 03 got reward +0.01000 for action: [ 1.          0.18428266 -0.80981142 -0.39693875]\n",
      "#   472  -> Agent 16 got reward +0.01000 for action: [ 1.         -0.09382563  1.          0.23982903]\n",
      "#   473  -> Agent 16 got reward +0.04000 for action: [-0.22320179  0.49213248 -1.          0.47750643]\n",
      "#   474  -> Agent 16 got reward +0.04000 for action: [ 0.64399015  0.19586907 -1.         -0.06045711]\n",
      "#   475  -> Agent 16 got reward +0.04000 for action: [0.27312657 0.07073195 0.72287003 0.94790267]\n",
      "#   476  -> Agent 16 got reward +0.04000 for action: [-0.28855617  0.77081468  0.15127502  1.        ]\n",
      "#   477  -> Agent 16 got reward +0.02000 for action: [ 0.57984328  1.         -0.24986236 -0.86557477]\n",
      "#   490  -> Agent 04 got reward +0.02000 for action: [-0.64107064 -0.438427   -0.26276619 -0.42861368]\n",
      "#   491  -> Agent 04 got reward +0.04000 for action: [ 0.05795238  0.53146408 -1.          0.07683452]\n",
      "#   492  -> Agent 04 got reward +0.04000 for action: [ 0.19604142 -1.          0.32655473 -0.01469085]\n",
      "#   493  -> Agent 04 got reward +0.03000 for action: [-2.63793125e-01 -1.00000000e+00 -1.00000000e+00 -1.49653177e-04]\n",
      "#   495  -> Agent 20 got reward +0.04000 for action: [ 0.75227011  0.6214685  -1.         -1.        ]\n",
      "#   496  -> Agent 20 got reward +0.04000 for action: [-1.          0.22452128 -0.8547974  -0.81904051]\n",
      "#   497  -> Agent 20 got reward +0.04000 for action: [ 0.43307774  1.         -0.13754989 -1.        ]\n",
      "#   498  -> Agent 20 got reward +0.04000 for action: [ 0.03627144 -0.85590078 -0.32296521 -1.        ]\n",
      "#   499  -> Agent 20 got reward +0.04000 for action: [ 0.98070903  0.75419172 -1.          0.4698457 ]\n",
      "#   500  -> Agent 20 got reward +0.03000 for action: [ 0.73123151 -0.07712762 -1.          0.62224121]\n",
      "#   521  -> Agent 16 got reward +0.01000 for action: [-0.69122499  0.59611493 -0.35738116  1.        ]\n",
      "#   522  -> Agent 16 got reward +0.04000 for action: [0.1936148  0.52178856 0.96070493 0.35516958]\n",
      "#   523  -> Agent 16 got reward +0.04000 for action: [-0.21980576 -0.70164366  1.         -1.        ]\n",
      "#   524  -> Agent 16 got reward +0.04000 for action: [0.09458045 1.         1.         1.        ]\n",
      "#   525  -> Agent 16 got reward +0.04000 for action: [ 1.         -0.44483749 -0.76160997  0.75162363]\n",
      "#   526  -> Agent 16 got reward +0.04000 for action: [-0.52096769  0.74026217 -0.44226522  0.93993937]\n",
      "#   527  -> Agent 16 got reward +0.04000 for action: [-0.93351461 -0.47796623  0.80479805  0.28700841]\n",
      "#   528  -> Agent 16 got reward +0.03000 for action: [ 0.38980699  0.75324454 -0.16037822 -0.54480772]\n",
      "#   771  -> Agent 18 got reward +0.04000 for action: [ 0.17034986 -0.23740178  0.82899998  0.14320326]\n",
      "#   772  -> Agent 18 got reward +0.04000 for action: [ 0.41748161  0.71519422 -1.         -1.        ]\n",
      "#     &  -> Agent 19 got reward +0.03000 for action: [ 0.58195602 -0.14354109  0.22845463 -0.94971861]\n",
      "#   773  -> Agent 18 got reward +0.02000 for action: [ 0.35836766 -0.08531909  0.17617413  0.54201031]\n",
      "#     &  -> Agent 19 got reward +0.04000 for action: [-0.71370343 -0.91227902 -0.11633571  0.65649115]\n",
      "#   774  -> Agent 19 got reward +0.04000 for action: [0.67688532 0.08631149 1.         0.30010504]\n",
      "#   775  -> Agent 19 got reward +0.04000 for action: [ 0.65539115 -0.21198018 -1.         -1.        ]\n",
      "#   776  -> Agent 19 got reward +0.04000 for action: [-0.34743334  0.60547789  0.00636703  0.46108279]\n",
      "#   777  -> Agent 19 got reward +0.04000 for action: [-0.9200469  -0.66057913 -0.20605739  0.31535498]\n",
      "#   778  -> Agent 19 got reward +0.04000 for action: [ 1.          0.42643884 -0.63375137 -0.71973789]\n",
      "#   779  -> Agent 19 got reward +0.04000 for action: [ 0.87640607 -0.10335922  1.         -1.        ]\n",
      "#   780  -> Agent 19 got reward +0.04000 for action: [ 0.54709792 -0.63476436 -1.         -0.34599199]\n",
      "#   781  -> Agent 19 got reward +0.03000 for action: [ 1.         -0.66560718 -0.03410791  0.58827502]\n",
      "#   787  -> Agent 08 got reward +0.04000 for action: [0.6240657  0.65426836 0.20304598 0.84144326]\n",
      "#   788  -> Agent 08 got reward +0.04000 for action: [-0.57116764  1.         -1.         -0.32745173]\n",
      "#   789  -> Agent 08 got reward +0.02000 for action: [-0.51224211  0.87222591  0.98774181 -0.87579162]\n",
      "#   838  -> Agent 06 got reward +0.04000 for action: [-1.        -1.         0.0250701  1.       ]\n",
      "#   839  -> Agent 06 got reward +0.04000 for action: [ 1.         -1.          0.57193155  0.05153062]\n",
      "#   840  -> Agent 06 got reward +0.04000 for action: [ 1.         -0.97891387 -1.          0.80250212]\n",
      "#   841  -> Agent 06 got reward +0.02000 for action: [ 0.50815936 -0.43995887  1.         -0.71141178]\n",
      "#   844  -> Agent 10 got reward +0.01000 for action: [-0.52405751 -0.54211933  1.          1.        ]\n",
      "#   845  -> Agent 10 got reward +0.04000 for action: [ 0.46057483  1.         -1.          0.92868535]\n",
      "#   846  -> Agent 06 got reward +0.03000 for action: [ 0.89171985 -0.09198509 -0.72387891 -1.        ]\n",
      "#     &  -> Agent 10 got reward +0.03000 for action: [ 0.37288383  0.21125598 -1.         -0.01263327]\n",
      "#   847  -> Agent 06 got reward +0.04000 for action: [-0.03845527  0.64303944  1.          0.44402661]\n",
      "#   848  -> Agent 06 got reward +0.04000 for action: [-0.08522987 -1.          0.5812412  -0.75906114]\n",
      "#   849  -> Agent 06 got reward +0.04000 for action: [ 0.31381149 -0.81037892  0.77029267 -0.54945729]\n",
      "#   850  -> Agent 06 got reward +0.04000 for action: [-1.          0.295391    0.50906145 -1.        ]\n",
      "#   851  -> Agent 06 got reward +0.04000 for action: [-0.0854789 -1.         0.059285   1.       ]\n",
      "#   852  -> Agent 06 got reward +0.02000 for action: [1.         0.09453535 0.169888   1.        ]\n",
      "#   913  -> Agent 11 got reward +0.01000 for action: [ 1.          1.          0.499459   -0.79006935]\n",
      "#   914  -> Agent 11 got reward +0.04000 for action: [-0.53500254  0.67861731 -0.5168052   1.        ]\n",
      "#   915  -> Agent 11 got reward +0.04000 for action: [-1. -1.  1.  1.]\n",
      "#   916  -> Agent 11 got reward +0.01000 for action: [-1.          0.34457367 -0.77957254 -1.        ]\n",
      "#  1001 #\n",
      "Total score (averaged over agents) this episode: 0.16749999625608325\n"
     ]
    }
   ],
   "source": [
    "# Some reminders about lambda functions\n",
    "# Thx2: https://realpython.com/python-lambda/\n",
    "# Thx2: https://thispointer.com/python-how-to-use-if-else-elif-in-lambda-functions/\n",
    "\n",
    "\n",
    "env_info = env.reset(train_mode=False)[brain_name]     # reset the environment    \n",
    "states = env_info.vector_observations                  # get the current state (for each agent)\n",
    "scores = np.zeros(num_agents)                          # initialize the score (for each agent)\n",
    "\n",
    "epc = 0\n",
    "print(f'We have {num_agents} active agent' + ( lambda x: 's' if x>1 else '' )(num_agents) )\n",
    "\n",
    "while True:\n",
    "    epc += 1\n",
    "    #print(f'\\r#{epc}', end = ' ')\n",
    "    print(f'\\r#{str(epc).rjust(6)}', end = ' ')\n",
    "    actions = np.random.randn(num_agents, action_size) # select an action (for each agent)\n",
    "    actions = np.clip(actions, -1, 1)                  # all actions between -1 and 1\n",
    "    env_info = env.step(actions)[brain_name]           # send all actions to tne environment\n",
    "    next_states = env_info.vector_observations         # get next state (for each agent)\n",
    "    rewards = env_info.rewards                         # get reward (for each agent)\n",
    "    dones = env_info.local_done                        # see if episode finished\n",
    "    rewards = env_info.rewards\n",
    "    nprewards = np.array(rewards)\n",
    "    scores += rewards                         # update the score (for each agent)\n",
    "    if np.sum(nprewards) > 0:\n",
    "        #print(f'\\r#{epc} Rewards = {rewards}')\n",
    "        maskagent = nprewards > 0\n",
    "        agentbefore = False\n",
    "        for (nagent, action) in enumerate(actions):\n",
    "            if maskagent[nagent]:\n",
    "                if agentbefore:\n",
    "                    print('\\r#' + '&'.rjust(6), end = ' ')\n",
    "                print(' -> Agent {:0>2d} got reward {:+.5f} for action: {}'.format(nagent+1, rewards[nagent], action))\n",
    "                agentbefore = True\n",
    "                #pp.pprint(list(action))\n",
    "    states = next_states                               # roll over states to next time step\n",
    "    if np.any(dones):                                  # exit loop if episode finished\n",
    "        break\n",
    "print('#')\n",
    "print('Total score (averaged over agents) this episode: {}'.format(np.mean(scores)))"
   ]
  },
  {
   "cell_type": "markdown",
   "metadata": {},
   "source": [
    "### When finished, you can close the environment."
   ]
  },
  {
   "cell_type": "code",
   "execution_count": 6,
   "metadata": {},
   "outputs": [],
   "source": [
    "env.close()"
   ]
  },
  {
   "cell_type": "markdown",
   "metadata": {},
   "source": [
    "### 4. It's Your Turn!\n",
    "\n",
    "Now it's your turn to train your own agent to solve the environment!  When training the environment, set `train_mode=True`, so that the line for resetting the environment looks like the following:\n",
    "```python\n",
    "env_info = env.reset(train_mode=True)[brain_name]\n",
    "```"
   ]
  },
  {
   "cell_type": "markdown",
   "metadata": {},
   "source": [
    "#### Tracing the error in the 'mya2cnet' module code refactoring below"
   ]
  },
  {
   "cell_type": "code",
   "execution_count": 7,
   "metadata": {},
   "outputs": [],
   "source": [
    "# TEST! TEST! TEST! TEST! TEST! TEST! TEST! TEST! TEST! TEST! TEST! TEST! TEST! TEST! \n",
    "#import pdb; pdb.set_trace()\n",
    "\n",
    "import torch\n",
    "import torch.nn as nn\n",
    "import torch.nn.functional as F\n",
    "\n",
    "torch.manual_seed(20200808) # Debug! Debug! Debug! Debug! Debug! Debug! Debug! Debug!\n",
    "\n",
    "# Format: IN_Num [Layer 1] (OUT_Num = IN_Num) [Layer 2] OUT_Num = ...\n",
    "HIDDEN_DIMS_DEFAULT = {\n",
    "    'shared' : (512, 512, 256, 256),\n",
    "    'actor' : (256, 128, 128, 64),\n",
    "    'critic' : (256, 128, 128, 64)\n",
    "}\n",
    "hidden_dims = HIDDEN_DIMS_DEFAULT\n",
    "\n",
    "hlayers = dict()\n",
    "\n",
    "hlayers['shared'] = nn.ModuleList()\n",
    "hlayers['actor'] = nn.ModuleList()\n",
    "hlayers['critic'] = nn.ModuleList()\n",
    "\n",
    "\n"
   ]
  },
  {
   "cell_type": "code",
   "execution_count": 8,
   "metadata": {},
   "outputs": [],
   "source": [
    "# Input layer\n",
    "input_layer = nn.Linear( 33, hidden_dims['shared'][0] )"
   ]
  },
  {
   "cell_type": "code",
   "execution_count": 9,
   "metadata": {},
   "outputs": [
    {
     "data": {
      "text/plain": [
       "Linear(in_features=33, out_features=512, bias=True)"
      ]
     },
     "execution_count": 9,
     "metadata": {},
     "output_type": "execute_result"
    }
   ],
   "source": [
    "input_layer"
   ]
  },
  {
   "cell_type": "code",
   "execution_count": 10,
   "metadata": {},
   "outputs": [],
   "source": [
    "# Hidden layers shared\n",
    "for i in range( len(hidden_dims['shared']) -1 ):\n",
    "    hlayers['shared'].append( nn.Linear( hidden_dims['shared'][i], hidden_dims['shared'][i+1] ) )"
   ]
  },
  {
   "cell_type": "code",
   "execution_count": 11,
   "metadata": {},
   "outputs": [
    {
     "data": {
      "text/plain": [
       "ModuleList(\n",
       "  (0): Linear(in_features=512, out_features=512, bias=True)\n",
       "  (1): Linear(in_features=512, out_features=256, bias=True)\n",
       "  (2): Linear(in_features=256, out_features=256, bias=True)\n",
       ")"
      ]
     },
     "execution_count": 11,
     "metadata": {},
     "output_type": "execute_result"
    }
   ],
   "source": [
    "hlayers['shared']"
   ]
  },
  {
   "cell_type": "code",
   "execution_count": 12,
   "metadata": {},
   "outputs": [],
   "source": [
    "# Actor layers\n",
    "for i in range( len(hidden_dims['actor']) ):\n",
    "    #import pdb; pdb.set_trace() # Debug! Debug! Debug! Debug! Debug! Debug! Debug! Debug!\n",
    "    if i == 0:\n",
    "        hlayers['actor'].append( nn.Linear( hidden_dims['shared'][-1], hidden_dims['actor'][i] ) )\n",
    "    else:\n",
    "        # hlayers['actor'].append( nn.Linear( hidden_dims['actor'][i], hidden_dims['actor'][i+1] ERROR !!!\n",
    "        hlayers['actor'].append( nn.Linear( hidden_dims['actor'][i-1], hidden_dims['actor'][i] ) )\n",
    "    #print( i, hlayers['actor'] ) # Debug! Debug! Debug! Debug! Debug! Debug! Debug! Debug!\n",
    "        \n",
    "actor_out_layer = nn.Linear( hidden_dims['actor'][-1], 4 )"
   ]
  },
  {
   "cell_type": "code",
   "execution_count": 13,
   "metadata": {},
   "outputs": [
    {
     "data": {
      "text/plain": [
       "ModuleList(\n",
       "  (0): Linear(in_features=256, out_features=256, bias=True)\n",
       "  (1): Linear(in_features=256, out_features=128, bias=True)\n",
       "  (2): Linear(in_features=128, out_features=128, bias=True)\n",
       "  (3): Linear(in_features=128, out_features=64, bias=True)\n",
       ")"
      ]
     },
     "execution_count": 13,
     "metadata": {},
     "output_type": "execute_result"
    }
   ],
   "source": [
    "hlayers['actor']"
   ]
  },
  {
   "cell_type": "code",
   "execution_count": 14,
   "metadata": {},
   "outputs": [
    {
     "data": {
      "text/plain": [
       "Linear(in_features=64, out_features=4, bias=True)"
      ]
     },
     "execution_count": 14,
     "metadata": {},
     "output_type": "execute_result"
    }
   ],
   "source": [
    "actor_out_layer"
   ]
  },
  {
   "cell_type": "code",
   "execution_count": 15,
   "metadata": {},
   "outputs": [],
   "source": [
    "#Critic layers\n",
    "for i in range( len(hidden_dims['critic']) ):\n",
    "    if i == 0:\n",
    "        hlayers['critic'].append( nn.Linear( hidden_dims['shared'][-1], hidden_dims['critic'][i] ) )\n",
    "    else:\n",
    "        hlayers['critic'].append( nn.Linear( hidden_dims['critic'][i-1], hidden_dims['critic'][i] ) )\n",
    "critic_out_layer = nn.Linear( hidden_dims['critic'][-1], 1 )"
   ]
  },
  {
   "cell_type": "code",
   "execution_count": 16,
   "metadata": {},
   "outputs": [
    {
     "data": {
      "text/plain": [
       "ModuleList(\n",
       "  (0): Linear(in_features=256, out_features=256, bias=True)\n",
       "  (1): Linear(in_features=256, out_features=128, bias=True)\n",
       "  (2): Linear(in_features=128, out_features=128, bias=True)\n",
       "  (3): Linear(in_features=128, out_features=64, bias=True)\n",
       ")"
      ]
     },
     "execution_count": 16,
     "metadata": {},
     "output_type": "execute_result"
    }
   ],
   "source": [
    "hlayers['critic']"
   ]
  },
  {
   "cell_type": "code",
   "execution_count": 17,
   "metadata": {},
   "outputs": [
    {
     "data": {
      "text/plain": [
       "Linear(in_features=64, out_features=1, bias=True)"
      ]
     },
     "execution_count": 17,
     "metadata": {},
     "output_type": "execute_result"
    }
   ],
   "source": [
    "critic_out_layer"
   ]
  },
  {
   "cell_type": "code",
   "execution_count": 18,
   "metadata": {},
   "outputs": [],
   "source": [
    "# Prevents non Pytorch Tensor Object entering the processing stream\n",
    "def torch_format(state):\n",
    "    x = state\n",
    "    if not isinstance(x, torch.Tensor):\n",
    "        x = torch.tensor(x, dtype=torch.float32)\n",
    "        if len(x.size()) == 1:\n",
    "            x = x.unsqueeze(0)\n",
    "    return x"
   ]
  },
  {
   "cell_type": "code",
   "execution_count": 19,
   "metadata": {},
   "outputs": [],
   "source": [
    "def forward(state):\n",
    "    check_tensor = lambda x: isinstance(x, torch.Tensor)\n",
    "    #last_x_shared_actor = True\n",
    "    #last_x_shared_critic = True\n",
    "    x_act = True \n",
    "    x_crit = True\n",
    "\n",
    "    \n",
    "    # BEGIN! Debug! Debug! Debug! Debug! Debug! Debug! Debug!\n",
    "    #x_act = 1 \n",
    "    #x_crit = 1 \n",
    "    ddims = lambda x: x.size() if check_tensor(x) else 'NoTorch'\n",
    "    # END! Debug! Debug! Debug! Debug! Debug! Debug! Debug!\n",
    "\n",
    "    x = torch_format(state)\n",
    "    x = F.relu(  input_layer(x) )\n",
    "    for label in ['shared', 'actor', 'critic']:\n",
    "        #for hlayer in  hlayers[label]:\n",
    "        for (dc, hlayer) in  enumerate(hlayers[label]): # Debug! Debug! Debug! Debug! Debug! Debug! Debug! Debug!\n",
    "            #print(f'Label: {label}; HLayer: {dc} #####') # Debug! Debug! Debug! Debug! Debug! Debug! Debug! Debug!\n",
    "            if label == 'shared':\n",
    "                x = F.relu(  hlayer(x) )\n",
    "            if label == 'actor':\n",
    "                #import pdb; pdb.set_trace()\n",
    "                #if check_tensor(last_x_shared_actor):\n",
    "                #    x_act = F.relu(  hlayer(last_x_shared_actor) ).clone()\n",
    "                #    last_x_shared_actor = False\n",
    "                #else:\n",
    "                #print(hlayer) # Debug! Debug! Debug! Debug! Debug! Debug! Debug! Debug!\n",
    "                x_act = F.relu(  hlayer(x_act) )\n",
    "            if label == 'critic':\n",
    "                #if check_tensor(last_x_shared_critic):\n",
    "                #    x_crit = F.relu(  hlayer(last_x_shared_critic) ).clone()\n",
    "                #    last_x_shared_critic = False\n",
    "                #else:\n",
    "                x_crit = F.relu(  hlayer(x_crit) )\n",
    "            # BEGIN! Debug! Debug! Debug! Debug! Debug! Debug! Debug!\n",
    "            #print(f'Types: x is {type(x)}; x_act is {type(x_act)}; last_x_shared_actor is {type(last_x_shared_actor)}')\n",
    "            #print(f'Dims: x is {ddims(x)};' +\\\n",
    "            #      f' x_act is {ddims(x_act)};' +\\\n",
    "            #      f' last_x_shared_actor is {ddims(last_x_shared_actor)}')\n",
    "            # END! Debug! Debug! Debug! Debug! Debug! Debug! Debug!\n",
    "\n",
    "        # Thx2: https://discuss.pytorch.org/t/copy-deepcopy-vs-clone/55022\n",
    "        if ( type(x_act) == bool ):\n",
    "            x_act = x.clone()  # Create an Inplace copy...\n",
    "        if ( type(x_crit) == bool ):\n",
    "            x_crit = x.clone() # ...after processing shared layers\n",
    "\n",
    "    return  actor_out_layer(x_act),  critic_out_layer(x_crit) "
   ]
  },
  {
   "cell_type": "markdown",
   "metadata": {},
   "source": [
    "#### Test if states are propagated through the debug network"
   ]
  },
  {
   "cell_type": "code",
   "execution_count": 20,
   "metadata": {},
   "outputs": [
    {
     "name": "stdout",
     "output_type": "stream",
     "text": [
      "(1) -> Actor: tensor(1.00000e-02 *\n",
      "       [[ 4.6543,  4.9756, -4.4953,  4.2128]])\n",
      "(1) -> Critic: tensor(1.00000e-02 *\n",
      "       [[ 4.7572]])\n",
      "(2) -> Actor: tensor(1.00000e-02 *\n",
      "       [[ 4.7037,  4.9775, -4.4215,  4.1041]])\n",
      "(2) -> Critic: tensor(1.00000e-02 *\n",
      "       [[ 4.8767]])\n",
      "(3) -> Actor: tensor(1.00000e-02 *\n",
      "       [[ 4.7006,  4.9798, -4.4235,  4.1018]])\n",
      "(3) -> Critic: tensor(1.00000e-02 *\n",
      "       [[ 4.8752]])\n",
      "(4) -> Actor: tensor(1.00000e-02 *\n",
      "       [[ 4.6981,  4.9901, -4.3603,  4.1175]])\n",
      "(4) -> Critic: tensor(1.00000e-02 *\n",
      "       [[ 4.8696]])\n",
      "(5) -> Actor: tensor(1.00000e-02 *\n",
      "       [[ 4.7117,  4.9911, -4.4272,  4.1191]])\n",
      "(5) -> Critic: tensor(1.00000e-02 *\n",
      "       [[ 4.8610]])\n",
      "(6) -> Actor: tensor(1.00000e-02 *\n",
      "       [[ 4.6864,  4.9768, -4.4898,  4.2664]])\n",
      "(6) -> Critic: tensor(1.00000e-02 *\n",
      "       [[ 4.7746]])\n",
      "(7) -> Actor: tensor(1.00000e-02 *\n",
      "       [[ 4.7017,  5.0059, -4.4374,  4.2481]])\n",
      "(7) -> Critic: tensor(1.00000e-02 *\n",
      "       [[ 4.8414]])\n",
      "(8) -> Actor: tensor(1.00000e-02 *\n",
      "       [[ 4.7107,  4.9870, -4.4269,  4.1114]])\n",
      "(8) -> Critic: tensor(1.00000e-02 *\n",
      "       [[ 4.8706]])\n",
      "(9) -> Actor: tensor(1.00000e-02 *\n",
      "       [[ 4.6985,  4.9721, -4.4752,  4.2727]])\n",
      "(9) -> Critic: tensor(1.00000e-02 *\n",
      "       [[ 4.8107]])\n",
      "(10) -> Actor: tensor(1.00000e-02 *\n",
      "       [[ 4.6935,  5.0025, -4.4124,  4.2141]])\n",
      "(10) -> Critic: tensor(1.00000e-02 *\n",
      "       [[ 4.8393]])\n",
      "(11) -> Actor: tensor(1.00000e-02 *\n",
      "       [[ 4.7007,  4.9718, -4.3907,  4.1061]])\n",
      "(11) -> Critic: tensor(1.00000e-02 *\n",
      "       [[ 4.8479]])\n",
      "(12) -> Actor: tensor(1.00000e-02 *\n",
      "       [[ 4.6997,  4.9750, -4.4772,  4.2800]])\n",
      "(12) -> Critic: tensor(1.00000e-02 *\n",
      "       [[ 4.8147]])\n",
      "(13) -> Actor: tensor(1.00000e-02 *\n",
      "       [[ 4.6790,  4.9917, -4.4376,  4.1197]])\n",
      "(13) -> Critic: tensor(1.00000e-02 *\n",
      "       [[ 4.8553]])\n",
      "(14) -> Actor: tensor(1.00000e-02 *\n",
      "       [[ 4.6685,  4.9951, -4.4505,  4.1421]])\n",
      "(14) -> Critic: tensor(1.00000e-02 *\n",
      "       [[ 4.8110]])\n",
      "(15) -> Actor: tensor(1.00000e-02 *\n",
      "       [[ 4.6763,  4.9944, -4.4406,  4.1248]])\n",
      "(15) -> Critic: tensor(1.00000e-02 *\n",
      "       [[ 4.8488]])\n",
      "(16) -> Actor: tensor(1.00000e-02 *\n",
      "       [[ 4.6967,  4.9936, -4.3724,  4.1618]])\n",
      "(16) -> Critic: tensor(1.00000e-02 *\n",
      "       [[ 4.8638]])\n",
      "(17) -> Actor: tensor(1.00000e-02 *\n",
      "       [[ 4.7116,  4.9925, -4.4258,  4.1176]])\n",
      "(17) -> Critic: tensor(1.00000e-02 *\n",
      "       [[ 4.8612]])\n",
      "(18) -> Actor: tensor(1.00000e-02 *\n",
      "       [[ 4.7030,  4.9784, -4.4800,  4.2864]])\n",
      "(18) -> Critic: tensor(1.00000e-02 *\n",
      "       [[ 4.8194]])\n",
      "(19) -> Actor: tensor(1.00000e-02 *\n",
      "       [[ 4.7116,  4.9804, -4.4134,  4.1002]])\n",
      "(19) -> Critic: tensor(1.00000e-02 *\n",
      "       [[ 4.8508]])\n",
      "(20) -> Actor: tensor(1.00000e-02 *\n",
      "       [[ 4.6749,  4.9665, -4.4912,  4.2393]])\n",
      "(20) -> Critic: tensor(1.00000e-02 *\n",
      "       [[ 4.7676]])\n"
     ]
    }
   ],
   "source": [
    "for (dc, st) in enumerate(states):\n",
    "    a,b = forward(st)\n",
    "    print(f'({dc+1}) -> Actor: {a}')\n",
    "    print(f'({dc+1}) -> Critic: {b}')"
   ]
  },
  {
   "cell_type": "markdown",
   "metadata": {},
   "source": [
    "#### Test if states are propagated through the imported network"
   ]
  },
  {
   "cell_type": "code",
   "execution_count": 21,
   "metadata": {},
   "outputs": [],
   "source": [
    "#from mya2cnet import A2CNetwork\n",
    "import mya2cnet\n",
    "\n",
    "# Thx2: https://emacs.stackexchange.com/a/13483\n",
    "#import imp\n",
    "#imp.reload(mya2cnet)\n",
    "\n",
    "tstnet = mya2cnet.A2CNetwork(33, 4)"
   ]
  },
  {
   "cell_type": "code",
   "execution_count": 22,
   "metadata": {},
   "outputs": [
    {
     "name": "stdout",
     "output_type": "stream",
     "text": [
      "(1) -> Actor: tensor(1.00000e-02 *\n",
      "       [[-1.2575,  3.2509,  3.0744,  0.9772]])\n",
      "(1) -> Critic: tensor(1.00000e-02 *\n",
      "       [[-3.3071]])\n",
      "(2) -> Actor: tensor(1.00000e-02 *\n",
      "       [[-1.3777,  3.3048,  2.9574,  1.0498]])\n",
      "(2) -> Critic: tensor(1.00000e-02 *\n",
      "       [[-3.3378]])\n",
      "(3) -> Actor: tensor(1.00000e-02 *\n",
      "       [[-1.3587,  3.2907,  2.9713,  1.0452]])\n",
      "(3) -> Critic: tensor(1.00000e-02 *\n",
      "       [[-3.3433]])\n",
      "(4) -> Actor: tensor(1.00000e-02 *\n",
      "       [[-1.2888,  3.2493,  3.0360,  1.0206]])\n",
      "(4) -> Critic: tensor(1.00000e-02 *\n",
      "       [[-3.3420]])\n",
      "(5) -> Actor: tensor(1.00000e-02 *\n",
      "       [[-1.3718,  3.3208,  2.9547,  1.0424]])\n",
      "(5) -> Critic: tensor(1.00000e-02 *\n",
      "       [[-3.2910]])\n",
      "(6) -> Actor: tensor(1.00000e-02 *\n",
      "       [[-1.2530,  3.2534,  3.0799,  0.9857]])\n",
      "(6) -> Critic: tensor(1.00000e-02 *\n",
      "       [[-3.2941]])\n",
      "(7) -> Actor: tensor(1.00000e-02 *\n",
      "       [[-1.2849,  3.2506,  3.0638,  1.0235]])\n",
      "(7) -> Critic: tensor(1.00000e-02 *\n",
      "       [[-3.3235]])\n",
      "(8) -> Actor: tensor(1.00000e-02 *\n",
      "       [[-1.3670,  3.3083,  2.9723,  1.0482]])\n",
      "(8) -> Critic: tensor(1.00000e-02 *\n",
      "       [[-3.3010]])\n",
      "(9) -> Actor: tensor(1.00000e-02 *\n",
      "       [[-1.2791,  3.2543,  3.0532,  1.0081]])\n",
      "(9) -> Critic: tensor(1.00000e-02 *\n",
      "       [[-3.2901]])\n",
      "(10) -> Actor: tensor(1.00000e-02 *\n",
      "       [[-1.2762,  3.2375,  3.0550,  1.0201]])\n",
      "(10) -> Critic: tensor(1.00000e-02 *\n",
      "       [[-3.3207]])\n",
      "(11) -> Actor: tensor(1.00000e-02 *\n",
      "       [[-1.3652,  3.3127,  2.9478,  1.0161]])\n",
      "(11) -> Critic: tensor(1.00000e-02 *\n",
      "       [[-3.3367]])\n",
      "(12) -> Actor: tensor(1.00000e-02 *\n",
      "       [[-1.2756,  3.2501,  3.0572,  1.0034]])\n",
      "(12) -> Critic: tensor(1.00000e-02 *\n",
      "       [[-3.3007]])\n",
      "(13) -> Actor: tensor(1.00000e-02 *\n",
      "       [[-1.3374,  3.2658,  2.9843,  1.0266]])\n",
      "(13) -> Critic: tensor(1.00000e-02 *\n",
      "       [[-3.3554]])\n",
      "(14) -> Actor: tensor(1.00000e-02 *\n",
      "       [[-1.3040,  3.2518,  3.0284,  1.0016]])\n",
      "(14) -> Critic: tensor(1.00000e-02 *\n",
      "       [[-3.3395]])\n",
      "(15) -> Actor: tensor(1.00000e-02 *\n",
      "       [[-1.3312,  3.2615,  2.9911,  1.0211]])\n",
      "(15) -> Critic: tensor(1.00000e-02 *\n",
      "       [[-3.3540]])\n",
      "(16) -> Actor: tensor(1.00000e-02 *\n",
      "       [[-1.2772,  3.2355,  3.0464,  1.0259]])\n",
      "(16) -> Critic: tensor(1.00000e-02 *\n",
      "       [[-3.3341]])\n",
      "(17) -> Actor: tensor(1.00000e-02 *\n",
      "       [[-1.3697,  3.3188,  2.9570,  1.0417]])\n",
      "(17) -> Critic: tensor(1.00000e-02 *\n",
      "       [[-3.2910]])\n",
      "(18) -> Actor: tensor(1.00000e-02 *\n",
      "       [[-1.2768,  3.2510,  3.0571,  1.0008]])\n",
      "(18) -> Critic: tensor(1.00000e-02 *\n",
      "       [[-3.3090]])\n",
      "(19) -> Actor: tensor(1.00000e-02 *\n",
      "       [[-1.3685,  3.3283,  2.9529,  1.0349]])\n",
      "(19) -> Critic: tensor(1.00000e-02 *\n",
      "       [[-3.3358]])\n",
      "(20) -> Actor: tensor(1.00000e-02 *\n",
      "       [[-1.2466,  3.2516,  3.0843,  0.9837]])\n",
      "(20) -> Critic: tensor(1.00000e-02 *\n",
      "       [[-3.2913]])\n"
     ]
    }
   ],
   "source": [
    "for (dc, st) in enumerate(states):\n",
    "    #import pdb; pdb.set_trace() # Debug! Debug! Debug! Debug! Debug! Debug! Debug! Debug!\n",
    "    a,b = tstnet.forward(st)\n",
    "    print(f'({dc+1}) -> Actor: {a}')\n",
    "    print(f'({dc+1}) -> Critic: {b}')"
   ]
  },
  {
   "cell_type": "code",
   "execution_count": null,
   "metadata": {},
   "outputs": [],
   "source": []
  }
 ],
 "metadata": {
  "kernelspec": {
   "display_name": "Python 3",
   "language": "python",
   "name": "python3"
  },
  "language_info": {
   "codemirror_mode": {
    "name": "ipython",
    "version": 3
   },
   "file_extension": ".py",
   "mimetype": "text/x-python",
   "name": "python",
   "nbconvert_exporter": "python",
   "pygments_lexer": "ipython3",
   "version": "3.6.10"
  }
 },
 "nbformat": 4,
 "nbformat_minor": 4
}
