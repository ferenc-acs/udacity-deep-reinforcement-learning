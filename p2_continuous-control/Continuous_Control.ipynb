{
 "cells": [
  {
   "cell_type": "markdown",
   "metadata": {},
   "source": [
    "# Continuous Control\n",
    "\n",
    "---\n",
    "\n",
    "In this notebook, you will learn how to use the Unity ML-Agents environment for the second project of the [Deep Reinforcement Learning Nanodegree](https://www.udacity.com/course/deep-reinforcement-learning-nanodegree--nd893) program.\n",
    "\n",
    "### 1. Start the Environment\n",
    "\n",
    "We begin by importing the necessary packages.  If the code cell below returns an error, please revisit the project instructions to double-check that you have installed [Unity ML-Agents](https://github.com/Unity-Technologies/ml-agents/blob/master/docs/Installation.md) and [NumPy](http://www.numpy.org/)."
   ]
  },
  {
   "cell_type": "code",
   "execution_count": 1,
   "metadata": {},
   "outputs": [
    {
     "name": "stdout",
     "output_type": "stream",
     "text": [
      "posix.uname_result(sysname='Linux', nodename='0f23bb6556e8', release='4.15.0-1080-gcp', version='#90~16.04.1-Ubuntu SMP Fri Jul 10 19:11:10 UTC 2020', machine='x86_64')\n",
      "\u001b[31mtensorflow 1.7.1 has requirement numpy>=1.13.3, but you'll have numpy 1.12.1 which is incompatible.\u001b[0m\n",
      "\u001b[31mipython 6.5.0 has requirement prompt-toolkit<2.0.0,>=1.0.15, but you'll have prompt-toolkit 3.0.6 which is incompatible.\u001b[0m\n"
     ]
    }
   ],
   "source": [
    "import os\n",
    "\n",
    "print(os.uname())\n",
    "\n",
    "# In the cloud environment?\n",
    "if 'root' in os.environ['HOME']:\n",
    "    UENVPATH = '/data/'\n",
    "    !pip -q install /home/workspace/python\n",
    "\n",
    "# In the standalone environment?\n",
    "if 'ferenc' in os.environ['HOME']:\n",
    "    UENVPATH = '/home/ferenc/Python/rl/udadrl/data/'\n",
    "\n",
    "\n",
    "from unityagents import UnityEnvironment\n",
    "import numpy as np\n",
    "\n",
    "import pprint as pp"
   ]
  },
  {
   "cell_type": "markdown",
   "metadata": {},
   "source": [
    "Next, we will start the environment!  **_Before running the code cell below_**, change the `file_name` parameter to match the location of the Unity environment that you downloaded.\n",
    "\n",
    "- **Mac**: `\"path/to/Reacher.app\"`\n",
    "- **Windows** (x86): `\"path/to/Reacher_Windows_x86/Reacher.exe\"`\n",
    "- **Windows** (x86_64): `\"path/to/Reacher_Windows_x86_64/Reacher.exe\"`\n",
    "- **Linux** (x86): `\"path/to/Reacher_Linux/Reacher.x86\"`\n",
    "- **Linux** (x86_64): `\"path/to/Reacher_Linux/Reacher.x86_64\"`\n",
    "- **Linux** (x86, headless): `\"path/to/Reacher_Linux_NoVis/Reacher.x86\"`\n",
    "- **Linux** (x86_64, headless): `\"path/to/Reacher_Linux_NoVis/Reacher.x86_64\"`\n",
    "\n",
    "For instance, if you are using a Mac, then you downloaded `Reacher.app`.  If this file is in the same folder as the notebook, then the line below should appear as follows:\n",
    "```\n",
    "env = UnityEnvironment(file_name=\"Reacher.app\")\n",
    "```"
   ]
  },
  {
   "cell_type": "code",
   "execution_count": 2,
   "metadata": {},
   "outputs": [
    {
     "name": "stderr",
     "output_type": "stream",
     "text": [
      "INFO:unityagents:\n",
      "'Academy' started successfully!\n",
      "Unity Academy name: Academy\n",
      "        Number of Brains: 1\n",
      "        Number of External Brains : 1\n",
      "        Lesson number : 0\n",
      "        Reset Parameters :\n",
      "\t\tgoal_size -> 5.0\n",
      "\t\tgoal_speed -> 1.0\n",
      "Unity brain name: ReacherBrain\n",
      "        Number of Visual Observations (per agent): 0\n",
      "        Vector Observation space type: continuous\n",
      "        Vector Observation space size (per agent): 33\n",
      "        Number of stacked Vector Observation: 1\n",
      "        Vector Action space type: continuous\n",
      "        Vector Action space size (per agent): 4\n",
      "        Vector Action descriptions: , , , \n"
     ]
    }
   ],
   "source": [
    "# ONE Agent, Standalone\n",
    "#UENVCHOICE = 'Reacher_Linux/Reacher.x86_64'\n",
    "\n",
    "# TWENTY Agents, Standalone\n",
    "#UENVCHOICE = 'Reacher_Linux_20/Reacher.x86_64'\n",
    "\n",
    "# ONE Agent, Cloud, No-Visuals \n",
    "#UENVCHOICE = 'Reacher_One_Linux_NoVis/Reacher_One_Linux_NoVis.x86_64'\n",
    "\n",
    "# TWENTY Agents, Cloud, No-Visuals \n",
    "UENVCHOICE = 'Reacher_Linux_NoVis/Reacher.x86_64'\n",
    "\n",
    "env = UnityEnvironment( file_name=os.path.join( UENVPATH, UENVCHOICE ) )\n",
    "\n",
    "\n"
   ]
  },
  {
   "cell_type": "markdown",
   "metadata": {},
   "source": [
    "Environments contain **_brains_** which are responsible for deciding the actions of their associated agents. Here we check for the first brain available, and set it as the default brain we will be controlling from Python."
   ]
  },
  {
   "cell_type": "code",
   "execution_count": 3,
   "metadata": {},
   "outputs": [
    {
     "data": {
      "text/plain": [
       "unityagents.environment.UnityEnvironment"
      ]
     },
     "execution_count": 3,
     "metadata": {},
     "output_type": "execute_result"
    }
   ],
   "source": [
    "# FA DEBUG! DEBUG! DEBUG! \n",
    "type(env)"
   ]
  },
  {
   "cell_type": "code",
   "execution_count": 4,
   "metadata": {},
   "outputs": [],
   "source": [
    "# get the default brain\n",
    "brain_name = env.brain_names[0]\n",
    "brain = env.brains[brain_name]"
   ]
  },
  {
   "cell_type": "code",
   "execution_count": 5,
   "metadata": {},
   "outputs": [
    {
     "name": "stdout",
     "output_type": "stream",
     "text": [
      "['ReacherBrain']\n",
      "<class 'unityagents.brain.BrainParameters'>\n"
     ]
    },
    {
     "data": {
      "text/plain": [
       "'ReacherBrain'"
      ]
     },
     "execution_count": 5,
     "metadata": {},
     "output_type": "execute_result"
    }
   ],
   "source": [
    "# FA  DEBUG! DEBUG! DEBUG! \n",
    "print(env.brain_names)\n",
    "print( type(brain) )\n",
    "brain.brain_name"
   ]
  },
  {
   "cell_type": "code",
   "execution_count": 6,
   "metadata": {},
   "outputs": [
    {
     "name": "stdout",
     "output_type": "stream",
     "text": [
      "Observation Space: 33 dimensions of continuous type\n",
      "Action Space: 4 dimensions of continuous type\n"
     ]
    }
   ],
   "source": [
    "# FA  DEBUG! DEBUG! DEBUG!\n",
    "print(f'Observation Space: {brain.vector_observation_space_size} dimensions of {brain.vector_observation_space_type} type') \n",
    "print(f'Action Space: {brain.vector_action_space_size} dimensions of {brain.vector_observation_space_type} type')"
   ]
  },
  {
   "cell_type": "markdown",
   "metadata": {},
   "source": [
    "### 2. Examine the State and Action Spaces\n",
    "\n",
    "In this environment, a double-jointed arm can move to target locations. A reward of `+0.1` is provided for each step that the agent's hand is in the goal location. Thus, the goal of your agent is to maintain its position at the target location for as many time steps as possible.\n",
    "\n",
    "The observation space consists of `33` variables corresponding to position, rotation, velocity, and angular velocities of the arm.  Each action is a vector with four numbers, corresponding to torque applicable to two joints.  Every entry in the action vector must be a number between `-1` and `1`.\n",
    "\n",
    "Run the code cell below to print some information about the environment."
   ]
  },
  {
   "cell_type": "code",
   "execution_count": 7,
   "metadata": {},
   "outputs": [
    {
     "name": "stdout",
     "output_type": "stream",
     "text": [
      "Number of agents: 20\n",
      "Size of each action: 4\n",
      "There are 20 agents. Each observes a state with length: 33\n",
      "The state for the first agent looks like: [  0.00000000e+00  -4.00000000e+00   0.00000000e+00   1.00000000e+00\n",
      "  -0.00000000e+00  -0.00000000e+00  -4.37113883e-08   0.00000000e+00\n",
      "   0.00000000e+00   0.00000000e+00   0.00000000e+00   0.00000000e+00\n",
      "   0.00000000e+00   0.00000000e+00  -1.00000000e+01   0.00000000e+00\n",
      "   1.00000000e+00  -0.00000000e+00  -0.00000000e+00  -4.37113883e-08\n",
      "   0.00000000e+00   0.00000000e+00   0.00000000e+00   0.00000000e+00\n",
      "   0.00000000e+00   0.00000000e+00   5.75471878e+00  -1.00000000e+00\n",
      "   5.55726624e+00   0.00000000e+00   1.00000000e+00   0.00000000e+00\n",
      "  -1.68164849e-01]\n"
     ]
    }
   ],
   "source": [
    "# reset the environment\n",
    "env_info = env.reset(train_mode=True)[brain_name]\n",
    "\n",
    "# number of agents\n",
    "num_agents = len(env_info.agents)\n",
    "print('Number of agents:', num_agents)\n",
    "\n",
    "# size of each action\n",
    "action_size = brain.vector_action_space_size\n",
    "print('Size of each action:', action_size)\n",
    "\n",
    "# examine the state space \n",
    "states = env_info.vector_observations\n",
    "state_size = states.shape[1]\n",
    "print('There are {} agents. Each observes a state with length: {}'.format(states.shape[0], state_size))\n",
    "print('The state for the first agent looks like:', states[0])"
   ]
  },
  {
   "cell_type": "markdown",
   "metadata": {},
   "source": [
    "### 3. Take Random Actions in the Environment\n",
    "\n",
    "In the next code cell, you will learn how to use the Python API to control the agent and receive feedback from the environment.\n",
    "\n",
    "Once this cell is executed, you will watch the agent's performance, if it selects an action at random with each time step.  A window should pop up that allows you to observe the agent, as it moves through the environment.  \n",
    "\n",
    "Of course, as part of the project, you'll have to change the code so that the agent is able to use its experience to gradually choose better actions when interacting with the environment!"
   ]
  },
  {
   "cell_type": "code",
   "execution_count": 8,
   "metadata": {},
   "outputs": [
    {
     "name": "stdout",
     "output_type": "stream",
     "text": [
      "We have 20 active agents\n",
      "#   119  -> Agent 16 got reward +0.02000 for action: [ 0.4208174   0.89579368  1.          0.67278157]\n",
      "#   120  -> Agent 16 got reward +0.04000 for action: [-0.92477405 -0.21108586  0.22577134 -0.98736192]\n",
      "#   121  -> Agent 16 got reward +0.04000 for action: [-0.56013196 -1.         -0.22539541 -1.        ]\n",
      "#   122  -> Agent 16 got reward +0.04000 for action: [-0.60169462 -0.70272571  1.         -0.79619416]\n",
      "#   123  -> Agent 16 got reward +0.04000 for action: [ 0.57227347  1.         -1.         -0.8228725 ]\n",
      "#   124  -> Agent 16 got reward +0.04000 for action: [ 1.         -0.03567945 -1.         -0.57805396]\n",
      "#   125  -> Agent 16 got reward +0.04000 for action: [-0.21469491  1.         -0.71236992 -0.25031089]\n",
      "#   126  -> Agent 16 got reward +0.04000 for action: [ 0.4334889  1.         1.         1.       ]\n",
      "#   127  -> Agent 16 got reward +0.04000 for action: [-1.         -1.         -0.36790948  0.16915721]\n",
      "#   139  -> Agent 17 got reward +0.04000 for action: [-0.14596953 -0.35368272 -0.8999663   0.99525788]\n",
      "#   140  -> Agent 17 got reward +0.04000 for action: [-1.         -0.00727073 -0.73596924 -0.03867065]\n",
      "#   141  -> Agent 17 got reward +0.04000 for action: [ 0.05272533 -0.13801028  1.         -0.63796154]\n",
      "#   142  -> Agent 17 got reward +0.04000 for action: [-0.49020727  0.38124606 -0.83579312  1.        ]\n",
      "#   143  -> Agent 17 got reward +0.04000 for action: [-0.95504841  0.86241665 -0.00238203  0.95282663]\n",
      "#   144  -> Agent 17 got reward +0.04000 for action: [ 0.46867496  1.         -0.62483181  0.09486019]\n",
      "#   145  -> Agent 17 got reward +0.04000 for action: [-0.15827023  0.64944092 -0.08836382 -0.52655292]\n",
      "#   146  -> Agent 17 got reward +0.02000 for action: [ 1.          0.99475493  0.02626204 -0.85463585]\n",
      "#     &  -> Agent 19 got reward +0.01000 for action: [ 0.33455018 -0.79057704  0.11975367  0.10202529]\n",
      "#   147  -> Agent 19 got reward +0.04000 for action: [ 0.37461071 -0.87245579  1.         -0.52696211]\n",
      "#   148  -> Agent 19 got reward +0.04000 for action: [ 0.98614131  0.16111462 -0.05885464 -1.        ]\n",
      "#   149  -> Agent 19 got reward +0.04000 for action: [-0.8345929  -1.         -0.43548767  1.        ]\n",
      "#   150  -> Agent 19 got reward +0.04000 for action: [ 1.          0.43755406  1.          0.16958951]\n",
      "#   151  -> Agent 19 got reward +0.04000 for action: [-1.         -0.34949447 -1.         -1.        ]\n",
      "#   152  -> Agent 19 got reward +0.04000 for action: [-0.011931   -0.29501419  1.         -1.        ]\n",
      "#   153  -> Agent 19 got reward +0.04000 for action: [-0.68280023 -0.39472197 -1.          0.35153226]\n",
      "#   154  -> Agent 19 got reward +0.04000 for action: [-0.06728938  0.55384969  0.9414978  -0.98561083]\n",
      "#   354  -> Agent 18 got reward +0.03000 for action: [ 1.         -0.06349181  1.         -0.00471826]\n",
      "#   355  -> Agent 18 got reward +0.02000 for action: [-0.21275135  0.88069909  0.64736602  0.84375575]\n",
      "#   373  -> Agent 01 got reward +0.04000 for action: [-0.31900702 -0.53297727  0.56165864 -0.04559473]\n",
      "#   374  -> Agent 01 got reward +0.04000 for action: [ 0.03916744 -0.64556776  0.65537234 -1.        ]\n",
      "#   375  -> Agent 01 got reward +0.04000 for action: [ 1.         -1.         -0.10208312 -0.13510771]\n",
      "#   376  -> Agent 01 got reward +0.04000 for action: [ 0.62932559 -0.1517009   0.05053487  1.        ]\n",
      "#   377  -> Agent 01 got reward +0.04000 for action: [ 0.30425711  0.26643317 -1.         -1.        ]\n",
      "#   378  -> Agent 01 got reward +0.03000 for action: [-1.        -1.         1.         0.5097216]\n",
      "#   527  -> Agent 20 got reward +0.02000 for action: [ 0.13910449 -0.58114211 -1.         -1.        ]\n",
      "#   528  -> Agent 20 got reward +0.04000 for action: [-0.57396883  0.19923297  0.86190199 -0.95218353]\n",
      "#   529  -> Agent 20 got reward +0.04000 for action: [-1.          0.04603195  0.23440513  1.        ]\n",
      "#   530  -> Agent 20 got reward +0.04000 for action: [-1.  1. -1. -1.]\n",
      "#   531  -> Agent 20 got reward +0.04000 for action: [-0.91400488  0.34114712 -1.          0.34959092]\n",
      "#   532  -> Agent 20 got reward +0.04000 for action: [ 0.73949435  1.         -0.07134345  0.68158291]\n",
      "#   533  -> Agent 20 got reward +0.04000 for action: [ 0.77631238 -0.95375177 -0.744364    0.85922516]\n",
      "#   534  -> Agent 20 got reward +0.04000 for action: [ 0.51392685  1.          0.97997841 -0.83563919]\n",
      "#   535  -> Agent 20 got reward +0.03000 for action: [-1.         -0.98906836  0.35177201 -0.19576074]\n",
      "#  1001 #\n",
      "Total score (averaged over agents) this episode: 0.0789999982342124\n"
     ]
    }
   ],
   "source": [
    "# Some reminders about lambda functions\n",
    "# Thx2: https://realpython.com/python-lambda/\n",
    "# Thx2: https://thispointer.com/python-how-to-use-if-else-elif-in-lambda-functions/\n",
    "\n",
    "\n",
    "env_info = env.reset(train_mode=False)[brain_name]     # reset the environment    \n",
    "states = env_info.vector_observations                  # get the current state (for each agent)\n",
    "scores = np.zeros(num_agents)                          # initialize the score (for each agent)\n",
    "\n",
    "epc = 0\n",
    "print(f'We have {num_agents} active agent' + ( lambda x: 's' if x>1 else '' )(num_agents) )\n",
    "\n",
    "while True:\n",
    "    epc += 1\n",
    "    #print(f'\\r#{epc}', end = ' ')\n",
    "    print(f'\\r#{str(epc).rjust(6)}', end = ' ')\n",
    "    actions = np.random.randn(num_agents, action_size) # select an action (for each agent)\n",
    "    #import pdb; pdb.set_trace() # Debug! Debug! Debug! Debug! Debug! Debug! \n",
    "    actions = np.clip(actions, -1, 1)                  # all actions between -1 and 1\n",
    "    env_info = env.step(actions)[brain_name]           # send all actions to tne environment\n",
    "    next_states = env_info.vector_observations         # get next state (for each agent)\n",
    "    rewards = env_info.rewards                         # get reward (for each agent)\n",
    "    dones = env_info.local_done                        # see if episode finished\n",
    "    rewards = env_info.rewards\n",
    "    nprewards = np.array(rewards)\n",
    "    scores += rewards                         # update the score (for each agent)\n",
    "    if np.sum(nprewards) > 0:\n",
    "        #print(f'\\r#{epc} Rewards = {rewards}')\n",
    "        maskagent = nprewards > 0\n",
    "        agentbefore = False\n",
    "        for (nagent, action) in enumerate(actions):\n",
    "            if maskagent[nagent]:\n",
    "                if agentbefore:\n",
    "                    print('\\r#' + '&'.rjust(6), end = ' ')\n",
    "                print(' -> Agent {:0>2d} got reward {:+.5f} for action: {}'.format(nagent+1, rewards[nagent], action))\n",
    "                agentbefore = True\n",
    "                #pp.pprint(list(action))\n",
    "    states = next_states                               # roll over states to next time step\n",
    "    if np.any(dones):                                  # exit loop if episode finished\n",
    "        break\n",
    "print('#')\n",
    "print('Total score (averaged over agents) this episode: {}'.format(np.mean(scores)))"
   ]
  },
  {
   "cell_type": "markdown",
   "metadata": {},
   "source": [
    "### When finished, you can close the environment.\n",
    "#### Just not for now because unit testing below"
   ]
  },
  {
   "cell_type": "code",
   "execution_count": 9,
   "metadata": {},
   "outputs": [],
   "source": [
    "# env.close()"
   ]
  },
  {
   "cell_type": "markdown",
   "metadata": {},
   "source": [
    "### 4. It's Your Turn!\n",
    "\n",
    "Now it's your turn to train your own agent to solve the environment!  When training the environment, set `train_mode=True`, so that the line for resetting the environment looks like the following:\n",
    "```python\n",
    "env_info = env.reset(train_mode=True)[brain_name]\n",
    "```"
   ]
  },
  {
   "cell_type": "markdown",
   "metadata": {},
   "source": [
    "##### FA: One BIG MISUNDERSTANDING & STACKS OF TENSORS (23-08-2020) --> #FA; BMSoT:\n",
    "It has cost me several days if not weeks to get behind the fact that the [A2C sample implementation of Miguel](https://github.com/mimoralea/gdrl/blob/master/notebooks/chapter_11/chapter-11.ipynb) is working with **stacks of tensors** instead of single tensors. Which was especially hard to find because the PyTorch code looks exactly the same for both.\n",
    "\n",
    "In the end, when I thought about it, it makes sense and is a nifty feature of PyTorch. It is just not obvious to people like me, without in deep insights in the inner workings of PyTorch. \n",
    "\n",
    "Furthermore the authors of the PyTorch documentation seem not to make it too visible, I had to dig it out of one of the function definitions I use, however inderectly over the layer defintion for a2cnet:\n",
    "\n",
    "https://pytorch.org/docs/0.4.0/_modules/torch/nn/functional.html#linear\n",
    "\n",
    "> def linear(input, weight, bias=None):\n",
    ">    \"\"\"\n",
    ">    Applies a linear transformation to the incoming data: :math:`y = xA^T + b`.\n",
    ">\n",
    ">    Shape:\n",
    ">        - Input: :math:`(N, *, in\\_features)` where `*` means any number of\n",
    ">          additional dimensions\n",
    ">        - Weight: :math:`(out\\_features, in\\_features)`\n",
    ">        - Bias: :math:`(out\\_features)`\n",
    ">        - Output: :math:`(N, *, out\\_features)`\n",
    ">    \"\"\"\n",
    ">    if input.dim() == 2 and bias is not None:\n",
    ">        # fused op is marginally faster\n",
    ">        return torch.addmm(bias, input, weight.t())\n",
    ">\n",
    ">    output = input.matmul(weight.t())\n",
    ">    if bias is not None:\n",
    ">        output += bias\n",
    ">    return output\n"
   ]
  },
  {
   "cell_type": "markdown",
   "metadata": {},
   "source": [
    "#### Tracing the error in the 'mya2cnet' module code refactoring below"
   ]
  },
  {
   "cell_type": "code",
   "execution_count": 10,
   "metadata": {},
   "outputs": [],
   "source": [
    "# TEST! TEST! TEST! TEST! TEST! TEST! TEST! TEST! TEST! TEST! TEST! TEST! TEST! TEST! \n",
    "#import pdb; pdb.set_trace() # Debug! Debug! Debug! Debug! Debug! Debug! \n",
    "\n",
    "import torch\n",
    "import torch.nn as nn\n",
    "import torch.nn.functional as F\n",
    "\n",
    "torch.manual_seed(20200808) # Debug! Debug! Debug! Debug! Debug! Debug! Debug! Debug!\n",
    "\n",
    "# Format: IN_Num [Layer 1] (OUT_Num = IN_Num) [Layer 2] OUT_Num = ...\n",
    "HIDDEN_DIMS_DEFAULT = {\n",
    "    'shared' : (512, 512, 256, 256),\n",
    "    'actor' : (256, 128, 128, 64),\n",
    "    'critic' : (256, 128, 128, 64)\n",
    "}\n",
    "hidden_dims = HIDDEN_DIMS_DEFAULT\n",
    "\n",
    "hlayers = dict()\n",
    "\n",
    "hlayers['shared'] = nn.ModuleList()\n",
    "hlayers['actor'] = nn.ModuleList()\n",
    "hlayers['critic'] = nn.ModuleList()\n",
    "\n",
    "\n"
   ]
  },
  {
   "cell_type": "code",
   "execution_count": 11,
   "metadata": {},
   "outputs": [],
   "source": [
    "# Input layer\n",
    "input_layer = nn.Linear( 33, hidden_dims['shared'][0] )"
   ]
  },
  {
   "cell_type": "code",
   "execution_count": 12,
   "metadata": {},
   "outputs": [
    {
     "data": {
      "text/plain": [
       "Linear(in_features=33, out_features=512, bias=True)"
      ]
     },
     "execution_count": 12,
     "metadata": {},
     "output_type": "execute_result"
    }
   ],
   "source": [
    "input_layer"
   ]
  },
  {
   "cell_type": "code",
   "execution_count": 13,
   "metadata": {},
   "outputs": [],
   "source": [
    "# Hidden layers shared\n",
    "for i in range( len(hidden_dims['shared']) -1 ):\n",
    "    hlayers['shared'].append( nn.Linear( hidden_dims['shared'][i], hidden_dims['shared'][i+1] ) )"
   ]
  },
  {
   "cell_type": "code",
   "execution_count": 14,
   "metadata": {},
   "outputs": [
    {
     "data": {
      "text/plain": [
       "ModuleList(\n",
       "  (0): Linear(in_features=512, out_features=512, bias=True)\n",
       "  (1): Linear(in_features=512, out_features=256, bias=True)\n",
       "  (2): Linear(in_features=256, out_features=256, bias=True)\n",
       ")"
      ]
     },
     "execution_count": 14,
     "metadata": {},
     "output_type": "execute_result"
    }
   ],
   "source": [
    "hlayers['shared']"
   ]
  },
  {
   "cell_type": "code",
   "execution_count": 15,
   "metadata": {},
   "outputs": [],
   "source": [
    "# Actor layers\n",
    "for i in range( len(hidden_dims['actor']) ):\n",
    "    #import pdb; pdb.set_trace() # Debug! Debug! Debug! Debug! Debug! Debug! Debug! Debug!\n",
    "    if i == 0:\n",
    "        hlayers['actor'].append( nn.Linear( hidden_dims['shared'][-1], hidden_dims['actor'][i] ) )\n",
    "    else:\n",
    "        # hlayers['actor'].append( nn.Linear( hidden_dims['actor'][i], hidden_dims['actor'][i+1] ERROR !!!\n",
    "        hlayers['actor'].append( nn.Linear( hidden_dims['actor'][i-1], hidden_dims['actor'][i] ) )\n",
    "    #print( i, hlayers['actor'] ) # Debug! Debug! Debug! Debug! Debug! Debug! Debug! Debug!\n",
    "        \n",
    "actor_out_layer = nn.Linear( hidden_dims['actor'][-1], 4 )"
   ]
  },
  {
   "cell_type": "code",
   "execution_count": 16,
   "metadata": {},
   "outputs": [
    {
     "data": {
      "text/plain": [
       "ModuleList(\n",
       "  (0): Linear(in_features=256, out_features=256, bias=True)\n",
       "  (1): Linear(in_features=256, out_features=128, bias=True)\n",
       "  (2): Linear(in_features=128, out_features=128, bias=True)\n",
       "  (3): Linear(in_features=128, out_features=64, bias=True)\n",
       ")"
      ]
     },
     "execution_count": 16,
     "metadata": {},
     "output_type": "execute_result"
    }
   ],
   "source": [
    "hlayers['actor']"
   ]
  },
  {
   "cell_type": "code",
   "execution_count": 17,
   "metadata": {},
   "outputs": [
    {
     "data": {
      "text/plain": [
       "Linear(in_features=64, out_features=4, bias=True)"
      ]
     },
     "execution_count": 17,
     "metadata": {},
     "output_type": "execute_result"
    }
   ],
   "source": [
    "actor_out_layer"
   ]
  },
  {
   "cell_type": "code",
   "execution_count": 18,
   "metadata": {},
   "outputs": [],
   "source": [
    "#Critic layers\n",
    "for i in range( len(hidden_dims['critic']) ):\n",
    "    if i == 0:\n",
    "        hlayers['critic'].append( nn.Linear( hidden_dims['shared'][-1], hidden_dims['critic'][i] ) )\n",
    "    else:\n",
    "        hlayers['critic'].append( nn.Linear( hidden_dims['critic'][i-1], hidden_dims['critic'][i] ) )\n",
    "critic_out_layer = nn.Linear( hidden_dims['critic'][-1], 1 )"
   ]
  },
  {
   "cell_type": "code",
   "execution_count": 19,
   "metadata": {},
   "outputs": [
    {
     "data": {
      "text/plain": [
       "ModuleList(\n",
       "  (0): Linear(in_features=256, out_features=256, bias=True)\n",
       "  (1): Linear(in_features=256, out_features=128, bias=True)\n",
       "  (2): Linear(in_features=128, out_features=128, bias=True)\n",
       "  (3): Linear(in_features=128, out_features=64, bias=True)\n",
       ")"
      ]
     },
     "execution_count": 19,
     "metadata": {},
     "output_type": "execute_result"
    }
   ],
   "source": [
    "hlayers['critic']"
   ]
  },
  {
   "cell_type": "code",
   "execution_count": 20,
   "metadata": {},
   "outputs": [
    {
     "data": {
      "text/plain": [
       "Linear(in_features=64, out_features=1, bias=True)"
      ]
     },
     "execution_count": 20,
     "metadata": {},
     "output_type": "execute_result"
    }
   ],
   "source": [
    "critic_out_layer"
   ]
  },
  {
   "cell_type": "code",
   "execution_count": 21,
   "metadata": {},
   "outputs": [],
   "source": [
    "# Prevents non Pytorch Tensor Object entering the processing stream\n",
    "def torch_format(state):\n",
    "    x = state\n",
    "    if not isinstance(x, torch.Tensor):\n",
    "        x = torch.tensor(x, dtype=torch.float32)\n",
    "        if len(x.size()) == 1:\n",
    "            x = x.unsqueeze(0)\n",
    "    return x"
   ]
  },
  {
   "cell_type": "code",
   "execution_count": 22,
   "metadata": {},
   "outputs": [],
   "source": [
    "def forward(state):\n",
    "    check_tensor = lambda x: isinstance(x, torch.Tensor)\n",
    "    x_act = True \n",
    "    x_crit = True\n",
    "\n",
    "    x = torch_format(state)\n",
    "    x = F.relu(  input_layer(x) )\n",
    "    for label in ['shared', 'actor', 'critic']:\n",
    "        for hlayer in  hlayers[label]:\n",
    "            if label == 'shared':\n",
    "                x = F.relu(  hlayer(x) )\n",
    "            if label == 'actor':\n",
    "                x_act = F.relu(  hlayer(x_act) )\n",
    "            if label == 'critic':\n",
    "                x_crit = F.relu(  hlayer(x_crit) )\n",
    "\n",
    "        # Thx2: https://discuss.pytorch.org/t/copy-deepcopy-vs-clone/55022\n",
    "        if ( type(x_act) == bool ):\n",
    "            x_act = x.clone()  # Create an Inplace copy...\n",
    "        if ( type(x_crit) == bool ):\n",
    "            x_crit = x.clone() # ...after processing shared layers\n",
    "\n",
    "    return  actor_out_layer(x_act),  critic_out_layer(x_crit) "
   ]
  },
  {
   "cell_type": "markdown",
   "metadata": {},
   "source": [
    "#### Test if A STACK OF (BMSoT) states are propagated through the debug network\n",
    "And make a list of outputs of two A2C instances"
   ]
  },
  {
   "cell_type": "code",
   "execution_count": 23,
   "metadata": {},
   "outputs": [
    {
     "name": "stdout",
     "output_type": "stream",
     "text": [
      "Actor: tensor(1.00000e-02 *\n",
      "       [[ 4.6543,  4.9756, -4.4953,  4.2128],\n",
      "        [ 4.7037,  4.9775, -4.4215,  4.1041],\n",
      "        [ 4.7006,  4.9798, -4.4235,  4.1018],\n",
      "        [ 4.6981,  4.9901, -4.3603,  4.1175],\n",
      "        [ 4.7117,  4.9911, -4.4272,  4.1191],\n",
      "        [ 4.6864,  4.9768, -4.4898,  4.2664],\n",
      "        [ 4.7017,  5.0059, -4.4374,  4.2481],\n",
      "        [ 4.7107,  4.9870, -4.4269,  4.1114],\n",
      "        [ 4.6985,  4.9721, -4.4752,  4.2727],\n",
      "        [ 4.6935,  5.0025, -4.4124,  4.2141],\n",
      "        [ 4.7007,  4.9718, -4.3907,  4.1061],\n",
      "        [ 4.6997,  4.9750, -4.4772,  4.2800],\n",
      "        [ 4.6790,  4.9917, -4.4376,  4.1197],\n",
      "        [ 4.6685,  4.9951, -4.4505,  4.1421],\n",
      "        [ 4.6763,  4.9944, -4.4406,  4.1248],\n",
      "        [ 4.6967,  4.9936, -4.3724,  4.1618],\n",
      "        [ 4.7116,  4.9925, -4.4258,  4.1176],\n",
      "        [ 4.7030,  4.9784, -4.4800,  4.2864],\n",
      "        [ 4.7116,  4.9804, -4.4134,  4.1002],\n",
      "        [ 4.6749,  4.9665, -4.4912,  4.2393]])\n",
      "Critic: tensor(1.00000e-02 *\n",
      "       [[ 4.7572],\n",
      "        [ 4.8767],\n",
      "        [ 4.8752],\n",
      "        [ 4.8696],\n",
      "        [ 4.8610],\n",
      "        [ 4.7746],\n",
      "        [ 4.8414],\n",
      "        [ 4.8706],\n",
      "        [ 4.8107],\n",
      "        [ 4.8393],\n",
      "        [ 4.8479],\n",
      "        [ 4.8147],\n",
      "        [ 4.8553],\n",
      "        [ 4.8110],\n",
      "        [ 4.8488],\n",
      "        [ 4.8638],\n",
      "        [ 4.8612],\n",
      "        [ 4.8194],\n",
      "        [ 4.8508],\n",
      "        [ 4.7676]])\n"
     ]
    }
   ],
   "source": [
    "#al = []\n",
    "#bl = []\n",
    "\n",
    "#for (dc, st) in enumerate(states):\n",
    "#    al.append(a)\n",
    "#    bl.append(b)\n",
    "\n",
    "#import pdb; pdb.set_trace() # Debug! Debug! Debug! Debug! Debug! Debug! Debug! Debug!    \n",
    "    \n",
    "#FA; BMSoT: No need to iterate through states any more!\n",
    "a,b = forward(states)\n",
    "print(f'Actor: {a}')\n",
    "print(f'Critic: {b}')"
   ]
  },
  {
   "cell_type": "markdown",
   "metadata": {},
   "source": [
    "#### Test if A STACK OF (BMSoT) states is propagated through the imported network"
   ]
  },
  {
   "cell_type": "code",
   "execution_count": 24,
   "metadata": {},
   "outputs": [],
   "source": [
    "#from mya2cnet import A2CNetwork\n",
    "import mya2cnet\n",
    "\n",
    "# Thx2: https://emacs.stackexchange.com/a/13483\n",
    "import imp\n",
    "imp.reload(mya2cnet)\n",
    "\n",
    "tstnet1 = mya2cnet.A2CNetwork(33, 4) #FA; BMSoT: Looks exactly the same...\n",
    "tstnet2 = mya2cnet.A2CNetwork(33, 4) #FA; BMSoT: ...like without stacks!"
   ]
  },
  {
   "cell_type": "code",
   "execution_count": 25,
   "metadata": {},
   "outputs": [
    {
     "name": "stdout",
     "output_type": "stream",
     "text": [
      "Dist. Actor stacks 1-2: 0.0                        #         Dist. Actor 1 stacks - Notebook stacks 0.0\n",
      "Dist. Critic stacks 1-2: 0.0                       #        Dist. Critic 1 stacks - Notebook stacks 0.0\n"
     ]
    }
   ],
   "source": [
    "#FA; BMSoT: OBSOLETE\n",
    "#for (dc, st) in enumerate(states):\n",
    "    #import pdb; pdb.set_trace() # Debug! Debug! Debug! Debug! Debug! Debug! Debug! Debug!\n",
    "    \n",
    "a1,b1 = tstnet1.forward(states)\n",
    "a2,b2 = tstnet2.forward(states)\n",
    "\n",
    "print(f'Dist. Actor stacks 1-2: {torch.dist(a1, a2)}'.ljust(50) + ' # ' +\\\n",
    "     f'Dist. Actor 1 stacks - Notebook stacks {torch.dist(a1, a)}'.rjust(50))\n",
    "print(f'Dist. Critic stacks 1-2: {torch.dist(b1, b2)}'.ljust(50) + ' # ' +\\\n",
    "     f'Dist. Critic 1 stacks - Notebook stacks {torch.dist(b1, b)}'.rjust(50))"
   ]
  },
  {
   "cell_type": "code",
   "execution_count": 26,
   "metadata": {},
   "outputs": [
    {
     "data": {
      "text/plain": [
       "(tensor(1.00000e-02 *\n",
       "        [[ 4.6543,  4.9756, -4.4953,  4.2128],\n",
       "         [ 4.7037,  4.9775, -4.4215,  4.1041],\n",
       "         [ 4.7006,  4.9798, -4.4235,  4.1018],\n",
       "         [ 4.6981,  4.9901, -4.3603,  4.1175],\n",
       "         [ 4.7117,  4.9911, -4.4272,  4.1191],\n",
       "         [ 4.6864,  4.9768, -4.4898,  4.2664],\n",
       "         [ 4.7017,  5.0059, -4.4374,  4.2481],\n",
       "         [ 4.7107,  4.9870, -4.4269,  4.1114],\n",
       "         [ 4.6985,  4.9721, -4.4752,  4.2727],\n",
       "         [ 4.6935,  5.0025, -4.4124,  4.2141],\n",
       "         [ 4.7007,  4.9718, -4.3907,  4.1061],\n",
       "         [ 4.6997,  4.9750, -4.4772,  4.2800],\n",
       "         [ 4.6790,  4.9917, -4.4376,  4.1197],\n",
       "         [ 4.6685,  4.9951, -4.4505,  4.1421],\n",
       "         [ 4.6763,  4.9944, -4.4406,  4.1248],\n",
       "         [ 4.6967,  4.9936, -4.3724,  4.1618],\n",
       "         [ 4.7116,  4.9925, -4.4258,  4.1176],\n",
       "         [ 4.7030,  4.9784, -4.4800,  4.2864],\n",
       "         [ 4.7116,  4.9804, -4.4134,  4.1002],\n",
       "         [ 4.6749,  4.9665, -4.4912,  4.2393]]), tensor(1.00000e-02 *\n",
       "        [[ 4.7572],\n",
       "         [ 4.8767],\n",
       "         [ 4.8752],\n",
       "         [ 4.8696],\n",
       "         [ 4.8610],\n",
       "         [ 4.7746],\n",
       "         [ 4.8414],\n",
       "         [ 4.8706],\n",
       "         [ 4.8107],\n",
       "         [ 4.8393],\n",
       "         [ 4.8479],\n",
       "         [ 4.8147],\n",
       "         [ 4.8553],\n",
       "         [ 4.8110],\n",
       "         [ 4.8488],\n",
       "         [ 4.8638],\n",
       "         [ 4.8612],\n",
       "         [ 4.8194],\n",
       "         [ 4.8508],\n",
       "         [ 4.7676]]), tensor([[[ 2.3109],\n",
       "          [ 2.3109],\n",
       "          [ 2.3109],\n",
       "          [ 2.3109]],\n",
       " \n",
       "         [[ 2.3109],\n",
       "          [ 2.3109],\n",
       "          [ 2.3109],\n",
       "          [ 2.3109]],\n",
       " \n",
       "         [[ 2.3109],\n",
       "          [ 2.3109],\n",
       "          [ 2.3109],\n",
       "          [ 2.3109]],\n",
       " \n",
       "         [[ 2.3109],\n",
       "          [ 2.3109],\n",
       "          [ 2.3109],\n",
       "          [ 2.3109]],\n",
       " \n",
       "         [[ 2.3109],\n",
       "          [ 2.3109],\n",
       "          [ 2.3109],\n",
       "          [ 2.3109]],\n",
       " \n",
       "         [[ 2.3109],\n",
       "          [ 2.3109],\n",
       "          [ 2.3109],\n",
       "          [ 2.3109]],\n",
       " \n",
       "         [[ 2.3109],\n",
       "          [ 2.3109],\n",
       "          [ 2.3109],\n",
       "          [ 2.3109]],\n",
       " \n",
       "         [[ 2.3109],\n",
       "          [ 2.3109],\n",
       "          [ 2.3109],\n",
       "          [ 2.3109]],\n",
       " \n",
       "         [[ 2.3109],\n",
       "          [ 2.3109],\n",
       "          [ 2.3109],\n",
       "          [ 2.3109]],\n",
       " \n",
       "         [[ 2.3109],\n",
       "          [ 2.3109],\n",
       "          [ 2.3109],\n",
       "          [ 2.3109]],\n",
       " \n",
       "         [[ 2.3109],\n",
       "          [ 2.3109],\n",
       "          [ 2.3109],\n",
       "          [ 2.3109]],\n",
       " \n",
       "         [[ 2.3109],\n",
       "          [ 2.3109],\n",
       "          [ 2.3109],\n",
       "          [ 2.3109]],\n",
       " \n",
       "         [[ 2.3109],\n",
       "          [ 2.3109],\n",
       "          [ 2.3109],\n",
       "          [ 2.3109]],\n",
       " \n",
       "         [[ 2.3109],\n",
       "          [ 2.3109],\n",
       "          [ 2.3109],\n",
       "          [ 2.3109]],\n",
       " \n",
       "         [[ 2.3109],\n",
       "          [ 2.3109],\n",
       "          [ 2.3109],\n",
       "          [ 2.3109]],\n",
       " \n",
       "         [[ 2.3109],\n",
       "          [ 2.3109],\n",
       "          [ 2.3109],\n",
       "          [ 2.3109]],\n",
       " \n",
       "         [[ 2.3109],\n",
       "          [ 2.3109],\n",
       "          [ 2.3109],\n",
       "          [ 2.3109]],\n",
       " \n",
       "         [[ 2.3109],\n",
       "          [ 2.3109],\n",
       "          [ 2.3109],\n",
       "          [ 2.3109]],\n",
       " \n",
       "         [[ 2.3109],\n",
       "          [ 2.3109],\n",
       "          [ 2.3109],\n",
       "          [ 2.3109]],\n",
       " \n",
       "         [[ 2.3109],\n",
       "          [ 2.3109],\n",
       "          [ 2.3109],\n",
       "          [ 2.3109]]]))"
      ]
     },
     "execution_count": 26,
     "metadata": {},
     "output_type": "execute_result"
    }
   ],
   "source": [
    "#FA; BMSoT: OBSOLETE\n",
    "#for (dc, st) in enumerate(states):\n",
    "#    print(f'({dc+1}) -> {tstnet1.fullpass(st)}')\n",
    "    \n",
    "tstnet1.fullpass(states)"
   ]
  },
  {
   "cell_type": "code",
   "execution_count": 27,
   "metadata": {},
   "outputs": [
    {
     "data": {
      "text/plain": [
       "tensor(1.00000e-02 *\n",
       "       [[ 4.6543,  4.9756, -4.4953,  4.2128],\n",
       "        [ 4.7037,  4.9775, -4.4215,  4.1041],\n",
       "        [ 4.7006,  4.9798, -4.4235,  4.1018],\n",
       "        [ 4.6981,  4.9901, -4.3603,  4.1175],\n",
       "        [ 4.7117,  4.9911, -4.4272,  4.1191],\n",
       "        [ 4.6864,  4.9768, -4.4898,  4.2664],\n",
       "        [ 4.7017,  5.0059, -4.4374,  4.2481],\n",
       "        [ 4.7107,  4.9870, -4.4269,  4.1114],\n",
       "        [ 4.6985,  4.9721, -4.4752,  4.2727],\n",
       "        [ 4.6935,  5.0025, -4.4124,  4.2141],\n",
       "        [ 4.7007,  4.9718, -4.3907,  4.1061],\n",
       "        [ 4.6997,  4.9750, -4.4772,  4.2800],\n",
       "        [ 4.6790,  4.9917, -4.4376,  4.1197],\n",
       "        [ 4.6685,  4.9951, -4.4505,  4.1421],\n",
       "        [ 4.6763,  4.9944, -4.4406,  4.1248],\n",
       "        [ 4.6967,  4.9936, -4.3724,  4.1618],\n",
       "        [ 4.7116,  4.9925, -4.4258,  4.1176],\n",
       "        [ 4.7030,  4.9784, -4.4800,  4.2864],\n",
       "        [ 4.7116,  4.9804, -4.4134,  4.1002],\n",
       "        [ 4.6749,  4.9665, -4.4912,  4.2393]])"
      ]
     },
     "execution_count": 27,
     "metadata": {},
     "output_type": "execute_result"
    }
   ],
   "source": [
    "#FA; BMSoT: OBSOLETE\n",
    "#for (dc, st) in enumerate(states):\n",
    "#    print(f'({dc+1})-> {tstnet1.select_action(st)}') #, end=' ')\n",
    "    \n",
    "tstnet1.select_action(states)"
   ]
  },
  {
   "cell_type": "markdown",
   "metadata": {},
   "source": [
    "#### Test the agent instance"
   ]
  },
  {
   "cell_type": "code",
   "execution_count": 28,
   "metadata": {},
   "outputs": [],
   "source": [
    "import mya2cagent\n",
    "\n",
    "# Thx2: https://emacs.stackexchange.com/a/13483\n",
    "import imp\n",
    "imp.reload(mya2cagent)\n",
    "\n",
    "agent = mya2cagent.a2cagent(len(env_info.agents), env, brain, max_steps = 100)"
   ]
  },
  {
   "cell_type": "code",
   "execution_count": 29,
   "metadata": {},
   "outputs": [],
   "source": [
    "procs = mya2cagent.MultiProcEnv(env, 20200808, len(env_info.agents))"
   ]
  },
  {
   "cell_type": "code",
   "execution_count": 30,
   "metadata": {
    "scrolled": false
   },
   "outputs": [
    {
     "name": "stdout",
     "output_type": "stream",
     "text": [
      "> /home/workspace/udacity-deep-reinforcement-learning/p2_continuous-control/mya2cagent.py(50)train()\n",
      "-> for step in count(start=1):\n",
      "(Pdb) c\n",
      "> /home/workspace/udacity-deep-reinforcement-learning/p2_continuous-control/mya2cagent.py(53)train()\n",
      "-> print(f'\\rTraining epoch: {step} ', end = (lambda x: '#' if x%2 == 0 else '+')(step) )\n",
      "(Pdb) c\n",
      "Training epoch: 1 +> /home/workspace/udacity-deep-reinforcement-learning/p2_continuous-control/mya2cagent.py(51)train()\n",
      "-> import pdb; pdb.set_trace() # Debug! Debug! Debug! Debug! Debug! Debug! Debug! Debug!\n",
      "(Pdb) c\n",
      "Training epoch: 2 #> /home/workspace/udacity-deep-reinforcement-learning/p2_continuous-control/mya2cagent.py(53)train()\n",
      "-> print(f'\\rTraining epoch: {step} ', end = (lambda x: '#' if x%2 == 0 else '+')(step) )\n",
      "(Pdb) n\n",
      "Training epoch: 3 +> /home/workspace/udacity-deep-reinforcement-learning/p2_continuous-control/mya2cagent.py(54)train()\n",
      "-> states, is_terminals = self.interaction_step(states, self.env)\n",
      "(Pdb) n\n",
      "> /home/workspace/udacity-deep-reinforcement-learning/p2_continuous-control/mya2cagent.py(66)train()\n",
      "-> if step > 1: #Gather some data first, otherwise GAE estimation gets funny!\n",
      "(Pdb) n\n",
      "> /home/workspace/udacity-deep-reinforcement-learning/p2_continuous-control/mya2cagent.py(69)train()\n",
      "-> self.optimize_model()\n",
      "(Pdb) s\n",
      "--Call--\n",
      "> /home/workspace/udacity-deep-reinforcement-learning/p2_continuous-control/mya2cagent.py(80)optimize_model()\n",
      "-> def optimize_model(self):\n",
      "(Pdb) n\n",
      "> /home/workspace/udacity-deep-reinforcement-learning/p2_continuous-control/mya2cagent.py(81)optimize_model()\n",
      "-> logpas = torch.stack(self.logpas).squeeze()\n",
      "(Pdb) n\n",
      "> /home/workspace/udacity-deep-reinforcement-learning/p2_continuous-control/mya2cagent.py(85)optimize_model()\n",
      "-> values = torch.stack(self.values).squeeze()\n",
      "(Pdb) n\n",
      "> /home/workspace/udacity-deep-reinforcement-learning/p2_continuous-control/mya2cagent.py(88)optimize_model()\n",
      "-> T = len(self.rewards)\n",
      "(Pdb) n\n",
      "> /home/workspace/udacity-deep-reinforcement-learning/p2_continuous-control/mya2cagent.py(89)optimize_model()\n",
      "-> discounts = np.logspace(0, T, num=T, base=self.gamma, endpoint = False) #Calculate Monte Carlo like discounts\n",
      "(Pdb) n\n",
      "> /home/workspace/udacity-deep-reinforcement-learning/p2_continuous-control/mya2cagent.py(92)optimize_model()\n",
      "-> returns = np.array( [[np.sum( np.array(discounts)[:T-t] * np.array(self.rewards)[t:,w] ) \\\n",
      "(Pdb) n\n",
      "> /home/workspace/udacity-deep-reinforcement-learning/p2_continuous-control/mya2cagent.py(93)optimize_model()\n",
      "-> for t in range(T)] for w in range(self.numworkers)] ).flatten() #Discounted returns\n",
      "(Pdb) n\n",
      "> /home/workspace/udacity-deep-reinforcement-learning/p2_continuous-control/mya2cagent.py(94)optimize_model()\n",
      "-> rewards = np.array(self.rewards).squeeze()\n",
      "(Pdb) n\n",
      "> /home/workspace/udacity-deep-reinforcement-learning/p2_continuous-control/mya2cagent.py(95)optimize_model()\n",
      "-> np_values = values.data.numpy()\n",
      "(Pdb) n\n",
      "> /home/workspace/udacity-deep-reinforcement-learning/p2_continuous-control/mya2cagent.py(96)optimize_model()\n",
      "-> tau_discounts = np.logspace(0, T-1, num=T-1, base=self.gamma*self.tau, endpoint = False)\n",
      "(Pdb) n\n",
      "> /home/workspace/udacity-deep-reinforcement-learning/p2_continuous-control/mya2cagent.py(97)optimize_model()\n",
      "-> advs = rewards[:-1] + self.gamma * np_values[1:] - np_values[:-1]\n",
      "(Pdb) n\n",
      "> /home/workspace/udacity-deep-reinforcement-learning/p2_continuous-control/mya2cagent.py(99)optimize_model()\n",
      "-> gaes = np.array([[np.sum(tau_discounts[:T-1-t] * advs[t:, w]) for t in range(T-1)] for w in range(self.numworkers)])\n",
      "(Pdb) n\n",
      "> /home/workspace/udacity-deep-reinforcement-learning/p2_continuous-control/mya2cagent.py(105)optimize_model()\n",
      "-> discount_gaes = torch.FloatTensor(discounts[:-1].T).view(-1).unsqueeze(1)\n",
      "(Pdb) n\n",
      "> /home/workspace/udacity-deep-reinforcement-learning/p2_continuous-control/mya2cagent.py(108)optimize_model()\n",
      "-> value_error = returns - values.detach().numpy().flatten() #Because Pytorch 0.4.0 %-O\n",
      "(Pdb) n\n",
      "> /home/workspace/udacity-deep-reinforcement-learning/p2_continuous-control/mya2cagent.py(109)optimize_model()\n",
      "-> value_loss = np.mean( np.multiply( np.power(value_error, 2), 0.5 ) )\n",
      "(Pdb) n\n",
      "> /home/workspace/udacity-deep-reinforcement-learning/p2_continuous-control/mya2cagent.py(111)optimize_model()\n",
      "-> policy_loss = -1 * torch.mean( discount_gaes.detach() * logpas)\n",
      "(Pdb) logpas.shape\n",
      "torch.Size([3, 20, 4])\n",
      "(Pdb) discount_gaes.shape\n",
      "torch.Size([2, 1])\n",
      "(Pdb) n\n",
      "RuntimeError: The size of tensor a (2) must match the size of tensor b (20) at non-singleton dimension 1\n",
      "> /home/workspace/udacity-deep-reinforcement-learning/p2_continuous-control/mya2cagent.py(111)optimize_model()\n",
      "-> policy_loss = -1 * torch.mean( discount_gaes.detach() * logpas)\n",
      "(Pdb) q\n"
     ]
    },
    {
     "ename": "BdbQuit",
     "evalue": "",
     "output_type": "error",
     "traceback": [
      "\u001b[0;31m---------------------------------------------------------------------------\u001b[0m",
      "\u001b[0;31mBdbQuit\u001b[0m                                   Traceback (most recent call last)",
      "\u001b[0;32m<ipython-input-30-bc97bd27b4a3>\u001b[0m in \u001b[0;36m<module>\u001b[0;34m()\u001b[0m\n\u001b[0;32m----> 1\u001b[0;31m \u001b[0magent\u001b[0m\u001b[0;34m.\u001b[0m\u001b[0mtrain\u001b[0m\u001b[0;34m(\u001b[0m\u001b[0mstates\u001b[0m\u001b[0;34m)\u001b[0m\u001b[0;34m\u001b[0m\u001b[0m\n\u001b[0m",
      "\u001b[0;32m/home/workspace/udacity-deep-reinforcement-learning/p2_continuous-control/mya2cagent.py\u001b[0m in \u001b[0;36mtrain\u001b[0;34m(self, states, gamma, tau)\u001b[0m\n\u001b[1;32m     67\u001b[0m                 \u001b[0;31m#if step == 3: # Debug! Debug! Debug! Debug! Debug! Debug!\u001b[0m\u001b[0;34m\u001b[0m\u001b[0;34m\u001b[0m\u001b[0m\n\u001b[1;32m     68\u001b[0m                 \u001b[0;31m#    import pdb; pdb.set_trace() # Debug! Debug! Debug! Debug! Debug! Debug!\u001b[0m\u001b[0;34m\u001b[0m\u001b[0;34m\u001b[0m\u001b[0m\n\u001b[0;32m---> 69\u001b[0;31m                 \u001b[0mself\u001b[0m\u001b[0;34m.\u001b[0m\u001b[0moptimize_model\u001b[0m\u001b[0;34m(\u001b[0m\u001b[0;34m)\u001b[0m\u001b[0;34m\u001b[0m\u001b[0m\n\u001b[0m\u001b[1;32m     70\u001b[0m \u001b[0;34m\u001b[0m\u001b[0m\n\u001b[1;32m     71\u001b[0m             \u001b[0;31m#self.logpas = list()\u001b[0m\u001b[0;34m\u001b[0m\u001b[0;34m\u001b[0m\u001b[0m\n",
      "\u001b[0;32m/home/workspace/udacity-deep-reinforcement-learning/p2_continuous-control/mya2cagent.py\u001b[0m in \u001b[0;36moptimize_model\u001b[0;34m(self)\u001b[0m\n\u001b[1;32m    109\u001b[0m         \u001b[0mvalue_loss\u001b[0m \u001b[0;34m=\u001b[0m \u001b[0mnp\u001b[0m\u001b[0;34m.\u001b[0m\u001b[0mmean\u001b[0m\u001b[0;34m(\u001b[0m \u001b[0mnp\u001b[0m\u001b[0;34m.\u001b[0m\u001b[0mmultiply\u001b[0m\u001b[0;34m(\u001b[0m \u001b[0mnp\u001b[0m\u001b[0;34m.\u001b[0m\u001b[0mpower\u001b[0m\u001b[0;34m(\u001b[0m\u001b[0mvalue_error\u001b[0m\u001b[0;34m,\u001b[0m \u001b[0;36m2\u001b[0m\u001b[0;34m)\u001b[0m\u001b[0;34m,\u001b[0m \u001b[0;36m0.5\u001b[0m \u001b[0;34m)\u001b[0m \u001b[0;34m)\u001b[0m\u001b[0;34m\u001b[0m\u001b[0m\n\u001b[1;32m    110\u001b[0m \u001b[0;34m\u001b[0m\u001b[0m\n\u001b[0;32m--> 111\u001b[0;31m         \u001b[0mpolicy_loss\u001b[0m \u001b[0;34m=\u001b[0m \u001b[0;34m-\u001b[0m\u001b[0;36m1\u001b[0m \u001b[0;34m*\u001b[0m \u001b[0mtorch\u001b[0m\u001b[0;34m.\u001b[0m\u001b[0mmean\u001b[0m\u001b[0;34m(\u001b[0m \u001b[0mdiscount_gaes\u001b[0m\u001b[0;34m.\u001b[0m\u001b[0mdetach\u001b[0m\u001b[0;34m(\u001b[0m\u001b[0;34m)\u001b[0m \u001b[0;34m*\u001b[0m \u001b[0mlogpas\u001b[0m\u001b[0;34m)\u001b[0m\u001b[0;34m\u001b[0m\u001b[0m\n\u001b[0m\u001b[1;32m    112\u001b[0m \u001b[0;34m\u001b[0m\u001b[0m\n\u001b[1;32m    113\u001b[0m         \u001b[0;31m#entropy_loss = -1 * np.mean(entropies.numpy()) #Not good! We need a Tensor!\u001b[0m\u001b[0;34m\u001b[0m\u001b[0;34m\u001b[0m\u001b[0m\n",
      "\u001b[0;32m/opt/conda/lib/python3.6/bdb.py\u001b[0m in \u001b[0;36mtrace_dispatch\u001b[0;34m(self, frame, event, arg)\u001b[0m\n\u001b[1;32m     52\u001b[0m             \u001b[0;32mreturn\u001b[0m \u001b[0mself\u001b[0m\u001b[0;34m.\u001b[0m\u001b[0mdispatch_return\u001b[0m\u001b[0;34m(\u001b[0m\u001b[0mframe\u001b[0m\u001b[0;34m,\u001b[0m \u001b[0marg\u001b[0m\u001b[0;34m)\u001b[0m\u001b[0;34m\u001b[0m\u001b[0m\n\u001b[1;32m     53\u001b[0m         \u001b[0;32mif\u001b[0m \u001b[0mevent\u001b[0m \u001b[0;34m==\u001b[0m \u001b[0;34m'exception'\u001b[0m\u001b[0;34m:\u001b[0m\u001b[0;34m\u001b[0m\u001b[0m\n\u001b[0;32m---> 54\u001b[0;31m             \u001b[0;32mreturn\u001b[0m \u001b[0mself\u001b[0m\u001b[0;34m.\u001b[0m\u001b[0mdispatch_exception\u001b[0m\u001b[0;34m(\u001b[0m\u001b[0mframe\u001b[0m\u001b[0;34m,\u001b[0m \u001b[0marg\u001b[0m\u001b[0;34m)\u001b[0m\u001b[0;34m\u001b[0m\u001b[0m\n\u001b[0m\u001b[1;32m     55\u001b[0m         \u001b[0;32mif\u001b[0m \u001b[0mevent\u001b[0m \u001b[0;34m==\u001b[0m \u001b[0;34m'c_call'\u001b[0m\u001b[0;34m:\u001b[0m\u001b[0;34m\u001b[0m\u001b[0m\n\u001b[1;32m     56\u001b[0m             \u001b[0;32mreturn\u001b[0m \u001b[0mself\u001b[0m\u001b[0;34m.\u001b[0m\u001b[0mtrace_dispatch\u001b[0m\u001b[0;34m\u001b[0m\u001b[0m\n",
      "\u001b[0;32m/opt/conda/lib/python3.6/bdb.py\u001b[0m in \u001b[0;36mdispatch_exception\u001b[0;34m(self, frame, arg)\u001b[0m\n\u001b[1;32m    108\u001b[0m                     and arg[0] is StopIteration and arg[2] is None):\n\u001b[1;32m    109\u001b[0m                 \u001b[0mself\u001b[0m\u001b[0;34m.\u001b[0m\u001b[0muser_exception\u001b[0m\u001b[0;34m(\u001b[0m\u001b[0mframe\u001b[0m\u001b[0;34m,\u001b[0m \u001b[0marg\u001b[0m\u001b[0;34m)\u001b[0m\u001b[0;34m\u001b[0m\u001b[0m\n\u001b[0;32m--> 110\u001b[0;31m                 \u001b[0;32mif\u001b[0m \u001b[0mself\u001b[0m\u001b[0;34m.\u001b[0m\u001b[0mquitting\u001b[0m\u001b[0;34m:\u001b[0m \u001b[0;32mraise\u001b[0m \u001b[0mBdbQuit\u001b[0m\u001b[0;34m\u001b[0m\u001b[0m\n\u001b[0m\u001b[1;32m    111\u001b[0m         \u001b[0;31m# Stop at the StopIteration or GeneratorExit exception when the user\u001b[0m\u001b[0;34m\u001b[0m\u001b[0;34m\u001b[0m\u001b[0m\n\u001b[1;32m    112\u001b[0m         \u001b[0;31m# has set stopframe in a generator by issuing a return command, or a\u001b[0m\u001b[0;34m\u001b[0m\u001b[0;34m\u001b[0m\u001b[0m\n",
      "\u001b[0;31mBdbQuit\u001b[0m: "
     ]
    }
   ],
   "source": [
    "agent.train(states)"
   ]
  },
  {
   "cell_type": "code",
   "execution_count": 31,
   "metadata": {},
   "outputs": [],
   "source": [
    "env.close()"
   ]
  },
  {
   "cell_type": "code",
   "execution_count": null,
   "metadata": {},
   "outputs": [],
   "source": []
  }
 ],
 "metadata": {
  "kernelspec": {
   "display_name": "Python 3",
   "language": "python",
   "name": "python3"
  },
  "language_info": {
   "codemirror_mode": {
    "name": "ipython",
    "version": 3
   },
   "file_extension": ".py",
   "mimetype": "text/x-python",
   "name": "python",
   "nbconvert_exporter": "python",
   "pygments_lexer": "ipython3",
   "version": "3.6.3"
  }
 },
 "nbformat": 4,
 "nbformat_minor": 4
}
