{
 "cells": [
  {
   "cell_type": "markdown",
   "metadata": {},
   "source": [
    "# Continuous Control\n",
    "\n",
    "---\n",
    "\n",
    "In this notebook, you will learn how to use the Unity ML-Agents environment for the second project of the [Deep Reinforcement Learning Nanodegree](https://www.udacity.com/course/deep-reinforcement-learning-nanodegree--nd893) program.\n",
    "\n",
    "### 1. Start the Environment\n",
    "\n",
    "We begin by importing the necessary packages.  If the code cell below returns an error, please revisit the project instructions to double-check that you have installed [Unity ML-Agents](https://github.com/Unity-Technologies/ml-agents/blob/master/docs/Installation.md) and [NumPy](http://www.numpy.org/)."
   ]
  },
  {
   "cell_type": "code",
   "execution_count": 1,
   "metadata": {},
   "outputs": [
    {
     "name": "stdout",
     "output_type": "stream",
     "text": [
      "posix.uname_result(sysname='Linux', nodename='17d0f59ece4b', release='4.15.0-1060-gcp', version='#64-Ubuntu SMP Thu Mar 26 03:21:15 UTC 2020', machine='x86_64')\n",
      "\u001b[31mtensorflow 1.7.1 has requirement numpy>=1.13.3, but you'll have numpy 1.12.1 which is incompatible.\u001b[0m\n",
      "\u001b[31mipython 6.5.0 has requirement prompt-toolkit<2.0.0,>=1.0.15, but you'll have prompt-toolkit 3.0.6 which is incompatible.\u001b[0m\n"
     ]
    }
   ],
   "source": [
    "import os\n",
    "\n",
    "print(os.uname())\n",
    "\n",
    "# In the cloud environment?\n",
    "if 'root' in os.environ['HOME']:\n",
    "    UENVPATH = '/data/'\n",
    "    !pip -q install /home/workspace/python\n",
    "\n",
    "# In the standalone environment?\n",
    "if 'ferenc' in os.environ['HOME']:\n",
    "    UENVPATH = '/home/ferenc/Python/rl/udadrl/data/'\n",
    "\n",
    "\n",
    "from unityagents import UnityEnvironment\n",
    "import numpy as np\n",
    "\n",
    "import pprint as pp"
   ]
  },
  {
   "cell_type": "markdown",
   "metadata": {},
   "source": [
    "Next, we will start the environment!  **_Before running the code cell below_**, change the `file_name` parameter to match the location of the Unity environment that you downloaded.\n",
    "\n",
    "- **Mac**: `\"path/to/Reacher.app\"`\n",
    "- **Windows** (x86): `\"path/to/Reacher_Windows_x86/Reacher.exe\"`\n",
    "- **Windows** (x86_64): `\"path/to/Reacher_Windows_x86_64/Reacher.exe\"`\n",
    "- **Linux** (x86): `\"path/to/Reacher_Linux/Reacher.x86\"`\n",
    "- **Linux** (x86_64): `\"path/to/Reacher_Linux/Reacher.x86_64\"`\n",
    "- **Linux** (x86, headless): `\"path/to/Reacher_Linux_NoVis/Reacher.x86\"`\n",
    "- **Linux** (x86_64, headless): `\"path/to/Reacher_Linux_NoVis/Reacher.x86_64\"`\n",
    "\n",
    "For instance, if you are using a Mac, then you downloaded `Reacher.app`.  If this file is in the same folder as the notebook, then the line below should appear as follows:\n",
    "```\n",
    "env = UnityEnvironment(file_name=\"Reacher.app\")\n",
    "```"
   ]
  },
  {
   "cell_type": "code",
   "execution_count": 2,
   "metadata": {},
   "outputs": [
    {
     "name": "stderr",
     "output_type": "stream",
     "text": [
      "INFO:unityagents:\n",
      "'Academy' started successfully!\n",
      "Unity Academy name: Academy\n",
      "        Number of Brains: 1\n",
      "        Number of External Brains : 1\n",
      "        Lesson number : 0\n",
      "        Reset Parameters :\n",
      "\t\tgoal_speed -> 1.0\n",
      "\t\tgoal_size -> 5.0\n",
      "Unity brain name: ReacherBrain\n",
      "        Number of Visual Observations (per agent): 0\n",
      "        Vector Observation space type: continuous\n",
      "        Vector Observation space size (per agent): 33\n",
      "        Number of stacked Vector Observation: 1\n",
      "        Vector Action space type: continuous\n",
      "        Vector Action space size (per agent): 4\n",
      "        Vector Action descriptions: , , , \n"
     ]
    }
   ],
   "source": [
    "# ONE Agent, Standalone\n",
    "#UENVCHOICE = 'Reacher_Linux/Reacher.x86_64'\n",
    "\n",
    "# TWENTY Agents, Standalone\n",
    "#UENVCHOICE = 'Reacher_Linux_20/Reacher.x86_64'\n",
    "\n",
    "# ONE Agent, Cloud, No-Visuals \n",
    "#UENVCHOICE = 'Reacher_One_Linux_NoVis/Reacher_One_Linux_NoVis.x86_64'\n",
    "\n",
    "# TWENTY Agents, Cloud, No-Visuals \n",
    "UENVCHOICE = 'Reacher_Linux_NoVis/Reacher.x86_64'\n",
    "\n",
    "env = UnityEnvironment( file_name=os.path.join( UENVPATH, UENVCHOICE ) )\n",
    "\n",
    "\n"
   ]
  },
  {
   "cell_type": "markdown",
   "metadata": {},
   "source": [
    "Environments contain **_brains_** which are responsible for deciding the actions of their associated agents. Here we check for the first brain available, and set it as the default brain we will be controlling from Python."
   ]
  },
  {
   "cell_type": "code",
   "execution_count": 3,
   "metadata": {},
   "outputs": [
    {
     "data": {
      "text/plain": [
       "unityagents.environment.UnityEnvironment"
      ]
     },
     "execution_count": 3,
     "metadata": {},
     "output_type": "execute_result"
    }
   ],
   "source": [
    "# FA DEBUG! DEBUG! DEBUG! \n",
    "type(env)"
   ]
  },
  {
   "cell_type": "code",
   "execution_count": 4,
   "metadata": {},
   "outputs": [],
   "source": [
    "# get the default brain\n",
    "brain_name = env.brain_names[0]\n",
    "brain = env.brains[brain_name]"
   ]
  },
  {
   "cell_type": "code",
   "execution_count": 5,
   "metadata": {},
   "outputs": [
    {
     "name": "stdout",
     "output_type": "stream",
     "text": [
      "['ReacherBrain']\n",
      "<class 'unityagents.brain.BrainParameters'>\n"
     ]
    },
    {
     "data": {
      "text/plain": [
       "'ReacherBrain'"
      ]
     },
     "execution_count": 5,
     "metadata": {},
     "output_type": "execute_result"
    }
   ],
   "source": [
    "# FA  DEBUG! DEBUG! DEBUG! \n",
    "print(env.brain_names)\n",
    "print( type(brain) )\n",
    "brain.brain_name"
   ]
  },
  {
   "cell_type": "code",
   "execution_count": 6,
   "metadata": {},
   "outputs": [
    {
     "name": "stdout",
     "output_type": "stream",
     "text": [
      "Observation Space: 33 dimensions of continuous type\n",
      "Action Space: 4 dimensions of continuous type\n"
     ]
    }
   ],
   "source": [
    "# FA  DEBUG! DEBUG! DEBUG!\n",
    "print(f'Observation Space: {brain.vector_observation_space_size} dimensions of {brain.vector_observation_space_type} type') \n",
    "print(f'Action Space: {brain.vector_action_space_size} dimensions of {brain.vector_observation_space_type} type')"
   ]
  },
  {
   "cell_type": "markdown",
   "metadata": {},
   "source": [
    "### 2. Examine the State and Action Spaces\n",
    "\n",
    "In this environment, a double-jointed arm can move to target locations. A reward of `+0.1` is provided for each step that the agent's hand is in the goal location. Thus, the goal of your agent is to maintain its position at the target location for as many time steps as possible.\n",
    "\n",
    "The observation space consists of `33` variables corresponding to position, rotation, velocity, and angular velocities of the arm.  Each action is a vector with four numbers, corresponding to torque applicable to two joints.  Every entry in the action vector must be a number between `-1` and `1`.\n",
    "\n",
    "Run the code cell below to print some information about the environment."
   ]
  },
  {
   "cell_type": "code",
   "execution_count": 7,
   "metadata": {},
   "outputs": [
    {
     "name": "stdout",
     "output_type": "stream",
     "text": [
      "Number of agents: 20\n",
      "Size of each action: 4\n",
      "There are 20 agents. Each observes a state with length: 33\n",
      "The state for the first agent looks like: [  0.00000000e+00  -4.00000000e+00   0.00000000e+00   1.00000000e+00\n",
      "  -0.00000000e+00  -0.00000000e+00  -4.37113883e-08   0.00000000e+00\n",
      "   0.00000000e+00   0.00000000e+00   0.00000000e+00   0.00000000e+00\n",
      "   0.00000000e+00   0.00000000e+00  -1.00000000e+01   0.00000000e+00\n",
      "   1.00000000e+00  -0.00000000e+00  -0.00000000e+00  -4.37113883e-08\n",
      "   0.00000000e+00   0.00000000e+00   0.00000000e+00   0.00000000e+00\n",
      "   0.00000000e+00   0.00000000e+00   5.75471878e+00  -1.00000000e+00\n",
      "   5.55726624e+00   0.00000000e+00   1.00000000e+00   0.00000000e+00\n",
      "  -1.68164849e-01]\n"
     ]
    }
   ],
   "source": [
    "# reset the environment\n",
    "env_info = env.reset(train_mode=True)[brain_name]\n",
    "\n",
    "# number of agents\n",
    "num_agents = len(env_info.agents)\n",
    "print('Number of agents:', num_agents)\n",
    "\n",
    "# size of each action\n",
    "action_size = brain.vector_action_space_size\n",
    "print('Size of each action:', action_size)\n",
    "\n",
    "# examine the state space \n",
    "states = env_info.vector_observations\n",
    "state_size = states.shape[1]\n",
    "print('There are {} agents. Each observes a state with length: {}'.format(states.shape[0], state_size))\n",
    "print('The state for the first agent looks like:', states[0])"
   ]
  },
  {
   "cell_type": "markdown",
   "metadata": {},
   "source": [
    "### 3. Take Random Actions in the Environment\n",
    "\n",
    "In the next code cell, you will learn how to use the Python API to control the agent and receive feedback from the environment.\n",
    "\n",
    "Once this cell is executed, you will watch the agent's performance, if it selects an action at random with each time step.  A window should pop up that allows you to observe the agent, as it moves through the environment.  \n",
    "\n",
    "Of course, as part of the project, you'll have to change the code so that the agent is able to use its experience to gradually choose better actions when interacting with the environment!"
   ]
  },
  {
   "cell_type": "code",
   "execution_count": 8,
   "metadata": {},
   "outputs": [
    {
     "name": "stdout",
     "output_type": "stream",
     "text": [
      "We have 20 active agents\n",
      "#    25  -> Agent 11 got reward +0.03000 for action: [-1.         -0.60795978 -0.2088167  -1.        ]\n",
      "#    26  -> Agent 11 got reward +0.04000 for action: [ 0.64033719 -0.42421578  0.52067744  0.72759529]\n",
      "#    27  -> Agent 11 got reward +0.04000 for action: [ 0.21372863 -0.71519477  0.76936367 -0.02848916]\n",
      "#    28  -> Agent 11 got reward +0.04000 for action: [ 1.          1.         -0.51630571 -1.        ]\n",
      "#    29  -> Agent 11 got reward +0.04000 for action: [-0.46071547  0.47828692 -0.1418982  -0.34290416]\n",
      "#    30  -> Agent 11 got reward +0.04000 for action: [ 1.         -0.34438411 -0.18580001  1.        ]\n",
      "#    31  -> Agent 11 got reward +0.04000 for action: [-0.82704745 -1.         -1.         -0.99723297]\n",
      "#    32  -> Agent 11 got reward +0.04000 for action: [ 1.          0.01651319  1.          0.83353716]\n",
      "#    33  -> Agent 11 got reward +0.04000 for action: [-0.098832   -1.         -1.          0.90932182]\n",
      "#    34  -> Agent 11 got reward +0.04000 for action: [ 1.         -0.06206374 -1.          0.67404098]\n",
      "#    35  -> Agent 11 got reward +0.04000 for action: [ 0.11965482 -0.82632625 -0.05389805  1.        ]\n",
      "#    36  -> Agent 11 got reward +0.04000 for action: [-0.49904496  0.12437044  1.          1.        ]\n",
      "#    37  -> Agent 11 got reward +0.04000 for action: [-1.          0.35914046 -0.00857329 -1.        ]\n",
      "#    38  -> Agent 11 got reward +0.04000 for action: [ 1.         -0.47965108 -1.         -0.93746896]\n",
      "#    39  -> Agent 11 got reward +0.04000 for action: [ 0.59998901  0.63266569 -0.43150876 -1.        ]\n",
      "#    40  -> Agent 11 got reward +0.04000 for action: [-0.72671983 -1.          0.96423432  0.13374449]\n",
      "#    41  -> Agent 11 got reward +0.04000 for action: [-1.         -0.9714371   0.66776774  0.38266012]\n",
      "#    42  -> Agent 11 got reward +0.04000 for action: [-0.26683694 -0.50494934  0.60368409  0.85214148]\n",
      "#    43  -> Agent 11 got reward +0.04000 for action: [ 1.          0.47872101 -0.52048039  0.40405316]\n",
      "#   155  -> Agent 09 got reward +0.02000 for action: [ 0.00346221 -0.42183045 -0.96357035  1.        ]\n",
      "#   156  -> Agent 09 got reward +0.04000 for action: [-0.58561129  0.61938063 -0.42684778  0.47765431]\n",
      "#   157  -> Agent 09 got reward +0.04000 for action: [ 0.0066013  -0.50662913  1.         -0.23934498]\n",
      "#   158  -> Agent 09 got reward +0.04000 for action: [-1.        -1.         0.540733   0.6274053]\n",
      "#   209  -> Agent 09 got reward +0.01000 for action: [-0.92944122 -0.61065933  1.          1.        ]\n",
      "#   210  -> Agent 09 got reward +0.04000 for action: [ 0.84201886 -0.51447382 -0.49885356 -0.30538069]\n",
      "#   211  -> Agent 09 got reward +0.04000 for action: [-1.          1.         -0.24450151  0.63092925]\n",
      "#   212  -> Agent 09 got reward +0.04000 for action: [-0.13141489  1.         -1.         -1.        ]\n",
      "#   213  -> Agent 09 got reward +0.04000 for action: [-0.75853418  0.53029609 -0.14377619 -1.        ]\n",
      "#   214  -> Agent 09 got reward +0.04000 for action: [ 0.52966754 -0.77585096  0.53737561  1.        ]\n",
      "#   215  -> Agent 09 got reward +0.03000 for action: [-0.11542427  1.          0.75571932  0.11434491]\n",
      "#   377  -> Agent 12 got reward +0.03000 for action: [-1.          0.97605283  0.09241227 -1.        ]\n",
      "#   378  -> Agent 12 got reward +0.04000 for action: [ 1.         -0.19725606 -0.96439268  1.        ]\n",
      "#   379  -> Agent 12 got reward +0.04000 for action: [ 0.19485479  1.         -1.         -0.73157012]\n",
      "#   380  -> Agent 12 got reward +0.04000 for action: [-0.75127646 -0.95931292 -1.          1.        ]\n",
      "#   381  -> Agent 12 got reward +0.04000 for action: [-0.65123696  0.40016596 -1.         -1.        ]\n",
      "#   382  -> Agent 12 got reward +0.04000 for action: [-0.90169987 -0.05012304 -1.         -0.44288162]\n",
      "#   383  -> Agent 12 got reward +0.04000 for action: [-1.         -0.85958015  0.27717537 -0.44350986]\n",
      "#   384  -> Agent 12 got reward +0.04000 for action: [-0.3676513   0.27339616 -0.93556772 -0.56367151]\n",
      "#   385  -> Agent 12 got reward +0.01000 for action: [-1.         -0.53516269 -1.          0.14182937]\n",
      "#   589  -> Agent 12 got reward +0.04000 for action: [-0.16510286  1.         -0.5539775  -0.03099214]\n",
      "#   590  -> Agent 12 got reward +0.04000 for action: [ 0.17258969  0.56377741 -1.         -0.68290483]\n",
      "#   591  -> Agent 12 got reward +0.04000 for action: [-0.72290683  1.         -1.          1.        ]\n",
      "#   592  -> Agent 12 got reward +0.04000 for action: [-0.50808379  0.98311152 -0.39228377  0.6282968 ]\n",
      "#   593  -> Agent 12 got reward +0.01000 for action: [-0.69622592  0.02689757  0.47248782  0.9928518 ]\n",
      "#   617  -> Agent 17 got reward +0.04000 for action: [-0.36893724 -1.         -1.         -1.        ]\n",
      "#   618  -> Agent 17 got reward +0.04000 for action: [-1. -1.  1. -1.]\n",
      "#   619  -> Agent 17 got reward +0.04000 for action: [-0.50637275 -0.87659113 -0.63694731 -0.19091417]\n",
      "#   620  -> Agent 17 got reward +0.04000 for action: [ 0.25537621 -0.29588011 -0.46796504 -0.0273977 ]\n",
      "#   621  -> Agent 17 got reward +0.04000 for action: [-0.02463469 -1.         -0.88779745 -1.        ]\n",
      "#   622  -> Agent 17 got reward +0.04000 for action: [-0.57854629  0.057631    0.45048893  0.82982033]\n",
      "#   623  -> Agent 17 got reward +0.04000 for action: [ 0.68707976 -1.          0.16213637  0.66303928]\n",
      "#   624  -> Agent 17 got reward +0.04000 for action: [-1.          0.61005642 -0.53605157 -0.34144758]\n",
      "#   625  -> Agent 17 got reward +0.02000 for action: [ 0.81063728  0.13940114  0.21573763  0.67123075]\n",
      "#   877  -> Agent 06 got reward +0.02000 for action: [ 1.         -0.77270474 -1.          0.58000035]\n",
      "#   878  -> Agent 06 got reward +0.04000 for action: [-1.          0.2045442   0.68528239  1.        ]\n",
      "#   879  -> Agent 06 got reward +0.04000 for action: [-0.05592511  0.19263868  0.56302058 -0.59739432]\n",
      "#     &  -> Agent 20 got reward +0.03000 for action: [ 0.55374401  1.         -0.66484647 -0.05265099]\n",
      "#   880  -> Agent 06 got reward +0.04000 for action: [-0.25491213 -0.77142944 -0.81763727 -1.        ]\n",
      "#     &  -> Agent 20 got reward +0.04000 for action: [-1.          0.19275367 -0.09182184  0.18236857]\n",
      "#   881  -> Agent 06 got reward +0.04000 for action: [-0.49576937  1.         -0.63097818  0.23541504]\n",
      "#     &  -> Agent 20 got reward +0.04000 for action: [ 0.27947092  0.80636547 -0.60190808 -0.91878618]\n",
      "#   882  -> Agent 06 got reward +0.04000 for action: [ 0.31766697  0.25925121  1.          1.        ]\n",
      "#     &  -> Agent 20 got reward +0.04000 for action: [-1.         -0.38250261 -1.          1.        ]\n",
      "#   883  -> Agent 06 got reward +0.04000 for action: [ 0.12634122  0.80345277  0.38379296  0.06572146]\n",
      "#   884  -> Agent 06 got reward +0.02000 for action: [-0.06190613  0.91765458  1.         -0.78813672]\n",
      "#   917  -> Agent 16 got reward +0.03000 for action: [ 1.         -0.07683288  1.         -1.        ]\n",
      "#   918  -> Agent 16 got reward +0.04000 for action: [ 0.17912518 -0.8123337   0.25335147  0.39448037]\n",
      "#   919  -> Agent 08 got reward +0.04000 for action: [ 0.46541218 -0.34797509 -0.4384596  -0.82469042]\n",
      "#     &  -> Agent 16 got reward +0.04000 for action: [-1.         -1.          1.         -0.40893764]\n",
      "#   920  -> Agent 08 got reward +0.01000 for action: [-0.98759122 -0.22352049  0.83303085  1.        ]\n",
      "#     &  -> Agent 16 got reward +0.03000 for action: [ 0.72875035  1.         -0.32225177 -0.27818262]\n",
      "#   940  -> Agent 09 got reward +0.01000 for action: [ 1.          1.          0.01014348  1.        ]\n",
      "#   941  -> Agent 09 got reward +0.04000 for action: [ 0.50357073  0.22801583 -0.45433927 -0.98360874]\n",
      "#   942  -> Agent 09 got reward +0.04000 for action: [ 0.29118136 -0.61414518 -1.          0.2993538 ]\n",
      "#   943  -> Agent 09 got reward +0.04000 for action: [-0.83408869 -1.         -0.10806284  1.        ]\n",
      "#   944  -> Agent 09 got reward +0.04000 for action: [ 0.43315872 -0.92176668 -0.72039482  1.        ]\n",
      "#   945  -> Agent 09 got reward +0.04000 for action: [-0.48134787  1.          0.2622676   1.        ]\n",
      "#   946  -> Agent 09 got reward +0.04000 for action: [ 0.81310977 -1.          0.11241871 -0.07670481]\n",
      "#   947  -> Agent 09 got reward +0.04000 for action: [ 1.          0.74615249 -0.31308029  0.28888539]\n",
      "#   948  -> Agent 09 got reward +0.04000 for action: [ 0.13046303 -0.81082392 -0.91805565 -0.60034588]\n"
     ]
    },
    {
     "name": "stdout",
     "output_type": "stream",
     "text": [
      "#   949  -> Agent 09 got reward +0.04000 for action: [-0.47927994 -0.45023972  0.68281971  1.        ]\n",
      "#   950  -> Agent 09 got reward +0.04000 for action: [ 0.63859457  0.58301188 -1.          1.        ]\n",
      "#   951  -> Agent 09 got reward +0.04000 for action: [ 1.          1.         -1.         -0.00309517]\n",
      "#   952  -> Agent 09 got reward +0.04000 for action: [-0.55813545  0.85467376 -0.15567322  0.93413323]\n",
      "#   953  -> Agent 09 got reward +0.02000 for action: [ 0.8230012   1.          0.15973066  1.        ]\n",
      "#  1001 #\n",
      "Total score (averaged over agents) this episode: 0.1544999965466559\n"
     ]
    }
   ],
   "source": [
    "# Some reminders about lambda functions\n",
    "# Thx2: https://realpython.com/python-lambda/\n",
    "# Thx2: https://thispointer.com/python-how-to-use-if-else-elif-in-lambda-functions/\n",
    "\n",
    "\n",
    "env_info = env.reset(train_mode=False)[brain_name]     # reset the environment    \n",
    "states = env_info.vector_observations                  # get the current state (for each agent)\n",
    "scores = np.zeros(num_agents)                          # initialize the score (for each agent)\n",
    "\n",
    "epc = 0\n",
    "print(f'We have {num_agents} active agent' + ( lambda x: 's' if x>1 else '' )(num_agents) )\n",
    "\n",
    "while True:\n",
    "    epc += 1\n",
    "    #print(f'\\r#{epc}', end = ' ')\n",
    "    print(f'\\r#{str(epc).rjust(6)}', end = ' ')\n",
    "    actions = np.random.randn(num_agents, action_size) # select an action (for each agent)\n",
    "    actions = np.clip(actions, -1, 1)                  # all actions between -1 and 1\n",
    "    env_info = env.step(actions)[brain_name]           # send all actions to tne environment\n",
    "    next_states = env_info.vector_observations         # get next state (for each agent)\n",
    "    rewards = env_info.rewards                         # get reward (for each agent)\n",
    "    dones = env_info.local_done                        # see if episode finished\n",
    "    rewards = env_info.rewards\n",
    "    nprewards = np.array(rewards)\n",
    "    scores += rewards                         # update the score (for each agent)\n",
    "    if np.sum(nprewards) > 0:\n",
    "        #print(f'\\r#{epc} Rewards = {rewards}')\n",
    "        maskagent = nprewards > 0\n",
    "        agentbefore = False\n",
    "        for (nagent, action) in enumerate(actions):\n",
    "            if maskagent[nagent]:\n",
    "                if agentbefore:\n",
    "                    print('\\r#' + '&'.rjust(6), end = ' ')\n",
    "                print(' -> Agent {:0>2d} got reward {:+.5f} for action: {}'.format(nagent+1, rewards[nagent], action))\n",
    "                agentbefore = True\n",
    "                #pp.pprint(list(action))\n",
    "    states = next_states                               # roll over states to next time step\n",
    "    if np.any(dones):                                  # exit loop if episode finished\n",
    "        break\n",
    "print('#')\n",
    "print('Total score (averaged over agents) this episode: {}'.format(np.mean(scores)))"
   ]
  },
  {
   "cell_type": "markdown",
   "metadata": {},
   "source": [
    "### When finished, you can close the environment.\n",
    "#### Just not for now because unit testing below"
   ]
  },
  {
   "cell_type": "code",
   "execution_count": 9,
   "metadata": {},
   "outputs": [],
   "source": [
    "# env.close()"
   ]
  },
  {
   "cell_type": "markdown",
   "metadata": {},
   "source": [
    "### 4. It's Your Turn!\n",
    "\n",
    "Now it's your turn to train your own agent to solve the environment!  When training the environment, set `train_mode=True`, so that the line for resetting the environment looks like the following:\n",
    "```python\n",
    "env_info = env.reset(train_mode=True)[brain_name]\n",
    "```"
   ]
  },
  {
   "cell_type": "markdown",
   "metadata": {},
   "source": [
    "#### Tracing the error in the 'mya2cnet' module code refactoring below"
   ]
  },
  {
   "cell_type": "code",
   "execution_count": 10,
   "metadata": {},
   "outputs": [],
   "source": [
    "# TEST! TEST! TEST! TEST! TEST! TEST! TEST! TEST! TEST! TEST! TEST! TEST! TEST! TEST! \n",
    "#import pdb; pdb.set_trace()\n",
    "\n",
    "import torch\n",
    "import torch.nn as nn\n",
    "import torch.nn.functional as F\n",
    "\n",
    "torch.manual_seed(20200808) # Debug! Debug! Debug! Debug! Debug! Debug! Debug! Debug!\n",
    "\n",
    "# Format: IN_Num [Layer 1] (OUT_Num = IN_Num) [Layer 2] OUT_Num = ...\n",
    "HIDDEN_DIMS_DEFAULT = {\n",
    "    'shared' : (512, 512, 256, 256),\n",
    "    'actor' : (256, 128, 128, 64),\n",
    "    'critic' : (256, 128, 128, 64)\n",
    "}\n",
    "hidden_dims = HIDDEN_DIMS_DEFAULT\n",
    "\n",
    "hlayers = dict()\n",
    "\n",
    "hlayers['shared'] = nn.ModuleList()\n",
    "hlayers['actor'] = nn.ModuleList()\n",
    "hlayers['critic'] = nn.ModuleList()\n",
    "\n",
    "\n"
   ]
  },
  {
   "cell_type": "code",
   "execution_count": 11,
   "metadata": {},
   "outputs": [],
   "source": [
    "# Input layer\n",
    "input_layer = nn.Linear( 33, hidden_dims['shared'][0] )"
   ]
  },
  {
   "cell_type": "code",
   "execution_count": 12,
   "metadata": {},
   "outputs": [
    {
     "data": {
      "text/plain": [
       "Linear(in_features=33, out_features=512, bias=True)"
      ]
     },
     "execution_count": 12,
     "metadata": {},
     "output_type": "execute_result"
    }
   ],
   "source": [
    "input_layer"
   ]
  },
  {
   "cell_type": "code",
   "execution_count": 13,
   "metadata": {},
   "outputs": [],
   "source": [
    "# Hidden layers shared\n",
    "for i in range( len(hidden_dims['shared']) -1 ):\n",
    "    hlayers['shared'].append( nn.Linear( hidden_dims['shared'][i], hidden_dims['shared'][i+1] ) )"
   ]
  },
  {
   "cell_type": "code",
   "execution_count": 14,
   "metadata": {},
   "outputs": [
    {
     "data": {
      "text/plain": [
       "ModuleList(\n",
       "  (0): Linear(in_features=512, out_features=512, bias=True)\n",
       "  (1): Linear(in_features=512, out_features=256, bias=True)\n",
       "  (2): Linear(in_features=256, out_features=256, bias=True)\n",
       ")"
      ]
     },
     "execution_count": 14,
     "metadata": {},
     "output_type": "execute_result"
    }
   ],
   "source": [
    "hlayers['shared']"
   ]
  },
  {
   "cell_type": "code",
   "execution_count": 15,
   "metadata": {},
   "outputs": [],
   "source": [
    "# Actor layers\n",
    "for i in range( len(hidden_dims['actor']) ):\n",
    "    #import pdb; pdb.set_trace() # Debug! Debug! Debug! Debug! Debug! Debug! Debug! Debug!\n",
    "    if i == 0:\n",
    "        hlayers['actor'].append( nn.Linear( hidden_dims['shared'][-1], hidden_dims['actor'][i] ) )\n",
    "    else:\n",
    "        # hlayers['actor'].append( nn.Linear( hidden_dims['actor'][i], hidden_dims['actor'][i+1] ERROR !!!\n",
    "        hlayers['actor'].append( nn.Linear( hidden_dims['actor'][i-1], hidden_dims['actor'][i] ) )\n",
    "    #print( i, hlayers['actor'] ) # Debug! Debug! Debug! Debug! Debug! Debug! Debug! Debug!\n",
    "        \n",
    "actor_out_layer = nn.Linear( hidden_dims['actor'][-1], 4 )"
   ]
  },
  {
   "cell_type": "code",
   "execution_count": 16,
   "metadata": {},
   "outputs": [
    {
     "data": {
      "text/plain": [
       "ModuleList(\n",
       "  (0): Linear(in_features=256, out_features=256, bias=True)\n",
       "  (1): Linear(in_features=256, out_features=128, bias=True)\n",
       "  (2): Linear(in_features=128, out_features=128, bias=True)\n",
       "  (3): Linear(in_features=128, out_features=64, bias=True)\n",
       ")"
      ]
     },
     "execution_count": 16,
     "metadata": {},
     "output_type": "execute_result"
    }
   ],
   "source": [
    "hlayers['actor']"
   ]
  },
  {
   "cell_type": "code",
   "execution_count": 17,
   "metadata": {},
   "outputs": [
    {
     "data": {
      "text/plain": [
       "Linear(in_features=64, out_features=4, bias=True)"
      ]
     },
     "execution_count": 17,
     "metadata": {},
     "output_type": "execute_result"
    }
   ],
   "source": [
    "actor_out_layer"
   ]
  },
  {
   "cell_type": "code",
   "execution_count": 18,
   "metadata": {},
   "outputs": [],
   "source": [
    "#Critic layers\n",
    "for i in range( len(hidden_dims['critic']) ):\n",
    "    if i == 0:\n",
    "        hlayers['critic'].append( nn.Linear( hidden_dims['shared'][-1], hidden_dims['critic'][i] ) )\n",
    "    else:\n",
    "        hlayers['critic'].append( nn.Linear( hidden_dims['critic'][i-1], hidden_dims['critic'][i] ) )\n",
    "critic_out_layer = nn.Linear( hidden_dims['critic'][-1], 1 )"
   ]
  },
  {
   "cell_type": "code",
   "execution_count": 19,
   "metadata": {},
   "outputs": [
    {
     "data": {
      "text/plain": [
       "ModuleList(\n",
       "  (0): Linear(in_features=256, out_features=256, bias=True)\n",
       "  (1): Linear(in_features=256, out_features=128, bias=True)\n",
       "  (2): Linear(in_features=128, out_features=128, bias=True)\n",
       "  (3): Linear(in_features=128, out_features=64, bias=True)\n",
       ")"
      ]
     },
     "execution_count": 19,
     "metadata": {},
     "output_type": "execute_result"
    }
   ],
   "source": [
    "hlayers['critic']"
   ]
  },
  {
   "cell_type": "code",
   "execution_count": 20,
   "metadata": {},
   "outputs": [
    {
     "data": {
      "text/plain": [
       "Linear(in_features=64, out_features=1, bias=True)"
      ]
     },
     "execution_count": 20,
     "metadata": {},
     "output_type": "execute_result"
    }
   ],
   "source": [
    "critic_out_layer"
   ]
  },
  {
   "cell_type": "code",
   "execution_count": 21,
   "metadata": {},
   "outputs": [],
   "source": [
    "# Prevents non Pytorch Tensor Object entering the processing stream\n",
    "def torch_format(state):\n",
    "    x = state\n",
    "    if not isinstance(x, torch.Tensor):\n",
    "        x = torch.tensor(x, dtype=torch.float32)\n",
    "        if len(x.size()) == 1:\n",
    "            x = x.unsqueeze(0)\n",
    "    return x"
   ]
  },
  {
   "cell_type": "code",
   "execution_count": 22,
   "metadata": {},
   "outputs": [],
   "source": [
    "def forward(state):\n",
    "    check_tensor = lambda x: isinstance(x, torch.Tensor)\n",
    "    x_act = True \n",
    "    x_crit = True\n",
    "\n",
    "    x = torch_format(state)\n",
    "    x = F.relu(  input_layer(x) )\n",
    "    for label in ['shared', 'actor', 'critic']:\n",
    "        for hlayer in  hlayers[label]:\n",
    "            if label == 'shared':\n",
    "                x = F.relu(  hlayer(x) )\n",
    "            if label == 'actor':\n",
    "                x_act = F.relu(  hlayer(x_act) )\n",
    "            if label == 'critic':\n",
    "                x_crit = F.relu(  hlayer(x_crit) )\n",
    "\n",
    "        # Thx2: https://discuss.pytorch.org/t/copy-deepcopy-vs-clone/55022\n",
    "        if ( type(x_act) == bool ):\n",
    "            x_act = x.clone()  # Create an Inplace copy...\n",
    "        if ( type(x_crit) == bool ):\n",
    "            x_crit = x.clone() # ...after processing shared layers\n",
    "\n",
    "    return  actor_out_layer(x_act),  critic_out_layer(x_crit) "
   ]
  },
  {
   "cell_type": "markdown",
   "metadata": {},
   "source": [
    "#### Test if states are propagated through the debug network\n",
    "And make a list of outputs of two A2C instances"
   ]
  },
  {
   "cell_type": "code",
   "execution_count": 23,
   "metadata": {},
   "outputs": [],
   "source": [
    "al = []\n",
    "bl = []\n",
    "\n",
    "for (dc, st) in enumerate(states):\n",
    "    a,b = forward(st)\n",
    "    al.append(a)\n",
    "    bl.append(b)\n",
    "#    print(f'({dc+1}) -> Actor: {a}')\n",
    "#    print(f'({dc+1}) -> Critic: {b}')\n",
    "    "
   ]
  },
  {
   "cell_type": "markdown",
   "metadata": {},
   "source": [
    "#### Test if states are propagated through the imported network"
   ]
  },
  {
   "cell_type": "code",
   "execution_count": 24,
   "metadata": {},
   "outputs": [],
   "source": [
    "#from mya2cnet import A2CNetwork\n",
    "import mya2cnet\n",
    "\n",
    "# Thx2: https://emacs.stackexchange.com/a/13483\n",
    "import imp\n",
    "imp.reload(mya2cnet)\n",
    "\n",
    "tstnet1 = mya2cnet.A2CNetwork(33, 4)\n",
    "tstnet2 = mya2cnet.A2CNetwork(33, 4)"
   ]
  },
  {
   "cell_type": "code",
   "execution_count": 25,
   "metadata": {},
   "outputs": [
    {
     "name": "stdout",
     "output_type": "stream",
     "text": [
      "(1) -> Dist. Actor 1-2: 0.0                        #                         Dist. Actor 1-Notebook 0.0\n",
      "(1) -> Dist. Critic 1-2: 0.0                       #                        Dist. Critic 1-Notebook 0.0\n",
      "(2) -> Dist. Actor 1-2: 0.0                        #                         Dist. Actor 1-Notebook 0.0\n",
      "(2) -> Dist. Critic 1-2: 0.0                       #                        Dist. Critic 1-Notebook 0.0\n",
      "(3) -> Dist. Actor 1-2: 0.0                        #                         Dist. Actor 1-Notebook 0.0\n",
      "(3) -> Dist. Critic 1-2: 0.0                       #                        Dist. Critic 1-Notebook 0.0\n",
      "(4) -> Dist. Actor 1-2: 0.0                        #                         Dist. Actor 1-Notebook 0.0\n",
      "(4) -> Dist. Critic 1-2: 0.0                       #                        Dist. Critic 1-Notebook 0.0\n",
      "(5) -> Dist. Actor 1-2: 0.0                        #                         Dist. Actor 1-Notebook 0.0\n",
      "(5) -> Dist. Critic 1-2: 0.0                       #                        Dist. Critic 1-Notebook 0.0\n",
      "(6) -> Dist. Actor 1-2: 0.0                        #                         Dist. Actor 1-Notebook 0.0\n",
      "(6) -> Dist. Critic 1-2: 0.0                       #                        Dist. Critic 1-Notebook 0.0\n",
      "(7) -> Dist. Actor 1-2: 0.0                        #                         Dist. Actor 1-Notebook 0.0\n",
      "(7) -> Dist. Critic 1-2: 0.0                       #                        Dist. Critic 1-Notebook 0.0\n",
      "(8) -> Dist. Actor 1-2: 0.0                        #                         Dist. Actor 1-Notebook 0.0\n",
      "(8) -> Dist. Critic 1-2: 0.0                       #                        Dist. Critic 1-Notebook 0.0\n",
      "(9) -> Dist. Actor 1-2: 0.0                        #                         Dist. Actor 1-Notebook 0.0\n",
      "(9) -> Dist. Critic 1-2: 0.0                       #                        Dist. Critic 1-Notebook 0.0\n",
      "(10) -> Dist. Actor 1-2: 0.0                       #                         Dist. Actor 1-Notebook 0.0\n",
      "(10) -> Dist. Critic 1-2: 0.0                      #                        Dist. Critic 1-Notebook 0.0\n",
      "(11) -> Dist. Actor 1-2: 0.0                       #                         Dist. Actor 1-Notebook 0.0\n",
      "(11) -> Dist. Critic 1-2: 0.0                      #                        Dist. Critic 1-Notebook 0.0\n",
      "(12) -> Dist. Actor 1-2: 0.0                       #                         Dist. Actor 1-Notebook 0.0\n",
      "(12) -> Dist. Critic 1-2: 0.0                      #                        Dist. Critic 1-Notebook 0.0\n",
      "(13) -> Dist. Actor 1-2: 0.0                       #                         Dist. Actor 1-Notebook 0.0\n",
      "(13) -> Dist. Critic 1-2: 0.0                      #                        Dist. Critic 1-Notebook 0.0\n",
      "(14) -> Dist. Actor 1-2: 0.0                       #                         Dist. Actor 1-Notebook 0.0\n",
      "(14) -> Dist. Critic 1-2: 0.0                      #                        Dist. Critic 1-Notebook 0.0\n",
      "(15) -> Dist. Actor 1-2: 0.0                       #                         Dist. Actor 1-Notebook 0.0\n",
      "(15) -> Dist. Critic 1-2: 0.0                      #                        Dist. Critic 1-Notebook 0.0\n",
      "(16) -> Dist. Actor 1-2: 0.0                       #                         Dist. Actor 1-Notebook 0.0\n",
      "(16) -> Dist. Critic 1-2: 0.0                      #                        Dist. Critic 1-Notebook 0.0\n",
      "(17) -> Dist. Actor 1-2: 0.0                       #                         Dist. Actor 1-Notebook 0.0\n",
      "(17) -> Dist. Critic 1-2: 0.0                      #                        Dist. Critic 1-Notebook 0.0\n",
      "(18) -> Dist. Actor 1-2: 0.0                       #                         Dist. Actor 1-Notebook 0.0\n",
      "(18) -> Dist. Critic 1-2: 0.0                      #                        Dist. Critic 1-Notebook 0.0\n",
      "(19) -> Dist. Actor 1-2: 0.0                       #                         Dist. Actor 1-Notebook 0.0\n",
      "(19) -> Dist. Critic 1-2: 0.0                      #                        Dist. Critic 1-Notebook 0.0\n",
      "(20) -> Dist. Actor 1-2: 0.0                       #                         Dist. Actor 1-Notebook 0.0\n",
      "(20) -> Dist. Critic 1-2: 0.0                      #                        Dist. Critic 1-Notebook 0.0\n"
     ]
    }
   ],
   "source": [
    "for (dc, st) in enumerate(states):\n",
    "    #import pdb; pdb.set_trace() # Debug! Debug! Debug! Debug! Debug! Debug! Debug! Debug!\n",
    "    a1,b1 = tstnet1.forward(st)\n",
    "    a2,b2 = tstnet2.forward(st)\n",
    "    print(f'({dc+1}) -> Dist. Actor 1-2: {torch.dist(a1, a2)}'.ljust(50) + ' # ' +\\\n",
    "         f'Dist. Actor 1-Notebook {torch.dist(a1, al[dc])}'.rjust(50))\n",
    "    print(f'({dc+1}) -> Dist. Critic 1-2: {torch.dist(b1, b2)}'.ljust(50) + ' # ' +\\\n",
    "         f'Dist. Critic 1-Notebook {torch.dist(b1, bl[dc])}'.rjust(50))"
   ]
  },
  {
   "cell_type": "code",
   "execution_count": 26,
   "metadata": {},
   "outputs": [
    {
     "name": "stdout",
     "output_type": "stream",
     "text": [
      "(1) -> (1, array([False], dtype=bool), tensor([[-1.3607]]), tensor([[ 1.3855]]), tensor(1.00000e-02 *\n",
      "       [[ 4.7572]]))\n",
      "(2) -> (1, array([False], dtype=bool), tensor([[-1.3607]]), tensor([[ 1.3856]]), tensor(1.00000e-02 *\n",
      "       [[ 4.8767]]))\n",
      "(3) -> (2, array([ True], dtype=bool), tensor([[-1.4547]]), tensor([[ 1.3856]]), tensor(1.00000e-02 *\n",
      "       [[ 4.8752]]))\n",
      "(4) -> (0, array([ True], dtype=bool), tensor([[-1.3637]]), tensor([[ 1.3856]]), tensor(1.00000e-02 *\n",
      "       [[ 4.8696]]))\n",
      "(5) -> (3, array([ True], dtype=bool), tensor([[-1.3693]]), tensor([[ 1.3855]]), tensor(1.00000e-02 *\n",
      "       [[ 4.8610]]))\n",
      "(6) -> (1, array([False], dtype=bool), tensor([[-1.3609]]), tensor([[ 1.3855]]), tensor(1.00000e-02 *\n",
      "       [[ 4.7746]]))\n",
      "(7) -> (3, array([ True], dtype=bool), tensor([[-1.3684]]), tensor([[ 1.3855]]), tensor(1.00000e-02 *\n",
      "       [[ 4.8414]]))\n",
      "(8) -> (3, array([ True], dtype=bool), tensor([[-1.3694]]), tensor([[ 1.3855]]), tensor(1.00000e-02 *\n",
      "       [[ 4.8706]]))\n",
      "(9) -> (1, array([False], dtype=bool), tensor([[-1.3610]]), tensor([[ 1.3855]]), tensor(1.00000e-02 *\n",
      "       [[ 4.8107]]))\n",
      "(10) -> (3, array([ True], dtype=bool), tensor([[-1.3687]]), tensor([[ 1.3855]]), tensor(1.00000e-02 *\n",
      "       [[ 4.8393]]))\n",
      "(11) -> (3, array([ True], dtype=bool), tensor([[-1.3695]]), tensor([[ 1.3856]]), tensor(1.00000e-02 *\n",
      "       [[ 4.8479]]))\n",
      "(12) -> (0, array([ True], dtype=bool), tensor([[-1.3638]]), tensor([[ 1.3855]]), tensor(1.00000e-02 *\n",
      "       [[ 4.8147]]))\n",
      "(13) -> (1, array([False], dtype=bool), tensor([[-1.3605]]), tensor([[ 1.3855]]), tensor(1.00000e-02 *\n",
      "       [[ 4.8553]]))\n",
      "(14) -> (3, array([ True], dtype=bool), tensor([[-1.3690]]), tensor([[ 1.3855]]), tensor(1.00000e-02 *\n",
      "       [[ 4.8110]]))\n",
      "(15) -> (0, array([ True], dtype=bool), tensor([[-1.3637]]), tensor([[ 1.3855]]), tensor(1.00000e-02 *\n",
      "       [[ 4.8488]]))\n",
      "(16) -> (2, array([ True], dtype=bool), tensor([[-1.4545]]), tensor([[ 1.3856]]), tensor(1.00000e-02 *\n",
      "       [[ 4.8638]]))\n",
      "(17) -> (3, array([ True], dtype=bool), tensor([[-1.3694]]), tensor([[ 1.3855]]), tensor(1.00000e-02 *\n",
      "       [[ 4.8612]]))\n",
      "(18) -> (0, array([ True], dtype=bool), tensor([[-1.3638]]), tensor([[ 1.3855]]), tensor(1.00000e-02 *\n",
      "       [[ 4.8194]]))\n",
      "(19) -> (1, array([False], dtype=bool), tensor([[-1.3607]]), tensor([[ 1.3856]]), tensor(1.00000e-02 *\n",
      "       [[ 4.8508]]))\n",
      "(20) -> (3, array([ True], dtype=bool), tensor([[-1.3681]]), tensor([[ 1.3855]]), tensor(1.00000e-02 *\n",
      "       [[ 4.7676]]))\n"
     ]
    }
   ],
   "source": [
    "for (dc, st) in enumerate(states):\n",
    "    print(f'({dc+1}) -> {tstnet1.fullpass(st)}')"
   ]
  },
  {
   "cell_type": "code",
   "execution_count": 27,
   "metadata": {},
   "outputs": [
    {
     "name": "stdout",
     "output_type": "stream",
     "text": [
      "(1)-> tensor(1.00000e-02 *\n",
      "       [[ 4.6543,  4.9756, -4.4953,  4.2128]])\n",
      "(2)-> tensor(1.00000e-02 *\n",
      "       [[ 4.7037,  4.9775, -4.4215,  4.1041]])\n",
      "(3)-> tensor(1.00000e-02 *\n",
      "       [[ 4.7006,  4.9798, -4.4235,  4.1018]])\n",
      "(4)-> tensor(1.00000e-02 *\n",
      "       [[ 4.6981,  4.9901, -4.3603,  4.1175]])\n",
      "(5)-> tensor(1.00000e-02 *\n",
      "       [[ 4.7117,  4.9911, -4.4272,  4.1191]])\n",
      "(6)-> tensor(1.00000e-02 *\n",
      "       [[ 4.6864,  4.9768, -4.4898,  4.2664]])\n",
      "(7)-> tensor(1.00000e-02 *\n",
      "       [[ 4.7017,  5.0059, -4.4374,  4.2481]])\n",
      "(8)-> tensor(1.00000e-02 *\n",
      "       [[ 4.7107,  4.9870, -4.4269,  4.1114]])\n",
      "(9)-> tensor(1.00000e-02 *\n",
      "       [[ 4.6985,  4.9721, -4.4752,  4.2727]])\n",
      "(10)-> tensor(1.00000e-02 *\n",
      "       [[ 4.6935,  5.0025, -4.4124,  4.2141]])\n",
      "(11)-> tensor(1.00000e-02 *\n",
      "       [[ 4.7007,  4.9718, -4.3907,  4.1061]])\n",
      "(12)-> tensor(1.00000e-02 *\n",
      "       [[ 4.6997,  4.9750, -4.4772,  4.2800]])\n",
      "(13)-> tensor(1.00000e-02 *\n",
      "       [[ 4.6790,  4.9917, -4.4376,  4.1197]])\n",
      "(14)-> tensor(1.00000e-02 *\n",
      "       [[ 4.6685,  4.9951, -4.4505,  4.1421]])\n",
      "(15)-> tensor(1.00000e-02 *\n",
      "       [[ 4.6763,  4.9944, -4.4406,  4.1248]])\n",
      "(16)-> tensor(1.00000e-02 *\n",
      "       [[ 4.6967,  4.9936, -4.3724,  4.1618]])\n",
      "(17)-> tensor(1.00000e-02 *\n",
      "       [[ 4.7116,  4.9925, -4.4258,  4.1176]])\n",
      "(18)-> tensor(1.00000e-02 *\n",
      "       [[ 4.7030,  4.9784, -4.4800,  4.2864]])\n",
      "(19)-> tensor(1.00000e-02 *\n",
      "       [[ 4.7116,  4.9804, -4.4134,  4.1002]])\n",
      "(20)-> tensor(1.00000e-02 *\n",
      "       [[ 4.6749,  4.9665, -4.4912,  4.2393]])\n"
     ]
    }
   ],
   "source": [
    "for (dc, st) in enumerate(states):\n",
    "    #import pdb; pdb.set_trace() # Debug! Debug! Debug! Debug! Debug! Debug! Debug! Debug!\n",
    "    print(f'({dc+1})-> {tstnet1.select_action(st)}') #, end=' ')"
   ]
  },
  {
   "cell_type": "markdown",
   "metadata": {},
   "source": [
    "#### Test the agent instance"
   ]
  },
  {
   "cell_type": "code",
   "execution_count": 28,
   "metadata": {},
   "outputs": [],
   "source": [
    "import mya2cagent\n",
    "\n",
    "# Thx2: https://emacs.stackexchange.com/a/13483\n",
    "import imp\n",
    "imp.reload(mya2cagent)\n",
    "\n",
    "agent = mya2cagent.a2cagent(len(env_info.agents), env, brain, max_steps = 100)"
   ]
  },
  {
   "cell_type": "code",
   "execution_count": 29,
   "metadata": {},
   "outputs": [
    {
     "name": "stdout",
     "output_type": "stream",
     "text": [
      "<mya2cagent.MultiProcEnv object at 0x7f9cfc140320>\n",
      "(0, <multiprocessing.connection.Connection object at 0x7f9cfc140c18>)\n",
      "(1, <multiprocessing.connection.Connection object at 0x7f9cec1c7b38>)\n",
      "(2, <multiprocessing.connection.Connection object at 0x7f9cec1c7d30>)\n",
      "(3, <multiprocessing.connection.Connection object at 0x7f9cec08d470>)\n",
      "(4, <multiprocessing.connection.Connection object at 0x7f9cec08d4e0>)\n",
      "(5, <multiprocessing.connection.Connection object at 0x7f9cec08d588>)\n",
      "(6, <multiprocessing.connection.Connection object at 0x7f9cec08d5c0>)\n",
      "(7, <multiprocessing.connection.Connection object at 0x7f9cec08d630>)\n",
      "(8, <multiprocessing.connection.Connection object at 0x7f9cec08d710>)\n",
      "(9, <multiprocessing.connection.Connection object at 0x7f9cec08d6a0>)\n",
      "(10, <multiprocessing.connection.Connection object at 0x7f9cec08dba8>)\n",
      "(11, <multiprocessing.connection.Connection object at 0x7f9cec08dac8>)\n",
      "(12, <multiprocessing.connection.Connection object at 0x7f9cec08db70>)\n",
      "(13, <multiprocessing.connection.Connection object at 0x7f9cec08dcc0>)\n",
      "(14, <multiprocessing.connection.Connection object at 0x7f9cec08dd30>)\n",
      "(15, <multiprocessing.connection.Connection object at 0x7f9cec08dda0>)\n",
      "(16, <multiprocessing.connection.Connection object at 0x7f9cec08de10>)\n",
      "(17, <multiprocessing.connection.Connection object at 0x7f9cec08de80>)\n",
      "(18, <multiprocessing.connection.Connection object at 0x7f9cec08def0>)\n",
      "(19, <multiprocessing.connection.Connection object at 0x7f9cec08df60>)\n"
     ]
    }
   ],
   "source": [
    "procs = mya2cagent.MultiProcEnv(env, 20200808, len(env_info.agents))"
   ]
  },
  {
   "cell_type": "code",
   "execution_count": 30,
   "metadata": {},
   "outputs": [],
   "source": [
    "env.close()"
   ]
  },
  {
   "cell_type": "code",
   "execution_count": null,
   "metadata": {},
   "outputs": [],
   "source": []
  }
 ],
 "metadata": {
  "kernelspec": {
   "display_name": "Python 3",
   "language": "python",
   "name": "python3"
  },
  "language_info": {
   "codemirror_mode": {
    "name": "ipython",
    "version": 3
   },
   "file_extension": ".py",
   "mimetype": "text/x-python",
   "name": "python",
   "nbconvert_exporter": "python",
   "pygments_lexer": "ipython3",
   "version": "3.6.3"
  }
 },
 "nbformat": 4,
 "nbformat_minor": 4
}
