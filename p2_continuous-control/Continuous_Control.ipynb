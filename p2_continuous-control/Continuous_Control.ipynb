{
 "cells": [
  {
   "cell_type": "markdown",
   "metadata": {},
   "source": [
    "# Continuous Control\n",
    "\n",
    "---\n",
    "\n",
    "In this notebook, you will learn how to use the Unity ML-Agents environment for the second project of the [Deep Reinforcement Learning Nanodegree](https://www.udacity.com/course/deep-reinforcement-learning-nanodegree--nd893) program.\n",
    "\n",
    "### 1. Start the Environment\n",
    "\n",
    "We begin by importing the necessary packages.  If the code cell below returns an error, please revisit the project instructions to double-check that you have installed [Unity ML-Agents](https://github.com/Unity-Technologies/ml-agents/blob/master/docs/Installation.md) and [NumPy](http://www.numpy.org/)."
   ]
  },
  {
   "cell_type": "code",
   "execution_count": 1,
   "metadata": {},
   "outputs": [],
   "source": [
    "from unityagents import UnityEnvironment\n",
    "import numpy as np\n",
    "\n",
    "import pprint as pp"
   ]
  },
  {
   "cell_type": "markdown",
   "metadata": {},
   "source": [
    "Next, we will start the environment!  **_Before running the code cell below_**, change the `file_name` parameter to match the location of the Unity environment that you downloaded.\n",
    "\n",
    "- **Mac**: `\"path/to/Reacher.app\"`\n",
    "- **Windows** (x86): `\"path/to/Reacher_Windows_x86/Reacher.exe\"`\n",
    "- **Windows** (x86_64): `\"path/to/Reacher_Windows_x86_64/Reacher.exe\"`\n",
    "- **Linux** (x86): `\"path/to/Reacher_Linux/Reacher.x86\"`\n",
    "- **Linux** (x86_64): `\"path/to/Reacher_Linux/Reacher.x86_64\"`\n",
    "- **Linux** (x86, headless): `\"path/to/Reacher_Linux_NoVis/Reacher.x86\"`\n",
    "- **Linux** (x86_64, headless): `\"path/to/Reacher_Linux_NoVis/Reacher.x86_64\"`\n",
    "\n",
    "For instance, if you are using a Mac, then you downloaded `Reacher.app`.  If this file is in the same folder as the notebook, then the line below should appear as follows:\n",
    "```\n",
    "env = UnityEnvironment(file_name=\"Reacher.app\")\n",
    "```"
   ]
  },
  {
   "cell_type": "code",
   "execution_count": 2,
   "metadata": {},
   "outputs": [
    {
     "name": "stderr",
     "output_type": "stream",
     "text": [
      "INFO:unityagents:\n",
      "'Academy' started successfully!\n",
      "Unity Academy name: Academy\n",
      "        Number of Brains: 1\n",
      "        Number of External Brains : 1\n",
      "        Lesson number : 0\n",
      "        Reset Parameters :\n",
      "\t\tgoal_speed -> 1.0\n",
      "\t\tgoal_size -> 5.0\n",
      "Unity brain name: ReacherBrain\n",
      "        Number of Visual Observations (per agent): 0\n",
      "        Vector Observation space type: continuous\n",
      "        Vector Observation space size (per agent): 33\n",
      "        Number of stacked Vector Observation: 1\n",
      "        Vector Action space type: continuous\n",
      "        Vector Action space size (per agent): 4\n",
      "        Vector Action descriptions: , , , \n"
     ]
    }
   ],
   "source": [
    "# ONE Agent, Standalone\n",
    "#env = UnityEnvironment(file_name='/home/ferenc/Python/rl/udadrl/data/Reacher_Linux/Reacher.x86_64')\n",
    "\n",
    "# TWENTY Agents, Standalone\n",
    "#env = UnityEnvironment(file_name='/home/ferenc/Python/rl/udadrl/data/Reacher_Linux_20/Reacher.x86_64')\n",
    "\n",
    "# ONE Agent, Cloud, No-Visuals \n",
    "#env = UnityEnvironment(file_name='/home/ferenc/Python/rl/udadrl/data/Reacher_Linux_NoVis/Reacher.x86_64')\n",
    "\n",
    "# TWENTY Agents, Cloud, No-Visuals \n",
    "env = UnityEnvironment(file_name='/home/ferenc/Python/rl/udadrl/data/Reacher_Linux_20_NoVis/Reacher.x86_64')\n",
    "\n",
    "\n"
   ]
  },
  {
   "cell_type": "markdown",
   "metadata": {},
   "source": [
    "Environments contain **_brains_** which are responsible for deciding the actions of their associated agents. Here we check for the first brain available, and set it as the default brain we will be controlling from Python."
   ]
  },
  {
   "cell_type": "code",
   "execution_count": 3,
   "metadata": {},
   "outputs": [],
   "source": [
    "# get the default brain\n",
    "brain_name = env.brain_names[0]\n",
    "brain = env.brains[brain_name]"
   ]
  },
  {
   "cell_type": "markdown",
   "metadata": {},
   "source": [
    "### 2. Examine the State and Action Spaces\n",
    "\n",
    "In this environment, a double-jointed arm can move to target locations. A reward of `+0.1` is provided for each step that the agent's hand is in the goal location. Thus, the goal of your agent is to maintain its position at the target location for as many time steps as possible.\n",
    "\n",
    "The observation space consists of `33` variables corresponding to position, rotation, velocity, and angular velocities of the arm.  Each action is a vector with four numbers, corresponding to torque applicable to two joints.  Every entry in the action vector must be a number between `-1` and `1`.\n",
    "\n",
    "Run the code cell below to print some information about the environment."
   ]
  },
  {
   "cell_type": "code",
   "execution_count": 4,
   "metadata": {},
   "outputs": [
    {
     "name": "stdout",
     "output_type": "stream",
     "text": [
      "Number of agents: 20\n",
      "Size of each action: 4\n",
      "There are 20 agents. Each observes a state with length: 33\n",
      "The state for the first agent looks like: [ 0.00000000e+00 -4.00000000e+00  0.00000000e+00  1.00000000e+00\n",
      " -0.00000000e+00 -0.00000000e+00 -4.37113883e-08  0.00000000e+00\n",
      "  0.00000000e+00  0.00000000e+00  0.00000000e+00  0.00000000e+00\n",
      "  0.00000000e+00  0.00000000e+00 -1.00000000e+01  0.00000000e+00\n",
      "  1.00000000e+00 -0.00000000e+00 -0.00000000e+00 -4.37113883e-08\n",
      "  0.00000000e+00  0.00000000e+00  0.00000000e+00  0.00000000e+00\n",
      "  0.00000000e+00  0.00000000e+00  5.75471878e+00 -1.00000000e+00\n",
      "  5.55726624e+00  0.00000000e+00  1.00000000e+00  0.00000000e+00\n",
      " -1.68164849e-01]\n"
     ]
    }
   ],
   "source": [
    "# reset the environment\n",
    "env_info = env.reset(train_mode=True)[brain_name]\n",
    "\n",
    "# number of agents\n",
    "num_agents = len(env_info.agents)\n",
    "print('Number of agents:', num_agents)\n",
    "\n",
    "# size of each action\n",
    "action_size = brain.vector_action_space_size\n",
    "print('Size of each action:', action_size)\n",
    "\n",
    "# examine the state space \n",
    "states = env_info.vector_observations\n",
    "state_size = states.shape[1]\n",
    "print('There are {} agents. Each observes a state with length: {}'.format(states.shape[0], state_size))\n",
    "print('The state for the first agent looks like:', states[0])"
   ]
  },
  {
   "cell_type": "markdown",
   "metadata": {},
   "source": [
    "### 3. Take Random Actions in the Environment\n",
    "\n",
    "In the next code cell, you will learn how to use the Python API to control the agent and receive feedback from the environment.\n",
    "\n",
    "Once this cell is executed, you will watch the agent's performance, if it selects an action at random with each time step.  A window should pop up that allows you to observe the agent, as it moves through the environment.  \n",
    "\n",
    "Of course, as part of the project, you'll have to change the code so that the agent is able to use its experience to gradually choose better actions when interacting with the environment!"
   ]
  },
  {
   "cell_type": "code",
   "execution_count": 5,
   "metadata": {},
   "outputs": [
    {
     "name": "stdout",
     "output_type": "stream",
     "text": [
      "20\n",
      "#192 -->\n",
      "Agent 04 got reward +0.02000 for action: [ 0.80210558 -0.82976858 -0.19207675  1.        ]\n",
      "#193 -->\n",
      "Agent 04 got reward +0.04000 for action: [-1.          1.          0.40063972 -1.        ]\n",
      "#194 -->\n",
      "Agent 04 got reward +0.04000 for action: [-0.6742693 -0.4580067  0.8897945 -1.       ]\n",
      "#195 -->\n",
      "Agent 04 got reward +0.04000 for action: [0.52834804 0.01162744 0.85394065 0.21667248]\n",
      "#196 -->\n",
      "Agent 04 got reward +0.04000 for action: [-0.53667817  0.74172614 -1.         -1.        ]\n",
      "#197 -->\n",
      "Agent 04 got reward +0.04000 for action: [ 0.04644684 -0.0723913  -0.45431289  0.43889813]\n",
      "#198 -->\n",
      "Agent 04 got reward +0.04000 for action: [ 0.44925305 -1.         -0.98047997 -0.35411585]\n",
      "#199 -->\n",
      "Agent 04 got reward +0.04000 for action: [-0.37845586 -0.53543054  1.          0.49413144]\n",
      "#200 -->\n",
      "Agent 04 got reward +0.04000 for action: [ 0.26949543 -1.          1.         -0.50080844]\n",
      "#201 -->\n",
      "Agent 04 got reward +0.01000 for action: [-0.27242294  0.6271311   0.09837051  1.        ]\n",
      "#275 -->\n",
      "Agent 05 got reward +0.04000 for action: [0.8190937  0.07625414 0.96029955 0.21541898]\n",
      "#276 -->\n",
      "Agent 05 got reward +0.04000 for action: [ 0.27905699  0.02088686 -0.13055705  1.        ]\n",
      "#277 -->\n",
      "Agent 05 got reward +0.04000 for action: [ 0.75322835  0.60612601 -0.07799078  1.        ]\n",
      "#278 -->\n",
      "Agent 05 got reward +0.04000 for action: [-0.40959577 -1.         -0.35986859 -1.        ]\n",
      "#279 -->\n",
      "Agent 05 got reward +0.01000 for action: [-0.5591521   1.          0.28772764 -0.50958742]\n",
      "#355 -->\n",
      "Agent 15 got reward +0.03000 for action: [-0.66948588  0.02372345 -0.8456496  -0.44020518]\n",
      "#356 -->\n",
      "Agent 15 got reward +0.04000 for action: [ 1.         -1.         -0.43596213  0.76802183]\n",
      "#357 -->\n",
      "Agent 15 got reward +0.04000 for action: [-0.84551269  0.25430307 -1.         -0.01707958]\n",
      "#358 -->\n",
      "Agent 15 got reward +0.04000 for action: [ 1.          0.69275544 -0.08821203 -0.60999955]\n",
      "#359 -->\n",
      "Agent 15 got reward +0.04000 for action: [ 0.81933805 -1.          0.75762187 -0.12476649]\n",
      "#360 -->\n",
      "Agent 15 got reward +0.03000 for action: [ 1.          1.         -1.          0.81509448]\n",
      "#491 -->\n",
      "Agent 03 got reward +0.03000 for action: [ 0.9905893   0.17162014 -0.76847919  1.        ]\n",
      "#492 -->\n",
      "Agent 03 got reward +0.04000 for action: [-1.          0.48095111  0.11026303 -1.        ]\n",
      "#493 -->\n",
      "Agent 03 got reward +0.04000 for action: [ 0.12939902  0.41724647  1.         -0.08219432]\n",
      "#494 -->\n",
      "Agent 03 got reward +0.04000 for action: [-0.8445204   1.          0.53249632 -0.00153721]\n",
      "#495 -->\n",
      "Agent 03 got reward +0.04000 for action: [-1.          1.         -0.08927407 -1.        ]\n",
      "#496 -->\n",
      "Agent 03 got reward +0.04000 for action: [-0.09009201  0.66167072  0.95690677 -0.1186957 ]\n",
      "#608 -->\n",
      "Agent 11 got reward +0.02000 for action: [-1.          1.         -0.14837243 -1.        ]\n",
      "#609 -->\n",
      "Agent 11 got reward +0.04000 for action: [-0.71977459 -1.         -0.15353649  0.30216081]\n",
      "#610 -->\n",
      "Agent 11 got reward +0.04000 for action: [-1.          0.62532475 -1.          1.        ]\n",
      "#611 -->\n",
      "Agent 11 got reward +0.04000 for action: [ 0.4665394  -0.23919725  0.69465008  0.85311572]\n",
      "#612 -->\n",
      "Agent 11 got reward +0.01000 for action: [ 0.57930137 -0.80125417  0.17673579 -0.15034024]\n",
      "#650 -->\n",
      "Agent 10 got reward +0.03000 for action: [ 0.64256606 -0.58632978  0.69702866 -0.66579543]\n",
      "#651 -->\n",
      "Agent 10 got reward +0.04000 for action: [ 0.36295021 -0.04167503 -0.21732929 -1.        ]\n",
      "#652 -->\n",
      "Agent 10 got reward +0.04000 for action: [ 0.60722056 -1.          0.90616066 -0.09484388]\n",
      "#653 -->\n",
      "Agent 10 got reward +0.04000 for action: [ 0.3950125   0.32671896 -1.         -0.59969086]\n",
      "#654 -->\n",
      "Agent 10 got reward +0.01000 for action: [-1.         -1.         -1.          0.31323901]\n",
      "#753 -->\n",
      "Agent 02 got reward +0.04000 for action: [ 0.29268015 -1.          0.35287155  0.65026115]\n",
      "#754 -->\n",
      "Agent 02 got reward +0.04000 for action: [0.66541841 1.         1.         1.        ]\n",
      "#755 -->\n",
      "Agent 02 got reward +0.04000 for action: [-1.          0.33793405  0.04081105  0.30021681]\n",
      "#756 -->\n",
      "Agent 02 got reward +0.04000 for action: [-0.66933408 -0.21387229  0.27538128  0.81531137]\n",
      "#757 -->\n",
      "Agent 02 got reward +0.01000 for action: [-0.43401796 -0.62627919 -0.16403203  0.38658601]\n",
      "#829 -->\n",
      "Agent 10 got reward +0.02000 for action: [ 0.09943493  0.04984489  0.22395261 -0.4968427 ]\n",
      "#830 -->\n",
      "Agent 10 got reward +0.04000 for action: [ 1.          1.         -0.99419866  1.        ]\n",
      "#831 -->\n",
      "Agent 10 got reward +0.04000 for action: [ 1.         -0.68348344  0.23903923  0.79821134]\n",
      "#832 -->\n",
      "Agent 10 got reward +0.04000 for action: [ 0.20962742 -0.07410766 -0.35574384  0.16097579]\n",
      "#833 -->\n",
      "Agent 10 got reward +0.04000 for action: [ 1.         -0.69278562 -0.41909761  1.        ]\n",
      "#834 -->\n",
      "Agent 10 got reward +0.04000 for action: [ 1.         -1.          0.59346308 -1.        ]\n",
      "#835 -->\n",
      "Agent 10 got reward +0.04000 for action: [ 1.         -0.72386955  1.          1.        ]\n",
      "#836 -->\n",
      "Agent 10 got reward +0.04000 for action: [ 0.19167324 -0.68815003 -1.          0.51027991]\n",
      "#837 -->\n",
      "Agent 10 got reward +0.04000 for action: [ 1.         -0.73653242  0.14150998  0.08135717]\n",
      "#838 -->\n",
      "Agent 10 got reward +0.01000 for action: [-1.         -0.22414819 -0.00271317 -0.00273114]\n",
      "#1001 Total score (averaged over agents) this episode: 0.08999999798834324\n"
     ]
    }
   ],
   "source": [
    "env_info = env.reset(train_mode=False)[brain_name]     # reset the environment    \n",
    "states = env_info.vector_observations                  # get the current state (for each agent)\n",
    "scores = np.zeros(num_agents)                          # initialize the score (for each agent)\n",
    "\n",
    "epc = 0\n",
    "print(num_agents)\n",
    "\n",
    "while True:\n",
    "    epc += 1\n",
    "    print(f'\\r#{epc}', end = ' ')\n",
    "    actions = np.random.randn(num_agents, action_size) # select an action (for each agent)\n",
    "    actions = np.clip(actions, -1, 1)                  # all actions between -1 and 1\n",
    "    env_info = env.step(actions)[brain_name]           # send all actions to tne environment\n",
    "    next_states = env_info.vector_observations         # get next state (for each agent)\n",
    "    rewards = env_info.rewards                         # get reward (for each agent)\n",
    "    dones = env_info.local_done                        # see if episode finished\n",
    "    rewards = env_info.rewards\n",
    "    nprewards = np.array(rewards)\n",
    "    scores += rewards                         # update the score (for each agent)\n",
    "    if np.sum(nprewards) > 0:\n",
    "        print('-->')\n",
    "        #print(f'\\r#{epc} Rewards = {rewards}')\n",
    "        maskagent = nprewards > 0\n",
    "        for (nagent, action) in enumerate(actions):\n",
    "            if maskagent[nagent]:\n",
    "                print('Agent {:0>2d} got reward {:+.5f} for action: {}'.format(nagent+1, rewards[nagent], action))\n",
    "                #pp.pprint(list(action))\n",
    "    states = next_states                               # roll over states to next time step\n",
    "    if np.any(dones):                                  # exit loop if episode finished\n",
    "        break\n",
    "print('Total score (averaged over agents) this episode: {}'.format(np.mean(scores)))"
   ]
  },
  {
   "cell_type": "markdown",
   "metadata": {},
   "source": [
    "### When finished, you can close the environment."
   ]
  },
  {
   "cell_type": "code",
   "execution_count": 6,
   "metadata": {},
   "outputs": [],
   "source": [
    "env.close()"
   ]
  },
  {
   "cell_type": "markdown",
   "metadata": {},
   "source": [
    "### 4. It's Your Turn!\n",
    "\n",
    "Now it's your turn to train your own agent to solve the environment!  When training the environment, set `train_mode=True`, so that the line for resetting the environment looks like the following:\n",
    "```python\n",
    "env_info = env.reset(train_mode=True)[brain_name]\n",
    "```"
   ]
  }
 ],
 "metadata": {
  "kernelspec": {
   "display_name": "Python 3",
   "language": "python",
   "name": "python3"
  },
  "language_info": {
   "codemirror_mode": {
    "name": "ipython",
    "version": 3
   },
   "file_extension": ".py",
   "mimetype": "text/x-python",
   "name": "python",
   "nbconvert_exporter": "python",
   "pygments_lexer": "ipython3",
   "version": "3.6.10"
  }
 },
 "nbformat": 4,
 "nbformat_minor": 4
}
