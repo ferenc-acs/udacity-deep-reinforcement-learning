{
 "cells": [
  {
   "cell_type": "markdown",
   "metadata": {},
   "source": [
    "# Continuous Control\n",
    "\n",
    "---\n",
    "\n",
    "In this notebook, you will learn how to use the Unity ML-Agents environment for the second project of the [Deep Reinforcement Learning Nanodegree](https://www.udacity.com/course/deep-reinforcement-learning-nanodegree--nd893) program.\n",
    "\n",
    "### 1. Start the Environment\n",
    "\n",
    "We begin by importing the necessary packages.  If the code cell below returns an error, please revisit the project instructions to double-check that you have installed [Unity ML-Agents](https://github.com/Unity-Technologies/ml-agents/blob/master/docs/Installation.md) and [NumPy](http://www.numpy.org/)."
   ]
  },
  {
   "cell_type": "code",
   "execution_count": 1,
   "metadata": {},
   "outputs": [],
   "source": [
    "from unityagents import UnityEnvironment\n",
    "import numpy as np\n",
    "\n",
    "import pprint as pp"
   ]
  },
  {
   "cell_type": "markdown",
   "metadata": {},
   "source": [
    "Next, we will start the environment!  **_Before running the code cell below_**, change the `file_name` parameter to match the location of the Unity environment that you downloaded.\n",
    "\n",
    "- **Mac**: `\"path/to/Reacher.app\"`\n",
    "- **Windows** (x86): `\"path/to/Reacher_Windows_x86/Reacher.exe\"`\n",
    "- **Windows** (x86_64): `\"path/to/Reacher_Windows_x86_64/Reacher.exe\"`\n",
    "- **Linux** (x86): `\"path/to/Reacher_Linux/Reacher.x86\"`\n",
    "- **Linux** (x86_64): `\"path/to/Reacher_Linux/Reacher.x86_64\"`\n",
    "- **Linux** (x86, headless): `\"path/to/Reacher_Linux_NoVis/Reacher.x86\"`\n",
    "- **Linux** (x86_64, headless): `\"path/to/Reacher_Linux_NoVis/Reacher.x86_64\"`\n",
    "\n",
    "For instance, if you are using a Mac, then you downloaded `Reacher.app`.  If this file is in the same folder as the notebook, then the line below should appear as follows:\n",
    "```\n",
    "env = UnityEnvironment(file_name=\"Reacher.app\")\n",
    "```"
   ]
  },
  {
   "cell_type": "code",
   "execution_count": 2,
   "metadata": {},
   "outputs": [
    {
     "name": "stdout",
     "output_type": "stream",
     "text": [
      "posix.uname_result(sysname='Linux', nodename='Anubis-Linux', release='5.4.0-42-generic', version='#46-Ubuntu SMP Fri Jul 10 00:24:02 UTC 2020', machine='x86_64')\n"
     ]
    },
    {
     "name": "stderr",
     "output_type": "stream",
     "text": [
      "INFO:unityagents:\n",
      "'Academy' started successfully!\n",
      "Unity Academy name: Academy\n",
      "        Number of Brains: 1\n",
      "        Number of External Brains : 1\n",
      "        Lesson number : 0\n",
      "        Reset Parameters :\n",
      "\t\tgoal_speed -> 1.0\n",
      "\t\tgoal_size -> 5.0\n",
      "Unity brain name: ReacherBrain\n",
      "        Number of Visual Observations (per agent): 0\n",
      "        Vector Observation space type: continuous\n",
      "        Vector Observation space size (per agent): 33\n",
      "        Number of stacked Vector Observation: 1\n",
      "        Vector Action space type: continuous\n",
      "        Vector Action space size (per agent): 4\n",
      "        Vector Action descriptions: , , , \n"
     ]
    }
   ],
   "source": [
    "import os\n",
    "\n",
    "print(os.uname())\n",
    "\n",
    "# In the cloud environment?\n",
    "if 'root' in os.environ['HOME']:\n",
    "    UENVPATH = '/data/'\n",
    "\n",
    "# In the standalone environment?\n",
    "if 'ferenc' in os.environ['HOME']:\n",
    "    UENVPATH = '/home/ferenc/Python/rl/udadrl/data/'\n",
    "\n",
    "# ONE Agent, Standalone\n",
    "#UENVCHOICE = 'Reacher_Linux/Reacher.x86_64'\n",
    "\n",
    "# TWENTY Agents, Standalone\n",
    "#UENVCHOICE = 'Reacher_Linux_20/Reacher.x86_64'\n",
    "\n",
    "# ONE Agent, Cloud, No-Visuals \n",
    "#UENVCHOICE = 'Reacher_Linux_NoVis/Reacher_One_Linux_NoVis.x86_64'\n",
    "\n",
    "# TWENTY Agents, Cloud, No-Visuals \n",
    "UENVCHOICE = 'Reacher_Linux_20_NoVis/Reacher.x86_64'\n",
    "\n",
    "env = UnityEnvironment( file_name=os.path.join( UENVPATH, UENVCHOICE ) )\n",
    "\n",
    "\n"
   ]
  },
  {
   "cell_type": "markdown",
   "metadata": {},
   "source": [
    "Environments contain **_brains_** which are responsible for deciding the actions of their associated agents. Here we check for the first brain available, and set it as the default brain we will be controlling from Python."
   ]
  },
  {
   "cell_type": "code",
   "execution_count": 3,
   "metadata": {},
   "outputs": [],
   "source": [
    "# get the default brain\n",
    "brain_name = env.brain_names[0]\n",
    "brain = env.brains[brain_name]"
   ]
  },
  {
   "cell_type": "markdown",
   "metadata": {},
   "source": [
    "### 2. Examine the State and Action Spaces\n",
    "\n",
    "In this environment, a double-jointed arm can move to target locations. A reward of `+0.1` is provided for each step that the agent's hand is in the goal location. Thus, the goal of your agent is to maintain its position at the target location for as many time steps as possible.\n",
    "\n",
    "The observation space consists of `33` variables corresponding to position, rotation, velocity, and angular velocities of the arm.  Each action is a vector with four numbers, corresponding to torque applicable to two joints.  Every entry in the action vector must be a number between `-1` and `1`.\n",
    "\n",
    "Run the code cell below to print some information about the environment."
   ]
  },
  {
   "cell_type": "code",
   "execution_count": 4,
   "metadata": {},
   "outputs": [
    {
     "name": "stdout",
     "output_type": "stream",
     "text": [
      "Number of agents: 20\n",
      "Size of each action: 4\n",
      "There are 20 agents. Each observes a state with length: 33\n",
      "The state for the first agent looks like: [ 0.00000000e+00 -4.00000000e+00  0.00000000e+00  1.00000000e+00\n",
      " -0.00000000e+00 -0.00000000e+00 -4.37113883e-08  0.00000000e+00\n",
      "  0.00000000e+00  0.00000000e+00  0.00000000e+00  0.00000000e+00\n",
      "  0.00000000e+00  0.00000000e+00 -1.00000000e+01  0.00000000e+00\n",
      "  1.00000000e+00 -0.00000000e+00 -0.00000000e+00 -4.37113883e-08\n",
      "  0.00000000e+00  0.00000000e+00  0.00000000e+00  0.00000000e+00\n",
      "  0.00000000e+00  0.00000000e+00  5.75471878e+00 -1.00000000e+00\n",
      "  5.55726624e+00  0.00000000e+00  1.00000000e+00  0.00000000e+00\n",
      " -1.68164849e-01]\n"
     ]
    }
   ],
   "source": [
    "# reset the environment\n",
    "env_info = env.reset(train_mode=True)[brain_name]\n",
    "\n",
    "# number of agents\n",
    "num_agents = len(env_info.agents)\n",
    "print('Number of agents:', num_agents)\n",
    "\n",
    "# size of each action\n",
    "action_size = brain.vector_action_space_size\n",
    "print('Size of each action:', action_size)\n",
    "\n",
    "# examine the state space \n",
    "states = env_info.vector_observations\n",
    "state_size = states.shape[1]\n",
    "print('There are {} agents. Each observes a state with length: {}'.format(states.shape[0], state_size))\n",
    "print('The state for the first agent looks like:', states[0])"
   ]
  },
  {
   "cell_type": "markdown",
   "metadata": {},
   "source": [
    "### 3. Take Random Actions in the Environment\n",
    "\n",
    "In the next code cell, you will learn how to use the Python API to control the agent and receive feedback from the environment.\n",
    "\n",
    "Once this cell is executed, you will watch the agent's performance, if it selects an action at random with each time step.  A window should pop up that allows you to observe the agent, as it moves through the environment.  \n",
    "\n",
    "Of course, as part of the project, you'll have to change the code so that the agent is able to use its experience to gradually choose better actions when interacting with the environment!"
   ]
  },
  {
   "cell_type": "code",
   "execution_count": 5,
   "metadata": {},
   "outputs": [
    {
     "name": "stdout",
     "output_type": "stream",
     "text": [
      "We have 20 active agents\n",
      "#    61  -> Agent 04 got reward +0.02000 for action: [ 1.          0.47494991 -1.          1.        ]\n",
      "#    62  -> Agent 04 got reward +0.04000 for action: [-0.05842294  0.64689991 -0.21016935  1.        ]\n",
      "#    63  -> Agent 04 got reward +0.04000 for action: [-0.78576715 -0.38093679  1.         -1.        ]\n",
      "#    64  -> Agent 04 got reward +0.04000 for action: [ 0.72976677 -0.20516779  0.05958411 -0.92198829]\n",
      "#    65  -> Agent 04 got reward +0.04000 for action: [ 0.40387684 -0.905204   -1.          0.26993466]\n",
      "#    66  -> Agent 04 got reward +0.04000 for action: [-0.13086965 -1.          1.         -1.        ]\n",
      "#    67  -> Agent 04 got reward +0.03000 for action: [-0.73658985 -0.76170643  0.14214163 -0.35324518]\n",
      "#   230  -> Agent 16 got reward +0.02000 for action: [-0.38720213  0.01932674 -1.          0.81247421]\n",
      "#   231  -> Agent 16 got reward +0.04000 for action: [ 0.2731027   0.03271043  0.84892832 -0.4146371 ]\n",
      "#   232  -> Agent 16 got reward +0.04000 for action: [ 1.          1.         -0.88928428 -0.76677697]\n",
      "#   233  -> Agent 16 got reward +0.04000 for action: [ 0.4932565   0.10022155 -0.23705567  1.        ]\n",
      "#   234  -> Agent 16 got reward +0.01000 for action: [-0.26318908 -0.28639062 -0.04926258  0.52836298]\n",
      "#   264  -> Agent 12 got reward +0.04000 for action: [ 1.         -1.         -0.1640417  -0.72691934]\n",
      "#   265  -> Agent 12 got reward +0.04000 for action: [ 0.50906236 -0.06565879 -0.02942004  1.        ]\n",
      "#   266  -> Agent 12 got reward +0.04000 for action: [0.90590838 0.35393634 1.         1.        ]\n",
      "#   267  -> Agent 12 got reward +0.04000 for action: [ 0.96810924 -0.77717313  1.         -0.40788117]\n",
      "#   268  -> Agent 12 got reward +0.04000 for action: [ 1.         -0.75076772 -0.61909143 -0.40432199]\n",
      "#   269  -> Agent 12 got reward +0.04000 for action: [-1.          0.87649714  0.14372482  0.56710474]\n",
      "#   270  -> Agent 12 got reward +0.04000 for action: [ 1.         -0.34175859 -0.2201737   0.30351368]\n",
      "#   271  -> Agent 12 got reward +0.04000 for action: [ 0.66424716 -1.         -0.30265205 -0.93265011]\n",
      "#   512  -> Agent 15 got reward +0.02000 for action: [-0.59756862  0.11050275  0.23741636 -0.61918124]\n",
      "#   513  -> Agent 15 got reward +0.04000 for action: [-1.          0.98642493  0.06725061 -0.77833348]\n",
      "#   514  -> Agent 15 got reward +0.04000 for action: [ 0.59233113 -1.         -1.          0.61869238]\n",
      "#   515  -> Agent 15 got reward +0.04000 for action: [-0.54956234 -0.54604263 -1.         -1.        ]\n",
      "#   516  -> Agent 15 got reward +0.04000 for action: [-0.92281004 -1.          0.0831948  -0.39252403]\n",
      "#   517  -> Agent 15 got reward +0.04000 for action: [ 0.53144065  1.          1.         -0.15680019]\n",
      "#   518  -> Agent 15 got reward +0.04000 for action: [-1.        -1.         0.4385654  1.       ]\n",
      "#   666  -> Agent 11 got reward +0.04000 for action: [-0.80617517  0.00874906  1.         -0.77586173]\n",
      "#   667  -> Agent 11 got reward +0.04000 for action: [-0.22166874  1.          0.47949313  1.        ]\n",
      "#   668  -> Agent 11 got reward +0.04000 for action: [ 0.07422969 -0.5989183   1.          0.58395693]\n",
      "#   669  -> Agent 11 got reward +0.04000 for action: [ 0.67600208 -0.62971025  0.2262795   1.        ]\n",
      "#   670  -> Agent 11 got reward +0.04000 for action: [-0.93969563  1.          0.20442343 -1.        ]\n",
      "#   671  -> Agent 11 got reward +0.04000 for action: [ 0.2859651   0.47774129 -1.          0.16069096]\n",
      "#   672  -> Agent 11 got reward +0.04000 for action: [-0.65314797 -0.06849264  0.09246088 -0.93577854]\n",
      "#   673  -> Agent 11 got reward +0.04000 for action: [ 1.         -1.         -0.00945947  0.83209221]\n",
      "#   674  -> Agent 11 got reward +0.04000 for action: [ 1.         -1.         -0.0080657  -0.67501358]\n",
      "#   675  -> Agent 11 got reward +0.04000 for action: [-0.44990552 -1.          0.89657502 -1.        ]\n",
      "#   676  -> Agent 11 got reward +0.01000 for action: [ 0.17357214 -0.71150038  1.         -0.29018972]\n",
      "#   745  -> Agent 20 got reward +0.02000 for action: [-0.35407304 -1.          1.          0.20510527]\n",
      "#   746  -> Agent 20 got reward +0.04000 for action: [-1.          1.         -0.52030514 -0.4477581 ]\n",
      "#   747  -> Agent 20 got reward +0.04000 for action: [ 1.          0.42113517 -1.         -1.        ]\n",
      "#   748  -> Agent 20 got reward +0.04000 for action: [ 1.         -1.         -0.17537458  1.        ]\n",
      "#   749  -> Agent 20 got reward +0.04000 for action: [-0.25241001 -1.         -0.3287819   0.20854371]\n",
      "#   750  -> Agent 20 got reward +0.03000 for action: [ 0.00671858 -0.15077055 -0.40895148  0.47305357]\n",
      "#   780  -> Agent 07 got reward +0.01000 for action: [ 0.11512652  0.22433661  0.60354208 -0.52189315]\n",
      "#   781  -> Agent 07 got reward +0.04000 for action: [-0.17207528 -1.          1.         -0.55666639]\n",
      "#   782  -> Agent 07 got reward +0.04000 for action: [-1.          1.         -1.          0.78196332]\n",
      "#   783  -> Agent 07 got reward +0.04000 for action: [ 1.          0.19724844  0.22487524 -0.9877046 ]\n",
      "#   784  -> Agent 07 got reward +0.04000 for action: [ 1.          0.10179921  0.2118746  -1.        ]\n",
      "#   785  -> Agent 07 got reward +0.04000 for action: [-1.         -0.37389727 -1.         -1.        ]\n",
      "#   786  -> Agent 07 got reward +0.04000 for action: [-0.01560628 -1.         -0.89781182 -1.        ]\n",
      "#   787  -> Agent 07 got reward +0.04000 for action: [ 1.         -0.3394074  -0.18875184 -1.        ]\n",
      "#   788  -> Agent 07 got reward +0.04000 for action: [-1.         -0.95747609 -0.48476366 -0.13609169]\n",
      "#   789  -> Agent 07 got reward +0.04000 for action: [ 0.25648844  0.52211449  0.3219413  -1.        ]\n",
      "#   790  -> Agent 07 got reward +0.04000 for action: [0.41652215 0.71294969 1.         0.40379769]\n",
      "#   791  -> Agent 07 got reward +0.01000 for action: [1.         0.38351593 0.77322436 1.        ]\n",
      "#   851  -> Agent 07 got reward +0.01000 for action: [-1.          0.13370185 -0.56715797 -0.17874369]\n",
      "#   852  -> Agent 07 got reward +0.04000 for action: [-0.32644684 -0.32140938  1.         -0.69531837]\n",
      "#  1001 #\n",
      "Total score (averaged over agents) this episode: 0.10349999768659472\n"
     ]
    }
   ],
   "source": [
    "# Some reminders about lambda functions\n",
    "# Thx2: https://realpython.com/python-lambda/\n",
    "# Thx2: https://thispointer.com/python-how-to-use-if-else-elif-in-lambda-functions/\n",
    "\n",
    "\n",
    "env_info = env.reset(train_mode=False)[brain_name]     # reset the environment    \n",
    "states = env_info.vector_observations                  # get the current state (for each agent)\n",
    "scores = np.zeros(num_agents)                          # initialize the score (for each agent)\n",
    "\n",
    "epc = 0\n",
    "print(f'We have {num_agents} active agent' + ( lambda x: 's' if x>1 else '')(num_agents) )\n",
    "\n",
    "while True:\n",
    "    epc += 1\n",
    "    #print(f'\\r#{epc}', end = ' ')\n",
    "    print(f'\\r#{str(epc).rjust(6)}', end = ' ')\n",
    "    actions = np.random.randn(num_agents, action_size) # select an action (for each agent)\n",
    "    actions = np.clip(actions, -1, 1)                  # all actions between -1 and 1\n",
    "    env_info = env.step(actions)[brain_name]           # send all actions to tne environment\n",
    "    next_states = env_info.vector_observations         # get next state (for each agent)\n",
    "    rewards = env_info.rewards                         # get reward (for each agent)\n",
    "    dones = env_info.local_done                        # see if episode finished\n",
    "    rewards = env_info.rewards\n",
    "    nprewards = np.array(rewards)\n",
    "    scores += rewards                         # update the score (for each agent)\n",
    "    if np.sum(nprewards) > 0:\n",
    "        #print(f'\\r#{epc} Rewards = {rewards}')\n",
    "        maskagent = nprewards > 0\n",
    "        agentbefore = False\n",
    "        for (nagent, action) in enumerate(actions):\n",
    "            if maskagent[nagent]:\n",
    "                if agentbefore:\n",
    "                    print('\\r#' + '&'.rjust(6), end = ' ')\n",
    "                print(' -> Agent {:0>2d} got reward {:+.5f} for action: {}'.format(nagent+1, rewards[nagent], action))\n",
    "                agentbefore = True\n",
    "                #pp.pprint(list(action))\n",
    "    states = next_states                               # roll over states to next time step\n",
    "    if np.any(dones):                                  # exit loop if episode finished\n",
    "        break\n",
    "print('#')\n",
    "print('Total score (averaged over agents) this episode: {}'.format(np.mean(scores)))"
   ]
  },
  {
   "cell_type": "markdown",
   "metadata": {},
   "source": [
    "### When finished, you can close the environment."
   ]
  },
  {
   "cell_type": "code",
   "execution_count": 6,
   "metadata": {},
   "outputs": [],
   "source": [
    "env.close()"
   ]
  },
  {
   "cell_type": "markdown",
   "metadata": {},
   "source": [
    "### 4. It's Your Turn!\n",
    "\n",
    "Now it's your turn to train your own agent to solve the environment!  When training the environment, set `train_mode=True`, so that the line for resetting the environment looks like the following:\n",
    "```python\n",
    "env_info = env.reset(train_mode=True)[brain_name]\n",
    "```"
   ]
  }
 ],
 "metadata": {
  "kernelspec": {
   "display_name": "Python 3",
   "language": "python",
   "name": "python3"
  },
  "language_info": {
   "codemirror_mode": {
    "name": "ipython",
    "version": 3
   },
   "file_extension": ".py",
   "mimetype": "text/x-python",
   "name": "python",
   "nbconvert_exporter": "python",
   "pygments_lexer": "ipython3",
   "version": "3.6.10"
  }
 },
 "nbformat": 4,
 "nbformat_minor": 4
}
