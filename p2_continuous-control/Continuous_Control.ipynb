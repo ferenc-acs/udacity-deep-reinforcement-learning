{
 "cells": [
  {
   "cell_type": "markdown",
   "metadata": {},
   "source": [
    "# Continuous Control\n",
    "\n",
    "---\n",
    "\n",
    "In this notebook, you will learn how to use the Unity ML-Agents environment for the second project of the [Deep Reinforcement Learning Nanodegree](https://www.udacity.com/course/deep-reinforcement-learning-nanodegree--nd893) program.\n",
    "\n",
    "### 1. Start the Environment\n",
    "\n",
    "We begin by importing the necessary packages.  If the code cell below returns an error, please revisit the project instructions to double-check that you have installed [Unity ML-Agents](https://github.com/Unity-Technologies/ml-agents/blob/master/docs/Installation.md) and [NumPy](http://www.numpy.org/)."
   ]
  },
  {
   "cell_type": "code",
   "execution_count": 1,
   "metadata": {},
   "outputs": [
    {
     "name": "stdout",
     "output_type": "stream",
     "text": [
      "posix.uname_result(sysname='Linux', nodename='b789bc1bb740', release='4.15.0-1080-gcp', version='#90~16.04.1-Ubuntu SMP Fri Jul 10 19:11:10 UTC 2020', machine='x86_64')\n",
      "\u001b[31mtensorflow 1.7.1 has requirement numpy>=1.13.3, but you'll have numpy 1.12.1 which is incompatible.\u001b[0m\n",
      "\u001b[31mipython 6.5.0 has requirement prompt-toolkit<2.0.0,>=1.0.15, but you'll have prompt-toolkit 3.0.7 which is incompatible.\u001b[0m\n"
     ]
    }
   ],
   "source": [
    "import os\n",
    "\n",
    "print(os.uname())\n",
    "\n",
    "# In the cloud environment?\n",
    "if 'root' in os.environ['HOME']:\n",
    "    UENVPATH = '/data/'\n",
    "    !pip -q install /home/workspace/python\n",
    "\n",
    "# In the standalone environment?\n",
    "if 'ferenc' in os.environ['HOME']:\n",
    "    UENVPATH = '/home/ferenc/Python/rl/udadrl/data/'\n",
    "\n",
    "\n",
    "from unityagents import UnityEnvironment\n",
    "import numpy as np\n",
    "\n",
    "import pprint as pp"
   ]
  },
  {
   "cell_type": "markdown",
   "metadata": {},
   "source": [
    "Next, we will start the environment!  **_Before running the code cell below_**, change the `file_name` parameter to match the location of the Unity environment that you downloaded.\n",
    "\n",
    "- **Mac**: `\"path/to/Reacher.app\"`\n",
    "- **Windows** (x86): `\"path/to/Reacher_Windows_x86/Reacher.exe\"`\n",
    "- **Windows** (x86_64): `\"path/to/Reacher_Windows_x86_64/Reacher.exe\"`\n",
    "- **Linux** (x86): `\"path/to/Reacher_Linux/Reacher.x86\"`\n",
    "- **Linux** (x86_64): `\"path/to/Reacher_Linux/Reacher.x86_64\"`\n",
    "- **Linux** (x86, headless): `\"path/to/Reacher_Linux_NoVis/Reacher.x86\"`\n",
    "- **Linux** (x86_64, headless): `\"path/to/Reacher_Linux_NoVis/Reacher.x86_64\"`\n",
    "\n",
    "For instance, if you are using a Mac, then you downloaded `Reacher.app`.  If this file is in the same folder as the notebook, then the line below should appear as follows:\n",
    "```\n",
    "env = UnityEnvironment(file_name=\"Reacher.app\")\n",
    "```"
   ]
  },
  {
   "cell_type": "code",
   "execution_count": 2,
   "metadata": {},
   "outputs": [
    {
     "name": "stderr",
     "output_type": "stream",
     "text": [
      "INFO:unityagents:\n",
      "'Academy' started successfully!\n",
      "Unity Academy name: Academy\n",
      "        Number of Brains: 1\n",
      "        Number of External Brains : 1\n",
      "        Lesson number : 0\n",
      "        Reset Parameters :\n",
      "\t\tgoal_speed -> 1.0\n",
      "\t\tgoal_size -> 5.0\n",
      "Unity brain name: ReacherBrain\n",
      "        Number of Visual Observations (per agent): 0\n",
      "        Vector Observation space type: continuous\n",
      "        Vector Observation space size (per agent): 33\n",
      "        Number of stacked Vector Observation: 1\n",
      "        Vector Action space type: continuous\n",
      "        Vector Action space size (per agent): 4\n",
      "        Vector Action descriptions: , , , \n"
     ]
    }
   ],
   "source": [
    "# ONE Agent, Standalone\n",
    "#UENVCHOICE = 'Reacher_Linux/Reacher.x86_64'\n",
    "\n",
    "# TWENTY Agents, Standalone\n",
    "#UENVCHOICE = 'Reacher_Linux_20/Reacher.x86_64'\n",
    "\n",
    "# ONE Agent, Cloud, No-Visuals \n",
    "#UENVCHOICE = 'Reacher_One_Linux_NoVis/Reacher_One_Linux_NoVis.x86_64'\n",
    "\n",
    "# TWENTY Agents, Cloud, No-Visuals \n",
    "UENVCHOICE = 'Reacher_Linux_NoVis/Reacher.x86_64'\n",
    "\n",
    "env = UnityEnvironment( file_name=os.path.join( UENVPATH, UENVCHOICE ) )\n",
    "\n",
    "\n"
   ]
  },
  {
   "cell_type": "markdown",
   "metadata": {},
   "source": [
    "Environments contain **_brains_** which are responsible for deciding the actions of their associated agents. Here we check for the first brain available, and set it as the default brain we will be controlling from Python."
   ]
  },
  {
   "cell_type": "code",
   "execution_count": 3,
   "metadata": {},
   "outputs": [
    {
     "data": {
      "text/plain": [
       "unityagents.environment.UnityEnvironment"
      ]
     },
     "execution_count": 3,
     "metadata": {},
     "output_type": "execute_result"
    }
   ],
   "source": [
    "# FA DEBUG! DEBUG! DEBUG! \n",
    "type(env)"
   ]
  },
  {
   "cell_type": "code",
   "execution_count": 4,
   "metadata": {},
   "outputs": [],
   "source": [
    "# get the default brain\n",
    "brain_name = env.brain_names[0]\n",
    "brain = env.brains[brain_name]"
   ]
  },
  {
   "cell_type": "code",
   "execution_count": 5,
   "metadata": {},
   "outputs": [
    {
     "name": "stdout",
     "output_type": "stream",
     "text": [
      "['ReacherBrain']\n",
      "<class 'unityagents.brain.BrainParameters'>\n"
     ]
    },
    {
     "data": {
      "text/plain": [
       "'ReacherBrain'"
      ]
     },
     "execution_count": 5,
     "metadata": {},
     "output_type": "execute_result"
    }
   ],
   "source": [
    "# FA  DEBUG! DEBUG! DEBUG! \n",
    "print(env.brain_names)\n",
    "print( type(brain) )\n",
    "brain.brain_name"
   ]
  },
  {
   "cell_type": "code",
   "execution_count": 6,
   "metadata": {},
   "outputs": [
    {
     "name": "stdout",
     "output_type": "stream",
     "text": [
      "Observation Space: 33 dimensions of continuous type\n",
      "Action Space: 4 dimensions of continuous type\n"
     ]
    }
   ],
   "source": [
    "# FA  DEBUG! DEBUG! DEBUG!\n",
    "print(f'Observation Space: {brain.vector_observation_space_size} dimensions of {brain.vector_observation_space_type} type') \n",
    "print(f'Action Space: {brain.vector_action_space_size} dimensions of {brain.vector_observation_space_type} type')"
   ]
  },
  {
   "cell_type": "markdown",
   "metadata": {},
   "source": [
    "### 2. Examine the State and Action Spaces\n",
    "\n",
    "In this environment, a double-jointed arm can move to target locations. A reward of `+0.1` is provided for each step that the agent's hand is in the goal location. Thus, the goal of your agent is to maintain its position at the target location for as many time steps as possible.\n",
    "\n",
    "The observation space consists of `33` variables corresponding to position, rotation, velocity, and angular velocities of the arm.  Each action is a vector with four numbers, corresponding to torque applicable to two joints.  Every entry in the action vector must be a number between `-1` and `1`.\n",
    "\n",
    "Run the code cell below to print some information about the environment."
   ]
  },
  {
   "cell_type": "code",
   "execution_count": 7,
   "metadata": {},
   "outputs": [
    {
     "name": "stdout",
     "output_type": "stream",
     "text": [
      "Number of agents: 20\n",
      "Size of each action: 4\n",
      "There are 20 agents. Each observes a state with length: 33\n",
      "The state for the first agent looks like: [  0.00000000e+00  -4.00000000e+00   0.00000000e+00   1.00000000e+00\n",
      "  -0.00000000e+00  -0.00000000e+00  -4.37113883e-08   0.00000000e+00\n",
      "   0.00000000e+00   0.00000000e+00   0.00000000e+00   0.00000000e+00\n",
      "   0.00000000e+00   0.00000000e+00  -1.00000000e+01   0.00000000e+00\n",
      "   1.00000000e+00  -0.00000000e+00  -0.00000000e+00  -4.37113883e-08\n",
      "   0.00000000e+00   0.00000000e+00   0.00000000e+00   0.00000000e+00\n",
      "   0.00000000e+00   0.00000000e+00   5.75471878e+00  -1.00000000e+00\n",
      "   5.55726624e+00   0.00000000e+00   1.00000000e+00   0.00000000e+00\n",
      "  -1.68164849e-01]\n"
     ]
    }
   ],
   "source": [
    "# reset the environment\n",
    "env_info = env.reset(train_mode=True)[brain_name]\n",
    "\n",
    "# number of agents\n",
    "num_agents = len(env_info.agents)\n",
    "print('Number of agents:', num_agents)\n",
    "\n",
    "# size of each action\n",
    "action_size = brain.vector_action_space_size\n",
    "print('Size of each action:', action_size)\n",
    "\n",
    "# examine the state space \n",
    "states = env_info.vector_observations\n",
    "state_size = states.shape[1]\n",
    "print('There are {} agents. Each observes a state with length: {}'.format(states.shape[0], state_size))\n",
    "print('The state for the first agent looks like:', states[0])"
   ]
  },
  {
   "cell_type": "markdown",
   "metadata": {},
   "source": [
    "### 3. Take Random Actions in the Environment\n",
    "\n",
    "In the next code cell, you will learn how to use the Python API to control the agent and receive feedback from the environment.\n",
    "\n",
    "Once this cell is executed, you will watch the agent's performance, if it selects an action at random with each time step.  A window should pop up that allows you to observe the agent, as it moves through the environment.  \n",
    "\n",
    "Of course, as part of the project, you'll have to change the code so that the agent is able to use its experience to gradually choose better actions when interacting with the environment!"
   ]
  },
  {
   "cell_type": "code",
   "execution_count": 8,
   "metadata": {},
   "outputs": [
    {
     "name": "stdout",
     "output_type": "stream",
     "text": [
      "We have 20 active agents\n",
      "#   135  -> Agent 18 got reward +0.04000 for action: [ 0.80364172  1.         -0.16644854 -0.12250924]\n",
      "#   136  -> Agent 18 got reward +0.04000 for action: [ 1.         -0.57111836 -0.09723296 -0.65219795]\n",
      "#   137  -> Agent 18 got reward +0.04000 for action: [-0.89475075  0.14856328 -0.00698495 -0.38430418]\n",
      "#   138  -> Agent 18 got reward +0.04000 for action: [ 1.          0.55187628 -0.72913381 -1.        ]\n",
      "#   139  -> Agent 18 got reward +0.04000 for action: [ 0.29084886  1.         -0.4263762  -0.51031905]\n",
      "#   140  -> Agent 18 got reward +0.04000 for action: [ 1.          1.          0.99231318  0.35763881]\n",
      "#   227  -> Agent 18 got reward +0.01000 for action: [-0.11522585  0.89674612  0.44949256  1.        ]\n",
      "#   228  -> Agent 18 got reward +0.04000 for action: [ 0.09920537 -1.          0.39110645 -0.60857839]\n",
      "#   229  -> Agent 18 got reward +0.04000 for action: [-0.35782662 -0.00127117 -0.83703303  1.        ]\n",
      "#   230  -> Agent 18 got reward +0.04000 for action: [ 0.03701056 -0.67015329 -1.          0.68415365]\n",
      "#   231  -> Agent 18 got reward +0.04000 for action: [ 1.         -1.         -0.49041672 -0.85164305]\n",
      "#   232  -> Agent 18 got reward +0.04000 for action: [ 0.95881009 -0.99513898  0.90918347  0.16025506]\n",
      "#   233  -> Agent 18 got reward +0.04000 for action: [-1.          0.20788726 -0.14033216 -0.55752685]\n",
      "#   234  -> Agent 18 got reward +0.04000 for action: [ 1.          1.         -1.          0.66713906]\n",
      "#   235  -> Agent 18 got reward +0.04000 for action: [-1.         -0.67397533  0.25815428  0.17863941]\n",
      "#   236  -> Agent 18 got reward +0.04000 for action: [ 0.85854038  1.         -1.         -0.75374968]\n",
      "#   237  -> Agent 18 got reward +0.04000 for action: [ 0.58574104  0.45660094  0.43392292 -0.31494701]\n",
      "#   238  -> Agent 18 got reward +0.04000 for action: [-0.40197841 -0.47490319  0.62045316  0.47354751]\n",
      "#   239  -> Agent 18 got reward +0.01000 for action: [-0.82324558 -0.13374405 -0.94336471  0.29032496]\n",
      "#   346  -> Agent 16 got reward +0.04000 for action: [-0.94811981  1.          0.05564309 -0.21869283]\n",
      "#   347  -> Agent 16 got reward +0.04000 for action: [ 0.65589921 -0.83512213  0.03529614  0.07771937]\n",
      "#   348  -> Agent 16 got reward +0.04000 for action: [ 1.          0.55632638  0.67614248  0.45533748]\n",
      "#   349  -> Agent 16 got reward +0.04000 for action: [ 0.46175366 -1.          0.35129819 -0.4773546 ]\n",
      "#   350  -> Agent 16 got reward +0.04000 for action: [ 1.         -1.          0.27485335  0.48811991]\n",
      "#   388  -> Agent 13 got reward +0.03000 for action: [ 0.83834202  0.84219873  0.06990528 -1.        ]\n",
      "#   389  -> Agent 13 got reward +0.04000 for action: [ 0.44507375  0.29024859 -0.83075327 -1.        ]\n",
      "#   390  -> Agent 13 got reward +0.04000 for action: [ 0.36099353  0.40853558  0.34322569  0.21424217]\n",
      "#   391  -> Agent 13 got reward +0.04000 for action: [ 0.33613123  1.         -1.         -0.39241732]\n",
      "#   392  -> Agent 13 got reward +0.04000 for action: [ 0.37864842 -0.01131614  0.44566956 -1.        ]\n",
      "#   393  -> Agent 13 got reward +0.04000 for action: [-0.8617228   0.30790664 -1.          0.9695044 ]\n",
      "#   394  -> Agent 13 got reward +0.04000 for action: [-0.07622161 -1.          0.9433475   0.99525978]\n",
      "#   395  -> Agent 13 got reward +0.04000 for action: [ 0.24130995  0.03611711 -1.         -0.77691683]\n",
      "#   396  -> Agent 13 got reward +0.04000 for action: [-0.0323862   1.          0.71915451 -0.88441356]\n",
      "#   397  -> Agent 13 got reward +0.04000 for action: [-1.          0.04605392 -1.          1.        ]\n",
      "#   398  -> Agent 13 got reward +0.02000 for action: [ 1.         -1.          0.00372347 -0.14040203]\n",
      "#   418  -> Agent 17 got reward +0.03000 for action: [-0.15012043  0.6150545   0.38016386  0.65026908]\n",
      "#   419  -> Agent 17 got reward +0.04000 for action: [-0.18140644  0.02513157 -0.73008601 -0.41250541]\n",
      "#   420  -> Agent 17 got reward +0.04000 for action: [ 0.41898051 -0.01941337  0.54245694 -0.04486039]\n",
      "#   421  -> Agent 17 got reward +0.04000 for action: [ 1.          1.         -0.33300975 -1.        ]\n",
      "#   422  -> Agent 17 got reward +0.04000 for action: [ 0.25577249 -1.         -0.03335988  0.84566491]\n",
      "#   423  -> Agent 17 got reward +0.02000 for action: [-0.30763853  1.          0.69054101 -0.17752587]\n",
      "#   443  -> Agent 04 got reward +0.03000 for action: [-1.          0.31726396 -0.93936741  1.        ]\n",
      "#   444  -> Agent 04 got reward +0.04000 for action: [-0.15941136 -0.00121771  0.47557222  0.43285895]\n",
      "#   445  -> Agent 04 got reward +0.04000 for action: [-0.87460404  0.80858663  0.64349015 -1.        ]\n",
      "#   446  -> Agent 04 got reward +0.04000 for action: [-0.98237087  0.65828235  1.         -1.        ]\n",
      "#   447  -> Agent 04 got reward +0.04000 for action: [-0.9193807  -0.67485035 -0.41667696 -0.08458966]\n",
      "#   448  -> Agent 04 got reward +0.04000 for action: [ 0.46813288 -0.48399824 -0.16509694 -0.53816169]\n",
      "#   449  -> Agent 04 got reward +0.04000 for action: [-1.         -0.86618261  0.46229896 -1.        ]\n",
      "#   450  -> Agent 04 got reward +0.04000 for action: [-0.68673595  0.5397088  -0.77764346  0.60541531]\n",
      "#   451  -> Agent 04 got reward +0.04000 for action: [-1.         -1.          0.84648493  1.        ]\n",
      "#   452  -> Agent 04 got reward +0.04000 for action: [-1.         -0.31443736 -0.76049689  0.43869133]\n",
      "#   453  -> Agent 04 got reward +0.04000 for action: [ 0.02218347 -0.7852148  -1.         -0.46455297]\n",
      "#   454  -> Agent 04 got reward +0.04000 for action: [-0.4591142  -0.71825513 -0.94129973 -0.4886624 ]\n",
      "#   455  -> Agent 04 got reward +0.04000 for action: [-0.00458749 -0.92266972 -1.         -0.05911006]\n",
      "#   535  -> Agent 02 got reward +0.04000 for action: [ 0.22956576  0.81454227  0.67010795 -0.34367974]\n",
      "#   536  -> Agent 02 got reward +0.04000 for action: [-0.4302142  -0.11974057 -0.16000458  0.11990705]\n",
      "#   537  -> Agent 02 got reward +0.01000 for action: [ 1.          0.12128258 -0.04062666  0.75791461]\n",
      "#   561  -> Agent 08 got reward +0.03000 for action: [ 0.91288816 -1.          0.24538962  0.94999771]\n",
      "#   562  -> Agent 08 got reward +0.04000 for action: [ 0.10517212 -0.28758996  0.49901187 -0.48483556]\n",
      "#   563  -> Agent 08 got reward +0.04000 for action: [ 0.32675431 -1.         -1.         -0.37351974]\n",
      "#   564  -> Agent 08 got reward +0.04000 for action: [-0.30281826 -1.         -0.57692538  1.        ]\n",
      "#   565  -> Agent 08 got reward +0.04000 for action: [ 0.16695655 -0.99841686  0.30982548  0.63210671]\n",
      "#   566  -> Agent 08 got reward +0.04000 for action: [ 0.11509362 -1.         -0.18993216  0.24246849]\n",
      "#   567  -> Agent 08 got reward +0.04000 for action: [ 0.81775057  1.          1.         -1.        ]\n",
      "#   568  -> Agent 08 got reward +0.04000 for action: [ 0.30703197  0.65876712  0.20664688  0.6187972 ]\n",
      "#   569  -> Agent 08 got reward +0.04000 for action: [ 1.         -0.95944622 -1.          1.        ]\n",
      "#   570  -> Agent 08 got reward +0.04000 for action: [ 0.25323303 -0.90175335 -0.27900075 -0.04764709]\n",
      "#   571  -> Agent 08 got reward +0.04000 for action: [ 0.34374195 -0.05937311 -0.50663538  1.        ]\n",
      "#   572  -> Agent 08 got reward +0.04000 for action: [ 1.          0.52965965 -1.         -1.        ]\n",
      "#   573  -> Agent 08 got reward +0.04000 for action: [ 0.5882334   0.93357724 -0.44561944 -0.16462874]\n",
      "#   574  -> Agent 08 got reward +0.04000 for action: [-0.5438851   1.         -0.23704919 -0.78143763]\n",
      "#   575  -> Agent 08 got reward +0.04000 for action: [ 0.16217088 -0.0200761   0.73405314 -0.68546395]\n",
      "#   576  -> Agent 08 got reward +0.04000 for action: [-0.68742217 -0.70595241 -0.49982447  0.07589673]\n",
      "#   577  -> Agent 08 got reward +0.04000 for action: [-0.88770412  0.41481344 -1.          1.        ]\n",
      "#   580  -> Agent 06 got reward +0.02000 for action: [ 1.          0.91314551  0.67068712  0.48997033]\n",
      "#     &  -> Agent 17 got reward +0.03000 for action: [ 0.98804115  0.28361223  0.04905025  0.27822314]\n",
      "#   581  -> Agent 06 got reward +0.04000 for action: [-0.74056898 -0.43539976  1.         -0.08756901]\n",
      "#     &  -> Agent 17 got reward +0.04000 for action: [ 0.01293282  0.82574599  0.23779934 -1.        ]\n",
      "#   582  -> Agent 06 got reward +0.04000 for action: [ 0.43684387 -1.         -1.          0.57397883]\n",
      "#     &  -> Agent 17 got reward +0.04000 for action: [-1.         -0.02586628  0.07273202 -1.        ]\n"
     ]
    },
    {
     "name": "stdout",
     "output_type": "stream",
     "text": [
      "#   583  -> Agent 06 got reward +0.04000 for action: [-0.56657255  0.44928869  0.23141679  1.        ]\n",
      "#     &  -> Agent 17 got reward +0.04000 for action: [-0.13433971 -0.72023071 -0.00839039  0.57796793]\n",
      "#   584  -> Agent 06 got reward +0.04000 for action: [ 0.4569769   0.07612403  1.          0.03766371]\n",
      "#     &  -> Agent 17 got reward +0.04000 for action: [-1.          0.15520364 -0.15375335 -0.64765862]\n",
      "#   585  -> Agent 06 got reward +0.04000 for action: [ 0.01195548 -0.35684926 -1.         -1.        ]\n",
      "#     &  -> Agent 17 got reward +0.04000 for action: [-0.83436257 -1.          1.         -1.        ]\n",
      "#   586  -> Agent 06 got reward +0.04000 for action: [-0.21194533  1.         -1.         -0.07539774]\n",
      "#   587  -> Agent 06 got reward +0.04000 for action: [-0.70656247 -1.          0.65902187  0.34933768]\n",
      "#   588  -> Agent 06 got reward +0.04000 for action: [ 1.          0.57301019  0.32069113 -0.35250995]\n",
      "#   589  -> Agent 06 got reward +0.04000 for action: [ 0.63526183  0.2791524  -0.39330167 -1.        ]\n",
      "#   590  -> Agent 06 got reward +0.02000 for action: [-0.12846822 -1.          0.03758749 -0.45104954]\n",
      "#   735  -> Agent 18 got reward +0.03000 for action: [-1.          0.53012861  0.31276403 -1.        ]\n",
      "#   736  -> Agent 18 got reward +0.04000 for action: [-1.          0.02273756 -0.39143974  0.28941396]\n",
      "#   737  -> Agent 18 got reward +0.04000 for action: [ 0.0042595   0.49821485 -0.52601587 -1.        ]\n",
      "#   738  -> Agent 18 got reward +0.04000 for action: [ 0.96132129  0.1137958   0.28768392 -0.60803156]\n",
      "#   739  -> Agent 18 got reward +0.04000 for action: [-1.          0.41726182 -1.         -0.70063144]\n",
      "#   740  -> Agent 18 got reward +0.04000 for action: [ 0.80456066  0.84007507  1.         -1.        ]\n",
      "#   741  -> Agent 18 got reward +0.04000 for action: [-0.36683543  1.          0.06143173 -0.31759039]\n",
      "#   742  -> Agent 18 got reward +0.04000 for action: [-0.04138379  1.         -0.98275322  0.21710565]\n",
      "#   743  -> Agent 18 got reward +0.04000 for action: [-1.         -0.98301864  0.15910116  0.04527149]\n",
      "#   744  -> Agent 18 got reward +0.04000 for action: [ 1.          0.12599819  0.50591009 -0.07112777]\n",
      "#   745  -> Agent 18 got reward +0.01000 for action: [-1.          1.          1.         -0.12519792]\n",
      "#   793  -> Agent 10 got reward +0.03000 for action: [ 0.62011975  1.          0.17228104 -1.        ]\n",
      "#   794  -> Agent 10 got reward +0.04000 for action: [-0.0484928  -0.52808373 -0.93121397 -1.        ]\n",
      "#   795  -> Agent 10 got reward +0.04000 for action: [-0.17608543 -1.         -1.         -0.60842241]\n",
      "#   796  -> Agent 10 got reward +0.04000 for action: [-0.46617879  0.28383416 -0.2334958   0.02222399]\n",
      "#   797  -> Agent 10 got reward +0.04000 for action: [ 1.          0.40542497 -0.79742035  0.05305885]\n",
      "#   798  -> Agent 10 got reward +0.01000 for action: [-0.54420888 -0.03645567 -0.49954964  1.        ]\n",
      "#   891  -> Agent 06 got reward +0.04000 for action: [-0.20450795 -0.82445892 -0.84314941 -1.        ]\n",
      "#   892  -> Agent 06 got reward +0.04000 for action: [-0.13483675  1.          0.81221322  0.36557095]\n",
      "#   893  -> Agent 06 got reward +0.04000 for action: [-1.         -0.67367692 -0.915513   -0.50786414]\n",
      "#   894  -> Agent 06 got reward +0.04000 for action: [ 1.       -1.        1.        0.520971]\n",
      "#   895  -> Agent 06 got reward +0.04000 for action: [-1.          1.         -0.17767937  0.66739501]\n",
      "#   896  -> Agent 06 got reward +0.04000 for action: [ 0.39134665  0.63392754  0.58373015 -0.21510806]\n",
      "#   897  -> Agent 06 got reward +0.04000 for action: [ 1.  1. -1. -1.]\n",
      "#   898  -> Agent 06 got reward +0.04000 for action: [ 0.1525649   0.79206697  0.37426142  1.        ]\n",
      "#   899  -> Agent 06 got reward +0.04000 for action: [ 0.12622331 -0.72085934 -1.         -0.11282704]\n",
      "#   900  -> Agent 06 got reward +0.04000 for action: [-0.1915372   0.76211631  1.          0.03873235]\n",
      "#   901  -> Agent 06 got reward +0.04000 for action: [ 0.36168585 -0.21913447 -0.82323768 -1.        ]\n",
      "#   902  -> Agent 06 got reward +0.01000 for action: [ 0.14798939 -0.25599461 -1.          0.00414699]\n",
      "#   951  -> Agent 14 got reward +0.01000 for action: [ 0.95560479  0.47742332 -1.          0.55612748]\n",
      "#   952  -> Agent 14 got reward +0.03000 for action: [ 0.08874273 -0.5158341  -0.82052477  1.        ]\n",
      "#  1001 #\n",
      "Total score (averaged over agents) this episode: 0.22549999495968223\n"
     ]
    }
   ],
   "source": [
    "# Some reminders about lambda functions\n",
    "# Thx2: https://realpython.com/python-lambda/\n",
    "# Thx2: https://thispointer.com/python-how-to-use-if-else-elif-in-lambda-functions/\n",
    "\n",
    "\n",
    "env_info = env.reset(train_mode=False)[brain_name]     # reset the environment    \n",
    "states = env_info.vector_observations                  # get the current state (for each agent)\n",
    "scores = np.zeros(num_agents)                          # initialize the score (for each agent)\n",
    "\n",
    "epc = 0\n",
    "print(f'We have {num_agents} active agent' + ( lambda x: 's' if x>1 else '' )(num_agents) )\n",
    "\n",
    "while True:\n",
    "    epc += 1\n",
    "    #print(f'\\r#{epc}', end = ' ')\n",
    "    print(f'\\r#{str(epc).rjust(6)}', end = ' ')\n",
    "    actions = np.random.randn(num_agents, action_size) # select an action (for each agent)\n",
    "    #import pdb; pdb.set_trace() # Debug! Debug! Debug! Debug! Debug! Debug! \n",
    "    actions = np.clip(actions, -1, 1)                  # all actions between -1 and 1\n",
    "    env_info = env.step(actions)[brain_name]           # send all actions to tne environment\n",
    "    next_states = env_info.vector_observations         # get next state (for each agent)\n",
    "    rewards = env_info.rewards                         # get reward (for each agent)\n",
    "    dones = env_info.local_done                        # see if episode finished\n",
    "    rewards = env_info.rewards\n",
    "    nprewards = np.array(rewards)\n",
    "    scores += rewards                         # update the score (for each agent)\n",
    "    if np.sum(nprewards) > 0:\n",
    "        #print(f'\\r#{epc} Rewards = {rewards}')\n",
    "        maskagent = nprewards > 0\n",
    "        agentbefore = False\n",
    "        for (nagent, action) in enumerate(actions):\n",
    "            if maskagent[nagent]:\n",
    "                if agentbefore:\n",
    "                    print('\\r#' + '&'.rjust(6), end = ' ')\n",
    "                print(' -> Agent {:0>2d} got reward {:+.5f} for action: {}'.format(nagent+1, rewards[nagent], action))\n",
    "                agentbefore = True\n",
    "                #pp.pprint(list(action))\n",
    "    states = next_states                               # roll over states to next time step\n",
    "    if np.any(dones):                                  # exit loop if episode finished\n",
    "        break\n",
    "print('#')\n",
    "print('Total score (averaged over agents) this episode: {}'.format(np.mean(scores)))"
   ]
  },
  {
   "cell_type": "markdown",
   "metadata": {},
   "source": [
    "### When finished, you can close the environment.\n",
    "#### Just not for now because unit testing below"
   ]
  },
  {
   "cell_type": "code",
   "execution_count": 9,
   "metadata": {},
   "outputs": [],
   "source": [
    "# env.close()"
   ]
  },
  {
   "cell_type": "markdown",
   "metadata": {},
   "source": [
    "### 4. It's Your Turn!\n",
    "\n",
    "Now it's your turn to train your own agent to solve the environment!  When training the environment, set `train_mode=True`, so that the line for resetting the environment looks like the following:\n",
    "```python\n",
    "env_info = env.reset(train_mode=True)[brain_name]\n",
    "```"
   ]
  },
  {
   "cell_type": "markdown",
   "metadata": {},
   "source": [
    "##### FA: One BIG MISUNDERSTANDING & STACKS OF TENSORS (23-08-2020) --> #FA; BMSoT:\n",
    "It has cost me several days if not weeks to get behind the fact that the [A2C sample implementation of Miguel](https://github.com/mimoralea/gdrl/blob/master/notebooks/chapter_11/chapter-11.ipynb) is working with **stacks of tensors** instead of single tensors. Which was especially hard to find because the PyTorch code looks exactly the same for both.\n",
    "\n",
    "In the end, when I thought about it, it makes sense and is a nifty feature of PyTorch. It is just not obvious to people like me, without in deep insights in the inner workings of PyTorch. \n",
    "\n",
    "Furthermore the authors of the PyTorch documentation seem not to make it too visible, I had to dig it out of one of the function definitions I use, however inderectly over the layer defintion for a2cnet:\n",
    "\n",
    "https://pytorch.org/docs/0.4.0/_modules/torch/nn/functional.html#linear\n",
    "\n",
    "> def linear(input, weight, bias=None):\n",
    ">    \"\"\"\n",
    ">    Applies a linear transformation to the incoming data: :math:`y = xA^T + b`.\n",
    ">\n",
    ">    Shape:\n",
    ">        - Input: :math:`(N, *, in\\_features)` where `*` means any number of\n",
    ">          additional dimensions\n",
    ">        - Weight: :math:`(out\\_features, in\\_features)`\n",
    ">        - Bias: :math:`(out\\_features)`\n",
    ">        - Output: :math:`(N, *, out\\_features)`\n",
    ">    \"\"\"\n",
    ">    if input.dim() == 2 and bias is not None:\n",
    ">        # fused op is marginally faster\n",
    ">        return torch.addmm(bias, input, weight.t())\n",
    ">\n",
    ">    output = input.matmul(weight.t())\n",
    ">    if bias is not None:\n",
    ">        output += bias\n",
    ">    return output\n"
   ]
  },
  {
   "cell_type": "markdown",
   "metadata": {},
   "source": [
    "#### Tracing the error in the 'mya2cnet' module code refactoring below"
   ]
  },
  {
   "cell_type": "code",
   "execution_count": 58,
   "metadata": {},
   "outputs": [],
   "source": [
    "# TEST! TEST! TEST! TEST! TEST! TEST! TEST! TEST! TEST! TEST! TEST! TEST! TEST! TEST! \n",
    "#import pdb; pdb.set_trace() # Debug! Debug! Debug! Debug! Debug! Debug! \n",
    "\n",
    "import torch\n",
    "import torch.nn as nn\n",
    "import torch.nn.functional as F\n",
    "\n",
    "torch.manual_seed(20200808) # Debug! Debug! Debug! Debug! Debug! Debug! Debug! Debug!\n",
    "\n",
    "# Format: IN_Num [Layer 1] (OUT_Num = IN_Num) [Layer 2] OUT_Num = ...\n",
    "HIDDEN_DIMS_DEFAULT = {\n",
    "    'shared' : (512, 512, 256, 256),\n",
    "    'actor' : (256, 128, 128, 64),\n",
    "    'critic' : (256, 128, 128, 64)\n",
    "}\n",
    "hidden_dims = HIDDEN_DIMS_DEFAULT\n",
    "\n",
    "hlayers = dict()\n",
    "\n",
    "hlayers['shared'] = nn.ModuleList()\n",
    "hlayers['actor'] = nn.ModuleList()\n",
    "hlayers['critic'] = nn.ModuleList()\n",
    "\n",
    "\n"
   ]
  },
  {
   "cell_type": "code",
   "execution_count": 59,
   "metadata": {},
   "outputs": [],
   "source": [
    "# Input layer\n",
    "input_layer = nn.Linear( 33, hidden_dims['shared'][0] )"
   ]
  },
  {
   "cell_type": "code",
   "execution_count": 60,
   "metadata": {},
   "outputs": [
    {
     "data": {
      "text/plain": [
       "Linear(in_features=33, out_features=512, bias=True)"
      ]
     },
     "execution_count": 60,
     "metadata": {},
     "output_type": "execute_result"
    }
   ],
   "source": [
    "input_layer"
   ]
  },
  {
   "cell_type": "code",
   "execution_count": 61,
   "metadata": {},
   "outputs": [],
   "source": [
    "# Hidden layers shared\n",
    "for i in range( len(hidden_dims['shared']) -1 ):\n",
    "    hlayers['shared'].append( nn.Linear( hidden_dims['shared'][i], hidden_dims['shared'][i+1] ) )"
   ]
  },
  {
   "cell_type": "code",
   "execution_count": 62,
   "metadata": {},
   "outputs": [
    {
     "data": {
      "text/plain": [
       "ModuleList(\n",
       "  (0): Linear(in_features=512, out_features=512, bias=True)\n",
       "  (1): Linear(in_features=512, out_features=256, bias=True)\n",
       "  (2): Linear(in_features=256, out_features=256, bias=True)\n",
       ")"
      ]
     },
     "execution_count": 62,
     "metadata": {},
     "output_type": "execute_result"
    }
   ],
   "source": [
    "hlayers['shared']"
   ]
  },
  {
   "cell_type": "code",
   "execution_count": 63,
   "metadata": {},
   "outputs": [],
   "source": [
    "# Actor layers\n",
    "for i in range( len(hidden_dims['actor']) ):\n",
    "    #import pdb; pdb.set_trace() # Debug! Debug! Debug! Debug! Debug! Debug! Debug! Debug!\n",
    "    if i == 0:\n",
    "        hlayers['actor'].append( nn.Linear( hidden_dims['shared'][-1], hidden_dims['actor'][i] ) )\n",
    "    else:\n",
    "        # hlayers['actor'].append( nn.Linear( hidden_dims['actor'][i], hidden_dims['actor'][i+1] ERROR !!!\n",
    "        hlayers['actor'].append( nn.Linear( hidden_dims['actor'][i-1], hidden_dims['actor'][i] ) )\n",
    "    #print( i, hlayers['actor'] ) # Debug! Debug! Debug! Debug! Debug! Debug! Debug! Debug!\n",
    "        \n",
    "actor_out_layer = nn.Linear( hidden_dims['actor'][-1], 4 )"
   ]
  },
  {
   "cell_type": "code",
   "execution_count": 64,
   "metadata": {},
   "outputs": [
    {
     "data": {
      "text/plain": [
       "ModuleList(\n",
       "  (0): Linear(in_features=256, out_features=256, bias=True)\n",
       "  (1): Linear(in_features=256, out_features=128, bias=True)\n",
       "  (2): Linear(in_features=128, out_features=128, bias=True)\n",
       "  (3): Linear(in_features=128, out_features=64, bias=True)\n",
       ")"
      ]
     },
     "execution_count": 64,
     "metadata": {},
     "output_type": "execute_result"
    }
   ],
   "source": [
    "hlayers['actor']"
   ]
  },
  {
   "cell_type": "code",
   "execution_count": 65,
   "metadata": {},
   "outputs": [
    {
     "data": {
      "text/plain": [
       "Linear(in_features=64, out_features=4, bias=True)"
      ]
     },
     "execution_count": 65,
     "metadata": {},
     "output_type": "execute_result"
    }
   ],
   "source": [
    "actor_out_layer"
   ]
  },
  {
   "cell_type": "code",
   "execution_count": 66,
   "metadata": {},
   "outputs": [],
   "source": [
    "#Critic layers\n",
    "for i in range( len(hidden_dims['critic']) ):\n",
    "    if i == 0:\n",
    "        hlayers['critic'].append( nn.Linear( hidden_dims['shared'][-1], hidden_dims['critic'][i] ) )\n",
    "    else:\n",
    "        hlayers['critic'].append( nn.Linear( hidden_dims['critic'][i-1], hidden_dims['critic'][i] ) )\n",
    "critic_out_layer = nn.Linear( hidden_dims['critic'][-1], 1 )"
   ]
  },
  {
   "cell_type": "code",
   "execution_count": 67,
   "metadata": {},
   "outputs": [
    {
     "data": {
      "text/plain": [
       "ModuleList(\n",
       "  (0): Linear(in_features=256, out_features=256, bias=True)\n",
       "  (1): Linear(in_features=256, out_features=128, bias=True)\n",
       "  (2): Linear(in_features=128, out_features=128, bias=True)\n",
       "  (3): Linear(in_features=128, out_features=64, bias=True)\n",
       ")"
      ]
     },
     "execution_count": 67,
     "metadata": {},
     "output_type": "execute_result"
    }
   ],
   "source": [
    "hlayers['critic']"
   ]
  },
  {
   "cell_type": "code",
   "execution_count": 68,
   "metadata": {},
   "outputs": [
    {
     "data": {
      "text/plain": [
       "Linear(in_features=64, out_features=1, bias=True)"
      ]
     },
     "execution_count": 68,
     "metadata": {},
     "output_type": "execute_result"
    }
   ],
   "source": [
    "critic_out_layer"
   ]
  },
  {
   "cell_type": "code",
   "execution_count": 69,
   "metadata": {},
   "outputs": [],
   "source": [
    "# Prevents non Pytorch Tensor Object entering the processing stream\n",
    "def torch_format(state):\n",
    "    x = state\n",
    "    if not isinstance(x, torch.Tensor):\n",
    "        x = torch.tensor(x, dtype=torch.float32)\n",
    "        if len(x.size()) == 1:\n",
    "            x = x.unsqueeze(0)\n",
    "    return x"
   ]
  },
  {
   "cell_type": "code",
   "execution_count": 70,
   "metadata": {},
   "outputs": [],
   "source": [
    "def forward(state):\n",
    "    check_tensor = lambda x: isinstance(x, torch.Tensor)\n",
    "    x_act = True \n",
    "    x_crit = True\n",
    "\n",
    "    x = torch_format(state)\n",
    "    x = F.relu(  input_layer(x) )\n",
    "    for label in ['shared', 'actor', 'critic']:\n",
    "        for hlayer in  hlayers[label]:\n",
    "            if label == 'shared':\n",
    "                x = F.relu(  hlayer(x) )\n",
    "            if label == 'actor':\n",
    "                x_act = F.relu(  hlayer(x_act) )\n",
    "            if label == 'critic':\n",
    "                x_crit = F.relu(  hlayer(x_crit) )\n",
    "\n",
    "        # Thx2: https://discuss.pytorch.org/t/copy-deepcopy-vs-clone/55022\n",
    "        if ( type(x_act) == bool ):\n",
    "            x_act = x.clone()  # Create an Inplace copy...\n",
    "        if ( type(x_crit) == bool ):\n",
    "            x_crit = x.clone() # ...after processing shared layers\n",
    "\n",
    "    return  actor_out_layer(x_act),  critic_out_layer(x_crit) "
   ]
  },
  {
   "cell_type": "markdown",
   "metadata": {},
   "source": [
    "#### Test if A STACK OF (BMSoT) states are propagated through the debug network\n",
    "And make a list of outputs of two A2C instances"
   ]
  },
  {
   "cell_type": "code",
   "execution_count": 71,
   "metadata": {},
   "outputs": [
    {
     "name": "stdout",
     "output_type": "stream",
     "text": [
      "Actor: tensor(1.00000e-02 *\n",
      "       [[ 4.6543,  4.9756, -4.4953,  4.2128],\n",
      "        [ 4.7037,  4.9775, -4.4215,  4.1041],\n",
      "        [ 4.7006,  4.9798, -4.4235,  4.1018],\n",
      "        [ 4.6981,  4.9901, -4.3603,  4.1175],\n",
      "        [ 4.7117,  4.9911, -4.4272,  4.1191],\n",
      "        [ 4.6864,  4.9768, -4.4898,  4.2664],\n",
      "        [ 4.7017,  5.0059, -4.4374,  4.2481],\n",
      "        [ 4.7107,  4.9870, -4.4269,  4.1114],\n",
      "        [ 4.6985,  4.9721, -4.4752,  4.2727],\n",
      "        [ 4.6935,  5.0025, -4.4124,  4.2141],\n",
      "        [ 4.7007,  4.9718, -4.3907,  4.1061],\n",
      "        [ 4.6997,  4.9750, -4.4772,  4.2800],\n",
      "        [ 4.6790,  4.9917, -4.4376,  4.1197],\n",
      "        [ 4.6685,  4.9951, -4.4505,  4.1421],\n",
      "        [ 4.6763,  4.9944, -4.4406,  4.1248],\n",
      "        [ 4.6967,  4.9936, -4.3724,  4.1618],\n",
      "        [ 4.7116,  4.9925, -4.4258,  4.1176],\n",
      "        [ 4.7030,  4.9784, -4.4800,  4.2864],\n",
      "        [ 4.7116,  4.9804, -4.4134,  4.1002],\n",
      "        [ 4.6749,  4.9665, -4.4912,  4.2393]])\n",
      "Critic: tensor(1.00000e-02 *\n",
      "       [[ 4.7572],\n",
      "        [ 4.8767],\n",
      "        [ 4.8752],\n",
      "        [ 4.8696],\n",
      "        [ 4.8610],\n",
      "        [ 4.7746],\n",
      "        [ 4.8414],\n",
      "        [ 4.8706],\n",
      "        [ 4.8107],\n",
      "        [ 4.8393],\n",
      "        [ 4.8479],\n",
      "        [ 4.8147],\n",
      "        [ 4.8553],\n",
      "        [ 4.8110],\n",
      "        [ 4.8488],\n",
      "        [ 4.8638],\n",
      "        [ 4.8612],\n",
      "        [ 4.8194],\n",
      "        [ 4.8508],\n",
      "        [ 4.7676]])\n"
     ]
    }
   ],
   "source": [
    "#al = []\n",
    "#bl = []\n",
    "\n",
    "#for (dc, st) in enumerate(states):\n",
    "#    al.append(a)\n",
    "#    bl.append(b)\n",
    "\n",
    "#import pdb; pdb.set_trace() # Debug! Debug! Debug! Debug! Debug! Debug! Debug! Debug!    \n",
    "    \n",
    "#FA; BMSoT: No need to iterate through states any more!\n",
    "a,b = forward(states)\n",
    "print(f'Actor: {a}')\n",
    "print(f'Critic: {b}')"
   ]
  },
  {
   "cell_type": "markdown",
   "metadata": {},
   "source": [
    "#### Test if A STACK OF (BMSoT) states is propagated through the imported network"
   ]
  },
  {
   "cell_type": "code",
   "execution_count": 72,
   "metadata": {},
   "outputs": [],
   "source": [
    "#from mya2cnet import A2CNetwork\n",
    "import mya2cnet\n",
    "\n",
    "# Thx2: https://emacs.stackexchange.com/a/13483\n",
    "import imp\n",
    "imp.reload(mya2cnet)\n",
    "\n",
    "tstnet1 = mya2cnet.A2CNetwork(33, 4) #FA; BMSoT: Looks exactly the same...\n",
    "tstnet2 = mya2cnet.A2CNetwork(33, 4) #FA; BMSoT: ...like without stacks!"
   ]
  },
  {
   "cell_type": "code",
   "execution_count": 73,
   "metadata": {},
   "outputs": [
    {
     "name": "stdout",
     "output_type": "stream",
     "text": [
      "Dist. Actor stacks 1-2: 0.0                        #         Dist. Actor 1 stacks - Notebook stacks 0.0\n",
      "Dist. Critic stacks 1-2: 0.0                       #        Dist. Critic 1 stacks - Notebook stacks 0.0\n"
     ]
    }
   ],
   "source": [
    "#FA; BMSoT: OBSOLETE\n",
    "#for (dc, st) in enumerate(states):\n",
    "    #import pdb; pdb.set_trace() # Debug! Debug! Debug! Debug! Debug! Debug! Debug! Debug!\n",
    "    \n",
    "a1,b1 = tstnet1.forward(states)\n",
    "a2,b2 = tstnet2.forward(states)\n",
    "\n",
    "print(f'Dist. Actor stacks 1-2: {torch.dist(a1, a2)}'.ljust(50) + ' # ' +\\\n",
    "     f'Dist. Actor 1 stacks - Notebook stacks {torch.dist(a1, a)}'.rjust(50))\n",
    "print(f'Dist. Critic stacks 1-2: {torch.dist(b1, b2)}'.ljust(50) + ' # ' +\\\n",
    "     f'Dist. Critic 1 stacks - Notebook stacks {torch.dist(b1, b)}'.rjust(50))"
   ]
  },
  {
   "cell_type": "code",
   "execution_count": 74,
   "metadata": {
    "scrolled": false
   },
   "outputs": [
    {
     "data": {
      "text/plain": [
       "(tensor(1.00000e-02 *\n",
       "        [[ 4.6543,  4.9756, -4.4953,  4.2128],\n",
       "         [ 4.7037,  4.9775, -4.4215,  4.1041],\n",
       "         [ 4.7006,  4.9798, -4.4235,  4.1018],\n",
       "         [ 4.6981,  4.9901, -4.3603,  4.1175],\n",
       "         [ 4.7117,  4.9911, -4.4272,  4.1191],\n",
       "         [ 4.6864,  4.9768, -4.4898,  4.2664],\n",
       "         [ 4.7017,  5.0059, -4.4374,  4.2481],\n",
       "         [ 4.7107,  4.9870, -4.4269,  4.1114],\n",
       "         [ 4.6985,  4.9721, -4.4752,  4.2727],\n",
       "         [ 4.6935,  5.0025, -4.4124,  4.2141],\n",
       "         [ 4.7007,  4.9718, -4.3907,  4.1061],\n",
       "         [ 4.6997,  4.9750, -4.4772,  4.2800],\n",
       "         [ 4.6790,  4.9917, -4.4376,  4.1197],\n",
       "         [ 4.6685,  4.9951, -4.4505,  4.1421],\n",
       "         [ 4.6763,  4.9944, -4.4406,  4.1248],\n",
       "         [ 4.6967,  4.9936, -4.3724,  4.1618],\n",
       "         [ 4.7116,  4.9925, -4.4258,  4.1176],\n",
       "         [ 4.7030,  4.9784, -4.4800,  4.2864],\n",
       "         [ 4.7116,  4.9804, -4.4134,  4.1002],\n",
       "         [ 4.6749,  4.9665, -4.4912,  4.2393]]), tensor(1.00000e-02 *\n",
       "        [[ 4.7572],\n",
       "         [ 4.8767],\n",
       "         [ 4.8752],\n",
       "         [ 4.8696],\n",
       "         [ 4.8610],\n",
       "         [ 4.7746],\n",
       "         [ 4.8414],\n",
       "         [ 4.8706],\n",
       "         [ 4.8107],\n",
       "         [ 4.8393],\n",
       "         [ 4.8479],\n",
       "         [ 4.8147],\n",
       "         [ 4.8553],\n",
       "         [ 4.8110],\n",
       "         [ 4.8488],\n",
       "         [ 4.8638],\n",
       "         [ 4.8612],\n",
       "         [ 4.8194],\n",
       "         [ 4.8508],\n",
       "         [ 4.7676]]), tensor([[[ 2.1418],\n",
       "          [ 2.0913],\n",
       "          [ 0.8127],\n",
       "          [ 2.2004]],\n",
       " \n",
       "         [[ 2.1344],\n",
       "          [ 2.0909],\n",
       "          [ 0.8448],\n",
       "          [ 2.2130]],\n",
       " \n",
       "         [[ 2.1349],\n",
       "          [ 2.0905],\n",
       "          [ 0.8439],\n",
       "          [ 2.2132]],\n",
       " \n",
       "         [[ 2.1353],\n",
       "          [ 2.0888],\n",
       "          [ 0.8712],\n",
       "          [ 2.2115]],\n",
       " \n",
       "         [[ 2.1332],\n",
       "          [ 2.0886],\n",
       "          [ 0.8423],\n",
       "          [ 2.2113]],\n",
       " \n",
       "         [[ 2.1370],\n",
       "          [ 2.0910],\n",
       "          [ 0.8151],\n",
       "          [ 2.1940]],\n",
       " \n",
       "         [[ 2.1347],\n",
       "          [ 2.0861],\n",
       "          [ 0.8379],\n",
       "          [ 2.1962]],\n",
       " \n",
       "         [[ 2.1334],\n",
       "          [ 2.0893],\n",
       "          [ 0.8425],\n",
       "          [ 2.2122]],\n",
       " \n",
       "         [[ 2.1352],\n",
       "          [ 2.0918],\n",
       "          [ 0.8215],\n",
       "          [ 2.1932]],\n",
       " \n",
       "         [[ 2.1360],\n",
       "          [ 2.0867],\n",
       "          [ 0.8487],\n",
       "          [ 2.2003]],\n",
       " \n",
       "         [[ 2.1349],\n",
       "          [ 2.0919],\n",
       "          [ 0.8581],\n",
       "          [ 2.2128]],\n",
       " \n",
       "         [[ 2.1350],\n",
       "          [ 2.0914],\n",
       "          [ 0.8206],\n",
       "          [ 2.1923]],\n",
       " \n",
       "         [[ 2.1381],\n",
       "          [ 2.0886],\n",
       "          [ 0.8378],\n",
       "          [ 2.2112]],\n",
       " \n",
       "         [[ 2.1397],\n",
       "          [ 2.0880],\n",
       "          [ 0.8322],\n",
       "          [ 2.2087]],\n",
       " \n",
       "         [[ 2.1385],\n",
       "          [ 2.0881],\n",
       "          [ 0.8365],\n",
       "          [ 2.2107]],\n",
       " \n",
       "         [[ 2.1355],\n",
       "          [ 2.0882],\n",
       "          [ 0.8660],\n",
       "          [ 2.2064]],\n",
       " \n",
       "         [[ 2.1333],\n",
       "          [ 2.0884],\n",
       "          [ 0.8430],\n",
       "          [ 2.2115]],\n",
       " \n",
       "         [[ 2.1345],\n",
       "          [ 2.0908],\n",
       "          [ 0.8194],\n",
       "          [ 2.1915]],\n",
       " \n",
       "         [[ 2.1333],\n",
       "          [ 2.0904],\n",
       "          [ 0.8483],\n",
       "          [ 2.2134]],\n",
       " \n",
       "         [[ 2.1387],\n",
       "          [ 2.0928],\n",
       "          [ 0.8145],\n",
       "          [ 2.1973]]]))"
      ]
     },
     "execution_count": 74,
     "metadata": {},
     "output_type": "execute_result"
    }
   ],
   "source": [
    "#FA; BMSoT: OBSOLETE\n",
    "#for (dc, st) in enumerate(states):\n",
    "#    print(f'({dc+1}) -> {tstnet1.fullpass(st)}')\n",
    "    \n",
    "tstnet1.fullpass(states)"
   ]
  },
  {
   "cell_type": "code",
   "execution_count": 75,
   "metadata": {},
   "outputs": [
    {
     "data": {
      "text/plain": [
       "tensor(1.00000e-02 *\n",
       "       [[ 4.6543,  4.9756, -4.4953,  4.2128],\n",
       "        [ 4.7037,  4.9775, -4.4215,  4.1041],\n",
       "        [ 4.7006,  4.9798, -4.4235,  4.1018],\n",
       "        [ 4.6981,  4.9901, -4.3603,  4.1175],\n",
       "        [ 4.7117,  4.9911, -4.4272,  4.1191],\n",
       "        [ 4.6864,  4.9768, -4.4898,  4.2664],\n",
       "        [ 4.7017,  5.0059, -4.4374,  4.2481],\n",
       "        [ 4.7107,  4.9870, -4.4269,  4.1114],\n",
       "        [ 4.6985,  4.9721, -4.4752,  4.2727],\n",
       "        [ 4.6935,  5.0025, -4.4124,  4.2141],\n",
       "        [ 4.7007,  4.9718, -4.3907,  4.1061],\n",
       "        [ 4.6997,  4.9750, -4.4772,  4.2800],\n",
       "        [ 4.6790,  4.9917, -4.4376,  4.1197],\n",
       "        [ 4.6685,  4.9951, -4.4505,  4.1421],\n",
       "        [ 4.6763,  4.9944, -4.4406,  4.1248],\n",
       "        [ 4.6967,  4.9936, -4.3724,  4.1618],\n",
       "        [ 4.7116,  4.9925, -4.4258,  4.1176],\n",
       "        [ 4.7030,  4.9784, -4.4800,  4.2864],\n",
       "        [ 4.7116,  4.9804, -4.4134,  4.1002],\n",
       "        [ 4.6749,  4.9665, -4.4912,  4.2393]])"
      ]
     },
     "execution_count": 75,
     "metadata": {},
     "output_type": "execute_result"
    }
   ],
   "source": [
    "#FA; BMSoT: OBSOLETE\n",
    "#for (dc, st) in enumerate(states):\n",
    "#    print(f'({dc+1})-> {tstnet1.select_action(st)}') #, end=' ')\n",
    "    \n",
    "tstnet1.select_action(states)"
   ]
  },
  {
   "cell_type": "markdown",
   "metadata": {},
   "source": [
    "#### Test the agent instance"
   ]
  },
  {
   "cell_type": "code",
   "execution_count": 97,
   "metadata": {},
   "outputs": [],
   "source": [
    "import mya2cagent\n",
    "\n",
    "# Thx2: https://emacs.stackexchange.com/a/13483\n",
    "import imp\n",
    "imp.reload(mya2cagent)\n",
    "\n",
    "agent = mya2cagent.a2cagent(len(env_info.agents), env, brain, max_steps = 100)"
   ]
  },
  {
   "cell_type": "code",
   "execution_count": 98,
   "metadata": {},
   "outputs": [],
   "source": [
    "procs = mya2cagent.MultiProcEnv(env, 20200808, len(env_info.agents))"
   ]
  },
  {
   "cell_type": "code",
   "execution_count": 99,
   "metadata": {
    "scrolled": false
   },
   "outputs": [
    {
     "name": "stdout",
     "output_type": "stream",
     "text": [
      "Training epoch: 10 #> /home/workspace/udacity-deep-reinforcement-learning/p2_continuous-control/mya2cagent.py(58)train()\n",
      "-> print(f'\\rTraining epoch: {step} ', end = (lambda x: '#' if x%2 == 0 else '+')(step) )\n",
      "(Pdb) c\n",
      "Training epoch: 11 +> /home/workspace/udacity-deep-reinforcement-learning/p2_continuous-control/mya2cagent.py(55)train()\n",
      "-> pdb.set_trace() # Debug! Debug! Debug! Debug! Debug! Debug! Debug! Debug!\n",
      "(Pdb) c\n",
      "Training epoch: 12 #"
     ]
    },
    {
     "ename": "RuntimeError",
     "evalue": "Trying to backward through the graph a second time, but the buffers have already been freed. Specify retain_graph=True when calling backward the first time.",
     "output_type": "error",
     "traceback": [
      "\u001b[0;31m---------------------------------------------------------------------------\u001b[0m",
      "\u001b[0;31mRuntimeError\u001b[0m                              Traceback (most recent call last)",
      "\u001b[0;32m<ipython-input-99-bc97bd27b4a3>\u001b[0m in \u001b[0;36m<module>\u001b[0;34m()\u001b[0m\n\u001b[0;32m----> 1\u001b[0;31m \u001b[0magent\u001b[0m\u001b[0;34m.\u001b[0m\u001b[0mtrain\u001b[0m\u001b[0;34m(\u001b[0m\u001b[0mstates\u001b[0m\u001b[0;34m)\u001b[0m\u001b[0;34m\u001b[0m\u001b[0m\n\u001b[0m",
      "\u001b[0;32m/home/workspace/udacity-deep-reinforcement-learning/p2_continuous-control/mya2cagent.py\u001b[0m in \u001b[0;36mtrain\u001b[0;34m(self, states, gamma, tau)\u001b[0m\n\u001b[1;32m     53\u001b[0m \u001b[0;34m\u001b[0m\u001b[0m\n\u001b[1;32m     54\u001b[0m             \u001b[0;32mif\u001b[0m \u001b[0mstep\u001b[0m \u001b[0;34m>\u001b[0m \u001b[0;36m10\u001b[0m\u001b[0;34m:\u001b[0m \u001b[0;31m# Debug! Debug! Debug! Debug! Debug! Debug! Debug! Debug!\u001b[0m\u001b[0;34m\u001b[0m\u001b[0m\n\u001b[0;32m---> 55\u001b[0;31m                 \u001b[0mpdb\u001b[0m\u001b[0;34m.\u001b[0m\u001b[0mset_trace\u001b[0m\u001b[0;34m(\u001b[0m\u001b[0;34m)\u001b[0m \u001b[0;31m# Debug! Debug! Debug! Debug! Debug! Debug! Debug! Debug!\u001b[0m\u001b[0;34m\u001b[0m\u001b[0m\n\u001b[0m\u001b[1;32m     56\u001b[0m \u001b[0;34m\u001b[0m\u001b[0m\n\u001b[1;32m     57\u001b[0m         \u001b[0;31m#for step in range(1): # Debug! Debug! Debug! Debug! Debug! Debug! Debug! Debug!\u001b[0m\u001b[0;34m\u001b[0m\u001b[0;34m\u001b[0m\u001b[0m\n",
      "\u001b[0;32m/home/workspace/udacity-deep-reinforcement-learning/p2_continuous-control/mya2cagent.py\u001b[0m in \u001b[0;36moptimize_model\u001b[0;34m(self)\u001b[0m\n\u001b[1;32m    124\u001b[0m         \u001b[0mself\u001b[0m\u001b[0;34m.\u001b[0m\u001b[0ma2c_opt\u001b[0m\u001b[0;34m.\u001b[0m\u001b[0mzero_grad\u001b[0m\u001b[0;34m(\u001b[0m\u001b[0;34m)\u001b[0m\u001b[0;34m\u001b[0m\u001b[0m\n\u001b[1;32m    125\u001b[0m \u001b[0;34m\u001b[0m\u001b[0m\n\u001b[0;32m--> 126\u001b[0;31m         \u001b[0mloss\u001b[0m\u001b[0;34m.\u001b[0m\u001b[0mbackward\u001b[0m\u001b[0;34m(\u001b[0m\u001b[0;34m)\u001b[0m\u001b[0;34m\u001b[0m\u001b[0m\n\u001b[0m\u001b[1;32m    127\u001b[0m \u001b[0;34m\u001b[0m\u001b[0m\n\u001b[1;32m    128\u001b[0m         \u001b[0mtorch\u001b[0m\u001b[0;34m.\u001b[0m\u001b[0mnn\u001b[0m\u001b[0;34m.\u001b[0m\u001b[0mutils\u001b[0m\u001b[0;34m.\u001b[0m\u001b[0mclip_grad_norm_\u001b[0m\u001b[0;34m(\u001b[0m \u001b[0mself\u001b[0m\u001b[0;34m.\u001b[0m\u001b[0ma2c_net\u001b[0m\u001b[0;34m.\u001b[0m\u001b[0mparameters\u001b[0m\u001b[0;34m(\u001b[0m\u001b[0;34m)\u001b[0m\u001b[0;34m,\u001b[0m \u001b[0mself\u001b[0m\u001b[0;34m.\u001b[0m\u001b[0ma2c_net\u001b[0m\u001b[0;34m.\u001b[0m\u001b[0mmax_grad_norm\u001b[0m \u001b[0;34m)\u001b[0m\u001b[0;34m\u001b[0m\u001b[0m\n",
      "\u001b[0;32m/opt/conda/lib/python3.6/site-packages/torch/tensor.py\u001b[0m in \u001b[0;36mbackward\u001b[0;34m(self, gradient, retain_graph, create_graph)\u001b[0m\n\u001b[1;32m     91\u001b[0m                 \u001b[0mproducts\u001b[0m\u001b[0;34m.\u001b[0m \u001b[0mDefaults\u001b[0m \u001b[0mto\u001b[0m\u001b[0;31m \u001b[0m\u001b[0;31m`\u001b[0m\u001b[0;31m`\u001b[0m\u001b[0;32mFalse\u001b[0m\u001b[0;31m`\u001b[0m\u001b[0;31m`\u001b[0m\u001b[0;34m.\u001b[0m\u001b[0;34m\u001b[0m\u001b[0m\n\u001b[1;32m     92\u001b[0m         \"\"\"\n\u001b[0;32m---> 93\u001b[0;31m         \u001b[0mtorch\u001b[0m\u001b[0;34m.\u001b[0m\u001b[0mautograd\u001b[0m\u001b[0;34m.\u001b[0m\u001b[0mbackward\u001b[0m\u001b[0;34m(\u001b[0m\u001b[0mself\u001b[0m\u001b[0;34m,\u001b[0m \u001b[0mgradient\u001b[0m\u001b[0;34m,\u001b[0m \u001b[0mretain_graph\u001b[0m\u001b[0;34m,\u001b[0m \u001b[0mcreate_graph\u001b[0m\u001b[0;34m)\u001b[0m\u001b[0;34m\u001b[0m\u001b[0m\n\u001b[0m\u001b[1;32m     94\u001b[0m \u001b[0;34m\u001b[0m\u001b[0m\n\u001b[1;32m     95\u001b[0m     \u001b[0;32mdef\u001b[0m \u001b[0mregister_hook\u001b[0m\u001b[0;34m(\u001b[0m\u001b[0mself\u001b[0m\u001b[0;34m,\u001b[0m \u001b[0mhook\u001b[0m\u001b[0;34m)\u001b[0m\u001b[0;34m:\u001b[0m\u001b[0;34m\u001b[0m\u001b[0m\n",
      "\u001b[0;32m/opt/conda/lib/python3.6/site-packages/torch/autograd/__init__.py\u001b[0m in \u001b[0;36mbackward\u001b[0;34m(tensors, grad_tensors, retain_graph, create_graph, grad_variables)\u001b[0m\n\u001b[1;32m     87\u001b[0m     Variable._execution_engine.run_backward(\n\u001b[1;32m     88\u001b[0m         \u001b[0mtensors\u001b[0m\u001b[0;34m,\u001b[0m \u001b[0mgrad_tensors\u001b[0m\u001b[0;34m,\u001b[0m \u001b[0mretain_graph\u001b[0m\u001b[0;34m,\u001b[0m \u001b[0mcreate_graph\u001b[0m\u001b[0;34m,\u001b[0m\u001b[0;34m\u001b[0m\u001b[0m\n\u001b[0;32m---> 89\u001b[0;31m         allow_unreachable=True)  # allow_unreachable flag\n\u001b[0m\u001b[1;32m     90\u001b[0m \u001b[0;34m\u001b[0m\u001b[0m\n\u001b[1;32m     91\u001b[0m \u001b[0;34m\u001b[0m\u001b[0m\n",
      "\u001b[0;31mRuntimeError\u001b[0m: Trying to backward through the graph a second time, but the buffers have already been freed. Specify retain_graph=True when calling backward the first time."
     ]
    }
   ],
   "source": [
    "agent.train(states)"
   ]
  },
  {
   "cell_type": "code",
   "execution_count": null,
   "metadata": {},
   "outputs": [],
   "source": [
    "env.close()"
   ]
  },
  {
   "cell_type": "code",
   "execution_count": null,
   "metadata": {},
   "outputs": [],
   "source": []
  }
 ],
 "metadata": {
  "kernelspec": {
   "display_name": "Python 3",
   "language": "python",
   "name": "python3"
  },
  "language_info": {
   "codemirror_mode": {
    "name": "ipython",
    "version": 3
   },
   "file_extension": ".py",
   "mimetype": "text/x-python",
   "name": "python",
   "nbconvert_exporter": "python",
   "pygments_lexer": "ipython3",
   "version": "3.6.3"
  }
 },
 "nbformat": 4,
 "nbformat_minor": 4
}
