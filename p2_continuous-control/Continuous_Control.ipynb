{
 "cells": [
  {
   "cell_type": "markdown",
   "metadata": {},
   "source": [
    "# Continuous Control\n",
    "\n",
    "---\n",
    "\n",
    "In this notebook, you will learn how to use the Unity ML-Agents environment for the second project of the [Deep Reinforcement Learning Nanodegree](https://www.udacity.com/course/deep-reinforcement-learning-nanodegree--nd893) program.\n",
    "\n",
    "### 1. Start the Environment\n",
    "\n",
    "We begin by importing the necessary packages.  If the code cell below returns an error, please revisit the project instructions to double-check that you have installed [Unity ML-Agents](https://github.com/Unity-Technologies/ml-agents/blob/master/docs/Installation.md) and [NumPy](http://www.numpy.org/)."
   ]
  },
  {
   "cell_type": "code",
   "execution_count": 1,
   "metadata": {},
   "outputs": [
    {
     "name": "stdout",
     "output_type": "stream",
     "text": [
      "posix.uname_result(sysname='Linux', nodename='708403b3ee03', release='4.15.0-1060-gcp', version='#64-Ubuntu SMP Thu Mar 26 03:21:15 UTC 2020', machine='x86_64')\n",
      "\u001b[31mtensorflow 1.7.1 has requirement numpy>=1.13.3, but you'll have numpy 1.12.1 which is incompatible.\u001b[0m\n",
      "\u001b[31mipython 6.5.0 has requirement prompt-toolkit<2.0.0,>=1.0.15, but you'll have prompt-toolkit 3.0.5 which is incompatible.\u001b[0m\n"
     ]
    }
   ],
   "source": [
    "import os\n",
    "\n",
    "print(os.uname())\n",
    "\n",
    "# In the cloud environment?\n",
    "if 'root' in os.environ['HOME']:\n",
    "    UENVPATH = '/data/'\n",
    "    !pip -q install /home/workspace/python\n",
    "\n",
    "# In the standalone environment?\n",
    "if 'ferenc' in os.environ['HOME']:\n",
    "    UENVPATH = '/home/ferenc/Python/rl/udadrl/data/'\n",
    "\n",
    "\n",
    "from unityagents import UnityEnvironment\n",
    "import numpy as np\n",
    "\n",
    "import pprint as pp"
   ]
  },
  {
   "cell_type": "markdown",
   "metadata": {},
   "source": [
    "Next, we will start the environment!  **_Before running the code cell below_**, change the `file_name` parameter to match the location of the Unity environment that you downloaded.\n",
    "\n",
    "- **Mac**: `\"path/to/Reacher.app\"`\n",
    "- **Windows** (x86): `\"path/to/Reacher_Windows_x86/Reacher.exe\"`\n",
    "- **Windows** (x86_64): `\"path/to/Reacher_Windows_x86_64/Reacher.exe\"`\n",
    "- **Linux** (x86): `\"path/to/Reacher_Linux/Reacher.x86\"`\n",
    "- **Linux** (x86_64): `\"path/to/Reacher_Linux/Reacher.x86_64\"`\n",
    "- **Linux** (x86, headless): `\"path/to/Reacher_Linux_NoVis/Reacher.x86\"`\n",
    "- **Linux** (x86_64, headless): `\"path/to/Reacher_Linux_NoVis/Reacher.x86_64\"`\n",
    "\n",
    "For instance, if you are using a Mac, then you downloaded `Reacher.app`.  If this file is in the same folder as the notebook, then the line below should appear as follows:\n",
    "```\n",
    "env = UnityEnvironment(file_name=\"Reacher.app\")\n",
    "```"
   ]
  },
  {
   "cell_type": "code",
   "execution_count": 2,
   "metadata": {},
   "outputs": [
    {
     "name": "stderr",
     "output_type": "stream",
     "text": [
      "INFO:unityagents:\n",
      "'Academy' started successfully!\n",
      "Unity Academy name: Academy\n",
      "        Number of Brains: 1\n",
      "        Number of External Brains : 1\n",
      "        Lesson number : 0\n",
      "        Reset Parameters :\n",
      "\t\tgoal_speed -> 1.0\n",
      "\t\tgoal_size -> 5.0\n",
      "Unity brain name: ReacherBrain\n",
      "        Number of Visual Observations (per agent): 0\n",
      "        Vector Observation space type: continuous\n",
      "        Vector Observation space size (per agent): 33\n",
      "        Number of stacked Vector Observation: 1\n",
      "        Vector Action space type: continuous\n",
      "        Vector Action space size (per agent): 4\n",
      "        Vector Action descriptions: , , , \n"
     ]
    }
   ],
   "source": [
    "# ONE Agent, Standalone\n",
    "#UENVCHOICE = 'Reacher_Linux/Reacher.x86_64'\n",
    "\n",
    "# TWENTY Agents, Standalone\n",
    "#UENVCHOICE = 'Reacher_Linux_20/Reacher.x86_64'\n",
    "\n",
    "# ONE Agent, Cloud, No-Visuals \n",
    "#UENVCHOICE = 'Reacher_One_Linux_NoVis/Reacher_One_Linux_NoVis.x86_64'\n",
    "\n",
    "# TWENTY Agents, Cloud, No-Visuals \n",
    "UENVCHOICE = 'Reacher_Linux_NoVis/Reacher.x86_64'\n",
    "\n",
    "env = UnityEnvironment( file_name=os.path.join( UENVPATH, UENVCHOICE ) )\n",
    "\n",
    "\n"
   ]
  },
  {
   "cell_type": "markdown",
   "metadata": {},
   "source": [
    "Environments contain **_brains_** which are responsible for deciding the actions of their associated agents. Here we check for the first brain available, and set it as the default brain we will be controlling from Python."
   ]
  },
  {
   "cell_type": "code",
   "execution_count": 3,
   "metadata": {},
   "outputs": [],
   "source": [
    "# get the default brain\n",
    "brain_name = env.brain_names[0]\n",
    "brain = env.brains[brain_name]"
   ]
  },
  {
   "cell_type": "markdown",
   "metadata": {},
   "source": [
    "### 2. Examine the State and Action Spaces\n",
    "\n",
    "In this environment, a double-jointed arm can move to target locations. A reward of `+0.1` is provided for each step that the agent's hand is in the goal location. Thus, the goal of your agent is to maintain its position at the target location for as many time steps as possible.\n",
    "\n",
    "The observation space consists of `33` variables corresponding to position, rotation, velocity, and angular velocities of the arm.  Each action is a vector with four numbers, corresponding to torque applicable to two joints.  Every entry in the action vector must be a number between `-1` and `1`.\n",
    "\n",
    "Run the code cell below to print some information about the environment."
   ]
  },
  {
   "cell_type": "code",
   "execution_count": 4,
   "metadata": {},
   "outputs": [
    {
     "name": "stdout",
     "output_type": "stream",
     "text": [
      "Number of agents: 20\n",
      "Size of each action: 4\n",
      "There are 20 agents. Each observes a state with length: 33\n",
      "The state for the first agent looks like: [  0.00000000e+00  -4.00000000e+00   0.00000000e+00   1.00000000e+00\n",
      "  -0.00000000e+00  -0.00000000e+00  -4.37113883e-08   0.00000000e+00\n",
      "   0.00000000e+00   0.00000000e+00   0.00000000e+00   0.00000000e+00\n",
      "   0.00000000e+00   0.00000000e+00  -1.00000000e+01   0.00000000e+00\n",
      "   1.00000000e+00  -0.00000000e+00  -0.00000000e+00  -4.37113883e-08\n",
      "   0.00000000e+00   0.00000000e+00   0.00000000e+00   0.00000000e+00\n",
      "   0.00000000e+00   0.00000000e+00   5.75471878e+00  -1.00000000e+00\n",
      "   5.55726624e+00   0.00000000e+00   1.00000000e+00   0.00000000e+00\n",
      "  -1.68164849e-01]\n"
     ]
    }
   ],
   "source": [
    "# reset the environment\n",
    "env_info = env.reset(train_mode=True)[brain_name]\n",
    "\n",
    "# number of agents\n",
    "num_agents = len(env_info.agents)\n",
    "print('Number of agents:', num_agents)\n",
    "\n",
    "# size of each action\n",
    "action_size = brain.vector_action_space_size\n",
    "print('Size of each action:', action_size)\n",
    "\n",
    "# examine the state space \n",
    "states = env_info.vector_observations\n",
    "state_size = states.shape[1]\n",
    "print('There are {} agents. Each observes a state with length: {}'.format(states.shape[0], state_size))\n",
    "print('The state for the first agent looks like:', states[0])"
   ]
  },
  {
   "cell_type": "markdown",
   "metadata": {},
   "source": [
    "### 3. Take Random Actions in the Environment\n",
    "\n",
    "In the next code cell, you will learn how to use the Python API to control the agent and receive feedback from the environment.\n",
    "\n",
    "Once this cell is executed, you will watch the agent's performance, if it selects an action at random with each time step.  A window should pop up that allows you to observe the agent, as it moves through the environment.  \n",
    "\n",
    "Of course, as part of the project, you'll have to change the code so that the agent is able to use its experience to gradually choose better actions when interacting with the environment!"
   ]
  },
  {
   "cell_type": "code",
   "execution_count": 5,
   "metadata": {},
   "outputs": [
    {
     "name": "stdout",
     "output_type": "stream",
     "text": [
      "We have 20 active agents\n",
      "#   110  -> Agent 20 got reward +0.02000 for action: [-0.23353673  1.          1.          0.87278837]\n",
      "#   111  -> Agent 20 got reward +0.04000 for action: [-1.         -1.          0.47655004 -1.        ]\n",
      "#   112  -> Agent 20 got reward +0.04000 for action: [ 1.          0.21246054  0.24463646 -1.        ]\n",
      "#   113  -> Agent 20 got reward +0.04000 for action: [-0.17184784  0.38145595  0.63100816 -0.75020265]\n",
      "#   114  -> Agent 20 got reward +0.04000 for action: [-1.          1.         -0.47071271 -0.41567543]\n",
      "#   115  -> Agent 20 got reward +0.04000 for action: [-1.         -0.56927119  0.14869314  1.        ]\n",
      "#   116  -> Agent 20 got reward +0.04000 for action: [ 0.99722635 -0.56460975 -1.          0.04605914]\n",
      "#   117  -> Agent 20 got reward +0.03000 for action: [ 0.39558636 -1.          0.03736799 -0.97353382]\n",
      "#   165  -> Agent 06 got reward +0.02000 for action: [-0.27219647  1.          0.19140975 -0.20542192]\n",
      "#   166  -> Agent 06 got reward +0.04000 for action: [ 0.31213907 -0.33836428 -0.25819307  1.        ]\n",
      "#   167  -> Agent 06 got reward +0.03000 for action: [-0.06502222  1.         -0.4289324   1.        ]\n",
      "#   196  -> Agent 11 got reward +0.04000 for action: [ 1.          0.34051751  1.         -0.65239635]\n",
      "#   197  -> Agent 11 got reward +0.04000 for action: [-0.55579366 -1.         -1.          1.        ]\n",
      "#   198  -> Agent 11 got reward +0.04000 for action: [ 1.         -0.0829325   0.52743833  1.        ]\n",
      "#   199  -> Agent 11 got reward +0.04000 for action: [ 0.08160909  0.54505732  0.66105677  1.        ]\n",
      "#   200  -> Agent 11 got reward +0.04000 for action: [ 0.24841263 -1.          0.44320451 -0.29308339]\n",
      "#   201  -> Agent 11 got reward +0.04000 for action: [-0.91216559 -0.92927611  0.14473642 -0.73872034]\n",
      "#   206  -> Agent 17 got reward +0.03000 for action: [ 0.86288524  0.62699418 -1.          1.        ]\n",
      "#   207  -> Agent 17 got reward +0.04000 for action: [ 0.10026648  0.87879153  0.41836928 -1.        ]\n",
      "#   208  -> Agent 17 got reward +0.04000 for action: [ 1.         -0.66777666  0.31005935  1.        ]\n",
      "#   209  -> Agent 17 got reward +0.04000 for action: [-0.21269327 -0.25168048  0.4094601   0.73798188]\n",
      "#   210  -> Agent 17 got reward +0.04000 for action: [-0.26597371 -0.00524823 -0.83152989  1.        ]\n",
      "#   211  -> Agent 17 got reward +0.02000 for action: [ 0.60988553 -1.          0.55949343 -0.45009681]\n",
      "#   283  -> Agent 07 got reward +0.04000 for action: [ 0.19981322  0.30200944 -0.01484833 -0.38744914]\n",
      "#   284  -> Agent 07 got reward +0.03000 for action: [-0.01181949 -0.69160455  0.9298214   0.97702068]\n",
      "#   674  -> Agent 04 got reward +0.04000 for action: [ 0.65228863 -0.42940505 -0.20398657 -0.61819236]\n",
      "#   675  -> Agent 04 got reward +0.04000 for action: [ 1.          1.         -0.41513704  0.75489537]\n",
      "#   676  -> Agent 04 got reward +0.04000 for action: [-1.          1.          1.         -0.50019057]\n",
      "#   677  -> Agent 04 got reward +0.04000 for action: [-1.         -0.84378359 -0.57460143  1.        ]\n",
      "#   678  -> Agent 04 got reward +0.02000 for action: [-0.14110689  0.44539533 -1.         -0.70652518]\n",
      "#   699  -> Agent 10 got reward +0.01000 for action: [ 0.30348293  0.11681295  0.70273383 -0.5109461 ]\n",
      "#   700  -> Agent 10 got reward +0.04000 for action: [ 0.64488234 -0.95926628 -1.          0.46204063]\n",
      "#   701  -> Agent 10 got reward +0.04000 for action: [ 1.         -1.         -1.         -0.56738572]\n",
      "#   702  -> Agent 10 got reward +0.04000 for action: [-0.11360338 -0.9883141  -0.43626334 -0.42283958]\n",
      "#   830  -> Agent 14 got reward +0.02000 for action: [-0.76309748 -1.          0.41735048  0.72025062]\n",
      "#     &  -> Agent 15 got reward +0.04000 for action: [-0.38721616 -1.         -0.23556567  0.81270507]\n",
      "#   831  -> Agent 14 got reward +0.04000 for action: [-0.73847874  0.68751691  0.62302059  0.48670472]\n",
      "#     &  -> Agent 15 got reward +0.04000 for action: [-0.60503622  1.         -0.63378511 -0.22604307]\n",
      "#   832  -> Agent 14 got reward +0.04000 for action: [-1.          1.          1.         -0.27220083]\n",
      "#     &  -> Agent 15 got reward +0.04000 for action: [-1.         -1.          0.52642093 -0.95709139]\n",
      "#   833  -> Agent 14 got reward +0.04000 for action: [ 1.         -1.          0.02319328 -0.18403824]\n",
      "#     &  -> Agent 15 got reward +0.04000 for action: [ 0.72177247  1.         -0.50356434 -1.        ]\n",
      "#   834  -> Agent 14 got reward +0.04000 for action: [ 1.          0.18103861  0.4253744  -0.29351423]\n",
      "#     &  -> Agent 15 got reward +0.04000 for action: [ 0.89059081  0.7917397   0.69487329 -0.97157067]\n",
      "#   835  -> Agent 14 got reward +0.04000 for action: [-1.          0.53758142 -0.55293848  0.20368527]\n",
      "#     &  -> Agent 15 got reward +0.04000 for action: [-1.          0.7276755  -1.          0.21169129]\n",
      "#   836  -> Agent 14 got reward +0.04000 for action: [ 0.75161026 -0.40015929  0.19111915 -1.        ]\n",
      "#   837  -> Agent 14 got reward +0.04000 for action: [ 0.66621826 -0.58133715  0.93751507 -0.03822481]\n",
      "#   838  -> Agent 14 got reward +0.04000 for action: [-0.17338426  0.57565588  0.84953254  1.        ]\n",
      "#   839  -> Agent 14 got reward +0.04000 for action: [ 0.12073678  0.019279    0.51077666  0.04286891]\n",
      "#   840  -> Agent 14 got reward +0.04000 for action: [ 0.65967822 -0.20849999 -1.         -0.02082074]\n",
      "#  1001 #\n",
      "Total score (averaged over agents) this episode: 0.09349999791011214\n"
     ]
    }
   ],
   "source": [
    "# Some reminders about lambda functions\n",
    "# Thx2: https://realpython.com/python-lambda/\n",
    "# Thx2: https://thispointer.com/python-how-to-use-if-else-elif-in-lambda-functions/\n",
    "\n",
    "\n",
    "env_info = env.reset(train_mode=False)[brain_name]     # reset the environment    \n",
    "states = env_info.vector_observations                  # get the current state (for each agent)\n",
    "scores = np.zeros(num_agents)                          # initialize the score (for each agent)\n",
    "\n",
    "epc = 0\n",
    "print(f'We have {num_agents} active agent' + ( lambda x: 's' if x>1 else '' )(num_agents) )\n",
    "\n",
    "while True:\n",
    "    epc += 1\n",
    "    #print(f'\\r#{epc}', end = ' ')\n",
    "    print(f'\\r#{str(epc).rjust(6)}', end = ' ')\n",
    "    actions = np.random.randn(num_agents, action_size) # select an action (for each agent)\n",
    "    actions = np.clip(actions, -1, 1)                  # all actions between -1 and 1\n",
    "    env_info = env.step(actions)[brain_name]           # send all actions to tne environment\n",
    "    next_states = env_info.vector_observations         # get next state (for each agent)\n",
    "    rewards = env_info.rewards                         # get reward (for each agent)\n",
    "    dones = env_info.local_done                        # see if episode finished\n",
    "    rewards = env_info.rewards\n",
    "    nprewards = np.array(rewards)\n",
    "    scores += rewards                         # update the score (for each agent)\n",
    "    if np.sum(nprewards) > 0:\n",
    "        #print(f'\\r#{epc} Rewards = {rewards}')\n",
    "        maskagent = nprewards > 0\n",
    "        agentbefore = False\n",
    "        for (nagent, action) in enumerate(actions):\n",
    "            if maskagent[nagent]:\n",
    "                if agentbefore:\n",
    "                    print('\\r#' + '&'.rjust(6), end = ' ')\n",
    "                print(' -> Agent {:0>2d} got reward {:+.5f} for action: {}'.format(nagent+1, rewards[nagent], action))\n",
    "                agentbefore = True\n",
    "                #pp.pprint(list(action))\n",
    "    states = next_states                               # roll over states to next time step\n",
    "    if np.any(dones):                                  # exit loop if episode finished\n",
    "        break\n",
    "print('#')\n",
    "print('Total score (averaged over agents) this episode: {}'.format(np.mean(scores)))"
   ]
  },
  {
   "cell_type": "markdown",
   "metadata": {},
   "source": [
    "### When finished, you can close the environment."
   ]
  },
  {
   "cell_type": "code",
   "execution_count": 6,
   "metadata": {},
   "outputs": [],
   "source": [
    "env.close()"
   ]
  },
  {
   "cell_type": "markdown",
   "metadata": {},
   "source": [
    "### 4. It's Your Turn!\n",
    "\n",
    "Now it's your turn to train your own agent to solve the environment!  When training the environment, set `train_mode=True`, so that the line for resetting the environment looks like the following:\n",
    "```python\n",
    "env_info = env.reset(train_mode=True)[brain_name]\n",
    "```"
   ]
  },
  {
   "cell_type": "markdown",
   "metadata": {},
   "source": [
    "#### Tracing the error in the 'mya2cnet' module code refactoring below"
   ]
  },
  {
   "cell_type": "code",
   "execution_count": 7,
   "metadata": {},
   "outputs": [],
   "source": [
    "# TEST! TEST! TEST! TEST! TEST! TEST! TEST! TEST! TEST! TEST! TEST! TEST! TEST! TEST! \n",
    "#import pdb; pdb.set_trace()\n",
    "\n",
    "import torch\n",
    "import torch.nn as nn\n",
    "import torch.nn.functional as F\n",
    "\n",
    "# Format: IN_Num [Layer 1] (OUT_Num = IN_Num) [Layer 2] OUT_Num = ...\n",
    "HIDDEN_DIMS_DEFAULT = {\n",
    "    'shared' : (512, 512, 256, 256),\n",
    "    'actor' : (256, 128, 128, 64),\n",
    "    'critic' : (256, 128, 128, 64)\n",
    "}\n",
    "hidden_dims = HIDDEN_DIMS_DEFAULT\n",
    "\n",
    "hlayers = dict()\n",
    "\n",
    "hlayers['shared'] = nn.ModuleList()\n",
    "hlayers['actor'] = nn.ModuleList()\n",
    "hlayers['critic'] = nn.ModuleList()\n",
    "\n",
    "\n"
   ]
  },
  {
   "cell_type": "code",
   "execution_count": 8,
   "metadata": {},
   "outputs": [],
   "source": [
    "# Input layer\n",
    "input_layer = nn.Linear( 33, hidden_dims['shared'][0] )"
   ]
  },
  {
   "cell_type": "code",
   "execution_count": 9,
   "metadata": {},
   "outputs": [
    {
     "data": {
      "text/plain": [
       "Linear(in_features=33, out_features=512, bias=True)"
      ]
     },
     "execution_count": 9,
     "metadata": {},
     "output_type": "execute_result"
    }
   ],
   "source": [
    "input_layer"
   ]
  },
  {
   "cell_type": "code",
   "execution_count": 10,
   "metadata": {},
   "outputs": [],
   "source": [
    "# Hidden layers shared\n",
    "for i in range( len(hidden_dims['shared']) -1 ):\n",
    "    hlayers['shared'].append( nn.Linear( hidden_dims['shared'][i], hidden_dims['shared'][i+1] ) )"
   ]
  },
  {
   "cell_type": "code",
   "execution_count": 11,
   "metadata": {},
   "outputs": [
    {
     "data": {
      "text/plain": [
       "ModuleList(\n",
       "  (0): Linear(in_features=512, out_features=512, bias=True)\n",
       "  (1): Linear(in_features=512, out_features=256, bias=True)\n",
       "  (2): Linear(in_features=256, out_features=256, bias=True)\n",
       ")"
      ]
     },
     "execution_count": 11,
     "metadata": {},
     "output_type": "execute_result"
    }
   ],
   "source": [
    "hlayers['shared']"
   ]
  },
  {
   "cell_type": "code",
   "execution_count": 12,
   "metadata": {},
   "outputs": [],
   "source": [
    "# Actor layers\n",
    "for i in range( len(hidden_dims['actor']) ):\n",
    "    #import pdb; pdb.set_trace() # Debug! Debug! Debug! Debug! Debug! Debug! Debug! Debug!\n",
    "    if i == 0:\n",
    "        hlayers['actor'].append( nn.Linear( hidden_dims['shared'][-1], hidden_dims['actor'][i] ) )\n",
    "    else:\n",
    "        # hlayers['actor'].append( nn.Linear( hidden_dims['actor'][i], hidden_dims['actor'][i+1] ERROR !!!\n",
    "        hlayers['actor'].append( nn.Linear( hidden_dims['actor'][i-1], hidden_dims['actor'][i] ) )\n",
    "    #print( i, hlayers['actor'] ) # Debug! Debug! Debug! Debug! Debug! Debug! Debug! Debug!\n",
    "        \n",
    "actor_out_layer = nn.Linear( hidden_dims['actor'][-1], 4 )"
   ]
  },
  {
   "cell_type": "code",
   "execution_count": 13,
   "metadata": {},
   "outputs": [
    {
     "data": {
      "text/plain": [
       "ModuleList(\n",
       "  (0): Linear(in_features=256, out_features=256, bias=True)\n",
       "  (1): Linear(in_features=256, out_features=128, bias=True)\n",
       "  (2): Linear(in_features=128, out_features=128, bias=True)\n",
       "  (3): Linear(in_features=128, out_features=64, bias=True)\n",
       ")"
      ]
     },
     "execution_count": 13,
     "metadata": {},
     "output_type": "execute_result"
    }
   ],
   "source": [
    "hlayers['actor']"
   ]
  },
  {
   "cell_type": "code",
   "execution_count": 14,
   "metadata": {},
   "outputs": [
    {
     "data": {
      "text/plain": [
       "Linear(in_features=64, out_features=4, bias=True)"
      ]
     },
     "execution_count": 14,
     "metadata": {},
     "output_type": "execute_result"
    }
   ],
   "source": [
    "actor_out_layer"
   ]
  },
  {
   "cell_type": "code",
   "execution_count": 15,
   "metadata": {},
   "outputs": [],
   "source": [
    "#Critic layers\n",
    "for i in range( len(hidden_dims['critic']) ):\n",
    "    if i == 0:\n",
    "        hlayers['critic'].append( nn.Linear( hidden_dims['shared'][-1], hidden_dims['critic'][i] ) )\n",
    "    else:\n",
    "        hlayers['critic'].append( nn.Linear( hidden_dims['critic'][i-1], hidden_dims['critic'][i] ) )\n",
    "critic_out_layer = nn.Linear( hidden_dims['critic'][-1], 1 )"
   ]
  },
  {
   "cell_type": "code",
   "execution_count": 16,
   "metadata": {},
   "outputs": [
    {
     "data": {
      "text/plain": [
       "ModuleList(\n",
       "  (0): Linear(in_features=256, out_features=256, bias=True)\n",
       "  (1): Linear(in_features=256, out_features=128, bias=True)\n",
       "  (2): Linear(in_features=128, out_features=128, bias=True)\n",
       "  (3): Linear(in_features=128, out_features=64, bias=True)\n",
       ")"
      ]
     },
     "execution_count": 16,
     "metadata": {},
     "output_type": "execute_result"
    }
   ],
   "source": [
    "hlayers['critic']"
   ]
  },
  {
   "cell_type": "code",
   "execution_count": 17,
   "metadata": {},
   "outputs": [
    {
     "data": {
      "text/plain": [
       "Linear(in_features=64, out_features=1, bias=True)"
      ]
     },
     "execution_count": 17,
     "metadata": {},
     "output_type": "execute_result"
    }
   ],
   "source": [
    "critic_out_layer"
   ]
  },
  {
   "cell_type": "code",
   "execution_count": 18,
   "metadata": {},
   "outputs": [],
   "source": [
    "# Prevents non Pytorch Tensor Object entering the processing stream\n",
    "def torch_format(state):\n",
    "    x = state\n",
    "    if not isinstance(x, torch.Tensor):\n",
    "        x = torch.tensor(x, dtype=torch.float32)\n",
    "        if len(x.size()) == 1:\n",
    "            x = x.unsqueeze(0)\n",
    "    return x"
   ]
  },
  {
   "cell_type": "code",
   "execution_count": 19,
   "metadata": {},
   "outputs": [],
   "source": [
    "def forward(state):\n",
    "    check_tensor = lambda x: isinstance(x, torch.Tensor)\n",
    "    last_x_shared_actor = True\n",
    "    last_x_shared_critic = True\n",
    "    x_act = True \n",
    "    x_crit = True\n",
    "\n",
    "    \n",
    "    # BEGIN! Debug! Debug! Debug! Debug! Debug! Debug! Debug!\n",
    "    #x_act = 1 \n",
    "    #x_crit = 1 \n",
    "    ddims = lambda x: x.size() if check_tensor(x) else 'NoTorch'\n",
    "    # END! Debug! Debug! Debug! Debug! Debug! Debug! Debug!\n",
    "\n",
    "    x = torch_format(state)\n",
    "    x = F.relu(  input_layer(x) )\n",
    "    for label in ['shared', 'actor', 'critic']:\n",
    "        #for hlayer in  hlayers[label]:\n",
    "        for (dc, hlayer) in  enumerate(hlayers[label]): # Debug! Debug! Debug! Debug! Debug! Debug! Debug! Debug!\n",
    "            #print(f'Label: {label}; HLayer: {dc} #####') # Debug! Debug! Debug! Debug! Debug! Debug! Debug! Debug!\n",
    "            if label == 'shared':\n",
    "                x = F.relu(  hlayer(x) )\n",
    "            if label == 'actor':\n",
    "                #import pdb; pdb.set_trace()\n",
    "                #if check_tensor(last_x_shared_actor):\n",
    "                #    x_act = F.relu(  hlayer(last_x_shared_actor) ).clone()\n",
    "                #    last_x_shared_actor = False\n",
    "                #else:\n",
    "                #print(hlayer) # Debug! Debug! Debug! Debug! Debug! Debug! Debug! Debug!\n",
    "                x_act = F.relu(  hlayer(x_act) )\n",
    "            if label == 'critic':\n",
    "                #if check_tensor(last_x_shared_critic):\n",
    "                #    x_crit = F.relu(  hlayer(last_x_shared_critic) ).clone()\n",
    "                #    last_x_shared_critic = False\n",
    "                #else:\n",
    "                x_crit = F.relu(  hlayer(x_crit) )\n",
    "            # BEGIN! Debug! Debug! Debug! Debug! Debug! Debug! Debug!\n",
    "            #print(f'Types: x is {type(x)}; x_act is {type(x_act)}; last_x_shared_actor is {type(last_x_shared_actor)}')\n",
    "            #print(f'Dims: x is {ddims(x)};' +\\\n",
    "            #      f' x_act is {ddims(x_act)};' +\\\n",
    "            #      f' last_x_shared_actor is {ddims(last_x_shared_actor)}')\n",
    "            # END! Debug! Debug! Debug! Debug! Debug! Debug! Debug!\n",
    "\n",
    "        # Thx2: https://discuss.pytorch.org/t/copy-deepcopy-vs-clone/55022\n",
    "        if ( type(x_act) == bool ):\n",
    "            x_act = x.clone()  # Create an Inplace copy...\n",
    "        if ( type(x_crit) == bool ):\n",
    "            x_crit = x.clone() # ...after processing shared layers\n",
    "\n",
    "    return  actor_out_layer(x_act),  critic_out_layer(x_crit) "
   ]
  },
  {
   "cell_type": "markdown",
   "metadata": {},
   "source": [
    "#### Test if states are propagated through the debug network"
   ]
  },
  {
   "cell_type": "code",
   "execution_count": 20,
   "metadata": {},
   "outputs": [
    {
     "name": "stdout",
     "output_type": "stream",
     "text": [
      "Actor: tensor([[-0.1059, -0.0818, -0.0601, -0.0608]]) (1)\n",
      "Critic: tensor([[ 0.1204]]) (1)\n",
      "Actor: tensor([[-0.1064, -0.0818, -0.0601, -0.0603]]) (2)\n",
      "Critic: tensor([[ 0.1208]]) (2)\n",
      "Actor: tensor([[-0.1062, -0.0818, -0.0601, -0.0603]]) (3)\n",
      "Critic: tensor([[ 0.1207]]) (3)\n",
      "Actor: tensor([[-0.1061, -0.0823, -0.0596, -0.0610]]) (4)\n",
      "Critic: tensor([[ 0.1211]]) (4)\n",
      "Actor: tensor([[-0.1061, -0.0822, -0.0602, -0.0604]]) (5)\n",
      "Critic: tensor([[ 0.1213]]) (5)\n",
      "Actor: tensor([[-0.1063, -0.0821, -0.0597, -0.0612]]) (6)\n",
      "Critic: tensor([[ 0.1202]]) (6)\n",
      "Actor: tensor([[-0.1065, -0.0824, -0.0599, -0.0613]]) (7)\n",
      "Critic: tensor([[ 0.1204]]) (7)\n",
      "Actor: tensor([[-0.1062, -0.0821, -0.0602, -0.0602]]) (8)\n",
      "Critic: tensor([[ 0.1212]]) (8)\n",
      "Actor: tensor([[-0.1065, -0.0823, -0.0596, -0.0611]]) (9)\n",
      "Critic: tensor([[ 0.1201]]) (9)\n",
      "Actor: tensor([[-0.1064, -0.0824, -0.0597, -0.0611]]) (10)\n",
      "Critic: tensor([[ 0.1206]]) (10)\n",
      "Actor: tensor([[-0.1060, -0.0822, -0.0596, -0.0609]]) (11)\n",
      "Critic: tensor([[ 0.1212]]) (11)\n",
      "Actor: tensor([[-0.1065, -0.0823, -0.0597, -0.0611]]) (12)\n",
      "Critic: tensor([[ 0.1201]]) (12)\n",
      "Actor: tensor([[-0.1059, -0.0817, -0.0603, -0.0602]]) (13)\n",
      "Critic: tensor([[ 0.1207]]) (13)\n",
      "Actor: tensor([[-0.1058, -0.0816, -0.0603, -0.0602]]) (14)\n",
      "Critic: tensor([[ 0.1207]]) (14)\n",
      "Actor: tensor([[-0.1059, -0.0816, -0.0603, -0.0602]]) (15)\n",
      "Critic: tensor([[ 0.1207]]) (15)\n",
      "Actor: tensor([[-0.1062, -0.0824, -0.0596, -0.0612]]) (16)\n",
      "Critic: tensor([[ 0.1208]]) (16)\n",
      "Actor: tensor([[-0.1061, -0.0822, -0.0602, -0.0604]]) (17)\n",
      "Critic: tensor([[ 0.1213]]) (17)\n",
      "Actor: tensor([[-0.1065, -0.0822, -0.0597, -0.0612]]) (18)\n",
      "Critic: tensor([[ 0.1201]]) (18)\n",
      "Actor: tensor([[-0.1059, -0.0821, -0.0595, -0.0606]]) (19)\n",
      "Critic: tensor([[ 0.1213]]) (19)\n",
      "Actor: tensor([[-0.1060, -0.0820, -0.0599, -0.0610]]) (20)\n",
      "Critic: tensor([[ 0.1203]]) (20)\n"
     ]
    }
   ],
   "source": [
    "for (dc, st) in enumerate(states):\n",
    "    a,b = forward(st)\n",
    "    print(f'Actor: {a} ({dc+1})')\n",
    "    print(f'Critic: {b} ({dc+1})')"
   ]
  },
  {
   "cell_type": "markdown",
   "metadata": {},
   "source": [
    "#### Test if states are propagated through the imported network"
   ]
  },
  {
   "cell_type": "code",
   "execution_count": 21,
   "metadata": {},
   "outputs": [],
   "source": [
    "from mya2cnet import A2CNetwork\n",
    "\n",
    "tstnet = A2CNetwork(33, 4)"
   ]
  },
  {
   "cell_type": "code",
   "execution_count": 22,
   "metadata": {},
   "outputs": [
    {
     "ename": "AttributeError",
     "evalue": "'A2CNetwork' object has no attribute 'hlayer'",
     "output_type": "error",
     "traceback": [
      "\u001b[0;31m---------------------------------------------------------------------------\u001b[0m",
      "\u001b[0;31mAttributeError\u001b[0m                            Traceback (most recent call last)",
      "\u001b[0;32m<ipython-input-22-6faab361511d>\u001b[0m in \u001b[0;36m<module>\u001b[0;34m()\u001b[0m\n\u001b[1;32m      1\u001b[0m \u001b[0;32mfor\u001b[0m \u001b[0;34m(\u001b[0m\u001b[0mdc\u001b[0m\u001b[0;34m,\u001b[0m \u001b[0mst\u001b[0m\u001b[0;34m)\u001b[0m \u001b[0;32min\u001b[0m \u001b[0menumerate\u001b[0m\u001b[0;34m(\u001b[0m\u001b[0mstates\u001b[0m\u001b[0;34m)\u001b[0m\u001b[0;34m:\u001b[0m\u001b[0;34m\u001b[0m\u001b[0m\n\u001b[1;32m      2\u001b[0m     \u001b[0;31m#import pdb; pdb.set_trace() # Debug! Debug! Debug! Debug! Debug! Debug! Debug! Debug!\u001b[0m\u001b[0;34m\u001b[0m\u001b[0;34m\u001b[0m\u001b[0m\n\u001b[0;32m----> 3\u001b[0;31m     \u001b[0ma\u001b[0m\u001b[0;34m,\u001b[0m\u001b[0mb\u001b[0m \u001b[0;34m=\u001b[0m \u001b[0mtstnet\u001b[0m\u001b[0;34m.\u001b[0m\u001b[0mforward\u001b[0m\u001b[0;34m(\u001b[0m\u001b[0mst\u001b[0m\u001b[0;34m)\u001b[0m\u001b[0;34m\u001b[0m\u001b[0m\n\u001b[0m\u001b[1;32m      4\u001b[0m     \u001b[0mprint\u001b[0m\u001b[0;34m(\u001b[0m\u001b[0;34mf'Actor: {a} ({dc+1})'\u001b[0m\u001b[0;34m)\u001b[0m\u001b[0;34m\u001b[0m\u001b[0m\n\u001b[1;32m      5\u001b[0m     \u001b[0mprint\u001b[0m\u001b[0;34m(\u001b[0m\u001b[0;34mf'Critic: {b} ({dc+1})'\u001b[0m\u001b[0;34m)\u001b[0m\u001b[0;34m\u001b[0m\u001b[0m\n",
      "\u001b[0;32m/home/workspace/udacity-deep-reinforcement-learning/p2_continuous-control/mya2cnet.py\u001b[0m in \u001b[0;36mforward\u001b[0;34m(self, state)\u001b[0m\n\u001b[1;32m     63\u001b[0m             \u001b[0;32mfor\u001b[0m \u001b[0mhlayer\u001b[0m \u001b[0;32min\u001b[0m \u001b[0mself\u001b[0m\u001b[0;34m.\u001b[0m\u001b[0mhlayers\u001b[0m\u001b[0;34m[\u001b[0m\u001b[0mlabel\u001b[0m\u001b[0;34m]\u001b[0m\u001b[0;34m:\u001b[0m\u001b[0;34m\u001b[0m\u001b[0m\n\u001b[1;32m     64\u001b[0m                 \u001b[0;32mif\u001b[0m \u001b[0mlabel\u001b[0m \u001b[0;34m==\u001b[0m \u001b[0;34m'shared'\u001b[0m\u001b[0;34m:\u001b[0m\u001b[0;34m\u001b[0m\u001b[0m\n\u001b[0;32m---> 65\u001b[0;31m                     \u001b[0mx\u001b[0m \u001b[0;34m=\u001b[0m \u001b[0mF\u001b[0m\u001b[0;34m.\u001b[0m\u001b[0mrelu\u001b[0m\u001b[0;34m(\u001b[0m \u001b[0mself\u001b[0m\u001b[0;34m.\u001b[0m\u001b[0mhlayer\u001b[0m\u001b[0;34m(\u001b[0m\u001b[0mx\u001b[0m\u001b[0;34m)\u001b[0m \u001b[0;34m)\u001b[0m\u001b[0;34m\u001b[0m\u001b[0m\n\u001b[0m\u001b[1;32m     66\u001b[0m                 \u001b[0;32mif\u001b[0m \u001b[0mlabel\u001b[0m \u001b[0;34m==\u001b[0m \u001b[0;34m'actor'\u001b[0m\u001b[0;34m:\u001b[0m\u001b[0;34m\u001b[0m\u001b[0m\n\u001b[1;32m     67\u001b[0m                     \u001b[0;31m#if check_tensor(last_x_shared_actor):\u001b[0m\u001b[0;34m\u001b[0m\u001b[0;34m\u001b[0m\u001b[0m\n",
      "\u001b[0;32m/opt/conda/lib/python3.6/site-packages/torch/nn/modules/module.py\u001b[0m in \u001b[0;36m__getattr__\u001b[0;34m(self, name)\u001b[0m\n\u001b[1;32m    530\u001b[0m                 \u001b[0;32mreturn\u001b[0m \u001b[0mmodules\u001b[0m\u001b[0;34m[\u001b[0m\u001b[0mname\u001b[0m\u001b[0;34m]\u001b[0m\u001b[0;34m\u001b[0m\u001b[0m\n\u001b[1;32m    531\u001b[0m         raise AttributeError(\"'{}' object has no attribute '{}'\".format(\n\u001b[0;32m--> 532\u001b[0;31m             type(self).__name__, name))\n\u001b[0m\u001b[1;32m    533\u001b[0m \u001b[0;34m\u001b[0m\u001b[0m\n\u001b[1;32m    534\u001b[0m     \u001b[0;32mdef\u001b[0m \u001b[0m__setattr__\u001b[0m\u001b[0;34m(\u001b[0m\u001b[0mself\u001b[0m\u001b[0;34m,\u001b[0m \u001b[0mname\u001b[0m\u001b[0;34m,\u001b[0m \u001b[0mvalue\u001b[0m\u001b[0;34m)\u001b[0m\u001b[0;34m:\u001b[0m\u001b[0;34m\u001b[0m\u001b[0m\n",
      "\u001b[0;31mAttributeError\u001b[0m: 'A2CNetwork' object has no attribute 'hlayer'"
     ]
    }
   ],
   "source": [
    "for (dc, st) in enumerate(states):\n",
    "    #import pdb; pdb.set_trace() # Debug! Debug! Debug! Debug! Debug! Debug! Debug! Debug!\n",
    "    a,b = tstnet.forward(st)\n",
    "    print(f'Actor: {a} ({dc+1})')\n",
    "    print(f'Critic: {b} ({dc+1})')"
   ]
  },
  {
   "cell_type": "code",
   "execution_count": null,
   "metadata": {},
   "outputs": [],
   "source": []
  }
 ],
 "metadata": {
  "kernelspec": {
   "display_name": "Python 3",
   "language": "python",
   "name": "python3"
  },
  "language_info": {
   "codemirror_mode": {
    "name": "ipython",
    "version": 3
   },
   "file_extension": ".py",
   "mimetype": "text/x-python",
   "name": "python",
   "nbconvert_exporter": "python",
   "pygments_lexer": "ipython3",
   "version": "3.6.3"
  }
 },
 "nbformat": 4,
 "nbformat_minor": 4
}
