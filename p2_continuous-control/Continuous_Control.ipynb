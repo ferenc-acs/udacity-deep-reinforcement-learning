{
 "cells": [
  {
   "cell_type": "markdown",
   "metadata": {},
   "source": [
    "# Continuous Control\n",
    "\n",
    "---\n",
    "\n",
    "In this notebook, you will learn how to use the Unity ML-Agents environment for the second project of the [Deep Reinforcement Learning Nanodegree](https://www.udacity.com/course/deep-reinforcement-learning-nanodegree--nd893) program.\n",
    "\n",
    "### 1. Start the Environment\n",
    "\n",
    "We begin by importing the necessary packages.  If the code cell below returns an error, please revisit the project instructions to double-check that you have installed [Unity ML-Agents](https://github.com/Unity-Technologies/ml-agents/blob/master/docs/Installation.md) and [NumPy](http://www.numpy.org/)."
   ]
  },
  {
   "cell_type": "code",
   "execution_count": 1,
   "metadata": {},
   "outputs": [
    {
     "name": "stdout",
     "output_type": "stream",
     "text": [
      "posix.uname_result(sysname='Linux', nodename='Anubis-Linux', release='5.4.0-47-generic', version='#51-Ubuntu SMP Fri Sep 4 19:50:52 UTC 2020', machine='x86_64')\n"
     ]
    }
   ],
   "source": [
    "import os\n",
    "\n",
    "print(os.uname())\n",
    "\n",
    "# In the cloud environment?\n",
    "if 'root' in os.environ['HOME']:\n",
    "    UENVPATH = '/data/'\n",
    "    !pip -q install /home/workspace/python\n",
    "\n",
    "# In the standalone environment?\n",
    "if 'ferenc' in os.environ['HOME']:\n",
    "    UENVPATH = '/home/ferenc/Python/rl/udadrl/data/'\n",
    "\n",
    "\n",
    "from unityagents import UnityEnvironment\n",
    "import numpy as np\n",
    "\n",
    "import pprint as pp\n",
    "\n",
    "from collections import deque"
   ]
  },
  {
   "cell_type": "markdown",
   "metadata": {},
   "source": [
    "Next, we will start the environment!  **_Before running the code cell below_**, change the `file_name` parameter to match the location of the Unity environment that you downloaded.\n",
    "\n",
    "- **Mac**: `\"path/to/Reacher.app\"`\n",
    "- **Windows** (x86): `\"path/to/Reacher_Windows_x86/Reacher.exe\"`\n",
    "- **Windows** (x86_64): `\"path/to/Reacher_Windows_x86_64/Reacher.exe\"`\n",
    "- **Linux** (x86): `\"path/to/Reacher_Linux/Reacher.x86\"`\n",
    "- **Linux** (x86_64): `\"path/to/Reacher_Linux/Reacher.x86_64\"`\n",
    "- **Linux** (x86, headless): `\"path/to/Reacher_Linux_NoVis/Reacher.x86\"`\n",
    "- **Linux** (x86_64, headless): `\"path/to/Reacher_Linux_NoVis/Reacher.x86_64\"`\n",
    "\n",
    "For instance, if you are using a Mac, then you downloaded `Reacher.app`.  If this file is in the same folder as the notebook, then the line below should appear as follows:\n",
    "```\n",
    "env = UnityEnvironment(file_name=\"Reacher.app\")\n",
    "```"
   ]
  },
  {
   "cell_type": "code",
   "execution_count": 2,
   "metadata": {},
   "outputs": [
    {
     "name": "stderr",
     "output_type": "stream",
     "text": [
      "INFO:unityagents:\n",
      "'Academy' started successfully!\n",
      "Unity Academy name: Academy\n",
      "        Number of Brains: 1\n",
      "        Number of External Brains : 1\n",
      "        Lesson number : 0\n",
      "        Reset Parameters :\n",
      "\t\tgoal_size -> 5.0\n",
      "\t\tgoal_speed -> 1.0\n",
      "Unity brain name: ReacherBrain\n",
      "        Number of Visual Observations (per agent): 0\n",
      "        Vector Observation space type: continuous\n",
      "        Vector Observation space size (per agent): 33\n",
      "        Number of stacked Vector Observation: 1\n",
      "        Vector Action space type: continuous\n",
      "        Vector Action space size (per agent): 4\n",
      "        Vector Action descriptions: , , , \n"
     ]
    }
   ],
   "source": [
    "# ONE Agent, Standalone\n",
    "#UENVCHOICE = 'Reacher_Linux/Reacher.x86_64'\n",
    "\n",
    "# TWENTY Agents, Standalone\n",
    "#UENVCHOICE = 'Reacher_Linux_20/Reacher.x86_64'\n",
    "\n",
    "# ONE Agent, Cloud, No-Visuals \n",
    "#UENVCHOICE = 'Reacher_One_Linux_NoVis/Reacher_One_Linux_NoVis.x86_64'\n",
    "\n",
    "# TWENTY Agents, Cloud, No-Visuals \n",
    "UENVCHOICE = 'Reacher_Linux_NoVis/Reacher.x86_64'\n",
    "\n",
    "env = UnityEnvironment( file_name=os.path.join( UENVPATH, UENVCHOICE ) )\n",
    "\n",
    "\n"
   ]
  },
  {
   "cell_type": "markdown",
   "metadata": {},
   "source": [
    "Environments contain **_brains_** which are responsible for deciding the actions of their associated agents. Here we check for the first brain available, and set it as the default brain we will be controlling from Python."
   ]
  },
  {
   "cell_type": "code",
   "execution_count": 3,
   "metadata": {},
   "outputs": [
    {
     "data": {
      "text/plain": [
       "unityagents.environment.UnityEnvironment"
      ]
     },
     "execution_count": 3,
     "metadata": {},
     "output_type": "execute_result"
    }
   ],
   "source": [
    "# FA DEBUG! DEBUG! DEBUG! \n",
    "type(env)"
   ]
  },
  {
   "cell_type": "code",
   "execution_count": 4,
   "metadata": {},
   "outputs": [],
   "source": [
    "# get the default brain\n",
    "brain_name = env.brain_names[0]\n",
    "brain = env.brains[brain_name]"
   ]
  },
  {
   "cell_type": "code",
   "execution_count": 5,
   "metadata": {},
   "outputs": [
    {
     "name": "stdout",
     "output_type": "stream",
     "text": [
      "['ReacherBrain']\n",
      "<class 'unityagents.brain.BrainParameters'>\n"
     ]
    },
    {
     "data": {
      "text/plain": [
       "'ReacherBrain'"
      ]
     },
     "execution_count": 5,
     "metadata": {},
     "output_type": "execute_result"
    }
   ],
   "source": [
    "# FA  DEBUG! DEBUG! DEBUG! \n",
    "print(env.brain_names)\n",
    "print( type(brain) )\n",
    "brain.brain_name"
   ]
  },
  {
   "cell_type": "code",
   "execution_count": 6,
   "metadata": {},
   "outputs": [
    {
     "name": "stdout",
     "output_type": "stream",
     "text": [
      "Observation Space: 33 dimensions of continuous type\n",
      "Action Space: 4 dimensions of continuous type\n"
     ]
    }
   ],
   "source": [
    "# FA  DEBUG! DEBUG! DEBUG!\n",
    "print(f'Observation Space: {brain.vector_observation_space_size} dimensions of {brain.vector_observation_space_type} type') \n",
    "print(f'Action Space: {brain.vector_action_space_size} dimensions of {brain.vector_observation_space_type} type')"
   ]
  },
  {
   "cell_type": "markdown",
   "metadata": {},
   "source": [
    "### 2. Examine the State and Action Spaces\n",
    "\n",
    "In this environment, a double-jointed arm can move to target locations. A reward of `+0.1` is provided for each step that the agent's hand is in the goal location. Thus, the goal of your agent is to maintain its position at the target location for as many time steps as possible.\n",
    "\n",
    "The observation space consists of `33` variables corresponding to position, rotation, velocity, and angular velocities of the arm.  Each action is a vector with four numbers, corresponding to torque applicable to two joints.  Every entry in the action vector must be a number between `-1` and `1`.\n",
    "\n",
    "Run the code cell below to print some information about the environment."
   ]
  },
  {
   "cell_type": "code",
   "execution_count": 7,
   "metadata": {},
   "outputs": [
    {
     "name": "stdout",
     "output_type": "stream",
     "text": [
      "Number of agents: 20\n",
      "Size of each action: 4\n",
      "There are 20 agents. Each observes a state with length: 33\n",
      "The state for the first agent looks like: [ 0.00000000e+00 -4.00000000e+00  0.00000000e+00  1.00000000e+00\n",
      " -0.00000000e+00 -0.00000000e+00 -4.37113883e-08  0.00000000e+00\n",
      "  0.00000000e+00  0.00000000e+00  0.00000000e+00  0.00000000e+00\n",
      "  0.00000000e+00  0.00000000e+00 -1.00000000e+01  0.00000000e+00\n",
      "  1.00000000e+00 -0.00000000e+00 -0.00000000e+00 -4.37113883e-08\n",
      "  0.00000000e+00  0.00000000e+00  0.00000000e+00  0.00000000e+00\n",
      "  0.00000000e+00  0.00000000e+00  5.75471878e+00 -1.00000000e+00\n",
      "  5.55726624e+00  0.00000000e+00  1.00000000e+00  0.00000000e+00\n",
      " -1.68164849e-01]\n"
     ]
    }
   ],
   "source": [
    "# reset the environment\n",
    "env_info = env.reset(train_mode=True)[brain_name]\n",
    "\n",
    "# number of agents\n",
    "num_agents = len(env_info.agents)\n",
    "print('Number of agents:', num_agents)\n",
    "\n",
    "# size of each action\n",
    "action_size = brain.vector_action_space_size\n",
    "print('Size of each action:', action_size)\n",
    "\n",
    "# examine the state space \n",
    "states = env_info.vector_observations\n",
    "state_size = states.shape[1]\n",
    "print('There are {} agents. Each observes a state with length: {}'.format(states.shape[0], state_size))\n",
    "print('The state for the first agent looks like:', states[0])"
   ]
  },
  {
   "cell_type": "markdown",
   "metadata": {},
   "source": [
    "### 3. Take Random Actions in the Environment\n",
    "\n",
    "In the next code cell, you will learn how to use the Python API to control the agent and receive feedback from the environment.\n",
    "\n",
    "Once this cell is executed, you will watch the agent's performance, if it selects an action at random with each time step.  A window should pop up that allows you to observe the agent, as it moves through the environment.  \n",
    "\n",
    "Of course, as part of the project, you'll have to change the code so that the agent is able to use its experience to gradually choose better actions when interacting with the environment!"
   ]
  },
  {
   "cell_type": "code",
   "execution_count": 8,
   "metadata": {},
   "outputs": [
    {
     "name": "stdout",
     "output_type": "stream",
     "text": [
      "We have 20 active agents\n",
      "#   112  -> Agent 12 got reward +0.03000 for action: [-1.        -0.2539213  1.         1.       ]\n",
      "#   113  -> Agent 12 got reward +0.04000 for action: [1.         0.28576229 1.         0.27234025]\n",
      "#   114  -> Agent 12 got reward +0.04000 for action: [-0.26264926 -0.21416397  1.         -0.93656239]\n",
      "#   115  -> Agent 12 got reward +0.02000 for action: [-1.          0.59987306 -1.          0.02239889]\n",
      "#   184  -> Agent 04 got reward +0.01000 for action: [ 1.         -0.06162538 -1.         -0.68266414]\n",
      "#   185  -> Agent 04 got reward +0.04000 for action: [-0.10596354  1.          0.33042719 -0.92507775]\n",
      "#   186  -> Agent 04 got reward +0.04000 for action: [-0.34181649 -1.          0.87862019  0.40393031]\n",
      "#   187  -> Agent 04 got reward +0.04000 for action: [-0.36324718  0.4473553  -0.8787813   0.53712426]\n",
      "#   188  -> Agent 04 got reward +0.04000 for action: [-0.66151522 -1.         -1.         -1.        ]\n",
      "#   189  -> Agent 04 got reward +0.04000 for action: [ 1.         -0.11557341 -0.51173842 -0.59252173]\n",
      "#   190  -> Agent 04 got reward +0.01000 for action: [0.2773395  0.06316114 0.42348745 0.38816341]\n",
      "#   194  -> Agent 04 got reward +0.03000 for action: [-1.         -1.          0.11203082  0.98391546]\n",
      "#   195  -> Agent 04 got reward +0.04000 for action: [ 0.17862681 -1.          0.63736383 -0.08038348]\n",
      "#   196  -> Agent 04 got reward +0.04000 for action: [-1.         -0.42943012 -0.38286921  0.64400069]\n",
      "#   197  -> Agent 04 got reward +0.04000 for action: [-0.33192066 -0.12812891 -1.         -0.35963409]\n",
      "#   198  -> Agent 04 got reward +0.04000 for action: [-0.0913456   1.         -0.07241916 -1.        ]\n",
      "#   199  -> Agent 04 got reward +0.04000 for action: [-0.12346061 -1.          0.27446104 -0.50429634]\n",
      "#   200  -> Agent 04 got reward +0.04000 for action: [ 0.36901197  0.40184057 -0.02762645 -1.        ]\n",
      "#   201  -> Agent 04 got reward +0.04000 for action: [-1.         -0.27302377 -1.         -0.85503943]\n",
      "#   202  -> Agent 04 got reward +0.04000 for action: [-0.51331079 -0.75446525  1.         -0.03516376]\n",
      "#   203  -> Agent 04 got reward +0.04000 for action: [-0.16648151  1.          1.         -0.92838524]\n",
      "#   204  -> Agent 04 got reward +0.04000 for action: [-1.         -0.82534306  0.06759363 -0.32576106]\n",
      "#   205  -> Agent 04 got reward +0.04000 for action: [0.58227061 1.         0.53352649 0.61946894]\n",
      "#   206  -> Agent 04 got reward +0.03000 for action: [-1.         -0.71729258  0.47500496 -0.67419119]\n",
      "#   258  -> Agent 20 got reward +0.02000 for action: [-1.          0.21519396 -0.05505105 -0.35611206]\n",
      "#   259  -> Agent 20 got reward +0.04000 for action: [-1.         -0.16731351  0.7671124  -0.00807217]\n",
      "#   260  -> Agent 20 got reward +0.04000 for action: [1.         1.         0.31260982 0.83676692]\n",
      "#   261  -> Agent 20 got reward +0.02000 for action: [-0.8651823   0.92320369  0.51173459 -0.79895688]\n",
      "#   328  -> Agent 01 got reward +0.01000 for action: [ 0.63224123  1.         -0.23786989  0.44614033]\n",
      "#   329  -> Agent 01 got reward +0.04000 for action: [ 0.72574607 -1.          1.          0.17561695]\n",
      "#   330  -> Agent 01 got reward +0.04000 for action: [-0.50826319 -0.82108022 -0.94811704 -1.        ]\n",
      "#   331  -> Agent 01 got reward +0.04000 for action: [-0.00840944 -0.61901659 -0.50074605 -1.        ]\n",
      "#   332  -> Agent 01 got reward +0.04000 for action: [-0.40864953 -0.17553505 -1.         -0.15123777]\n",
      "#   333  -> Agent 01 got reward +0.04000 for action: [-0.19692495  1.         -0.83081364 -1.        ]\n",
      "#   334  -> Agent 01 got reward +0.04000 for action: [-0.50866813  0.7441006  -1.          0.15605187]\n",
      "#   335  -> Agent 01 got reward +0.04000 for action: [-1.          0.49000662 -0.34297788  0.38463452]\n",
      "#   336  -> Agent 01 got reward +0.04000 for action: [ 0.67382661 -0.25775316 -0.32804989 -0.00391711]\n",
      "#   337  -> Agent 01 got reward +0.04000 for action: [-0.3725709  -0.90812231  0.14098835  1.        ]\n",
      "#   338  -> Agent 01 got reward +0.04000 for action: [-1.         -0.66520728 -1.         -0.44937576]\n",
      "#   420  -> Agent 05 got reward +0.01000 for action: [-1.          0.2722136  -0.93327645 -0.98162248]\n",
      "#   421  -> Agent 05 got reward +0.04000 for action: [ 0.2979041   0.84816081 -0.10051167  0.93576612]\n",
      "#   422  -> Agent 05 got reward +0.04000 for action: [ 1.          0.16530604  0.24802919 -0.001712  ]\n",
      "#   423  -> Agent 05 got reward +0.04000 for action: [ 0.64097897 -1.         -0.69948028 -1.        ]\n",
      "#   424  -> Agent 05 got reward +0.04000 for action: [ 0.97634283 -0.31247516  0.72113967 -1.        ]\n",
      "#   425  -> Agent 05 got reward +0.04000 for action: [ 1.         -0.4507432  -0.67616088  0.88287735]\n",
      "#   426  -> Agent 05 got reward +0.03000 for action: [ 0.73735714  1.         -0.2658218  -0.7294074 ]\n",
      "#   690  -> Agent 05 got reward +0.04000 for action: [-0.44142686  0.19407004  1.          0.38485259]\n",
      "#   691  -> Agent 05 got reward +0.04000 for action: [ 0.62622823 -1.         -1.         -0.22747085]\n",
      "#   692  -> Agent 05 got reward +0.04000 for action: [-1.         -0.58912381  0.06603297 -0.78396235]\n",
      "#   693  -> Agent 05 got reward +0.04000 for action: [ 0.22121271 -1.         -0.19656417  0.36426311]\n",
      "#   694  -> Agent 05 got reward +0.04000 for action: [ 1.          1.          0.2835426  -0.48029549]\n",
      "#   695  -> Agent 05 got reward +0.01000 for action: [-1.         -0.13429003  0.08111578  1.        ]\n",
      "#   771  -> Agent 16 got reward +0.02000 for action: [1.         0.19786714 1.         0.34076803]\n",
      "#   772  -> Agent 16 got reward +0.04000 for action: [ 0.0136355   0.79854471  1.         -0.37066018]\n",
      "#   773  -> Agent 16 got reward +0.04000 for action: [-0.2253185   0.22318498  1.         -1.        ]\n",
      "#   774  -> Agent 16 got reward +0.04000 for action: [-1.          0.29833452  0.57038212  0.61742481]\n",
      "#   775  -> Agent 16 got reward +0.04000 for action: [-0.28744075 -0.53541745  0.42799623  0.00613839]\n",
      "#   776  -> Agent 16 got reward +0.04000 for action: [ 0.27609152 -1.         -0.75782583  0.61380971]\n",
      "#   777  -> Agent 16 got reward +0.01000 for action: [-0.73674784  0.50331175 -1.         -0.21992791]\n",
      "#   940  -> Agent 16 got reward +0.02000 for action: [-0.73375885  0.65131184  0.67255732 -1.        ]\n",
      "#   941  -> Agent 16 got reward +0.04000 for action: [ 0.0329079   0.47365384 -0.1392163   0.39141452]\n",
      "#   942  -> Agent 16 got reward +0.04000 for action: [ 0.2200364   0.1339138   1.         -0.35881173]\n",
      "#   943  -> Agent 16 got reward +0.04000 for action: [-1.          0.68985128  0.05664929 -1.        ]\n",
      "#   944  -> Agent 16 got reward +0.04000 for action: [ 0.84236115 -1.         -0.92087121 -1.        ]\n",
      "#   945  -> Agent 16 got reward +0.04000 for action: [-1.         -0.14040735  0.16886738 -0.66924028]\n",
      "#   946  -> Agent 16 got reward +0.04000 for action: [-0.05995853  0.00880115  0.53862847  0.01016848]\n",
      "#   947  -> Agent 16 got reward +0.02000 for action: [-0.12196565 -1.         -1.         -1.        ]\n",
      "#  1001 #\n",
      "Total score (averaged over agents) this episode: 0.1169999973848462\n"
     ]
    }
   ],
   "source": [
    "# Should a run with random actions be perfomed first?\n",
    "RANDOMRUN = True\n",
    "\n",
    "# Some reminders about lambda functions\n",
    "# Thx2: https://realpython.com/python-lambda/\n",
    "# Thx2: https://thispointer.com/python-how-to-use-if-else-elif-in-lambda-functions/\n",
    "\n",
    "\n",
    "env_info = env.reset(train_mode=False)[brain_name]     # reset the environment    \n",
    "states = env_info.vector_observations                  # get the current state (for each agent)\n",
    "scores = np.zeros(num_agents)                          # initialize the score (for each agent)\n",
    "\n",
    "epc = 0\n",
    "print(f'We have {num_agents} active agent' + ( lambda x: 's' if x>1 else '' )(num_agents) )\n",
    "\n",
    "while RANDOMRUN == True:\n",
    "    epc += 1\n",
    "    #print(f'\\r#{epc}', end = ' ')\n",
    "    print(f'\\r#{str(epc).rjust(6)}', end = ' ')\n",
    "    actions = np.random.randn(num_agents, action_size) # select an action (for each agent)\n",
    "    #import pdb; pdb.set_trace() # Debug! Debug! Debug! Debug! Debug! Debug! \n",
    "    actions = np.clip(actions, -1, 1)                  # all actions between -1 and 1\n",
    "    env_info = env.step(actions)[brain_name]           # send all actions to tne environment\n",
    "    next_states = env_info.vector_observations         # get next state (for each agent)\n",
    "    rewards = env_info.rewards                         # get reward (for each agent)\n",
    "    dones = env_info.local_done                        # see if episode finished\n",
    "    rewards = env_info.rewards\n",
    "    nprewards = np.array(rewards)\n",
    "    scores += rewards                         # update the score (for each agent)\n",
    "    if np.sum(nprewards) > 0:\n",
    "        #print(f'\\r#{epc} Rewards = {rewards}')\n",
    "        maskagent = nprewards > 0\n",
    "        agentbefore = False\n",
    "        for (nagent, action) in enumerate(actions):\n",
    "            if maskagent[nagent]:\n",
    "                if agentbefore:\n",
    "                    print('\\r#' + '&'.rjust(6), end = ' ')\n",
    "                print(' -> Agent {:0>2d} got reward {:+.5f} for action: {}'.format(nagent+1, rewards[nagent], action))\n",
    "                agentbefore = True\n",
    "                #pp.pprint(list(action))\n",
    "    states = next_states                               # roll over states to next time step\n",
    "    if np.any(dones):                                  # exit loop if episode finished\n",
    "        break\n",
    "print('#')\n",
    "print('Total score (averaged over agents) this episode: {}'.format(np.mean(scores)))"
   ]
  },
  {
   "cell_type": "markdown",
   "metadata": {},
   "source": [
    "### When finished, you can close the environment.\n",
    "#### Just not for now because unit testing below"
   ]
  },
  {
   "cell_type": "code",
   "execution_count": 9,
   "metadata": {},
   "outputs": [],
   "source": [
    "# env.close()"
   ]
  },
  {
   "cell_type": "markdown",
   "metadata": {},
   "source": [
    "### 4. It's Your Turn!\n",
    "\n",
    "Now it's your turn to train your own agent to solve the environment!  When training the environment, set `train_mode=True`, so that the line for resetting the environment looks like the following:\n",
    "```python\n",
    "env_info = env.reset(train_mode=True)[brain_name]\n",
    "```"
   ]
  },
  {
   "cell_type": "markdown",
   "metadata": {},
   "source": [
    "##### FA: One BIG MISUNDERSTANDING & STACKS OF TENSORS (23-08-2020) --> #FA; BMSoT:\n",
    "It has cost me several days if not weeks to get behind the fact that the [A2C sample implementation of Miguel](https://github.com/mimoralea/gdrl/blob/master/notebooks/chapter_11/chapter-11.ipynb) is working with **stacks of tensors** instead of single tensors. Which was especially hard to find because the PyTorch code looks exactly the same for both.\n",
    "\n",
    "In the end, when I thought about it, it makes sense and is a nifty feature of PyTorch. It is just not obvious to people like me, without in deep insights in the inner workings of PyTorch. \n",
    "\n",
    "Furthermore the authors of the PyTorch documentation seem not to make it too visible, I had to dig it out of one of the function definitions I use, however inderectly over the layer defintion for a2cnet:\n",
    "\n",
    "https://pytorch.org/docs/0.4.0/_modules/torch/nn/functional.html#linear\n",
    "\n",
    "> def linear(input, weight, bias=None):\n",
    ">    \"\"\"\n",
    ">    Applies a linear transformation to the incoming data: :math:`y = xA^T + b`.\n",
    ">\n",
    ">    Shape:\n",
    ">        - Input: :math:`(N, *, in\\_features)` where `*` means any number of\n",
    ">          additional dimensions\n",
    ">        - Weight: :math:`(out\\_features, in\\_features)`\n",
    ">        - Bias: :math:`(out\\_features)`\n",
    ">        - Output: :math:`(N, *, out\\_features)`\n",
    ">    \"\"\"\n",
    ">    if input.dim() == 2 and bias is not None:\n",
    ">        # fused op is marginally faster\n",
    ">        return torch.addmm(bias, input, weight.t())\n",
    ">\n",
    ">    output = input.matmul(weight.t())\n",
    ">    if bias is not None:\n",
    ">        output += bias\n",
    ">    return output\n"
   ]
  },
  {
   "cell_type": "markdown",
   "metadata": {},
   "source": [
    "#### Tracing the error in the 'mya2cnet' module code refactoring below"
   ]
  },
  {
   "cell_type": "code",
   "execution_count": 10,
   "metadata": {},
   "outputs": [],
   "source": [
    "# TEST! TEST! TEST! TEST! TEST! TEST! TEST! TEST! TEST! TEST! TEST! TEST! TEST! TEST! \n",
    "#import pdb; pdb.set_trace() # Debug! Debug! Debug! Debug! Debug! Debug! \n",
    "\n",
    "import torch\n",
    "import torch.nn as nn\n",
    "import torch.nn.functional as F\n",
    "\n",
    "torch.manual_seed(20200808) # Debug! Debug! Debug! Debug! Debug! Debug! Debug! Debug!\n",
    "\n",
    "# Format: IN_Num [Layer 1] (OUT_Num = IN_Num) [Layer 2] OUT_Num = ...\n",
    "HIDDEN_DIMS_DEFAULT = {\n",
    "    'shared' : (512, 512, 256, 256),\n",
    "    'actor' : (256, 128, 128, 64),\n",
    "    'critic' : (256, 128, 128, 64)\n",
    "}\n",
    "hidden_dims = HIDDEN_DIMS_DEFAULT\n",
    "\n",
    "hlayers = dict()\n",
    "\n",
    "hlayers['shared'] = nn.ModuleList()\n",
    "hlayers['actor'] = nn.ModuleList()\n",
    "hlayers['critic'] = nn.ModuleList()\n",
    "\n",
    "\n"
   ]
  },
  {
   "cell_type": "code",
   "execution_count": 11,
   "metadata": {},
   "outputs": [],
   "source": [
    "# Input layer\n",
    "input_layer = nn.Linear( 33, hidden_dims['shared'][0] )"
   ]
  },
  {
   "cell_type": "code",
   "execution_count": 12,
   "metadata": {},
   "outputs": [
    {
     "data": {
      "text/plain": [
       "Linear(in_features=33, out_features=512, bias=True)"
      ]
     },
     "execution_count": 12,
     "metadata": {},
     "output_type": "execute_result"
    }
   ],
   "source": [
    "input_layer"
   ]
  },
  {
   "cell_type": "code",
   "execution_count": 13,
   "metadata": {},
   "outputs": [],
   "source": [
    "# Hidden layers shared\n",
    "for i in range( len(hidden_dims['shared']) -1 ):\n",
    "    hlayers['shared'].append( nn.Linear( hidden_dims['shared'][i], hidden_dims['shared'][i+1] ) )"
   ]
  },
  {
   "cell_type": "code",
   "execution_count": 14,
   "metadata": {},
   "outputs": [
    {
     "data": {
      "text/plain": [
       "ModuleList(\n",
       "  (0): Linear(in_features=512, out_features=512, bias=True)\n",
       "  (1): Linear(in_features=512, out_features=256, bias=True)\n",
       "  (2): Linear(in_features=256, out_features=256, bias=True)\n",
       ")"
      ]
     },
     "execution_count": 14,
     "metadata": {},
     "output_type": "execute_result"
    }
   ],
   "source": [
    "hlayers['shared']"
   ]
  },
  {
   "cell_type": "code",
   "execution_count": 15,
   "metadata": {},
   "outputs": [],
   "source": [
    "# Actor layers\n",
    "for i in range( len(hidden_dims['actor']) ):\n",
    "    #import pdb; pdb.set_trace() # Debug! Debug! Debug! Debug! Debug! Debug! Debug! Debug!\n",
    "    if i == 0:\n",
    "        hlayers['actor'].append( nn.Linear( hidden_dims['shared'][-1], hidden_dims['actor'][i] ) )\n",
    "    else:\n",
    "        # hlayers['actor'].append( nn.Linear( hidden_dims['actor'][i], hidden_dims['actor'][i+1] ERROR !!!\n",
    "        hlayers['actor'].append( nn.Linear( hidden_dims['actor'][i-1], hidden_dims['actor'][i] ) )\n",
    "    #print( i, hlayers['actor'] ) # Debug! Debug! Debug! Debug! Debug! Debug! Debug! Debug!\n",
    "        \n",
    "actor_out_layer = nn.Linear( hidden_dims['actor'][-1], 4 )"
   ]
  },
  {
   "cell_type": "code",
   "execution_count": 16,
   "metadata": {},
   "outputs": [
    {
     "data": {
      "text/plain": [
       "ModuleList(\n",
       "  (0): Linear(in_features=256, out_features=256, bias=True)\n",
       "  (1): Linear(in_features=256, out_features=128, bias=True)\n",
       "  (2): Linear(in_features=128, out_features=128, bias=True)\n",
       "  (3): Linear(in_features=128, out_features=64, bias=True)\n",
       ")"
      ]
     },
     "execution_count": 16,
     "metadata": {},
     "output_type": "execute_result"
    }
   ],
   "source": [
    "hlayers['actor']"
   ]
  },
  {
   "cell_type": "code",
   "execution_count": 17,
   "metadata": {},
   "outputs": [
    {
     "data": {
      "text/plain": [
       "Linear(in_features=64, out_features=4, bias=True)"
      ]
     },
     "execution_count": 17,
     "metadata": {},
     "output_type": "execute_result"
    }
   ],
   "source": [
    "actor_out_layer"
   ]
  },
  {
   "cell_type": "code",
   "execution_count": 18,
   "metadata": {},
   "outputs": [],
   "source": [
    "#Critic layers\n",
    "for i in range( len(hidden_dims['critic']) ):\n",
    "    if i == 0:\n",
    "        hlayers['critic'].append( nn.Linear( hidden_dims['shared'][-1], hidden_dims['critic'][i] ) )\n",
    "    else:\n",
    "        hlayers['critic'].append( nn.Linear( hidden_dims['critic'][i-1], hidden_dims['critic'][i] ) )\n",
    "critic_out_layer = nn.Linear( hidden_dims['critic'][-1], 1 )"
   ]
  },
  {
   "cell_type": "code",
   "execution_count": 19,
   "metadata": {},
   "outputs": [
    {
     "data": {
      "text/plain": [
       "ModuleList(\n",
       "  (0): Linear(in_features=256, out_features=256, bias=True)\n",
       "  (1): Linear(in_features=256, out_features=128, bias=True)\n",
       "  (2): Linear(in_features=128, out_features=128, bias=True)\n",
       "  (3): Linear(in_features=128, out_features=64, bias=True)\n",
       ")"
      ]
     },
     "execution_count": 19,
     "metadata": {},
     "output_type": "execute_result"
    }
   ],
   "source": [
    "hlayers['critic']"
   ]
  },
  {
   "cell_type": "code",
   "execution_count": 20,
   "metadata": {},
   "outputs": [
    {
     "data": {
      "text/plain": [
       "Linear(in_features=64, out_features=1, bias=True)"
      ]
     },
     "execution_count": 20,
     "metadata": {},
     "output_type": "execute_result"
    }
   ],
   "source": [
    "critic_out_layer"
   ]
  },
  {
   "cell_type": "code",
   "execution_count": 21,
   "metadata": {},
   "outputs": [],
   "source": [
    "# Prevents non Pytorch Tensor Object entering the processing stream\n",
    "def torch_format(state):\n",
    "    x = state\n",
    "    if not isinstance(x, torch.Tensor):\n",
    "        x = torch.tensor(x, dtype=torch.float32)\n",
    "        if len(x.size()) == 1:\n",
    "            x = x.unsqueeze(0)\n",
    "    return x"
   ]
  },
  {
   "cell_type": "code",
   "execution_count": 22,
   "metadata": {},
   "outputs": [],
   "source": [
    "def forward(state):\n",
    "    check_tensor = lambda x: isinstance(x, torch.Tensor)\n",
    "    x_act = True \n",
    "    x_crit = True\n",
    "\n",
    "    x = torch_format(state)\n",
    "    x = F.relu(  input_layer(x) )\n",
    "    for label in ['shared', 'actor', 'critic']:\n",
    "        for hlayer in  hlayers[label]:\n",
    "            if label == 'shared':\n",
    "                x = F.relu(  hlayer(x) )\n",
    "            if label == 'actor':\n",
    "                x_act = F.relu(  hlayer(x_act) )\n",
    "            if label == 'critic':\n",
    "                x_crit = F.relu(  hlayer(x_crit) )\n",
    "\n",
    "        # Thx2: https://discuss.pytorch.org/t/copy-deepcopy-vs-clone/55022\n",
    "        if ( type(x_act) == bool ):\n",
    "            x_act = x.clone()  # Create an Inplace copy...\n",
    "        if ( type(x_crit) == bool ):\n",
    "            x_crit = x.clone() # ...after processing shared layers\n",
    "\n",
    "    return  actor_out_layer(x_act),  critic_out_layer(x_crit) "
   ]
  },
  {
   "cell_type": "markdown",
   "metadata": {},
   "source": [
    "#### Test if A STACK OF (BMSoT) states are propagated through the debug network\n",
    "And make a list of outputs of two A2C instances"
   ]
  },
  {
   "cell_type": "code",
   "execution_count": 23,
   "metadata": {},
   "outputs": [
    {
     "name": "stdout",
     "output_type": "stream",
     "text": [
      "Actor: tensor(1.00000e-02 *\n",
      "       [[ 4.6543,  4.9756, -4.4953,  4.2128],\n",
      "        [ 4.7037,  4.9775, -4.4215,  4.1041],\n",
      "        [ 4.7006,  4.9798, -4.4235,  4.1018],\n",
      "        [ 4.6981,  4.9901, -4.3603,  4.1175],\n",
      "        [ 4.7117,  4.9911, -4.4272,  4.1191],\n",
      "        [ 4.6864,  4.9768, -4.4898,  4.2664],\n",
      "        [ 4.7017,  5.0059, -4.4374,  4.2481],\n",
      "        [ 4.7107,  4.9870, -4.4269,  4.1114],\n",
      "        [ 4.6985,  4.9721, -4.4752,  4.2727],\n",
      "        [ 4.6935,  5.0025, -4.4124,  4.2141],\n",
      "        [ 4.7007,  4.9718, -4.3907,  4.1061],\n",
      "        [ 4.6997,  4.9750, -4.4772,  4.2800],\n",
      "        [ 4.6790,  4.9917, -4.4376,  4.1197],\n",
      "        [ 4.6685,  4.9951, -4.4505,  4.1421],\n",
      "        [ 4.6763,  4.9944, -4.4406,  4.1248],\n",
      "        [ 4.6967,  4.9936, -4.3724,  4.1618],\n",
      "        [ 4.7116,  4.9925, -4.4258,  4.1176],\n",
      "        [ 4.7030,  4.9784, -4.4800,  4.2864],\n",
      "        [ 4.7116,  4.9804, -4.4134,  4.1002],\n",
      "        [ 4.6749,  4.9665, -4.4912,  4.2393]])\n",
      "Critic: tensor(1.00000e-02 *\n",
      "       [[ 4.7572],\n",
      "        [ 4.8767],\n",
      "        [ 4.8752],\n",
      "        [ 4.8696],\n",
      "        [ 4.8610],\n",
      "        [ 4.7746],\n",
      "        [ 4.8414],\n",
      "        [ 4.8706],\n",
      "        [ 4.8107],\n",
      "        [ 4.8393],\n",
      "        [ 4.8479],\n",
      "        [ 4.8147],\n",
      "        [ 4.8553],\n",
      "        [ 4.8110],\n",
      "        [ 4.8488],\n",
      "        [ 4.8638],\n",
      "        [ 4.8612],\n",
      "        [ 4.8194],\n",
      "        [ 4.8508],\n",
      "        [ 4.7676]])\n"
     ]
    }
   ],
   "source": [
    "#al = []\n",
    "#bl = []\n",
    "\n",
    "#for (dc, st) in enumerate(states):\n",
    "#    al.append(a)\n",
    "#    bl.append(b)\n",
    "\n",
    "#import pdb; pdb.set_trace() # Debug! Debug! Debug! Debug! Debug! Debug! Debug! Debug!    \n",
    "    \n",
    "#FA; BMSoT: No need to iterate through states any more!\n",
    "a,b = forward(states)\n",
    "print(f'Actor: {a}')\n",
    "print(f'Critic: {b}')"
   ]
  },
  {
   "cell_type": "markdown",
   "metadata": {},
   "source": [
    "#### Test if A STACK OF (BMSoT) states is propagated through the imported network"
   ]
  },
  {
   "cell_type": "code",
   "execution_count": 24,
   "metadata": {},
   "outputs": [],
   "source": [
    "import pdb # Debug! Debug! Debug! Debug! Debug! Debug! Debug! Debug!\n",
    "\n",
    "#from mya2cnet import A2CNetwork\n",
    "import mya2cnet\n",
    "\n",
    "# Thx2: https://emacs.stackexchange.com/a/13483\n",
    "import imp\n",
    "imp.reload(mya2cnet)\n",
    "\n",
    "device = torch.device(\"cuda:0\" if torch.cuda.is_available() else \"cpu\")\n",
    "\n",
    "tstnet1 = mya2cnet.A2CNetwork(33, 4).to(device) #FA; BMSoT: Looks exactly the same...\n",
    "tstnet2 = mya2cnet.A2CNetwork(33, 4).to(device) #FA; BMSoT: ...like without stacks!"
   ]
  },
  {
   "cell_type": "code",
   "execution_count": 25,
   "metadata": {},
   "outputs": [],
   "source": [
    "#FA; BMSoT: OBSOLETE\n",
    "#for (dc, st) in enumerate(states):\n",
    "\n",
    "\n",
    "\n",
    "# pdb.set_trace() # Debug! Debug! Debug! Debug! Debug! Debug! Debug! Debug!\n",
    "    \n",
    "#a1,b1 = tstnet1.forward(torch.tensor(states, dtype=torch.float, device=device))\n",
    "#a2,b2 = tstnet2.forward(torch.tensor(states).to(device))\n",
    "\n",
    "#print(f'Dist. Actor stacks 1-2: {torch.dist(a1, a2)}'.ljust(50) + ' # ' +\\\n",
    "#     f'Dist. Actor 1 stacks - Notebook stacks {torch.dist(a1, a)}'.rjust(50))\n",
    "#print(f'Dist. Critic stacks 1-2: {torch.dist(b1, b2)}'.ljust(50) + ' # ' +\\\n",
    "#     f'Dist. Critic 1 stacks - Notebook stacks {torch.dist(b1, b)}'.rjust(50))"
   ]
  },
  {
   "cell_type": "code",
   "execution_count": 26,
   "metadata": {},
   "outputs": [],
   "source": [
    "#next(tstnet1.parameters()).is_cuda"
   ]
  },
  {
   "cell_type": "code",
   "execution_count": 27,
   "metadata": {},
   "outputs": [],
   "source": [
    "#next(tstnet2.parameters()).is_cuda"
   ]
  },
  {
   "cell_type": "code",
   "execution_count": null,
   "metadata": {},
   "outputs": [],
   "source": []
  },
  {
   "cell_type": "code",
   "execution_count": 28,
   "metadata": {},
   "outputs": [],
   "source": [
    "#FA; BMSoT: OBSOLETE\n",
    "#for (dc, st) in enumerate(states):\n",
    "#    print(f'({dc+1}) -> {tstnet1.fullpass(st)}')\n",
    "    \n",
    "#tstnet1.fullpass( torch.tensor(states, device = device, dtype = torch.float) )"
   ]
  },
  {
   "cell_type": "code",
   "execution_count": 29,
   "metadata": {},
   "outputs": [],
   "source": [
    "#FA; BMSoT: OBSOLETE\n",
    "#for (dc, st) in enumerate(states):\n",
    "#    print(f'({dc+1})-> {tstnet1.select_action(st)}') #, end=' ')\n",
    "    \n",
    "#tstnet1.select_action(states)"
   ]
  },
  {
   "cell_type": "markdown",
   "metadata": {},
   "source": [
    "#### Test the agent instance"
   ]
  },
  {
   "cell_type": "code",
   "execution_count": 30,
   "metadata": {},
   "outputs": [],
   "source": [
    "import mya2cagent\n",
    "\n",
    "# Thx2: https://emacs.stackexchange.com/a/13483\n",
    "import imp\n",
    "imp.reload(mya2cagent)\n",
    "\n",
    "agent = mya2cagent.a2cagent(len(env_info.agents), env, brain, max_steps = 500)"
   ]
  },
  {
   "cell_type": "code",
   "execution_count": 31,
   "metadata": {},
   "outputs": [],
   "source": [
    "procs = mya2cagent.MultiProcEnv(env, 20200808, len(env_info.agents))"
   ]
  },
  {
   "cell_type": "code",
   "execution_count": 32,
   "metadata": {},
   "outputs": [
    {
     "name": "stdout",
     "output_type": "stream",
     "text": [
      "Training epoch: 500 #"
     ]
    }
   ],
   "source": [
    "# Thx2: https://discuss.pytorch.org/t/how-to-check-if-model-is-on-cuda/180/2?u=ferenc_acs\n",
    "\n",
    "agent.train(states)"
   ]
  },
  {
   "cell_type": "code",
   "execution_count": 33,
   "metadata": {},
   "outputs": [
    {
     "name": "stdout",
     "output_type": "stream",
     "text": [
      "#24 Avg 30 Rewards = 0.0014999999664723873\n",
      "#25 Avg 30 Rewards = 0.0034999999217689036\n",
      "#26 Avg 30 Rewards = 0.0054999998770654205\n",
      "#27 Avg 30 Rewards = 0.007499999832361937\n",
      "#28 Avg 30 Rewards = 0.008499999810010195\n",
      "#39 Avg 30 Rewards = 0.009999999776482582\n",
      "#40 Avg 30 Rewards = 0.011999999731779098\n",
      "#41 Avg 30 Rewards = 0.013999999687075614\n",
      "#42 Avg 30 Rewards = 0.015999999642372132\n",
      "#43 Avg 30 Rewards = 0.018999999575316905\n",
      "#44 Avg 30 Rewards = 0.022999999485909937\n",
      "#45 Avg 30 Rewards = 0.026999999396502973\n",
      "#46 Avg 30 Rewards = 0.028999999351799487\n",
      "#86 Avg 30 Rewards = 0.0019999999552965165\n",
      "#87 Avg 30 Rewards = 0.003999999910593033\n",
      "#88 Avg 30 Rewards = 0.005999999865889549\n",
      "#89 Avg 30 Rewards = 0.007499999832361937\n",
      "#103 Avg 30 Rewards = 0.008999999798834323\n",
      "#104 Avg 30 Rewards = 0.011499999742954969\n",
      "#105 Avg 30 Rewards = 0.013499999698251487\n",
      "#106 Avg 30 Rewards = 0.015499999653548003\n",
      "#107 Avg 30 Rewards = 0.01749999960884452\n",
      "#108 Avg 30 Rewards = 0.019499999564141036\n",
      "#109 Avg 30 Rewards = 0.02149999951943755\n",
      "#110 Avg 30 Rewards = 0.022999999485909937\n",
      "#198 Avg 30 Rewards = 0.0019999999552965165\n",
      "#199 Avg 30 Rewards = 0.003999999910593033\n",
      "#200 Avg 30 Rewards = 0.005999999865889549\n",
      "#201 Avg 30 Rewards = 0.009999999776482582\n",
      "#202 Avg 30 Rewards = 0.012999999709427357\n",
      "#203 Avg 30 Rewards = 0.014999999664723873\n",
      "#204 Avg 30 Rewards = 0.01699999962002039\n",
      "#223 Avg 30 Rewards = 0.018499999586492778\n",
      "#224 Avg 30 Rewards = 0.019999999552965164\n",
      "#231 Avg 30 Rewards = 0.011499999742954969\n",
      "#232 Avg 30 Rewards = 0.010499999765306712\n",
      "#233 Avg 30 Rewards = 0.011499999742954969\n",
      "#234 Avg 30 Rewards = 0.013499999698251487\n",
      "#235 Avg 30 Rewards = 0.015999999642372132\n",
      "#236 Avg 30 Rewards = 0.01749999960884452\n",
      "#238 Avg 30 Rewards = 0.018999999575316905\n",
      "#239 Avg 30 Rewards = 0.020999999530613423\n",
      "#240 Avg 30 Rewards = 0.022999999485909937\n",
      "#241 Avg 30 Rewards = 0.023999999463558196\n",
      "#242 Avg 30 Rewards = 0.025499999430030583\n",
      "#243 Avg 30 Rewards = 0.0274999993853271\n",
      "#244 Avg 30 Rewards = 0.02949999934062362\n",
      "#245 Avg 30 Rewards = 0.031499999295920136\n",
      "#246 Avg 30 Rewards = 0.03349999925121665\n",
      "#247 Avg 30 Rewards = 0.035499999206513165\n",
      "#248 Avg 30 Rewards = 0.036999999172985555\n",
      "#270 Avg 30 Rewards = 0.014999999664723873\n",
      "#271 Avg 30 Rewards = 0.015999999642372132\n",
      "#272 Avg 30 Rewards = 0.01649999963119626\n",
      "#273 Avg 30 Rewards = 0.01649999963119626\n",
      "#274 Avg 30 Rewards = 0.01649999963119626\n",
      "#275 Avg 30 Rewards = 0.01649999963119626\n",
      "#276 Avg 30 Rewards = 0.015999999642372132\n",
      "#295 Avg 30 Rewards = 0.013999999687075614\n",
      "#296 Avg 30 Rewards = 0.015999999642372132\n",
      "#297 Avg 30 Rewards = 0.017999999597668646\n",
      "#298 Avg 30 Rewards = 0.019999999552965164\n",
      "#299 Avg 30 Rewards = 0.021999999508261682\n",
      "#300 Avg 30 Rewards = 0.022999999485909937\n",
      "#301 Avg 30 Rewards = 0.022999999485909937\n",
      "#302 Avg 30 Rewards = 0.022999999485909937\n",
      "#303 Avg 30 Rewards = 0.022999999485909937\n",
      "#304 Avg 30 Rewards = 0.022999999485909937\n",
      "#305 Avg 30 Rewards = 0.022999999485909937\n",
      "#306 Avg 30 Rewards = 0.02349999947473407\n",
      "#329 Avg 30 Rewards = 0.014499999675899744\n",
      "#330 Avg 30 Rewards = 0.014499999675899744\n",
      "#331 Avg 30 Rewards = 0.013999999687075614\n",
      "#387 Avg 30 Rewards = 0.0009999999776482583\n",
      "#388 Avg 30 Rewards = 0.0029999999329447745\n",
      "#389 Avg 30 Rewards = 0.004999999888241291\n",
      "#390 Avg 30 Rewards = 0.006999999843537807\n",
      "#391 Avg 30 Rewards = 0.008999999798834323\n",
      "#392 Avg 30 Rewards = 0.010499999765306712\n",
      "#397 Avg 30 Rewards = 0.011499999742954969\n",
      "#398 Avg 30 Rewards = 0.012499999720603228\n",
      "#399 Avg 30 Rewards = 0.013499999698251487\n",
      "#400 Avg 30 Rewards = 0.015499999653548003\n",
      "#401 Avg 30 Rewards = 0.01749999960884452\n",
      "#402 Avg 30 Rewards = 0.019499999564141036\n",
      "#403 Avg 30 Rewards = 0.02149999951943755\n",
      "#404 Avg 30 Rewards = 0.02349999947473407\n",
      "#405 Avg 30 Rewards = 0.025499999430030583\n",
      "#406 Avg 30 Rewards = 0.0274999993853271\n",
      "#408 Avg 30 Rewards = 0.028999999351799487\n",
      "#409 Avg 30 Rewards = 0.030999999307096005\n",
      "#410 Avg 30 Rewards = 0.03299999926239252\n",
      "#411 Avg 30 Rewards = 0.03499999921768904\n",
      "#412 Avg 30 Rewards = 0.036999999172985555\n",
      "#413 Avg 30 Rewards = 0.03849999913945794\n",
      "#420 Avg 30 Rewards = 0.03299999926239252\n",
      "#421 Avg 30 Rewards = 0.031999999284744264\n",
      "#436 Avg 30 Rewards = 0.015499999653548003\n",
      "#437 Avg 30 Rewards = 0.01649999963119626\n",
      "#438 Avg 30 Rewards = 0.01699999962002039\n",
      "#439 Avg 30 Rewards = 0.015999999642372132\n",
      "#458 Avg 30 Rewards = 0.0064999998547136785\n",
      "#459 Avg 30 Rewards = 0.008499999810010195\n",
      "#460 Avg 30 Rewards = 0.010499999765306712\n",
      "#461 Avg 30 Rewards = 0.012499999720603228\n",
      "#462 Avg 30 Rewards = 0.013499999698251487\n",
      "#466 Avg 30 Rewards = 0.011999999731779098\n",
      "#467 Avg 30 Rewards = 0.012999999709427357\n",
      "#468 Avg 30 Rewards = 0.012999999709427357\n",
      "#469 Avg 30 Rewards = 0.013999999687075614\n",
      "#470 Avg 30 Rewards = 0.015999999642372132\n",
      "#471 Avg 30 Rewards = 0.017999999597668646\n",
      "#472 Avg 30 Rewards = 0.019499999564141036\n",
      "#479 Avg 30 Rewards = 0.019999999552965164\n",
      "#480 Avg 30 Rewards = 0.021999999508261682\n",
      "#481 Avg 30 Rewards = 0.02349999947473407\n",
      "#487 Avg 30 Rewards = 0.023999999463558196\n",
      "#488 Avg 30 Rewards = 0.025499999430030583\n",
      "#489 Avg 30 Rewards = 0.025499999430030583\n",
      "#490 Avg 30 Rewards = 0.025499999430030583\n",
      "#491 Avg 30 Rewards = 0.025499999430030583\n",
      "#492 Avg 30 Rewards = 0.026499999407678842\n",
      "#493 Avg 30 Rewards = 0.02849999936297536\n",
      "#494 Avg 30 Rewards = 0.030499999318271874\n",
      "#495 Avg 30 Rewards = 0.03249999927356839\n",
      "#496 Avg 30 Rewards = 0.03399999924004078\n",
      "#497 Avg 30 Rewards = 0.03399999924004078\n",
      "#498 Avg 30 Rewards = 0.03399999924004078\n",
      "#499 Avg 30 Rewards = 0.03399999924004078\n",
      "#559 Avg 30 Rewards = 0.0009999999776482583\n",
      "#560 Avg 30 Rewards = 0.0029999999329447745\n",
      "#561 Avg 30 Rewards = 0.004999999888241291\n",
      "#597 Avg 30 Rewards = 0.0019999999552965165\n",
      "#598 Avg 30 Rewards = 0.003999999910593033\n",
      "#599 Avg 30 Rewards = 0.005999999865889549\n",
      "#600 Avg 30 Rewards = 0.007999999821186066\n",
      "#601 Avg 30 Rewards = 0.010999999754130841\n",
      "#602 Avg 30 Rewards = 0.014999999664723873\n",
      "#603 Avg 30 Rewards = 0.01699999962002039\n",
      "#604 Avg 30 Rewards = 0.019999999552965164\n",
      "#605 Avg 30 Rewards = 0.023999999463558196\n",
      "#606 Avg 30 Rewards = 0.025999999418854714\n",
      "#607 Avg 30 Rewards = 0.02799999937415123\n",
      "#608 Avg 30 Rewards = 0.029999999329447746\n",
      "#609 Avg 30 Rewards = 0.031999999284744264\n",
      "#610 Avg 30 Rewards = 0.03399999924004078\n",
      "#611 Avg 30 Rewards = 0.03599999919533729\n",
      "#612 Avg 30 Rewards = 0.03799999915063381\n",
      "#613 Avg 30 Rewards = 0.03999999910593033\n",
      "#614 Avg 30 Rewards = 0.041999999061226846\n",
      "#615 Avg 30 Rewards = 0.043999999016523364\n",
      "#616 Avg 30 Rewards = 0.045999998971819875\n",
      "#617 Avg 30 Rewards = 0.04799999892711639\n",
      "#618 Avg 30 Rewards = 0.04949999889358878\n",
      "#646 Avg 30 Rewards = 0.003999999910593033\n",
      "#647 Avg 30 Rewards = 0.003999999910593033\n",
      "#648 Avg 30 Rewards = 0.004499999899417162\n",
      "#649 Avg 30 Rewards = 0.0064999998547136785\n",
      "#650 Avg 30 Rewards = 0.008499999810010195\n",
      "#651 Avg 30 Rewards = 0.009999999776482582\n",
      "#720 Avg 30 Rewards = 0.0019999999552965165\n",
      "#721 Avg 30 Rewards = 0.0034999999217689036\n",
      "#728 Avg 30 Rewards = 0.004499999899417162\n",
      "#729 Avg 30 Rewards = 0.0064999998547136785\n",
      "#730 Avg 30 Rewards = 0.008499999810010195\n",
      "#731 Avg 30 Rewards = 0.010499999765306712\n",
      "#732 Avg 30 Rewards = 0.012499999720603228\n",
      "#733 Avg 30 Rewards = 0.014499999675899744\n",
      "#745 Avg 30 Rewards = 0.015999999642372132\n",
      "#746 Avg 30 Rewards = 0.017999999597668646\n",
      "#747 Avg 30 Rewards = 0.019999999552965164\n",
      "#748 Avg 30 Rewards = 0.020999999530613423\n",
      "#758 Avg 30 Rewards = 0.01699999962002039\n",
      "#759 Avg 30 Rewards = 0.01699999962002039\n",
      "#760 Avg 30 Rewards = 0.01699999962002039\n",
      "#761 Avg 30 Rewards = 0.01699999962002039\n",
      "#762 Avg 30 Rewards = 0.01649999963119626\n",
      "#770 Avg 30 Rewards = 0.014999999664723873\n",
      "#771 Avg 30 Rewards = 0.01699999962002039\n",
      "#772 Avg 30 Rewards = 0.018999999575316905\n",
      "#773 Avg 30 Rewards = 0.020999999530613423\n",
      "#774 Avg 30 Rewards = 0.022999999485909937\n",
      "#775 Avg 30 Rewards = 0.02349999947473407\n",
      "#776 Avg 30 Rewards = 0.02349999947473407\n",
      "#777 Avg 30 Rewards = 0.02349999947473407\n",
      "#778 Avg 30 Rewards = 0.024499999452382328\n",
      "#779 Avg 30 Rewards = 0.026499999407678842\n",
      "#780 Avg 30 Rewards = 0.02849999936297536\n",
      "#781 Avg 30 Rewards = 0.029999999329447746\n",
      "#783 Avg 30 Rewards = 0.030999999307096005\n",
      "#784 Avg 30 Rewards = 0.03299999926239252\n",
      "#785 Avg 30 Rewards = 0.03499999921768904\n",
      "#786 Avg 30 Rewards = 0.036999999172985555\n",
      "#787 Avg 30 Rewards = 0.03899999912828207\n",
      "#788 Avg 30 Rewards = 0.040499999094754456\n",
      "#789 Avg 30 Rewards = 0.040499999094754456\n",
      "#790 Avg 30 Rewards = 0.03899999912828207\n",
      "#796 Avg 30 Rewards = 0.036999999172985555\n",
      "#797 Avg 30 Rewards = 0.03899999912828207\n",
      "#798 Avg 30 Rewards = 0.040999999083578584\n",
      "#799 Avg 30 Rewards = 0.0429999990388751\n",
      "#800 Avg 30 Rewards = 0.04449999900534749\n",
      "#801 Avg 30 Rewards = 0.04449999900534749\n",
      "#802 Avg 30 Rewards = 0.04449999900534749\n",
      "#803 Avg 30 Rewards = 0.04449999900534749\n",
      "#804 Avg 30 Rewards = 0.04449999900534749\n",
      "#805 Avg 30 Rewards = 0.04449999900534749\n",
      "#806 Avg 30 Rewards = 0.04449999900534749\n",
      "#807 Avg 30 Rewards = 0.04449999900534749\n",
      "#808 Avg 30 Rewards = 0.04449999900534749\n",
      "#809 Avg 30 Rewards = 0.04449999900534749\n",
      "#810 Avg 30 Rewards = 0.04449999900534749\n",
      "#811 Avg 30 Rewards = 0.04499999899417162\n",
      "#812 Avg 30 Rewards = 0.04699999894946814\n",
      "#813 Avg 30 Rewards = 0.04799999892711639\n",
      "#814 Avg 30 Rewards = 0.04799999892711639\n",
      "#815 Avg 30 Rewards = 0.04799999892711639\n",
      "#816 Avg 30 Rewards = 0.04799999892711639\n",
      "#817 Avg 30 Rewards = 0.04799999892711639\n",
      "#818 Avg 30 Rewards = 0.04799999892711639\n",
      "#825 Avg 30 Rewards = 0.045999998971819875\n",
      "#826 Avg 30 Rewards = 0.04649999896064401\n",
      "#827 Avg 30 Rewards = 0.04649999896064401\n",
      "#828 Avg 30 Rewards = 0.04649999896064401\n",
      "#829 Avg 30 Rewards = 0.04649999896064401\n",
      "#830 Avg 30 Rewards = 0.04649999896064401\n",
      "#831 Avg 30 Rewards = 0.04649999896064401\n",
      "#832 Avg 30 Rewards = 0.04649999896064401\n",
      "#833 Avg 30 Rewards = 0.04549999898299575\n",
      "#891 Avg 30 Rewards = 0.0009999999776482583\n",
      "#892 Avg 30 Rewards = 0.0029999999329447745\n",
      "#893 Avg 30 Rewards = 0.004999999888241291\n",
      "#894 Avg 30 Rewards = 0.005999999865889549\n",
      "#895 Avg 30 Rewards = 0.007999999821186066\n",
      "#896 Avg 30 Rewards = 0.008999999798834323\n",
      "#915 Avg 30 Rewards = 0.009999999776482582\n",
      "#916 Avg 30 Rewards = 0.013999999687075614\n",
      "#917 Avg 30 Rewards = 0.017999999597668646\n",
      "#918 Avg 30 Rewards = 0.021999999508261682\n",
      "#919 Avg 30 Rewards = 0.024499999452382328\n",
      "#920 Avg 30 Rewards = 0.02799999937415123\n",
      "#921 Avg 30 Rewards = 0.028999999351799487\n",
      "#922 Avg 30 Rewards = 0.028999999351799487\n",
      "#923 Avg 30 Rewards = 0.02799999937415123\n",
      "#924 Avg 30 Rewards = 0.02849999936297536\n",
      "#925 Avg 30 Rewards = 0.02849999936297536\n",
      "#926 Avg 30 Rewards = 0.02949999934062362\n",
      "#927 Avg 30 Rewards = 0.029999999329447746\n",
      "#998 Avg 30 Rewards = 0.0019999999552965165\n",
      "#999 Avg 30 Rewards = 0.003999999910593033\n",
      "#1000 Avg 30 Rewards = 0.005999999865889549\n",
      "#  1001 #\n",
      "Total score (averaged over agents) this episode: 0.4759999893605709\n"
     ]
    }
   ],
   "source": [
    "# Some reminders about lambda functions\n",
    "# Thx2: https://realpython.com/python-lambda/\n",
    "# Thx2: https://thispointer.com/python-how-to-use-if-else-elif-in-lambda-functions/\n",
    "\n",
    "\n",
    "env_info = env.reset(train_mode=False)[brain_name]     # reset the environment    \n",
    "states = env_info.vector_observations                  # get the current state (for each agent)\n",
    "scores = np.zeros(num_agents)                          # initialize the score (for each agent)\n",
    "avg30sum = np.zeros(num_agents)\n",
    "\n",
    "scores30 = deque(scores, 30)\n",
    "epc = 0\n",
    "\n",
    "\n",
    "#import pdb; pdb.set_trace() # Debug! Debug! Debug! Debug! Debug! Debug! \n",
    "\n",
    "while True:\n",
    "    epc += 1\n",
    "    #print(f'\\r#{epc}', end = ' ')\n",
    "    print(f'\\r#{str(epc).rjust(6)}', end = ' ')\n",
    "    #actions = np.random.randn(num_agents, action_size) # select an action (for each agent)\n",
    "    actions = agent.a2c_net.select_action(states)\n",
    "    actions = np.clip(actions.detach().cpu().numpy(), -1, 1)                  # all actions between -1 and 1\n",
    "    env_info = env.step(actions)[brain_name]           # send all actions to tne environment\n",
    "    next_states = env_info.vector_observations         # get next state (for each agent)\n",
    "    rewards = env_info.rewards                         # get reward (for each agent)\n",
    "    dones = env_info.local_done                        # see if episode finished\n",
    "    rewards = env_info.rewards\n",
    "    nprewards = np.array(rewards)\n",
    "    scores += rewards                         # update the score (for each agent)\n",
    "    scores30.append(rewards)\n",
    "    if np.sum(nprewards) > 0:\n",
    "        for x in scores30:\n",
    "            avg30sum += x\n",
    "        print(f'\\r#{epc} Avg 30 Rewards = {np.mean(avg30sum)}')  \n",
    "        avg30sum = np.zeros(num_agents)\n",
    "        maskagent = nprewards > 0\n",
    "        agentbefore = False\n",
    "        #for (nagent, action) in enumerate(actions):\n",
    "        #    if maskagent[nagent]:\n",
    "        #        if agentbefore:\n",
    "        #            print('\\r#' + '&'.rjust(6), end = ' ')\n",
    "        #        print(' -> Agent {:0>2d} got reward {:+.5f} for action: {}'.format(nagent+1, rewards[nagent], action))\n",
    "        #        agentbefore = True\n",
    "        #        #pp.pprint(list(action))\n",
    "    states = next_states                               # roll over states to next time step\n",
    "    if np.any(dones):                                  # exit loop if episode finished\n",
    "        break\n",
    "print('#')\n",
    "print('Total score (averaged over agents) this episode: {}'.format(np.mean(scores)))"
   ]
  },
  {
   "cell_type": "code",
   "execution_count": 34,
   "metadata": {},
   "outputs": [],
   "source": [
    "env.close()"
   ]
  },
  {
   "cell_type": "code",
   "execution_count": null,
   "metadata": {},
   "outputs": [],
   "source": []
  }
 ],
 "metadata": {
  "kernelspec": {
   "display_name": "Python 3",
   "language": "python",
   "name": "python3"
  },
  "language_info": {
   "codemirror_mode": {
    "name": "ipython",
    "version": 3
   },
   "file_extension": ".py",
   "mimetype": "text/x-python",
   "name": "python",
   "nbconvert_exporter": "python",
   "pygments_lexer": "ipython3",
   "version": "3.6.10"
  }
 },
 "nbformat": 4,
 "nbformat_minor": 4
}
