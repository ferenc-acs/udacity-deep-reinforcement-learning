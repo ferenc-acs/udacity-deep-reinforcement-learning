{
 "cells": [
  {
   "cell_type": "markdown",
   "metadata": {},
   "source": [
    "# Continuous Control\n",
    "\n",
    "---\n",
    "\n",
    "In this notebook, you will learn how to use the Unity ML-Agents environment for the second project of the [Deep Reinforcement Learning Nanodegree](https://www.udacity.com/course/deep-reinforcement-learning-nanodegree--nd893) program.\n",
    "\n",
    "### 1. Start the Environment\n",
    "\n",
    "We begin by importing the necessary packages.  If the code cell below returns an error, please revisit the project instructions to double-check that you have installed [Unity ML-Agents](https://github.com/Unity-Technologies/ml-agents/blob/master/docs/Installation.md) and [NumPy](http://www.numpy.org/)."
   ]
  },
  {
   "cell_type": "code",
   "execution_count": 1,
   "metadata": {},
   "outputs": [
    {
     "name": "stdout",
     "output_type": "stream",
     "text": [
      "posix.uname_result(sysname='Linux', nodename='a3ea5676c491', release='4.15.0-1060-gcp', version='#64-Ubuntu SMP Thu Mar 26 03:21:15 UTC 2020', machine='x86_64')\n",
      "\u001b[31mtensorflow 1.7.1 has requirement numpy>=1.13.3, but you'll have numpy 1.12.1 which is incompatible.\u001b[0m\n",
      "\u001b[31mipython 6.5.0 has requirement prompt-toolkit<2.0.0,>=1.0.15, but you'll have prompt-toolkit 3.0.6 which is incompatible.\u001b[0m\n"
     ]
    }
   ],
   "source": [
    "import os\n",
    "\n",
    "print(os.uname())\n",
    "\n",
    "# In the cloud environment?\n",
    "if 'root' in os.environ['HOME']:\n",
    "    UENVPATH = '/data/'\n",
    "    !pip -q install /home/workspace/python\n",
    "\n",
    "# In the standalone environment?\n",
    "if 'ferenc' in os.environ['HOME']:\n",
    "    UENVPATH = '/home/ferenc/Python/rl/udadrl/data/'\n",
    "\n",
    "\n",
    "from unityagents import UnityEnvironment\n",
    "import numpy as np\n",
    "\n",
    "import pprint as pp"
   ]
  },
  {
   "cell_type": "markdown",
   "metadata": {},
   "source": [
    "Next, we will start the environment!  **_Before running the code cell below_**, change the `file_name` parameter to match the location of the Unity environment that you downloaded.\n",
    "\n",
    "- **Mac**: `\"path/to/Reacher.app\"`\n",
    "- **Windows** (x86): `\"path/to/Reacher_Windows_x86/Reacher.exe\"`\n",
    "- **Windows** (x86_64): `\"path/to/Reacher_Windows_x86_64/Reacher.exe\"`\n",
    "- **Linux** (x86): `\"path/to/Reacher_Linux/Reacher.x86\"`\n",
    "- **Linux** (x86_64): `\"path/to/Reacher_Linux/Reacher.x86_64\"`\n",
    "- **Linux** (x86, headless): `\"path/to/Reacher_Linux_NoVis/Reacher.x86\"`\n",
    "- **Linux** (x86_64, headless): `\"path/to/Reacher_Linux_NoVis/Reacher.x86_64\"`\n",
    "\n",
    "For instance, if you are using a Mac, then you downloaded `Reacher.app`.  If this file is in the same folder as the notebook, then the line below should appear as follows:\n",
    "```\n",
    "env = UnityEnvironment(file_name=\"Reacher.app\")\n",
    "```"
   ]
  },
  {
   "cell_type": "code",
   "execution_count": 2,
   "metadata": {},
   "outputs": [
    {
     "name": "stderr",
     "output_type": "stream",
     "text": [
      "INFO:unityagents:\n",
      "'Academy' started successfully!\n",
      "Unity Academy name: Academy\n",
      "        Number of Brains: 1\n",
      "        Number of External Brains : 1\n",
      "        Lesson number : 0\n",
      "        Reset Parameters :\n",
      "\t\tgoal_speed -> 1.0\n",
      "\t\tgoal_size -> 5.0\n",
      "Unity brain name: ReacherBrain\n",
      "        Number of Visual Observations (per agent): 0\n",
      "        Vector Observation space type: continuous\n",
      "        Vector Observation space size (per agent): 33\n",
      "        Number of stacked Vector Observation: 1\n",
      "        Vector Action space type: continuous\n",
      "        Vector Action space size (per agent): 4\n",
      "        Vector Action descriptions: , , , \n"
     ]
    }
   ],
   "source": [
    "# ONE Agent, Standalone\n",
    "#UENVCHOICE = 'Reacher_Linux/Reacher.x86_64'\n",
    "\n",
    "# TWENTY Agents, Standalone\n",
    "#UENVCHOICE = 'Reacher_Linux_20/Reacher.x86_64'\n",
    "\n",
    "# ONE Agent, Cloud, No-Visuals \n",
    "#UENVCHOICE = 'Reacher_One_Linux_NoVis/Reacher_One_Linux_NoVis.x86_64'\n",
    "\n",
    "# TWENTY Agents, Cloud, No-Visuals \n",
    "UENVCHOICE = 'Reacher_Linux_NoVis/Reacher.x86_64'\n",
    "\n",
    "env = UnityEnvironment( file_name=os.path.join( UENVPATH, UENVCHOICE ) )\n",
    "\n",
    "\n"
   ]
  },
  {
   "cell_type": "markdown",
   "metadata": {},
   "source": [
    "Environments contain **_brains_** which are responsible for deciding the actions of their associated agents. Here we check for the first brain available, and set it as the default brain we will be controlling from Python."
   ]
  },
  {
   "cell_type": "code",
   "execution_count": 3,
   "metadata": {},
   "outputs": [],
   "source": [
    "# get the default brain\n",
    "brain_name = env.brain_names[0]\n",
    "brain = env.brains[brain_name]"
   ]
  },
  {
   "cell_type": "markdown",
   "metadata": {},
   "source": [
    "### 2. Examine the State and Action Spaces\n",
    "\n",
    "In this environment, a double-jointed arm can move to target locations. A reward of `+0.1` is provided for each step that the agent's hand is in the goal location. Thus, the goal of your agent is to maintain its position at the target location for as many time steps as possible.\n",
    "\n",
    "The observation space consists of `33` variables corresponding to position, rotation, velocity, and angular velocities of the arm.  Each action is a vector with four numbers, corresponding to torque applicable to two joints.  Every entry in the action vector must be a number between `-1` and `1`.\n",
    "\n",
    "Run the code cell below to print some information about the environment."
   ]
  },
  {
   "cell_type": "code",
   "execution_count": 4,
   "metadata": {},
   "outputs": [
    {
     "name": "stdout",
     "output_type": "stream",
     "text": [
      "Number of agents: 20\n",
      "Size of each action: 4\n",
      "There are 20 agents. Each observes a state with length: 33\n",
      "The state for the first agent looks like: [  0.00000000e+00  -4.00000000e+00   0.00000000e+00   1.00000000e+00\n",
      "  -0.00000000e+00  -0.00000000e+00  -4.37113883e-08   0.00000000e+00\n",
      "   0.00000000e+00   0.00000000e+00   0.00000000e+00   0.00000000e+00\n",
      "   0.00000000e+00   0.00000000e+00  -1.00000000e+01   0.00000000e+00\n",
      "   1.00000000e+00  -0.00000000e+00  -0.00000000e+00  -4.37113883e-08\n",
      "   0.00000000e+00   0.00000000e+00   0.00000000e+00   0.00000000e+00\n",
      "   0.00000000e+00   0.00000000e+00   5.75471878e+00  -1.00000000e+00\n",
      "   5.55726624e+00   0.00000000e+00   1.00000000e+00   0.00000000e+00\n",
      "  -1.68164849e-01]\n"
     ]
    }
   ],
   "source": [
    "# reset the environment\n",
    "env_info = env.reset(train_mode=True)[brain_name]\n",
    "\n",
    "# number of agents\n",
    "num_agents = len(env_info.agents)\n",
    "print('Number of agents:', num_agents)\n",
    "\n",
    "# size of each action\n",
    "action_size = brain.vector_action_space_size\n",
    "print('Size of each action:', action_size)\n",
    "\n",
    "# examine the state space \n",
    "states = env_info.vector_observations\n",
    "state_size = states.shape[1]\n",
    "print('There are {} agents. Each observes a state with length: {}'.format(states.shape[0], state_size))\n",
    "print('The state for the first agent looks like:', states[0])"
   ]
  },
  {
   "cell_type": "markdown",
   "metadata": {},
   "source": [
    "### 3. Take Random Actions in the Environment\n",
    "\n",
    "In the next code cell, you will learn how to use the Python API to control the agent and receive feedback from the environment.\n",
    "\n",
    "Once this cell is executed, you will watch the agent's performance, if it selects an action at random with each time step.  A window should pop up that allows you to observe the agent, as it moves through the environment.  \n",
    "\n",
    "Of course, as part of the project, you'll have to change the code so that the agent is able to use its experience to gradually choose better actions when interacting with the environment!"
   ]
  },
  {
   "cell_type": "code",
   "execution_count": 5,
   "metadata": {},
   "outputs": [
    {
     "name": "stdout",
     "output_type": "stream",
     "text": [
      "We have 20 active agents\n",
      "#    45  -> Agent 19 got reward +0.02000 for action: [-1.         -0.00748949 -0.13453222 -1.        ]\n",
      "#    46  -> Agent 19 got reward +0.04000 for action: [-0.43451913 -0.4324922  -0.11478458  0.6218756 ]\n",
      "#    47  -> Agent 19 got reward +0.04000 for action: [-0.28546792  1.         -0.56482213  0.1873784 ]\n",
      "#    48  -> Agent 19 got reward +0.04000 for action: [ 0.13050514  0.72416018 -1.          0.89989516]\n",
      "#    49  -> Agent 19 got reward +0.04000 for action: [-0.81895277 -0.13475139 -0.55377179  1.        ]\n",
      "#    50  -> Agent 19 got reward +0.04000 for action: [ 0.01985727 -0.07429678  0.63297118 -1.        ]\n",
      "#    51  -> Agent 19 got reward +0.04000 for action: [ 0.95468509  0.2047245   0.59577091 -0.03118798]\n",
      "#    52  -> Agent 19 got reward +0.04000 for action: [ 0.44859582  0.4314643   0.72965097  0.8513715 ]\n",
      "#    53  -> Agent 19 got reward +0.04000 for action: [-0.32272597 -1.          0.72776005 -0.65854941]\n",
      "#    54  -> Agent 19 got reward +0.04000 for action: [-0.28669743 -0.16004753 -0.39019442  0.15140019]\n",
      "#    55  -> Agent 19 got reward +0.04000 for action: [-0.12311491 -0.55320878  0.44401059  1.        ]\n",
      "#    56  -> Agent 19 got reward +0.04000 for action: [ 0.58856087 -0.13936646  1.          0.68967007]\n",
      "#    57  -> Agent 19 got reward +0.04000 for action: [ 0.38063123 -0.44568206  1.          0.35565955]\n",
      "#    58  -> Agent 19 got reward +0.04000 for action: [-0.19302615 -0.89677093 -0.32357125  0.58466985]\n",
      "#    59  -> Agent 19 got reward +0.04000 for action: [-0.46521332 -0.36145644 -1.          1.        ]\n",
      "#    60  -> Agent 19 got reward +0.04000 for action: [-0.43093037  0.36220391 -0.56812616 -0.74301469]\n",
      "#    61  -> Agent 19 got reward +0.02000 for action: [ 0.27698899  0.13903243  0.75371864  0.70997867]\n",
      "#    92  -> Agent 01 got reward +0.04000 for action: [ 0.38142857  0.11521471  0.25842463  1.        ]\n",
      "#    93  -> Agent 01 got reward +0.04000 for action: [-0.10863507 -0.30846757  0.95712403  0.36102126]\n",
      "#    94  -> Agent 01 got reward +0.04000 for action: [ 0.50296189 -1.         -0.68211849 -1.        ]\n",
      "#    95  -> Agent 01 got reward +0.03000 for action: [-0.9633935  -1.          0.76846743 -0.32593551]\n",
      "#   105  -> Agent 09 got reward +0.01000 for action: [ 0.34330892 -0.30559756  0.17297567 -0.22771308]\n",
      "#   106  -> Agent 09 got reward +0.04000 for action: [ 0.81163679  0.5493625  -1.          1.        ]\n",
      "#   107  -> Agent 09 got reward +0.04000 for action: [ 0.35833806  1.          1.          0.42157765]\n",
      "#   108  -> Agent 09 got reward +0.04000 for action: [ 0.76266875 -1.          0.98798024 -0.08826419]\n",
      "#   109  -> Agent 09 got reward +0.04000 for action: [-0.11005862  0.19374229 -0.15122643 -1.        ]\n",
      "#   110  -> Agent 09 got reward +0.04000 for action: [ 1.          1.         -1.          0.38157986]\n",
      "#   111  -> Agent 09 got reward +0.04000 for action: [-0.85371176 -1.         -0.08300108 -0.58648299]\n",
      "#   272  -> Agent 10 got reward +0.04000 for action: [-0.04530331  0.72444404  1.         -0.21078504]\n",
      "#   273  -> Agent 10 got reward +0.04000 for action: [-1.          0.46583828 -0.89077522 -0.91102962]\n",
      "#   274  -> Agent 10 got reward +0.04000 for action: [-1.         -1.          1.         -0.82640122]\n",
      "#   275  -> Agent 10 got reward +0.04000 for action: [-0.86697992  0.55747607  0.92879095 -0.82050816]\n",
      "#   276  -> Agent 10 got reward +0.04000 for action: [ 0.11730245 -1.          0.4546154  -0.19597274]\n",
      "#   277  -> Agent 10 got reward +0.04000 for action: [ 0.6755257   0.75287679 -0.96890713  0.2031477 ]\n",
      "#   278  -> Agent 10 got reward +0.04000 for action: [-0.94832328 -0.44329593  0.37376131 -0.02651891]\n",
      "#   279  -> Agent 10 got reward +0.01000 for action: [ 0.04252891  1.         -0.76337453 -1.        ]\n",
      "#   338  -> Agent 14 got reward +0.01000 for action: [-0.60321793 -1.          0.96249894  1.        ]\n",
      "#   339  -> Agent 14 got reward +0.04000 for action: [ 0.74147162  0.8216766  -1.         -1.        ]\n",
      "#   364  -> Agent 09 got reward +0.04000 for action: [ 0.3886898  -1.         -0.33173416  0.13763865]\n",
      "#   365  -> Agent 09 got reward +0.04000 for action: [ 0.27877432  0.11139077  1.          1.        ]\n",
      "#   366  -> Agent 09 got reward +0.04000 for action: [-0.363577    0.74064882 -1.         -0.07561981]\n",
      "#   367  -> Agent 09 got reward +0.04000 for action: [-0.49844956  0.11051072  0.53442086 -0.83279205]\n",
      "#   368  -> Agent 09 got reward +0.04000 for action: [ 1.          0.10790865  0.53281864  0.71524429]\n",
      "#   486  -> Agent 06 got reward +0.04000 for action: [-0.68358982  0.39259894 -0.41266017 -0.90564362]\n",
      "#   487  -> Agent 06 got reward +0.04000 for action: [ 1.         -0.72987609  0.97572113 -1.        ]\n",
      "#   488  -> Agent 06 got reward +0.04000 for action: [ 1.          0.57984337 -0.0484453   0.44799577]\n",
      "#   489  -> Agent 06 got reward +0.04000 for action: [ 1.          0.38995209 -0.11685508 -1.        ]\n",
      "#   490  -> Agent 06 got reward +0.04000 for action: [-1.         -0.6244295  -0.41682611 -0.05394209]\n",
      "#   491  -> Agent 06 got reward +0.04000 for action: [ 0.93827448 -0.08589109  0.71163891  0.48535627]\n",
      "#   492  -> Agent 06 got reward +0.04000 for action: [-0.05288795 -1.         -0.77998786 -0.38254843]\n",
      "#   493  -> Agent 06 got reward +0.04000 for action: [ 1.          0.55376147 -0.77951891 -0.07632951]\n",
      "#   494  -> Agent 06 got reward +0.04000 for action: [ 0.34640707  1.         -1.         -0.56602755]\n",
      "#   495  -> Agent 06 got reward +0.04000 for action: [ 0.40153043  0.90081225  0.64344288 -0.88773593]\n",
      "#   496  -> Agent 06 got reward +0.04000 for action: [-1.         -0.33275244  0.60943199  0.03807969]\n",
      "#   497  -> Agent 06 got reward +0.04000 for action: [-1.         -0.60558399 -0.23470153  0.65034624]\n",
      "#   498  -> Agent 06 got reward +0.04000 for action: [ 0.35035206 -0.57901952 -0.85429385 -1.        ]\n",
      "#   499  -> Agent 06 got reward +0.04000 for action: [-0.87003082 -1.          0.3643999   0.89830707]\n",
      "#   500  -> Agent 06 got reward +0.04000 for action: [-1.         -0.38832505  0.60165124 -0.5523184 ]\n",
      "#   501  -> Agent 06 got reward +0.04000 for action: [-0.0298533   0.18313326 -0.69260459 -0.57670088]\n",
      "#   502  -> Agent 06 got reward +0.04000 for action: [-1.          0.62609371 -1.         -1.        ]\n",
      "#   503  -> Agent 06 got reward +0.04000 for action: [ 1.  1.  1. -1.]\n",
      "#   504  -> Agent 06 got reward +0.04000 for action: [-1.         -0.95162197 -1.          0.67887261]\n",
      "#   505  -> Agent 06 got reward +0.04000 for action: [ 1.         -0.38712634 -0.88834751  0.60145261]\n",
      "#   506  -> Agent 06 got reward +0.01000 for action: [ 0.41244364 -0.53009155 -0.36893745  1.        ]\n",
      "#   609  -> Agent 18 got reward +0.04000 for action: [ 0.67514818  0.14341019  0.46147017  0.41903501]\n",
      "#   610  -> Agent 18 got reward +0.04000 for action: [-0.3716186  -0.80517388  0.63069481 -1.        ]\n",
      "#   611  -> Agent 18 got reward +0.01000 for action: [-1.          0.04883125  0.00132171  0.18751547]\n",
      "#   757  -> Agent 02 got reward +0.04000 for action: [ 0.59211256  0.46354374  0.75083635 -0.58270543]\n",
      "#   758  -> Agent 02 got reward +0.04000 for action: [-0.24160995  0.63746019  0.29746797 -0.49872592]\n",
      "#   759  -> Agent 02 got reward +0.04000 for action: [-1.          0.10227578  0.09793121 -1.        ]\n",
      "#   760  -> Agent 02 got reward +0.04000 for action: [-0.97941997 -0.72007192 -0.56512598  0.11174882]\n",
      "#   761  -> Agent 02 got reward +0.04000 for action: [-0.13213236  1.         -0.8349943   0.79371127]\n",
      "#   762  -> Agent 02 got reward +0.04000 for action: [ 0.65387404 -0.65063624 -0.42232649  0.11740594]\n",
      "#     &  -> Agent 11 got reward +0.04000 for action: [-0.99537937 -0.87800566 -0.85071245 -0.57899668]\n",
      "#   763  -> Agent 02 got reward +0.04000 for action: [-0.53777414  0.58758082  1.         -0.37000821]\n",
      "#     &  -> Agent 11 got reward +0.04000 for action: [-0.48399611  0.66695001 -0.66415459 -1.        ]\n",
      "#   764  -> Agent 02 got reward +0.04000 for action: [ 0.80902114 -0.50216319 -0.66117259  1.        ]\n",
      "#     &  -> Agent 11 got reward +0.04000 for action: [ 0.68394314 -1.         -0.01120521  0.34420671]\n",
      "#   765  -> Agent 02 got reward +0.02000 for action: [-0.25537106 -1.          1.         -0.43901436]\n",
      "#     &  -> Agent 11 got reward +0.04000 for action: [-0.76393224 -1.         -0.8255308  -1.        ]\n"
     ]
    },
    {
     "name": "stdout",
     "output_type": "stream",
     "text": [
      "#   766  -> Agent 11 got reward +0.04000 for action: [ 1.         -0.61227548  0.20178719  1.        ]\n",
      "#   767  -> Agent 11 got reward +0.04000 for action: [ 0.69651731  0.69845936  1.          1.        ]\n",
      "#   768  -> Agent 11 got reward +0.01000 for action: [-0.49123117  1.          1.         -1.        ]\n",
      "#   979  -> Agent 05 got reward +0.02000 for action: [-0.81950982  0.16262455  0.26124657  0.20928551]\n",
      "#   980  -> Agent 05 got reward +0.04000 for action: [ 1.          0.51489145  0.51253524 -0.14382792]\n",
      "#   981  -> Agent 05 got reward +0.04000 for action: [ 1.         -1.          0.55545891 -0.63457396]\n",
      "#   982  -> Agent 05 got reward +0.04000 for action: [-0.35740917 -0.53713023 -1.         -1.        ]\n",
      "#   983  -> Agent 05 got reward +0.04000 for action: [-1.          0.41405792 -0.29801155  1.        ]\n",
      "#   984  -> Agent 05 got reward +0.04000 for action: [ 0.44618753 -0.13130722  1.         -1.        ]\n",
      "#   985  -> Agent 05 got reward +0.04000 for action: [-0.04466608  0.05176586  0.12595762  0.30121206]\n",
      "#   986  -> Agent 05 got reward +0.03000 for action: [-0.30758078  0.8303753   0.62186144 -0.33670849]\n",
      "#  1001 #\n",
      "Total score (averaged over agents) this episode: 0.16799999624490738\n"
     ]
    }
   ],
   "source": [
    "# Some reminders about lambda functions\n",
    "# Thx2: https://realpython.com/python-lambda/\n",
    "# Thx2: https://thispointer.com/python-how-to-use-if-else-elif-in-lambda-functions/\n",
    "\n",
    "\n",
    "env_info = env.reset(train_mode=False)[brain_name]     # reset the environment    \n",
    "states = env_info.vector_observations                  # get the current state (for each agent)\n",
    "scores = np.zeros(num_agents)                          # initialize the score (for each agent)\n",
    "\n",
    "epc = 0\n",
    "print(f'We have {num_agents} active agent' + ( lambda x: 's' if x>1 else '' )(num_agents) )\n",
    "\n",
    "while True:\n",
    "    epc += 1\n",
    "    #print(f'\\r#{epc}', end = ' ')\n",
    "    print(f'\\r#{str(epc).rjust(6)}', end = ' ')\n",
    "    actions = np.random.randn(num_agents, action_size) # select an action (for each agent)\n",
    "    actions = np.clip(actions, -1, 1)                  # all actions between -1 and 1\n",
    "    env_info = env.step(actions)[brain_name]           # send all actions to tne environment\n",
    "    next_states = env_info.vector_observations         # get next state (for each agent)\n",
    "    rewards = env_info.rewards                         # get reward (for each agent)\n",
    "    dones = env_info.local_done                        # see if episode finished\n",
    "    rewards = env_info.rewards\n",
    "    nprewards = np.array(rewards)\n",
    "    scores += rewards                         # update the score (for each agent)\n",
    "    if np.sum(nprewards) > 0:\n",
    "        #print(f'\\r#{epc} Rewards = {rewards}')\n",
    "        maskagent = nprewards > 0\n",
    "        agentbefore = False\n",
    "        for (nagent, action) in enumerate(actions):\n",
    "            if maskagent[nagent]:\n",
    "                if agentbefore:\n",
    "                    print('\\r#' + '&'.rjust(6), end = ' ')\n",
    "                print(' -> Agent {:0>2d} got reward {:+.5f} for action: {}'.format(nagent+1, rewards[nagent], action))\n",
    "                agentbefore = True\n",
    "                #pp.pprint(list(action))\n",
    "    states = next_states                               # roll over states to next time step\n",
    "    if np.any(dones):                                  # exit loop if episode finished\n",
    "        break\n",
    "print('#')\n",
    "print('Total score (averaged over agents) this episode: {}'.format(np.mean(scores)))"
   ]
  },
  {
   "cell_type": "markdown",
   "metadata": {},
   "source": [
    "### When finished, you can close the environment."
   ]
  },
  {
   "cell_type": "code",
   "execution_count": 6,
   "metadata": {},
   "outputs": [],
   "source": [
    "env.close()"
   ]
  },
  {
   "cell_type": "markdown",
   "metadata": {},
   "source": [
    "### 4. It's Your Turn!\n",
    "\n",
    "Now it's your turn to train your own agent to solve the environment!  When training the environment, set `train_mode=True`, so that the line for resetting the environment looks like the following:\n",
    "```python\n",
    "env_info = env.reset(train_mode=True)[brain_name]\n",
    "```"
   ]
  },
  {
   "cell_type": "markdown",
   "metadata": {},
   "source": [
    "#### Tracing the error in the 'mya2cnet' module code refactoring below"
   ]
  },
  {
   "cell_type": "code",
   "execution_count": 7,
   "metadata": {},
   "outputs": [],
   "source": [
    "# TEST! TEST! TEST! TEST! TEST! TEST! TEST! TEST! TEST! TEST! TEST! TEST! TEST! TEST! \n",
    "#import pdb; pdb.set_trace()\n",
    "\n",
    "import torch\n",
    "import torch.nn as nn\n",
    "import torch.nn.functional as F\n",
    "\n",
    "torch.manual_seed(20200808) # Debug! Debug! Debug! Debug! Debug! Debug! Debug! Debug!\n",
    "\n",
    "# Format: IN_Num [Layer 1] (OUT_Num = IN_Num) [Layer 2] OUT_Num = ...\n",
    "HIDDEN_DIMS_DEFAULT = {\n",
    "    'shared' : (512, 512, 256, 256),\n",
    "    'actor' : (256, 128, 128, 64),\n",
    "    'critic' : (256, 128, 128, 64)\n",
    "}\n",
    "hidden_dims = HIDDEN_DIMS_DEFAULT\n",
    "\n",
    "hlayers = dict()\n",
    "\n",
    "hlayers['shared'] = nn.ModuleList()\n",
    "hlayers['actor'] = nn.ModuleList()\n",
    "hlayers['critic'] = nn.ModuleList()\n",
    "\n",
    "\n"
   ]
  },
  {
   "cell_type": "code",
   "execution_count": 8,
   "metadata": {},
   "outputs": [],
   "source": [
    "# Input layer\n",
    "input_layer = nn.Linear( 33, hidden_dims['shared'][0] )"
   ]
  },
  {
   "cell_type": "code",
   "execution_count": 9,
   "metadata": {},
   "outputs": [
    {
     "data": {
      "text/plain": [
       "Linear(in_features=33, out_features=512, bias=True)"
      ]
     },
     "execution_count": 9,
     "metadata": {},
     "output_type": "execute_result"
    }
   ],
   "source": [
    "input_layer"
   ]
  },
  {
   "cell_type": "code",
   "execution_count": 10,
   "metadata": {},
   "outputs": [],
   "source": [
    "# Hidden layers shared\n",
    "for i in range( len(hidden_dims['shared']) -1 ):\n",
    "    hlayers['shared'].append( nn.Linear( hidden_dims['shared'][i], hidden_dims['shared'][i+1] ) )"
   ]
  },
  {
   "cell_type": "code",
   "execution_count": 11,
   "metadata": {},
   "outputs": [
    {
     "data": {
      "text/plain": [
       "ModuleList(\n",
       "  (0): Linear(in_features=512, out_features=512, bias=True)\n",
       "  (1): Linear(in_features=512, out_features=256, bias=True)\n",
       "  (2): Linear(in_features=256, out_features=256, bias=True)\n",
       ")"
      ]
     },
     "execution_count": 11,
     "metadata": {},
     "output_type": "execute_result"
    }
   ],
   "source": [
    "hlayers['shared']"
   ]
  },
  {
   "cell_type": "code",
   "execution_count": 12,
   "metadata": {},
   "outputs": [],
   "source": [
    "# Actor layers\n",
    "for i in range( len(hidden_dims['actor']) ):\n",
    "    #import pdb; pdb.set_trace() # Debug! Debug! Debug! Debug! Debug! Debug! Debug! Debug!\n",
    "    if i == 0:\n",
    "        hlayers['actor'].append( nn.Linear( hidden_dims['shared'][-1], hidden_dims['actor'][i] ) )\n",
    "    else:\n",
    "        # hlayers['actor'].append( nn.Linear( hidden_dims['actor'][i], hidden_dims['actor'][i+1] ERROR !!!\n",
    "        hlayers['actor'].append( nn.Linear( hidden_dims['actor'][i-1], hidden_dims['actor'][i] ) )\n",
    "    #print( i, hlayers['actor'] ) # Debug! Debug! Debug! Debug! Debug! Debug! Debug! Debug!\n",
    "        \n",
    "actor_out_layer = nn.Linear( hidden_dims['actor'][-1], 4 )"
   ]
  },
  {
   "cell_type": "code",
   "execution_count": 13,
   "metadata": {},
   "outputs": [
    {
     "data": {
      "text/plain": [
       "ModuleList(\n",
       "  (0): Linear(in_features=256, out_features=256, bias=True)\n",
       "  (1): Linear(in_features=256, out_features=128, bias=True)\n",
       "  (2): Linear(in_features=128, out_features=128, bias=True)\n",
       "  (3): Linear(in_features=128, out_features=64, bias=True)\n",
       ")"
      ]
     },
     "execution_count": 13,
     "metadata": {},
     "output_type": "execute_result"
    }
   ],
   "source": [
    "hlayers['actor']"
   ]
  },
  {
   "cell_type": "code",
   "execution_count": 14,
   "metadata": {},
   "outputs": [
    {
     "data": {
      "text/plain": [
       "Linear(in_features=64, out_features=4, bias=True)"
      ]
     },
     "execution_count": 14,
     "metadata": {},
     "output_type": "execute_result"
    }
   ],
   "source": [
    "actor_out_layer"
   ]
  },
  {
   "cell_type": "code",
   "execution_count": 15,
   "metadata": {},
   "outputs": [],
   "source": [
    "#Critic layers\n",
    "for i in range( len(hidden_dims['critic']) ):\n",
    "    if i == 0:\n",
    "        hlayers['critic'].append( nn.Linear( hidden_dims['shared'][-1], hidden_dims['critic'][i] ) )\n",
    "    else:\n",
    "        hlayers['critic'].append( nn.Linear( hidden_dims['critic'][i-1], hidden_dims['critic'][i] ) )\n",
    "critic_out_layer = nn.Linear( hidden_dims['critic'][-1], 1 )"
   ]
  },
  {
   "cell_type": "code",
   "execution_count": 16,
   "metadata": {},
   "outputs": [
    {
     "data": {
      "text/plain": [
       "ModuleList(\n",
       "  (0): Linear(in_features=256, out_features=256, bias=True)\n",
       "  (1): Linear(in_features=256, out_features=128, bias=True)\n",
       "  (2): Linear(in_features=128, out_features=128, bias=True)\n",
       "  (3): Linear(in_features=128, out_features=64, bias=True)\n",
       ")"
      ]
     },
     "execution_count": 16,
     "metadata": {},
     "output_type": "execute_result"
    }
   ],
   "source": [
    "hlayers['critic']"
   ]
  },
  {
   "cell_type": "code",
   "execution_count": 17,
   "metadata": {},
   "outputs": [
    {
     "data": {
      "text/plain": [
       "Linear(in_features=64, out_features=1, bias=True)"
      ]
     },
     "execution_count": 17,
     "metadata": {},
     "output_type": "execute_result"
    }
   ],
   "source": [
    "critic_out_layer"
   ]
  },
  {
   "cell_type": "code",
   "execution_count": 18,
   "metadata": {},
   "outputs": [],
   "source": [
    "# Prevents non Pytorch Tensor Object entering the processing stream\n",
    "def torch_format(state):\n",
    "    x = state\n",
    "    if not isinstance(x, torch.Tensor):\n",
    "        x = torch.tensor(x, dtype=torch.float32)\n",
    "        if len(x.size()) == 1:\n",
    "            x = x.unsqueeze(0)\n",
    "    return x"
   ]
  },
  {
   "cell_type": "code",
   "execution_count": 19,
   "metadata": {},
   "outputs": [],
   "source": [
    "def forward(state):\n",
    "    check_tensor = lambda x: isinstance(x, torch.Tensor)\n",
    "    x_act = True \n",
    "    x_crit = True\n",
    "\n",
    "    x = torch_format(state)\n",
    "    x = F.relu(  input_layer(x) )\n",
    "    for label in ['shared', 'actor', 'critic']:\n",
    "        for hlayer in  hlayers[label]:\n",
    "            if label == 'shared':\n",
    "                x = F.relu(  hlayer(x) )\n",
    "            if label == 'actor':\n",
    "                x_act = F.relu(  hlayer(x_act) )\n",
    "            if label == 'critic':\n",
    "                x_crit = F.relu(  hlayer(x_crit) )\n",
    "\n",
    "        # Thx2: https://discuss.pytorch.org/t/copy-deepcopy-vs-clone/55022\n",
    "        if ( type(x_act) == bool ):\n",
    "            x_act = x.clone()  # Create an Inplace copy...\n",
    "        if ( type(x_crit) == bool ):\n",
    "            x_crit = x.clone() # ...after processing shared layers\n",
    "\n",
    "    return  actor_out_layer(x_act),  critic_out_layer(x_crit) "
   ]
  },
  {
   "cell_type": "markdown",
   "metadata": {},
   "source": [
    "#### Test if states are propagated through the debug network\n",
    "And make a list of outputs of two A2C instances"
   ]
  },
  {
   "cell_type": "code",
   "execution_count": 20,
   "metadata": {},
   "outputs": [],
   "source": [
    "al = []\n",
    "bl = []\n",
    "\n",
    "for (dc, st) in enumerate(states):\n",
    "    a,b = forward(st)\n",
    "    al.append(a)\n",
    "    bl.append(b)\n",
    "#    print(f'({dc+1}) -> Actor: {a}')\n",
    "#    print(f'({dc+1}) -> Critic: {b}')\n",
    "    "
   ]
  },
  {
   "cell_type": "markdown",
   "metadata": {},
   "source": [
    "#### Test if states are propagated through the imported network"
   ]
  },
  {
   "cell_type": "code",
   "execution_count": 21,
   "metadata": {},
   "outputs": [],
   "source": [
    "#from mya2cnet import A2CNetwork\n",
    "import mya2cnet\n",
    "\n",
    "# Thx2: https://emacs.stackexchange.com/a/13483\n",
    "import imp\n",
    "imp.reload(mya2cnet)\n",
    "\n",
    "tstnet1 = mya2cnet.A2CNetwork(33, 4)\n",
    "tstnet2 = mya2cnet.A2CNetwork(33, 4)"
   ]
  },
  {
   "cell_type": "code",
   "execution_count": 22,
   "metadata": {},
   "outputs": [
    {
     "name": "stdout",
     "output_type": "stream",
     "text": [
      "(1) -> Dist. Actor 1-2: 0.0                        #                         Dist. Actor 1-Notebook 0.0\n",
      "(1) -> Dist. Critic 1-2: 0.0                       #                        Dist. Critic 1-Notebook 0.0\n",
      "(2) -> Dist. Actor 1-2: 0.0                        #                         Dist. Actor 1-Notebook 0.0\n",
      "(2) -> Dist. Critic 1-2: 0.0                       #                        Dist. Critic 1-Notebook 0.0\n",
      "(3) -> Dist. Actor 1-2: 0.0                        #                         Dist. Actor 1-Notebook 0.0\n",
      "(3) -> Dist. Critic 1-2: 0.0                       #                        Dist. Critic 1-Notebook 0.0\n",
      "(4) -> Dist. Actor 1-2: 0.0                        #                         Dist. Actor 1-Notebook 0.0\n",
      "(4) -> Dist. Critic 1-2: 0.0                       #                        Dist. Critic 1-Notebook 0.0\n",
      "(5) -> Dist. Actor 1-2: 0.0                        #                         Dist. Actor 1-Notebook 0.0\n",
      "(5) -> Dist. Critic 1-2: 0.0                       #                        Dist. Critic 1-Notebook 0.0\n",
      "(6) -> Dist. Actor 1-2: 0.0                        #                         Dist. Actor 1-Notebook 0.0\n",
      "(6) -> Dist. Critic 1-2: 0.0                       #                        Dist. Critic 1-Notebook 0.0\n",
      "(7) -> Dist. Actor 1-2: 0.0                        #                         Dist. Actor 1-Notebook 0.0\n",
      "(7) -> Dist. Critic 1-2: 0.0                       #                        Dist. Critic 1-Notebook 0.0\n",
      "(8) -> Dist. Actor 1-2: 0.0                        #                         Dist. Actor 1-Notebook 0.0\n",
      "(8) -> Dist. Critic 1-2: 0.0                       #                        Dist. Critic 1-Notebook 0.0\n",
      "(9) -> Dist. Actor 1-2: 0.0                        #                         Dist. Actor 1-Notebook 0.0\n",
      "(9) -> Dist. Critic 1-2: 0.0                       #                        Dist. Critic 1-Notebook 0.0\n",
      "(10) -> Dist. Actor 1-2: 0.0                       #                         Dist. Actor 1-Notebook 0.0\n",
      "(10) -> Dist. Critic 1-2: 0.0                      #                        Dist. Critic 1-Notebook 0.0\n",
      "(11) -> Dist. Actor 1-2: 0.0                       #                         Dist. Actor 1-Notebook 0.0\n",
      "(11) -> Dist. Critic 1-2: 0.0                      #                        Dist. Critic 1-Notebook 0.0\n",
      "(12) -> Dist. Actor 1-2: 0.0                       #                         Dist. Actor 1-Notebook 0.0\n",
      "(12) -> Dist. Critic 1-2: 0.0                      #                        Dist. Critic 1-Notebook 0.0\n",
      "(13) -> Dist. Actor 1-2: 0.0                       #                         Dist. Actor 1-Notebook 0.0\n",
      "(13) -> Dist. Critic 1-2: 0.0                      #                        Dist. Critic 1-Notebook 0.0\n",
      "(14) -> Dist. Actor 1-2: 0.0                       #                         Dist. Actor 1-Notebook 0.0\n",
      "(14) -> Dist. Critic 1-2: 0.0                      #                        Dist. Critic 1-Notebook 0.0\n",
      "(15) -> Dist. Actor 1-2: 0.0                       #                         Dist. Actor 1-Notebook 0.0\n",
      "(15) -> Dist. Critic 1-2: 0.0                      #                        Dist. Critic 1-Notebook 0.0\n",
      "(16) -> Dist. Actor 1-2: 0.0                       #                         Dist. Actor 1-Notebook 0.0\n",
      "(16) -> Dist. Critic 1-2: 0.0                      #                        Dist. Critic 1-Notebook 0.0\n",
      "(17) -> Dist. Actor 1-2: 0.0                       #                         Dist. Actor 1-Notebook 0.0\n",
      "(17) -> Dist. Critic 1-2: 0.0                      #                        Dist. Critic 1-Notebook 0.0\n",
      "(18) -> Dist. Actor 1-2: 0.0                       #                         Dist. Actor 1-Notebook 0.0\n",
      "(18) -> Dist. Critic 1-2: 0.0                      #                        Dist. Critic 1-Notebook 0.0\n",
      "(19) -> Dist. Actor 1-2: 0.0                       #                         Dist. Actor 1-Notebook 0.0\n",
      "(19) -> Dist. Critic 1-2: 0.0                      #                        Dist. Critic 1-Notebook 0.0\n",
      "(20) -> Dist. Actor 1-2: 0.0                       #                         Dist. Actor 1-Notebook 0.0\n",
      "(20) -> Dist. Critic 1-2: 0.0                      #                        Dist. Critic 1-Notebook 0.0\n"
     ]
    }
   ],
   "source": [
    "for (dc, st) in enumerate(states):\n",
    "    #import pdb; pdb.set_trace() # Debug! Debug! Debug! Debug! Debug! Debug! Debug! Debug!\n",
    "    a1,b1 = tstnet1.forward(st)\n",
    "    a2,b2 = tstnet2.forward(st)\n",
    "    print(f'({dc+1}) -> Dist. Actor 1-2: {torch.dist(a1, a2)}'.ljust(50) + ' # ' +\\\n",
    "         f'Dist. Actor 1-Notebook {torch.dist(a1, al[dc])}'.rjust(50))\n",
    "    print(f'({dc+1}) -> Dist. Critic 1-2: {torch.dist(b1, b2)}'.ljust(50) + ' # ' +\\\n",
    "         f'Dist. Critic 1-Notebook {torch.dist(b1, bl[dc])}'.rjust(50))"
   ]
  },
  {
   "cell_type": "code",
   "execution_count": 23,
   "metadata": {},
   "outputs": [
    {
     "name": "stdout",
     "output_type": "stream",
     "text": [
      "(1) -> (1, array([False], dtype=bool), tensor([[-1.3607]]), tensor([[ 1.3855]]), tensor(1.00000e-02 *\n",
      "       [[ 4.7572]]))\n",
      "(2) -> (1, array([False], dtype=bool), tensor([[-1.3607]]), tensor([[ 1.3856]]), tensor(1.00000e-02 *\n",
      "       [[ 4.8767]]))\n",
      "(3) -> (2, array([ True], dtype=bool), tensor([[-1.4547]]), tensor([[ 1.3856]]), tensor(1.00000e-02 *\n",
      "       [[ 4.8752]]))\n",
      "(4) -> (0, array([ True], dtype=bool), tensor([[-1.3637]]), tensor([[ 1.3856]]), tensor(1.00000e-02 *\n",
      "       [[ 4.8696]]))\n",
      "(5) -> (3, array([ True], dtype=bool), tensor([[-1.3693]]), tensor([[ 1.3855]]), tensor(1.00000e-02 *\n",
      "       [[ 4.8610]]))\n",
      "(6) -> (1, array([False], dtype=bool), tensor([[-1.3609]]), tensor([[ 1.3855]]), tensor(1.00000e-02 *\n",
      "       [[ 4.7746]]))\n",
      "(7) -> (3, array([ True], dtype=bool), tensor([[-1.3684]]), tensor([[ 1.3855]]), tensor(1.00000e-02 *\n",
      "       [[ 4.8414]]))\n",
      "(8) -> (3, array([ True], dtype=bool), tensor([[-1.3694]]), tensor([[ 1.3855]]), tensor(1.00000e-02 *\n",
      "       [[ 4.8706]]))\n",
      "(9) -> (1, array([False], dtype=bool), tensor([[-1.3610]]), tensor([[ 1.3855]]), tensor(1.00000e-02 *\n",
      "       [[ 4.8107]]))\n",
      "(10) -> (3, array([ True], dtype=bool), tensor([[-1.3687]]), tensor([[ 1.3855]]), tensor(1.00000e-02 *\n",
      "       [[ 4.8393]]))\n",
      "(11) -> (3, array([ True], dtype=bool), tensor([[-1.3695]]), tensor([[ 1.3856]]), tensor(1.00000e-02 *\n",
      "       [[ 4.8479]]))\n",
      "(12) -> (0, array([ True], dtype=bool), tensor([[-1.3638]]), tensor([[ 1.3855]]), tensor(1.00000e-02 *\n",
      "       [[ 4.8147]]))\n",
      "(13) -> (1, array([False], dtype=bool), tensor([[-1.3605]]), tensor([[ 1.3855]]), tensor(1.00000e-02 *\n",
      "       [[ 4.8553]]))\n",
      "(14) -> (3, array([ True], dtype=bool), tensor([[-1.3690]]), tensor([[ 1.3855]]), tensor(1.00000e-02 *\n",
      "       [[ 4.8110]]))\n",
      "(15) -> (0, array([ True], dtype=bool), tensor([[-1.3637]]), tensor([[ 1.3855]]), tensor(1.00000e-02 *\n",
      "       [[ 4.8488]]))\n",
      "(16) -> (2, array([ True], dtype=bool), tensor([[-1.4545]]), tensor([[ 1.3856]]), tensor(1.00000e-02 *\n",
      "       [[ 4.8638]]))\n",
      "(17) -> (3, array([ True], dtype=bool), tensor([[-1.3694]]), tensor([[ 1.3855]]), tensor(1.00000e-02 *\n",
      "       [[ 4.8612]]))\n",
      "(18) -> (0, array([ True], dtype=bool), tensor([[-1.3638]]), tensor([[ 1.3855]]), tensor(1.00000e-02 *\n",
      "       [[ 4.8194]]))\n",
      "(19) -> (1, array([False], dtype=bool), tensor([[-1.3607]]), tensor([[ 1.3856]]), tensor(1.00000e-02 *\n",
      "       [[ 4.8508]]))\n",
      "(20) -> (3, array([ True], dtype=bool), tensor([[-1.3681]]), tensor([[ 1.3855]]), tensor(1.00000e-02 *\n",
      "       [[ 4.7676]]))\n"
     ]
    }
   ],
   "source": [
    "for (dc, st) in enumerate(states):\n",
    "    print(f'({dc+1}) -> {tstnet1.fullpass(st)}')"
   ]
  },
  {
   "cell_type": "code",
   "execution_count": 24,
   "metadata": {},
   "outputs": [
    {
     "name": "stdout",
     "output_type": "stream",
     "text": [
      "(1)-> 0; (2)-> 0; (3)-> 3; (4)-> 2; (5)-> 3; (6)-> 2; (7)-> 2; (8)-> 0; (9)-> 0; (10)-> 1; (11)-> 0; (12)-> 3; (13)-> 2; (14)-> 0; (15)-> 3; (16)-> 0; (17)-> 0; (18)-> 3; (19)-> 3; (20)-> 0; "
     ]
    }
   ],
   "source": [
    "for (dc, st) in enumerate(states):\n",
    "    print(f'({dc+1})-> {tstnet1.select_action(st)};', end=' ')"
   ]
  },
  {
   "cell_type": "code",
   "execution_count": null,
   "metadata": {},
   "outputs": [],
   "source": []
  }
 ],
 "metadata": {
  "kernelspec": {
   "display_name": "Python 3",
   "language": "python",
   "name": "python3"
  },
  "language_info": {
   "codemirror_mode": {
    "name": "ipython",
    "version": 3
   },
   "file_extension": ".py",
   "mimetype": "text/x-python",
   "name": "python",
   "nbconvert_exporter": "python",
   "pygments_lexer": "ipython3",
   "version": "3.6.3"
  }
 },
 "nbformat": 4,
 "nbformat_minor": 4
}
