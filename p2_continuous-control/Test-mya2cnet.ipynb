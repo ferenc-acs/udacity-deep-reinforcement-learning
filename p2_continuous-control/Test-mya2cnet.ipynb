{
 "cells": [
  {
   "cell_type": "code",
   "execution_count": 1,
   "metadata": {},
   "outputs": [],
   "source": [
    "import numpy as np\n",
    "from time import time\n",
    "import torch\n",
    "import pprint as pp\n",
    "\n",
    "# Import the helper files\n",
    "from utilities import get_time_string, print_elapsed_time"
   ]
  },
  {
   "cell_type": "markdown",
   "metadata": {},
   "source": [
    "# Environment\n",
    "* Observation Space: 33 dimensions of continuous type\n",
    "* Action Space: 4 dimensions of continuous type\n",
    "* Either one (1) or twenty (20) agents"
   ]
  },
  {
   "cell_type": "code",
   "execution_count": 2,
   "metadata": {},
   "outputs": [],
   "source": [
    "INPUTDIM = 33\n",
    "OUTPUTDIM = 4\n",
    "NUMAGENTS = 1"
   ]
  },
  {
   "cell_type": "code",
   "execution_count": 3,
   "metadata": {},
   "outputs": [],
   "source": [
    "#from mya2cnet import A2CNetwork\n",
    "import mya2cnet\n",
    "\n",
    "# Thx2: https://emacs.stackexchange.com/a/13483\n",
    "import imp\n",
    "imp.reload(mya2cnet)\n",
    "\n",
    "device = torch.device(\"cuda:0\" if torch.cuda.is_available() else \"cpu\")\n",
    "\n",
    "tstnet = mya2cnet.A2CNetwork(INPUTDIM, OUTPUTDIM).to(device)"
   ]
  },
  {
   "cell_type": "markdown",
   "metadata": {},
   "source": [
    "## Test if a sample state of a single agent environment is propagated"
   ]
  },
  {
   "cell_type": "code",
   "execution_count": 4,
   "metadata": {},
   "outputs": [],
   "source": [
    "tststate_np = np.array([\n",
    "    [ 0.00000000e+00, -4.00000000e+00,  0.00000000e+00,  1.00000000e+00,\n",
    "     -0.00000000e+00, -0.00000000e+00, -4.37113883e-08,  0.00000000e+00,\n",
    "     0.00000000e+00,  0.00000000e+00,  0.00000000e+00,  0.00000000e+00,\n",
    "     0.00000000e+00,  0.00000000e+00, -1.00000000e+01,  0.00000000e+00,\n",
    "     1.00000000e+00, -0.00000000e+00, -0.00000000e+00, -4.37113883e-08,\n",
    "     0.00000000e+00,  0.00000000e+00,  0.00000000e+00,  0.00000000e+00,\n",
    "     0.00000000e+00,  0.00000000e+00,  7.90150642e+00, -1.00000000e+00,\n",
    "     1.25147498e+00,  0.00000000e+00,  1.00000000e+00,  0.00000000e+00,\n",
    "     -2.99753308e-01]\n",
    "])"
   ]
  },
  {
   "cell_type": "code",
   "execution_count": 5,
   "metadata": {},
   "outputs": [
    {
     "data": {
      "text/plain": [
       "(tensor([[-0.0051,  0.1328,  0.0052, -0.0617]], dtype=torch.float64, device='cuda:0'),\n",
       " tensor(1.00000e-02 *\n",
       "        [[ 4.8203]], dtype=torch.float64, device='cuda:0'))"
      ]
     },
     "execution_count": 5,
     "metadata": {},
     "output_type": "execute_result"
    }
   ],
   "source": [
    "tstnet.forward(tststate_np)"
   ]
  },
  {
   "cell_type": "markdown",
   "metadata": {},
   "source": [
    "# Generate Random Numbers to feed into the network"
   ]
  },
  {
   "cell_type": "code",
   "execution_count": 6,
   "metadata": {},
   "outputs": [],
   "source": [
    "NRUNS = 1000\n",
    "NITER = 10\n",
    "\n",
    "a_np = np.zeros( (NRUNS*NITER, NUMAGENTS, OUTPUTDIM) )\n",
    "v_np = np.zeros( (NRUNS*NITER, NUMAGENTS, 1) )\n",
    "\n",
    "for itr in range(NITER):\n",
    "    for cnt in range(NRUNS):\n",
    "        sta = itr * cnt\n",
    "        randstate_np = np.random.randn(NUMAGENTS, INPUTDIM) * 10\n",
    "        randstate_np = np.clip(randstate_np, -10, 10)\n",
    "        a,v = tstnet.forward(randstate_np)\n",
    "\n",
    "        a_np[sta+cnt] = a.detach().cpu().numpy()\n",
    "        v_np[sta+cnt] = v.detach().cpu().numpy()\n",
    "\n",
    "        \n",
    " "
   ]
  },
  {
   "cell_type": "code",
   "execution_count": 7,
   "metadata": {},
   "outputs": [
    {
     "name": "stdout",
     "output_type": "stream",
     "text": [
      "Action mean 0.01806992940956553      & std 0.07055920574762753     \n",
      "Action mean 0.013946419141299295     & std 0.06234564412910799     \n",
      "Action mean 0.01187139778571822      & std 0.0578098392384888      \n",
      "Action mean 0.010486230702119109     & std 0.05446580034043345     \n",
      "Action mean 0.009435397248502547     & std 0.05181894710223405     \n",
      "Action mean 0.008102069348195315     & std 0.04806598557903131     \n",
      "Action mean 0.007067731179863056     & std 0.04497354104879684     \n",
      "Action mean 0.00520536393794932      & std 0.03877280594804015     \n",
      "Action mean 0.003604039979182432     & std 0.03235964608809426     \n",
      "Action mean 0.0018184906032108763    & std 0.022929255438498063    \n"
     ]
    }
   ],
   "source": [
    "for iter in range(NITER):\n",
    "    sta = iter * NRUNS \n",
    "    end = sta + NRUNS\n",
    "    print(f'Action mean {str(np.mean(a_np[sta:end])).ljust(24)} & std {str(np.std(a_np[sta:end])).ljust(24)}')\n"
   ]
  },
  {
   "cell_type": "code",
   "execution_count": 8,
   "metadata": {},
   "outputs": [
    {
     "name": "stdout",
     "output_type": "stream",
     "text": [
      "Value mean 0.047655303408181464     & std 0.0009885637855382723   \n",
      "Value mean 0.03668349388732266      & std 0.02006505138265131     \n",
      "Value mean 0.031278761237937984     & std 0.022612699816849564    \n",
      "Value mean 0.02758901156531         & std 0.023487843528357262    \n",
      "Value mean 0.02489393306238604      & std 0.023784544977438305    \n",
      "Value mean 0.02134127864920494      & std 0.023698726188102735    \n",
      "Value mean 0.018634025755492643     & std 0.023262664488863726    \n",
      "Value mean 0.013740400377345164     & std 0.021557796865836178    \n",
      "Value mean 0.009512926029381674     & std 0.01903088086369295     \n",
      "Value mean 0.004763119212104934     & std 0.014293132035872617    \n"
     ]
    }
   ],
   "source": [
    "for iter in range(NITER):\n",
    "    sta = iter * NRUNS \n",
    "    end = sta + NRUNS\n",
    "    print(f'Value mean {str(np.mean(v_np[sta:end])).ljust(24)} & std {str(np.std(v_np[sta:end])).ljust(24)}')\n"
   ]
  },
  {
   "cell_type": "code",
   "execution_count": null,
   "metadata": {},
   "outputs": [],
   "source": []
  }
 ],
 "metadata": {
  "kernelspec": {
   "display_name": "Python 3",
   "language": "python",
   "name": "python3"
  },
  "language_info": {
   "codemirror_mode": {
    "name": "ipython",
    "version": 3
   },
   "file_extension": ".py",
   "mimetype": "text/x-python",
   "name": "python",
   "nbconvert_exporter": "python",
   "pygments_lexer": "ipython3",
   "version": "3.6.10"
  }
 },
 "nbformat": 4,
 "nbformat_minor": 4
}
